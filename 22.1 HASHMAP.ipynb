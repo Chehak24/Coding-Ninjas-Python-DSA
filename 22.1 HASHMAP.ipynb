{
 "cells": [
  {
   "cell_type": "raw",
   "id": "653d9796",
   "metadata": {},
   "source": [
    "we want to access, insert\n",
    "ie dictionary is given,we know the keys, convert it to array, that key needs to be used to insert to that array position using hash function\n",
    "the array being used is called bucket array\n",
    "\n",
    "so hash function has two parts ie hash code and compression function \n",
    "compression function makes sure that the key integer generated is within the bucket size limit\n",
    "calculate hashcode and use %bucketsize function to keep it within the bucket size\n"
   ]
  },
  {
   "cell_type": "markdown",
   "id": "3dda0c15",
   "metadata": {},
   "source": [
    "to convert string to num will be a good idea to consider it as hash\n",
    "\n",
    "##### number base p technique where p is a prime number (gives more distribution)\n",
    "1. example-'abc'=10^2*ascii(a)+10^1*ascii(b)+10^0*ascii(c)\n",
    "2. we have inbuilt hash functions, that can be used, but problem being \n",
    "3. bucketsize=20\n",
    "4. abc hashed = 105\n",
    "5. dgf hashed = 205\n",
    "6. 105%20=5\n",
    "7. 205%20=5\n",
    "8. insert both abc and dgf at array index 5\n",
    "#### collision handling"
   ]
  },
  {
   "cell_type": "markdown",
   "id": "7d5f60d9",
   "metadata": {},
   "source": [
    "#### close hashing \n",
    "to handle collission handling\n",
    "close hashing - each ele of array, each index will have a linked list\n",
    "also known as seperate chain\n",
    "\n",
    "#### open addressing\n",
    "open addressing - key a -> hashing-> index\n",
    "key b-> hashing-> some other index\n",
    "hashi(a)->hf(a)+f(i)\n",
    "f(i)->f(0)->0\n",
    "1. keep on linear probing which means f(i)->i, \n",
    "hashi(b) will keep on gng till it finds an empty index\n",
    "2. quadratic probing \n",
    "a position is famous so positions around it will keep on getting filled\n",
    "f(i)->i^2\n",
    "finding the empty position quicklier\n",
    "3. double hash\n",
    "f(i)=i*h'(a) using different hash function\n",
    "\n",
    "#### seperate chaining works as better as open addressing\n"
   ]
  },
  {
   "cell_type": "code",
   "execution_count": null,
   "id": "e3a2b055",
   "metadata": {},
   "outputs": [],
   "source": [
    "class Map :\n",
    "    --> buckets \n",
    "    --> bucketsize\n",
    "    --> count\n",
    "each bucket will have class mapnode:\n",
    "    --> key\n",
    "    -->value\n",
    "    -->next\n",
    "    \n",
    "### insert(key,value)\n",
    "\n",
    "##remove (key)\n",
    "\n",
    "## search (key), and get the value corresponding to it\n"
   ]
  },
  {
   "cell_type": "code",
   "execution_count": 3,
   "id": "e9b46dff",
   "metadata": {},
   "outputs": [
    {
     "name": "stdout",
     "output_type": "stream",
     "text": [
      "1\n",
      "2\n",
      "2\n"
     ]
    }
   ],
   "source": [
    "class MapNode: ##just like linked list node but with two datas, key and value\n",
    "    def __init__ (self,key,value):\n",
    "        self.key=key\n",
    "        self.value=value\n",
    "        self.next=None\n",
    "class Map:\n",
    "    def __init__ (self):\n",
    "        self.bucketSize=10 ##supposed\n",
    "        self.buckets=[None for i in range (self.bucketSize)]\n",
    "        self.count=0\n",
    "        \n",
    "    def size(self):\n",
    "        return self.count\n",
    "    \n",
    "    def getBucketIndex(self,hc):\n",
    "        return (abs(hc)%(self.bucketSize)) ##negative hash numbers converrted to + using abs\n",
    "    \n",
    "    def insert(self,key,value):\n",
    "        hc=hash(key) ##returns - to + integer \n",
    "        index=self.getBucketIndex(hc)\n",
    "        head =self.buckets[index] ##head mein store krwaya vo new index \n",
    "        while head is not None:\n",
    "            if head.key == key: ## u r rchng the same head, u will replace its value , example if there was lready b:20 \n",
    "                ##and now u want b :25 \n",
    "                head.value= value ##so the same b will be replaced by b:25 \n",
    "                return\n",
    "            head=head.next\n",
    "        \n",
    "        head=self.buckets[index] ##head ko wapis main index posn pr allocate krdia\n",
    "        ## koi nya ele hi insert hona h\n",
    "        newNode=MapNode(key,value)\n",
    "        newNode.next=head ##jo nayi node bnayi h uske next mein head daal dia \n",
    "        self.buckets[index]=newNode ## new node ko head bna dia\n",
    "        self.count+=1\n",
    "m=Map()\n",
    "m.insert(\"hello\",2)\n",
    "print(m.size())\n",
    "m.insert(\"rohan\",7)\n",
    "print(m.size())\n",
    "m.insert(\"hello\",8)\n",
    "print(m.size()) ## size remained the same coz hello got replaced "
   ]
  },
  {
   "cell_type": "markdown",
   "id": "94c925a5",
   "metadata": {},
   "source": [
    "### search key"
   ]
  },
  {
   "cell_type": "code",
   "execution_count": 6,
   "id": "1940fc2d",
   "metadata": {},
   "outputs": [
    {
     "name": "stdout",
     "output_type": "stream",
     "text": [
      "1\n",
      "2\n",
      "2\n",
      "7\n"
     ]
    }
   ],
   "source": [
    "class MapNode:\n",
    "    def __init__ (self,key,value):\n",
    "        self.key=key\n",
    "        self.value=value\n",
    "        self.next=None\n",
    "class Map:\n",
    "    def __init__ (self):\n",
    "        self.bucketSize=10\n",
    "        self.buckets=[None for i in range (self.bucketSize)]\n",
    "        self.count=0\n",
    "        \n",
    "    def size(self):\n",
    "        return self.count\n",
    "    \n",
    "    def getBucketIndex (self,hc):\n",
    "        return (abs(hc)% (self.bucketSize))\n",
    "    \n",
    "    def getValue(self,key): ##search funcn \n",
    "        hc=hash(key)\n",
    "        index=self.getBucketIndex(hc)\n",
    "        ###u will traverse on the linked list \n",
    "        head = self.buckets[index] ##get the head of that linked list\n",
    "        \n",
    "        while head is not None:\n",
    "            if head.key == key:\n",
    "                return head.value\n",
    "            head=head.next\n",
    "        ## not able to find out the ele\n",
    "        return None\n",
    "    \n",
    "    def insert(self,key,value):\n",
    "        \n",
    "        hc = hash(key)\n",
    "        index=self.getBucketIndex(hc)\n",
    "        head=self.buckets[index]\n",
    "        \n",
    "        while head is not None:\n",
    "            if head.key == key:\n",
    "                head.value=value\n",
    "                return\n",
    "            head=head.next\n",
    "        head=self.buckets[index]\n",
    "        newNode=MapNode(key,value)\n",
    "        newNode.next=head\n",
    "        self.buckets[index]=newNode\n",
    "        self.count+=1\n",
    "        \n",
    "m=Map()\n",
    "m.insert(\"hello\",2)\n",
    "print(m.size())\n",
    "m.insert(\"rohan\",7)\n",
    "print(m.size())\n",
    "m.insert(\"hello\",8)\n",
    "print(m.size())\n",
    "print(m.getValue(\"rohan\"))"
   ]
  },
  {
   "cell_type": "markdown",
   "id": "e3b2ff7f",
   "metadata": {},
   "source": [
    "### remove key"
   ]
  },
  {
   "cell_type": "code",
   "execution_count": 3,
   "id": "c2195cea",
   "metadata": {},
   "outputs": [
    {
     "name": "stdout",
     "output_type": "stream",
     "text": [
      "2\n",
      "1\n",
      "7\n",
      "2\n",
      "None\n"
     ]
    }
   ],
   "source": [
    "class MapNode:\n",
    "    def __init__ (self,key,value):\n",
    "        self.key=key\n",
    "        self.value=value\n",
    "        self.next=None\n",
    "class Map:\n",
    "    def __init__ (self):\n",
    "        self.bucketSize=10\n",
    "        self.buckets=[None for i in range (self.bucketSize)]\n",
    "        self.count=0\n",
    "        \n",
    "    def size(self):\n",
    "        return self.count\n",
    "    \n",
    "    def getbucketIndex(self,hc):\n",
    "        return (abs(hc)%(self.bucketSize))\n",
    "    \n",
    "    def getvalue(self,key):\n",
    "        hc=hash(key)\n",
    "        index=self.getbucketIndex(hc)\n",
    "        \n",
    "        head=self.buckets[index]\n",
    "        \n",
    "        while head is not None:\n",
    "            if head.key==key:\n",
    "                return head.value\n",
    "            head=head.next\n",
    "        return None\n",
    "    \n",
    "    def remove(self,key):\n",
    "        hc=hash(key)\n",
    "        index=self.getbucketIndex(hc)\n",
    "        head=self.buckets[index]\n",
    "        prev= None\n",
    "        \n",
    "        while head is not None:\n",
    "            if head.key==key:\n",
    "                if prev is None: ## index pr hi remove krna h ie head hi remove krna h\n",
    "                    self.buckets[index]=head.next\n",
    "                else: ##apne hi index ke alawa khi bhi baaki linked list mein remove krna h\n",
    "                    prev.next=head.next\n",
    "                self.count-=1\n",
    "                return head.value\n",
    "            prev=head   ##iterating thru linked list\n",
    "            head=head.next ##iterating thru linked list\n",
    "        return None\n",
    "    \n",
    "    def insert(self,key,value):\n",
    "        hc=hash(key)\n",
    "        index=self.getbucketIndex(hc)\n",
    "        head=self.buckets[index]\n",
    "        while head is not None:\n",
    "            if head.key==key:\n",
    "                head.value = value\n",
    "                return\n",
    "            head=head.next\n",
    "        head=self.buckets[index] ## taaki none na return krde\n",
    "        newNode = MapNode(key,value)\n",
    "        newNode.next=head\n",
    "        self.buckets[index]=newNode\n",
    "        self.count+=1\n",
    "m=Map()\n",
    "m.insert('parikh',2)\n",
    "print(m.getvalue('parikh'))\n",
    "print(m.size())\n",
    "m.insert('rohan',7)\n",
    "print(m.getvalue('rohan'))\n",
    "print(m.size())\n",
    "m.remove('rohan')\n",
    "print(m.getvalue('rohan'))"
   ]
  },
  {
   "cell_type": "markdown",
   "id": "a89c6efa",
   "metadata": {},
   "source": [
    "### time complexity\n",
    "key->hc->index\n",
    "1. calculating hashcode in case of string O(l)\n",
    "2. iterating on linked list O(n)\n",
    "3. we consider O(l)<<O(n) such that O(l) is constant \n",
    "\n",
    "we have so far considered the worst case scenario where all the elements will go into the same index\n",
    "avg case b boxes and n entries so each index/box will have n/b entries\n",
    "and we need to maintain n/b<0.7 ie less than the load factor\n",
    "and if this is maintained it means we have o(1) as the insertion\n",
    "\n",
    "boxes = 20\n",
    "n=14\n",
    "14/20 = 0.7\n",
    "\n",
    "so increase the bucketsize \n",
    "\n",
    "14/40 = ie 2*b \n",
    "this process is called rehashing, inrease the bucket size\n",
    "dont think about the time complexity of rehashing\n",
    "\n"
   ]
  },
  {
   "cell_type": "markdown",
   "id": "5af4446d",
   "metadata": {},
   "source": [
    "### rehashing\n",
    "temp sized array list h -> \n",
    "temp = 5\n",
    "buckets(new list) = 2*temp*\n",
    "1. approach 1 \n",
    "copy the indexes directly of temp to buckets\n",
    "'abc' -> hf->8 -> 8%5 = 3\n",
    "'def'->hf -> 13 -> 13 % 10 = 3\n",
    "getvalue(def) = 3\n",
    "getvalue(abc) = None coz it wont be able to find abc now\n",
    "so abc needs to be at the 8th index of buckets only\n",
    "\n"
   ]
  },
  {
   "cell_type": "code",
   "execution_count": 8,
   "id": "35d1b9e8",
   "metadata": {},
   "outputs": [
    {
     "name": "stdout",
     "output_type": "stream",
     "text": [
      "0.2\n",
      "0.4\n",
      "0.6\n",
      "0.4\n",
      "0.5\n",
      "0.6\n",
      "0.35\n",
      "0.4\n",
      "0.45\n",
      "0.5\n",
      "abc0: 1\n",
      "abc1: 2\n",
      "abc2: 3\n",
      "abc3: 4\n",
      "abc4: 5\n",
      "abc5: 6\n",
      "abc6: 7\n",
      "abc7: 8\n",
      "abc8: 9\n",
      "abc9: 10\n"
     ]
    }
   ],
   "source": [
    "class MapNode:\n",
    "    def __init__(self,key,value):\n",
    "        self.key=key\n",
    "        self.value=value\n",
    "        self.next=None\n",
    "class Map:\n",
    "    def __init__(self):\n",
    "        self.bucketsize=5\n",
    "        self.buckets=[None for i in range(self.bucketsize)]\n",
    "        self.count=0\n",
    "        \n",
    "    def size(self):\n",
    "        return self.count\n",
    "    \n",
    "    def getbucketindex(self,hc):\n",
    "        return (abs(hc)%(self.bucketsize))\n",
    "    \n",
    "    def getvalue(self,key):\n",
    "        hc=hash(key)\n",
    "        index=self.getbucketindex(hc)\n",
    "        \n",
    "        head=self.buckets[index]\n",
    "        \n",
    "        while head is not None:\n",
    "            if head.key==key:\n",
    "                return head.value\n",
    "            head=head.next\n",
    "        return None\n",
    "    \n",
    "    def remove(self,key):\n",
    "        hc=hash(key)\n",
    "        index=self.getbucketindex(hc)\n",
    "        head=self.buckets[index]\n",
    "        prev= None\n",
    "        while head is not None:\n",
    "            if head.key==key:\n",
    "                if prev is None:\n",
    "                    self.buckets[index]=head.next\n",
    "                else:\n",
    "                    prev.next=head.next\n",
    "                self.count-=1\n",
    "                return head.value\n",
    "            prev=head\n",
    "            head=head.next\n",
    "        return None\n",
    "    \n",
    "    def rehash(self):\n",
    "        temp=self.buckets\n",
    "        self.buckets=[None for i in range (2*self.bucketsize)]\n",
    "        self.bucketsize=2*self.bucketsize\n",
    "        self.count=0\n",
    "        for head in temp:\n",
    "            while head is not None:\n",
    "                self.insert(head.key,head.value)\n",
    "                head=head.next\n",
    "                \n",
    "    def loadfactor(self):\n",
    "        return self.count/self.bucketsize\n",
    "    \n",
    "    def insert(self,key,value):\n",
    "        hc=hash(key)\n",
    "        index=self.getbucketindex(hc)\n",
    "        head=self.buckets[index]\n",
    "        while head is not None:\n",
    "            if head.key==key:\n",
    "                head.value=value\n",
    "                return\n",
    "            head=head.next\n",
    "        head=self.buckets[index]\n",
    "        newNode=MapNode(key,value)\n",
    "        newNode.next=head\n",
    "        self.buckets[index]=newNode\n",
    "        self.count+=1\n",
    "        loadfactor=self.count/self.bucketsize\n",
    "        if loadfactor>=0.7:\n",
    "            self.rehash()\n",
    "m=Map()\n",
    "for i in range(10):\n",
    "    m.insert('abc'+str(i),i+1)\n",
    "    print(m.loadfactor())\n",
    "for i in range(10):\n",
    "    print('abc'+str(i)+':',m.getvalue('abc'+str(i)))"
   ]
  },
  {
   "cell_type": "markdown",
   "id": "462119c0",
   "metadata": {},
   "source": [
    "### extract unique characters\n"
   ]
  },
  {
   "cell_type": "code",
   "execution_count": 1,
   "id": "9088fa76",
   "metadata": {},
   "outputs": [
    {
     "name": "stdout",
     "output_type": "stream",
     "text": [
      "ababcd\n",
      "abcd\n"
     ]
    }
   ],
   "source": [
    "def uniqueChar(s):\n",
    "    d={}\n",
    "    for i in s :\n",
    "        d[i]=d.get(i,0)+1\n",
    "    ans=\"\"\n",
    "    for i in s:\n",
    "        if d[i]>0:\n",
    "            ans=ans+i\n",
    "            d[i]=0\n",
    "    return ans\n",
    "s=input()\n",
    "print(uniqueChar(s))"
   ]
  },
  {
   "cell_type": "code",
   "execution_count": 7,
   "id": "e8a89357",
   "metadata": {},
   "outputs": [
    {
     "name": "stdout",
     "output_type": "stream",
     "text": [
      "1 2 1 3 4 5 \n"
     ]
    },
    {
     "data": {
      "text/plain": [
       "{' ': 1, '5': 10, '4': 8, '3': 6, '1': 0, '2': 2}"
      ]
     },
     "execution_count": 7,
     "metadata": {},
     "output_type": "execute_result"
    }
   ],
   "source": [
    "arr=input()\n",
    "m={arr[i]:i for i in range (len(arr)-1,-1,-1)}\n",
    "m"
   ]
  },
  {
   "cell_type": "code",
   "execution_count": null,
   "id": "eef41c69",
   "metadata": {},
   "outputs": [],
   "source": [
    "m={arr[i]:i for i in range (len(arr)-1,-1,-1)}\n",
    "    visited={}\n",
    "    start,end=arr[0], arr[0]\n",
    "    startM,endM=start,end\n",
    "    for num in arr:\n",
    "        if num not in visited:\n",
    "            visited[num]=True\n",
    "            start,end=num,num"
   ]
  },
  {
   "cell_type": "markdown",
   "id": "6bc11639",
   "metadata": {},
   "source": [
    "### longest consecutive sequence\n",
    "\n",
    "You are given an array of unique integers that contain numbers in random order. You have to find the longest possible sequence of consecutive numbers using the numbers from given array.\n",
    "You need to return the output array which contains starting and ending element. If the length of the longest possible sequence is one, then the output array must contain only single element."
   ]
  },
  {
   "cell_type": "code",
   "execution_count": null,
   "id": "b83e6472",
   "metadata": {},
   "outputs": [],
   "source": [
    "def longestconsecutive(arr,n):\n",
    "    m={arr[i]:i for i in range (len(arr)-1,-1,-1)}\n",
    "    visited={}\n",
    "    start,end=arr[0], arr[0]\n",
    "    startM,endM=start,end\n",
    "    for num in arr:\n",
    "        if num not in visited:\n",
    "            visited[num]=True\n",
    "            start,end=num,num\n",
    "            \n",
    "            while start-1 in m:\n",
    "                start-=1\n",
    "                visited[start]=True\n",
    "            while end+1 in m:\n",
    "                end+=1\n",
    "                visited[end]=True\n",
    "            \n",
    "            if (endM-startM+1)"
   ]
  },
  {
   "cell_type": "markdown",
   "id": "25e64d65",
   "metadata": {},
   "source": [
    "### pair with difference k\n",
    "You are given with an array of integers and an integer K. You have to find and print the count of all such pairs which have difference K."
   ]
  },
  {
   "cell_type": "code",
   "execution_count": 17,
   "id": "962c059a",
   "metadata": {},
   "outputs": [
    {
     "name": "stdout",
     "output_type": "stream",
     "text": [
      "6\n",
      "1 2 3 4 5 6 \n",
      "2\n",
      "4\n"
     ]
    }
   ],
   "source": [
    "def printpairdiffk(l,k):\n",
    "    paircount=0\n",
    "    m={}\n",
    "    for num in l:\n",
    "        if num+k in m:\n",
    "            paircount+=m[num+k]\n",
    "        if k!=0 and num-k in m:\n",
    "            paircount+=m[num-k]\n",
    "        if num in m:\n",
    "            m[num]+=1\n",
    "        else:\n",
    "            m[num]=1\n",
    "    return paircount\n",
    "n=int(input())\n",
    "l=list(int(i) for i in input().strip().split(' '))\n",
    "k=int(input())\n",
    "print(printpairdiffk(l,k))"
   ]
  },
  {
   "cell_type": "markdown",
   "id": "95b504a0",
   "metadata": {},
   "source": [
    "### longest subset zero \n",
    "Given an array consisting of positive and negative integers, find the length of the longest subarray whose sum is zero."
   ]
  },
  {
   "cell_type": "code",
   "execution_count": 25,
   "id": "88508dba",
   "metadata": {},
   "outputs": [
    {
     "name": "stderr",
     "output_type": "stream",
     "text": [
      "<>:6: SyntaxWarning: \"is\" with a literal. Did you mean \"==\"?\n",
      "<>:6: SyntaxWarning: \"is\" with a literal. Did you mean \"==\"?\n",
      "<>:6: SyntaxWarning: \"is\" with a literal. Did you mean \"==\"?\n",
      "<>:6: SyntaxWarning: \"is\" with a literal. Did you mean \"==\"?\n",
      "<ipython-input-25-833a54da4535>:6: SyntaxWarning: \"is\" with a literal. Did you mean \"==\"?\n",
      "  if l[i] is 0 and max_len is 0:\n",
      "<ipython-input-25-833a54da4535>:6: SyntaxWarning: \"is\" with a literal. Did you mean \"==\"?\n",
      "  if l[i] is 0 and max_len is 0:\n"
     ]
    },
    {
     "name": "stdout",
     "output_type": "stream",
     "text": [
      "10\n",
      "95 -97 -387 -435 -5 -70 897 127 23 284\n",
      "5\n"
     ]
    }
   ],
   "source": [
    "def subsetsum(l):\n",
    "    d={}\n",
    "    max_len, curr_sum=0,0\n",
    "    for i in range (len(l)):\n",
    "        curr_sum+=l[i]\n",
    "        if l[i] is 0 and max_len is 0:\n",
    "            max_len =1\n",
    "        if curr_sum == 0:\n",
    "            max_len=i+1\n",
    "        if curr_sum in d :\n",
    "            max_len=max(max_len,i-d[curr_sum])\n",
    "        else:\n",
    "            d[curr_sum]=i\n",
    "    return max_len\n",
    "n=int(input())\n",
    "l=list(int(i) for i in input().strip().split(' '))\n",
    "print(subsetsum(l))"
   ]
  },
  {
   "cell_type": "code",
   "execution_count": null,
   "id": "e9a04734",
   "metadata": {},
   "outputs": [],
   "source": []
  }
 ],
 "metadata": {
  "kernelspec": {
   "display_name": "Python 3",
   "language": "python",
   "name": "python3"
  },
  "language_info": {
   "codemirror_mode": {
    "name": "ipython",
    "version": 3
   },
   "file_extension": ".py",
   "mimetype": "text/x-python",
   "name": "python",
   "nbconvert_exporter": "python",
   "pygments_lexer": "ipython3",
   "version": "3.8.8"
  }
 },
 "nbformat": 4,
 "nbformat_minor": 5
}
