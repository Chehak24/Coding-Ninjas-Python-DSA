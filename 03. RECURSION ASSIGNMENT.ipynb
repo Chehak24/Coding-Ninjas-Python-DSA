{
 "cells": [
  {
   "cell_type": "markdown",
   "metadata": {},
   "source": [
    "### Geomteric sum "
   ]
  },
  {
   "cell_type": "code",
   "execution_count": 3,
   "metadata": {},
   "outputs": [
    {
     "name": "stdout",
     "output_type": "stream",
     "text": [
      "3\n",
      "1.87500\n"
     ]
    }
   ],
   "source": [
    "\n",
    "\n",
    "def geometricsum(k):\n",
    "    if k==0:\n",
    "        return 1\n",
    "    else:\n",
    "        return float(1/pow(2,k)+ geometricsum(k-1))\n",
    "k=float(input())\n",
    "print(format(geometricsum(k),'.5f')) ##'.5f' to include 5 decimal places "
   ]
  },
  {
   "cell_type": "markdown",
   "metadata": {},
   "source": [
    "### PALINDROME"
   ]
  },
  {
   "cell_type": "code",
   "execution_count": 51,
   "metadata": {},
   "outputs": [
    {
     "name": "stdout",
     "output_type": "stream",
     "text": [
      "abcba\n",
      "false\n"
     ]
    }
   ],
   "source": [
    "\n",
    "def checkpalindrome(s):\n",
    "    n=len(s)\n",
    "    if n==0:\n",
    "        return True\n",
    "    return pdnhelper(s,0,n-1)\n",
    "\n",
    "def pdnhelper(s,si,ei):\n",
    "    if si==ei:\n",
    "        return True\n",
    "    if s[0]!=s[n-1]:\n",
    "        return False \n",
    "    if s<e+1:\n",
    "        return pdnhelper(s,si+1,ei-1)\n",
    "    return True\n",
    "\n",
    "s=str(input())\n",
    "if (checkpalindrome(s)):\n",
    "    print(\"true\")\n",
    "else:\n",
    "    print(\"false\")"
   ]
  },
  {
   "cell_type": "code",
   "execution_count": 1,
   "metadata": {},
   "outputs": [
    {
     "name": "stdout",
     "output_type": "stream",
     "text": [
      "abcba\n",
      "true\n"
     ]
    }
   ],
   "source": [
    "\n",
    "def is_palindrome(s):\n",
    "    if len(s) < 1:\n",
    "        return True\n",
    "    else:\n",
    "        if s[0] == s[-1]:\n",
    "            return is_palindrome(s[1:-1])\n",
    "        else:\n",
    "            return False\n",
    "\n",
    "\n",
    "a = str(input())\n",
    "if(is_palindrome(a) == True):\n",
    "    print(\"true\")\n",
    "else:\n",
    "    print(\"false\")"
   ]
  },
  {
   "cell_type": "markdown",
   "metadata": {},
   "source": [
    "### SUM OF DIGITS"
   ]
  },
  {
   "cell_type": "code",
   "execution_count": 1,
   "metadata": {},
   "outputs": [
    {
     "name": "stdout",
     "output_type": "stream",
     "text": [
      "123\n",
      "6\n"
     ]
    }
   ],
   "source": [
    "##sum of digits\n",
    "def sum(n):\n",
    "    if n==0:\n",
    "        return 0\n",
    "    else:\n",
    "        smallersum=n%10+sum(n//10)\n",
    "        return smallersum\n",
    "n=int(input())\n",
    "print(sum(n))"
   ]
  },
  {
   "cell_type": "markdown",
   "metadata": {},
   "source": [
    "#### MULTIPLICATION USING + -"
   ]
  },
  {
   "cell_type": "code",
   "execution_count": 2,
   "metadata": {},
   "outputs": [
    {
     "name": "stdout",
     "output_type": "stream",
     "text": [
      "3\n",
      "5\n",
      "15\n"
     ]
    }
   ],
   "source": [
    "#multiplication using + -\n",
    "def mult(m,n):\n",
    "    if n==0:\n",
    "        return 0\n",
    "    smallermult=mult(m,n-1)\n",
    "    return smallermult+m\n",
    "n=int(input())\n",
    "m=int(input())\n",
    "print(mult(m,n))\n",
    "    "
   ]
  },
  {
   "cell_type": "markdown",
   "metadata": {},
   "source": [
    "### no of zeroes in an input number"
   ]
  },
  {
   "cell_type": "code",
   "execution_count": 2,
   "metadata": {},
   "outputs": [
    {
     "name": "stdout",
     "output_type": "stream",
     "text": [
      "9800\n",
      "2\n"
     ]
    }
   ],
   "source": [
    "\n",
    "def zeroes(n,cnt):\n",
    "    \n",
    "    if n==0:\n",
    "        return cnt\n",
    "    ld=n%10\n",
    "    sn=n//10\n",
    "    if ld==0:\n",
    "        return zeroes(sn,cnt+1)\n",
    "    else:\n",
    "        return zeroes (sn,cnt)\n",
    "\n",
    "\n",
    "n=int(input())\n",
    "print(zeroes(n,0))\n",
    "   \n",
    "        "
   ]
  },
  {
   "cell_type": "code",
   "execution_count": 3,
   "metadata": {},
   "outputs": [
    {
     "name": "stdout",
     "output_type": "stream",
     "text": [
      "9800\n",
      "2\n"
     ]
    }
   ],
   "source": [
    "#THRU RECURSION\n",
    "def countZeros(n):\n",
    "    if n<0:\n",
    "        n *= -1;  # Make n positive\n",
    "    if n<10:\n",
    "        if n == 0:\n",
    "            return 1\n",
    "        return 0\n",
    "    smallAns = countZeros(n // 10)\n",
    "    if n%10==0:\n",
    "        smallAns += 1\n",
    "    return smallAns\n",
    "\n",
    "# Main\n",
    "from sys import setrecursionlimit\n",
    "setrecursionlimit(11000)\n",
    "n=int(input())\n",
    "print(countZeros(n))"
   ]
  },
  {
   "cell_type": "markdown",
   "metadata": {},
   "source": [
    "### CONVERT STRING TO INTEGER"
   ]
  },
  {
   "cell_type": "code",
   "execution_count": 5,
   "metadata": {},
   "outputs": [
    {
     "name": "stdout",
     "output_type": "stream",
     "text": [
      "0001234560\n",
      "1234560"
     ]
    }
   ],
   "source": [
    "def strConv(s,li):\n",
    "    if len(s)==0:\n",
    "        return li\n",
    "    else:\n",
    "        li.append(ord(s[0])-48)\n",
    "        return strConv(s[1:],li)\n",
    "    \n",
    "s=input()\n",
    "li=[]\n",
    "li=strConv(s,li)\n",
    "sum=0\n",
    "for i in range(len(li)):\n",
    "    sum=sum*10+li[i]\n",
    "print(sum,end=\"\")"
   ]
  },
  {
   "cell_type": "markdown",
   "metadata": {},
   "source": [
    "### PAIR STAR"
   ]
  },
  {
   "cell_type": "code",
   "execution_count": 18,
   "metadata": {},
   "outputs": [
    {
     "name": "stdout",
     "output_type": "stream",
     "text": [
      "abcdda\n",
      "abcd*da\n"
     ]
    }
   ],
   "source": [
    "def doublechar(s):\n",
    "    if len(s)==0 or len(s)==1:\n",
    "        return s\n",
    "    elif s[0]==s[1]:\n",
    "        return s[0]+\"*\"+doublechar(s[1:])\n",
    "    else:\n",
    "        return s[0] + doublechar(s[1:])\n",
    "\n",
    "\n",
    "s = input()\n",
    "print(doublechar(s))"
   ]
  },
  {
   "cell_type": "markdown",
   "metadata": {},
   "source": [
    "#### CHECK AB\n",
    "1. The string begins with an 'a'\n",
    "2. Each 'a' is followed by nothing or an 'a' or \"bb\"\n",
    "3. Each \"bb\" is followed by nothing or an 'a'"
   ]
  },
  {
   "cell_type": "code",
   "execution_count": 6,
   "metadata": {},
   "outputs": [
    {
     "name": "stdout",
     "output_type": "stream",
     "text": [
      "ababba\n",
      "false\n"
     ]
    }
   ],
   "source": [
    "def abb(s,flag,bflag):\n",
    "    if len(s)==0:\n",
    "        return flag\n",
    "    elif s[0]=='a':\n",
    "        flag= True\n",
    "        bflag= False\n",
    "        return abb(s[1:], flag, bflag)\n",
    "    \n",
    "    elif s[0]=='b' and s [1]=='b':\n",
    "        if bflag == True:\n",
    "            return False\n",
    "        else:\n",
    "            bflag = True\n",
    "            return abb(s[2:],flag,bflag)\n",
    "    else:\n",
    "        return False\n",
    "    \n",
    "s=input()\n",
    "flag = True\n",
    "bflag = False\n",
    "if s[0]=='a':\n",
    "    x=abb(s,flag,bflag)\n",
    "else:\n",
    "    x=0\n",
    "if x:\n",
    "    print(\"true\")\n",
    "else:\n",
    "    print(\"false\")"
   ]
  },
  {
   "cell_type": "markdown",
   "metadata": {},
   "source": [
    "### STAIRCASE\n",
    "A child is running up a staircase with N steps, and can hop either 1 step, 2 steps or 3 steps at a time. Implement a method to count how many possible ways the child can run up to the stairs. You need to return number of possible ways W."
   ]
  },
  {
   "cell_type": "code",
   "execution_count": 10,
   "metadata": {},
   "outputs": [
    {
     "name": "stdout",
     "output_type": "stream",
     "text": [
      "5\n",
      "13\n"
     ]
    }
   ],
   "source": [
    "def  stairs(n):\n",
    "    if n==0 or n==1:\n",
    "        return 1\n",
    "    elif n==2:\n",
    "        return 2\n",
    "    elif n==3:\n",
    "        return 4\n",
    "    else :\n",
    "        return stairs(n-1)+stairs(n-2)+stairs(n-3)\n",
    "n=int(input())\n",
    "print(stairs(n))"
   ]
  },
  {
   "cell_type": "code",
   "execution_count": null,
   "metadata": {},
   "outputs": [],
   "source": []
  }
 ],
 "metadata": {
  "kernelspec": {
   "display_name": "Python 3",
   "language": "python",
   "name": "python3"
  },
  "language_info": {
   "codemirror_mode": {
    "name": "ipython",
    "version": 3
   },
   "file_extension": ".py",
   "mimetype": "text/x-python",
   "name": "python",
   "nbconvert_exporter": "python",
   "pygments_lexer": "ipython3",
   "version": "3.8.8"
  }
 },
 "nbformat": 4,
 "nbformat_minor": 4
}
