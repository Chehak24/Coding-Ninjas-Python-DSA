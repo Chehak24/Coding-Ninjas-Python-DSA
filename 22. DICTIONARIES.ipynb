{
 "cells": [
  {
   "cell_type": "markdown",
   "id": "5cc42709",
   "metadata": {},
   "source": [
    "1. in lists we use to find the value at an index\n",
    "2. suppose we want ot the same thing for the string\n",
    "3. \"the\" , \"a\" , \"has\", \"the\" and we want to know the frequency of this string \n",
    "4. d[\"the\"] = 1 , d[\"a\"] = 1 , d[\"the\"] = 2 ; this can happen in dictionaries where u can use any key and store any value in them\n",
    "\n",
    "1. in case of a list if u want to reach 100th index, u need to have 101 indexes\n",
    "2. not the case in dictionary, length remains as the no of keys\n"
   ]
  },
  {
   "cell_type": "code",
   "execution_count": 1,
   "id": "b3f8279a",
   "metadata": {},
   "outputs": [],
   "source": [
    "a= {}"
   ]
  },
  {
   "cell_type": "code",
   "execution_count": 2,
   "id": "e709225f",
   "metadata": {},
   "outputs": [
    {
     "data": {
      "text/plain": [
       "dict"
      ]
     },
     "execution_count": 2,
     "metadata": {},
     "output_type": "execute_result"
    }
   ],
   "source": [
    "type(a)"
   ]
  },
  {
   "cell_type": "raw",
   "id": "d9e160d7",
   "metadata": {},
   "source": [
    "a=[1,2,3] 1 is at index 0, 2 is at index 1, 3 is at index 2"
   ]
  },
  {
   "cell_type": "code",
   "execution_count": 3,
   "id": "fcded68d",
   "metadata": {},
   "outputs": [],
   "source": [
    "a={\"the\":1,\"a\":5, 1000:\"abc\"} ###fist part is used as key and the second part is used as a value"
   ]
  },
  {
   "cell_type": "code",
   "execution_count": 4,
   "id": "fb385afe",
   "metadata": {},
   "outputs": [
    {
     "name": "stdout",
     "output_type": "stream",
     "text": [
      "{'the': 1, 'a': 5, 1000: 'abc'}\n"
     ]
    }
   ],
   "source": [
    "print(a)"
   ]
  },
  {
   "cell_type": "code",
   "execution_count": 5,
   "id": "c4ee0c60",
   "metadata": {},
   "outputs": [
    {
     "data": {
      "text/plain": [
       "3"
      ]
     },
     "execution_count": 5,
     "metadata": {},
     "output_type": "execute_result"
    }
   ],
   "source": [
    "len(a)"
   ]
  },
  {
   "cell_type": "code",
   "execution_count": 8,
   "id": "fb435f4c",
   "metadata": {},
   "outputs": [],
   "source": [
    "b=a.copy()"
   ]
  },
  {
   "cell_type": "code",
   "execution_count": 9,
   "id": "7703deac",
   "metadata": {},
   "outputs": [
    {
     "data": {
      "text/plain": [
       "{'the': 1, 'a': 5, 1000: 'abc'}"
      ]
     },
     "execution_count": 9,
     "metadata": {},
     "output_type": "execute_result"
    }
   ],
   "source": [
    "b"
   ]
  },
  {
   "cell_type": "code",
   "execution_count": 10,
   "id": "f5addb7b",
   "metadata": {},
   "outputs": [],
   "source": [
    "c=dict([(\"the\",3),(\"a\",10),(2,3)])"
   ]
  },
  {
   "cell_type": "code",
   "execution_count": 11,
   "id": "be33e79a",
   "metadata": {},
   "outputs": [
    {
     "data": {
      "text/plain": [
       "{'the': 3, 'a': 10, 2: 3}"
      ]
     },
     "execution_count": 11,
     "metadata": {},
     "output_type": "execute_result"
    }
   ],
   "source": [
    "c"
   ]
  },
  {
   "cell_type": "code",
   "execution_count": 12,
   "id": "97420501",
   "metadata": {},
   "outputs": [],
   "source": [
    "d=dict.fromkeys([\"abc\",32,4]) ##no values provided so None is used"
   ]
  },
  {
   "cell_type": "code",
   "execution_count": 13,
   "id": "ae62ce64",
   "metadata": {},
   "outputs": [
    {
     "data": {
      "text/plain": [
       "{'abc': None, 32: None, 4: None}"
      ]
     },
     "execution_count": 13,
     "metadata": {},
     "output_type": "execute_result"
    }
   ],
   "source": [
    "d"
   ]
  },
  {
   "cell_type": "code",
   "execution_count": 14,
   "id": "38855a12",
   "metadata": {},
   "outputs": [],
   "source": [
    "d=dict.fromkeys([\"abc\",32,4],10) ##value provided"
   ]
  },
  {
   "cell_type": "code",
   "execution_count": 15,
   "id": "05f745f0",
   "metadata": {},
   "outputs": [
    {
     "data": {
      "text/plain": [
       "{'abc': 10, 32: 10, 4: 10}"
      ]
     },
     "execution_count": 15,
     "metadata": {},
     "output_type": "execute_result"
    }
   ],
   "source": [
    "d"
   ]
  },
  {
   "cell_type": "code",
   "execution_count": 16,
   "id": "36a9e794",
   "metadata": {},
   "outputs": [],
   "source": [
    "a={1:2,3:4,\"list\":[4,5],\"dict\":{1,2}}"
   ]
  },
  {
   "cell_type": "code",
   "execution_count": 17,
   "id": "1ad5a826",
   "metadata": {},
   "outputs": [
    {
     "data": {
      "text/plain": [
       "{1: 2, 3: 4, 'list': [4, 5], 'dict': {1, 2}}"
      ]
     },
     "execution_count": 17,
     "metadata": {},
     "output_type": "execute_result"
    }
   ],
   "source": [
    "a"
   ]
  },
  {
   "cell_type": "code",
   "execution_count": 18,
   "id": "58ab15c2",
   "metadata": {},
   "outputs": [
    {
     "data": {
      "text/plain": [
       "2"
      ]
     },
     "execution_count": 18,
     "metadata": {},
     "output_type": "execute_result"
    }
   ],
   "source": [
    "a[1] ##we need to use the keys now instead of normal indexing, but same tuple brackeets r used to access the data"
   ]
  },
  {
   "cell_type": "code",
   "execution_count": 19,
   "id": "6f41dc88",
   "metadata": {},
   "outputs": [
    {
     "data": {
      "text/plain": [
       "[4, 5]"
      ]
     },
     "execution_count": 19,
     "metadata": {},
     "output_type": "execute_result"
    }
   ],
   "source": [
    "a['list']"
   ]
  },
  {
   "cell_type": "code",
   "execution_count": 20,
   "id": "d0f9e8b9",
   "metadata": {},
   "outputs": [
    {
     "data": {
      "text/plain": [
       "[4, 5]"
      ]
     },
     "execution_count": 20,
     "metadata": {},
     "output_type": "execute_result"
    }
   ],
   "source": [
    "a.get('list')"
   ]
  },
  {
   "cell_type": "code",
   "execution_count": 21,
   "id": "b905c6d7",
   "metadata": {},
   "outputs": [
    {
     "name": "stdout",
     "output_type": "stream",
     "text": [
      "None\n"
     ]
    }
   ],
   "source": [
    "print(a.get(\"li\")) ##li key doesnt exist so it printed None in get funcn, but would have resulted in an error in case of []"
   ]
  },
  {
   "cell_type": "code",
   "execution_count": 22,
   "id": "e4fdf8a6",
   "metadata": {},
   "outputs": [
    {
     "data": {
      "text/plain": [
       "0"
      ]
     },
     "execution_count": 22,
     "metadata": {},
     "output_type": "execute_result"
    }
   ],
   "source": [
    "a.get('li',0) ##it will return the value associated with key if key is present otherwise the second argument "
   ]
  },
  {
   "cell_type": "code",
   "execution_count": 23,
   "id": "d447d9dd",
   "metadata": {},
   "outputs": [
    {
     "data": {
      "text/plain": [
       "dict_keys([1, 3, 'list', 'dict'])"
      ]
     },
     "execution_count": 23,
     "metadata": {},
     "output_type": "execute_result"
    }
   ],
   "source": [
    "a.keys()"
   ]
  },
  {
   "cell_type": "code",
   "execution_count": 24,
   "id": "d7d15eec",
   "metadata": {},
   "outputs": [
    {
     "data": {
      "text/plain": [
       "dict_values([2, 4, [4, 5], {1, 2}])"
      ]
     },
     "execution_count": 24,
     "metadata": {},
     "output_type": "execute_result"
    }
   ],
   "source": [
    "a.values()"
   ]
  },
  {
   "cell_type": "code",
   "execution_count": 25,
   "id": "d6870f65",
   "metadata": {},
   "outputs": [
    {
     "data": {
      "text/plain": [
       "dict_items([(1, 2), (3, 4), ('list', [4, 5]), ('dict', {1, 2})])"
      ]
     },
     "execution_count": 25,
     "metadata": {},
     "output_type": "execute_result"
    }
   ],
   "source": [
    "a.items()"
   ]
  },
  {
   "cell_type": "code",
   "execution_count": 26,
   "id": "10ce734e",
   "metadata": {},
   "outputs": [
    {
     "name": "stdout",
     "output_type": "stream",
     "text": [
      "1 2\n",
      "3 4\n",
      "list [4, 5]\n",
      "dict {1, 2}\n"
     ]
    }
   ],
   "source": [
    "for i in a:\n",
    "    print(i,a[i])"
   ]
  },
  {
   "cell_type": "code",
   "execution_count": 27,
   "id": "1d72476a",
   "metadata": {},
   "outputs": [
    {
     "name": "stdout",
     "output_type": "stream",
     "text": [
      "2\n",
      "4\n",
      "[4, 5]\n",
      "{1, 2}\n"
     ]
    }
   ],
   "source": [
    "for i in a.values():\n",
    "    print(i)"
   ]
  },
  {
   "cell_type": "code",
   "execution_count": 28,
   "id": "1d74e9ce",
   "metadata": {},
   "outputs": [
    {
     "data": {
      "text/plain": [
       "True"
      ]
     },
     "execution_count": 28,
     "metadata": {},
     "output_type": "execute_result"
    }
   ],
   "source": [
    "\"list\" in a"
   ]
  },
  {
   "cell_type": "code",
   "execution_count": 29,
   "id": "c15eb38f",
   "metadata": {},
   "outputs": [
    {
     "data": {
      "text/plain": [
       "False"
      ]
     },
     "execution_count": 29,
     "metadata": {},
     "output_type": "execute_result"
    }
   ],
   "source": [
    "\"li\" in a"
   ]
  },
  {
   "cell_type": "code",
   "execution_count": 30,
   "id": "8e15ea60",
   "metadata": {},
   "outputs": [
    {
     "data": {
      "text/plain": [
       "False"
      ]
     },
     "execution_count": 30,
     "metadata": {},
     "output_type": "execute_result"
    }
   ],
   "source": [
    "2 in a ##only checking the keys"
   ]
  },
  {
   "cell_type": "markdown",
   "id": "0063b58d",
   "metadata": {},
   "source": [
    "### add elements in dict"
   ]
  },
  {
   "cell_type": "code",
   "execution_count": 31,
   "id": "0beb2a11",
   "metadata": {},
   "outputs": [
    {
     "data": {
      "text/plain": [
       "{1: 2, 3: 4, 'list': [4, 5], 'dict': {1, 2}}"
      ]
     },
     "execution_count": 31,
     "metadata": {},
     "output_type": "execute_result"
    }
   ],
   "source": [
    "a"
   ]
  },
  {
   "cell_type": "code",
   "execution_count": 32,
   "id": "86d449c0",
   "metadata": {},
   "outputs": [],
   "source": [
    "a['t']=(1,2,3)"
   ]
  },
  {
   "cell_type": "code",
   "execution_count": 33,
   "id": "07237f33",
   "metadata": {},
   "outputs": [
    {
     "data": {
      "text/plain": [
       "{1: 2, 3: 4, 'list': [4, 5], 'dict': {1, 2}, 't': (1, 2, 3)}"
      ]
     },
     "execution_count": 33,
     "metadata": {},
     "output_type": "execute_result"
    }
   ],
   "source": [
    "a"
   ]
  },
  {
   "cell_type": "code",
   "execution_count": 34,
   "id": "3bd0c85e",
   "metadata": {},
   "outputs": [],
   "source": [
    "a[1]=10"
   ]
  },
  {
   "cell_type": "code",
   "execution_count": 35,
   "id": "022a51a0",
   "metadata": {},
   "outputs": [
    {
     "data": {
      "text/plain": [
       "{1: 10, 3: 4, 'list': [4, 5], 'dict': {1, 2}, 't': (1, 2, 3)}"
      ]
     },
     "execution_count": 35,
     "metadata": {},
     "output_type": "execute_result"
    }
   ],
   "source": [
    "a"
   ]
  },
  {
   "cell_type": "code",
   "execution_count": 36,
   "id": "a2194398",
   "metadata": {},
   "outputs": [],
   "source": [
    "b={3:5,'the':4,2:100}"
   ]
  },
  {
   "cell_type": "code",
   "execution_count": 37,
   "id": "3f6b19b7",
   "metadata": {},
   "outputs": [],
   "source": [
    "a.update(b) ##3 key has been updated and everything else got added all together"
   ]
  },
  {
   "cell_type": "code",
   "execution_count": 38,
   "id": "b833ca9e",
   "metadata": {},
   "outputs": [
    {
     "data": {
      "text/plain": [
       "{1: 10, 3: 5, 'list': [4, 5], 'dict': {1, 2}, 't': (1, 2, 3), 'the': 4, 2: 100}"
      ]
     },
     "execution_count": 38,
     "metadata": {},
     "output_type": "execute_result"
    }
   ],
   "source": [
    "a"
   ]
  },
  {
   "cell_type": "code",
   "execution_count": 39,
   "id": "9656add8",
   "metadata": {},
   "outputs": [
    {
     "data": {
      "text/plain": [
       "(1, 2, 3)"
      ]
     },
     "execution_count": 39,
     "metadata": {},
     "output_type": "execute_result"
    }
   ],
   "source": [
    "a.pop('t')"
   ]
  },
  {
   "cell_type": "code",
   "execution_count": 40,
   "id": "4af368a4",
   "metadata": {},
   "outputs": [],
   "source": [
    "del a[1]"
   ]
  },
  {
   "cell_type": "code",
   "execution_count": 41,
   "id": "c4ec0790",
   "metadata": {},
   "outputs": [
    {
     "data": {
      "text/plain": [
       "{3: 5, 'list': [4, 5], 'dict': {1, 2}, 'the': 4, 2: 100}"
      ]
     },
     "execution_count": 41,
     "metadata": {},
     "output_type": "execute_result"
    }
   ],
   "source": [
    "a"
   ]
  },
  {
   "cell_type": "code",
   "execution_count": 42,
   "id": "66ad73af",
   "metadata": {},
   "outputs": [],
   "source": [
    "a.clear()"
   ]
  },
  {
   "cell_type": "code",
   "execution_count": 43,
   "id": "de24604d",
   "metadata": {},
   "outputs": [
    {
     "data": {
      "text/plain": [
       "{}"
      ]
     },
     "execution_count": 43,
     "metadata": {},
     "output_type": "execute_result"
    }
   ],
   "source": [
    "a"
   ]
  },
  {
   "cell_type": "code",
   "execution_count": 44,
   "id": "070822d9",
   "metadata": {},
   "outputs": [],
   "source": [
    "del a"
   ]
  },
  {
   "cell_type": "code",
   "execution_count": 45,
   "id": "3f840586",
   "metadata": {},
   "outputs": [
    {
     "ename": "NameError",
     "evalue": "name 'a' is not defined",
     "output_type": "error",
     "traceback": [
      "\u001b[1;31m---------------------------------------------------------------------------\u001b[0m",
      "\u001b[1;31mNameError\u001b[0m                                 Traceback (most recent call last)",
      "\u001b[1;32m<ipython-input-45-3f786850e387>\u001b[0m in \u001b[0;36m<module>\u001b[1;34m\u001b[0m\n\u001b[1;32m----> 1\u001b[1;33m \u001b[0ma\u001b[0m\u001b[1;33m\u001b[0m\u001b[1;33m\u001b[0m\u001b[0m\n\u001b[0m",
      "\u001b[1;31mNameError\u001b[0m: name 'a' is not defined"
     ]
    }
   ],
   "source": [
    "a"
   ]
  },
  {
   "cell_type": "markdown",
   "id": "387e9a31",
   "metadata": {},
   "source": [
    "## print all the words with frequency k"
   ]
  },
  {
   "cell_type": "code",
   "execution_count": 9,
   "id": "b83a64f1",
   "metadata": {},
   "outputs": [],
   "source": [
    "s= \"this is  a many word  drting having many many word word\"\n",
    "k=2"
   ]
  },
  {
   "cell_type": "code",
   "execution_count": 10,
   "id": "7500c855",
   "metadata": {},
   "outputs": [],
   "source": [
    "words=s.split()"
   ]
  },
  {
   "cell_type": "code",
   "execution_count": 11,
   "id": "14aef48d",
   "metadata": {},
   "outputs": [],
   "source": [
    "##sorting can be done to get repeated words together but that wont help \n",
    "##since sorting is expensive"
   ]
  },
  {
   "cell_type": "code",
   "execution_count": 12,
   "id": "af501c6f",
   "metadata": {},
   "outputs": [
    {
     "data": {
      "text/plain": [
       "{'this': 1, 'is': 1, 'a': 1, 'many': 3, 'word': 3, 'drting': 1, 'having': 1}"
      ]
     },
     "execution_count": 12,
     "metadata": {},
     "output_type": "execute_result"
    }
   ],
   "source": [
    "d={}\n",
    "for w in words:\n",
    "    if w in d:\n",
    "        d[w]=d[w]+1 ##if word is in dictionary, inc its freq by 1\n",
    "    else:\n",
    "        d[w]=1 ##first time seeing the word, store its freq as 1\n",
    "d"
   ]
  },
  {
   "cell_type": "code",
   "execution_count": 52,
   "id": "b47dc1e2",
   "metadata": {},
   "outputs": [],
   "source": [
    "##making more concised\n",
    "d={}\n",
    "for w in words:\n",
    "    d[w]=d.get(w,0)+1 ##seeing word first time , d.get(w)= None but d.get(w,0)= 0, + 1 = freqq stored as 1 initially and then\n",
    "    ##increased for repeated words"
   ]
  },
  {
   "cell_type": "code",
   "execution_count": 53,
   "id": "fa006777",
   "metadata": {},
   "outputs": [
    {
     "data": {
      "text/plain": [
       "{'this': 1, 'is': 1, 'a': 1, 'word': 2, 'drting': 1, 'having': 1, 'many': 2}"
      ]
     },
     "execution_count": 53,
     "metadata": {},
     "output_type": "execute_result"
    }
   ],
   "source": [
    "d"
   ]
  },
  {
   "cell_type": "code",
   "execution_count": 54,
   "id": "4b262b96",
   "metadata": {},
   "outputs": [],
   "source": [
    "def printkfreqnode(s,k):\n",
    "    words=s.split()\n",
    "    d={}\n",
    "    for w in words:\n",
    "        d[w]=d.get(w,0)+1 ##d.get(w) would have returned 0 but \n",
    "    for w in d :\n",
    "        if d[w]==k:\n",
    "            print(w)\n",
    "s= \"this is  a word drting having many many word\"\n"
   ]
  },
  {
   "cell_type": "code",
   "execution_count": 56,
   "id": "abe9f9e8",
   "metadata": {},
   "outputs": [
    {
     "name": "stdout",
     "output_type": "stream",
     "text": [
      "word\n",
      "many\n"
     ]
    }
   ],
   "source": [
    "printkfreqnode(s,2)"
   ]
  },
  {
   "cell_type": "markdown",
   "id": "66d659f6",
   "metadata": {},
   "source": [
    "### Max freq node "
   ]
  },
  {
   "cell_type": "code",
   "execution_count": 7,
   "id": "66cc6dec",
   "metadata": {},
   "outputs": [],
   "source": [
    "##IF TWO NUMBERS HAVE SAME FREQ, RETURN THE NUMBER THAT CAME FIRST IN ARRAY LIST \n",
    "\n",
    "def maxfreq(arr):\n",
    "    d={}\n",
    "    for ele in arr :\n",
    "        d[ele]=d.get(ele,0)+1\n",
    "    ans_ele=-1\n",
    "    ans_freq=0\n",
    "    for ele in arr: ##here we checked in array itself coz disctionary doesnt maintain the order of ele in the same order \n",
    "        ##as that \n",
    "        ##of array \n",
    "        if d[ele]>ans_freq:\n",
    "            ans_ele=ele\n",
    "            ans_freq=d[ele]\n",
    "    return ans_ele\n",
    "arr= [1,3,3,4,5,5,7,8]"
   ]
  },
  {
   "cell_type": "code",
   "execution_count": 8,
   "id": "638a6119",
   "metadata": {},
   "outputs": [
    {
     "name": "stdout",
     "output_type": "stream",
     "text": [
      "3\n"
     ]
    }
   ],
   "source": [
    "print(maxfreq(arr))"
   ]
  },
  {
   "cell_type": "code",
   "execution_count": 65,
   "id": "e39f0294",
   "metadata": {},
   "outputs": [],
   "source": [
    "a={1:2,1:3,2:5,4:6}"
   ]
  },
  {
   "cell_type": "code",
   "execution_count": 67,
   "id": "2fc1eca2",
   "metadata": {},
   "outputs": [
    {
     "data": {
      "text/plain": [
       "3"
      ]
     },
     "execution_count": 67,
     "metadata": {},
     "output_type": "execute_result"
    }
   ],
   "source": [
    "a[1]"
   ]
  },
  {
   "cell_type": "markdown",
   "id": "732978e0",
   "metadata": {},
   "source": [
    "### pair sum to 0"
   ]
  },
  {
   "cell_type": "code",
   "execution_count": 7,
   "id": "fa91370e",
   "metadata": {},
   "outputs": [
    {
     "name": "stdout",
     "output_type": "stream",
     "text": [
      "5\n",
      "0 0 0 0 0\n",
      "10\n"
     ]
    }
   ],
   "source": [
    "from math import factorial\n",
    "def n2c(n): ## to check how many times pair (0,0) is to be printed\n",
    "    ans=0\n",
    "    if n!=1:\n",
    "        ans=factorial(n)/(factorial(2)*factorial(n-2))\n",
    "    return int(ans)\n",
    "\n",
    "def freqMap(l):\n",
    "    map={}\n",
    "    for num in l:\n",
    "        if num in map:\n",
    "            map[num]+=1\n",
    "        else:\n",
    "            map[num]=1\n",
    "    return map\n",
    "\n",
    "def pairSum0(l,n):\n",
    "    m=freqMap(l)\n",
    "    count=0\n",
    "    for num in m:\n",
    "        if num>0 and -num in m:\n",
    "            count=count+(m[num]*m[-num])\n",
    "            \n",
    "        if num==0:\n",
    "            count=count+n2c(m[num])\n",
    "            \n",
    "    return count\n",
    "\n",
    "n=int(input())\n",
    "arr=list(int(i) for i in input().strip().split(' '))\n",
    "print(pairSum0(arr,n))"
   ]
  },
  {
   "cell_type": "code",
   "execution_count": 3,
   "id": "1b6a0807",
   "metadata": {},
   "outputs": [
    {
     "name": "stdout",
     "output_type": "stream",
     "text": [
      "abcdefbs\n",
      "{'a': 0}\n",
      "{'a': 0, 'b': 1}\n",
      "{'a': 0, 'b': 1, 'c': 2}\n",
      "{'a': 0, 'b': 1, 'c': 2, 'd': 3}\n",
      "{'a': 0, 'b': 1, 'c': 2, 'd': 3, 'e': 4}\n",
      "{'a': 0, 'b': 1, 'c': 2, 'd': 3, 'e': 4, 'f': 5}\n",
      "{'a': 0, 'b': 6, 'c': 2, 'd': 3, 'e': 4, 'f': 5}\n",
      "{'a': 0, 'b': 6, 'c': 2, 'd': 3, 'e': 4, 'f': 5, 's': 7}\n"
     ]
    }
   ],
   "source": [
    "d={}\n",
    "s=str(input())\n",
    "for i in range(0,len(s)):\n",
    "    d[s[i]]=i\n",
    "    print(d)\n"
   ]
  },
  {
   "cell_type": "code",
   "execution_count": null,
   "id": "7a212b10",
   "metadata": {},
   "outputs": [],
   "source": []
  }
 ],
 "metadata": {
  "kernelspec": {
   "display_name": "Python 3",
   "language": "python",
   "name": "python3"
  },
  "language_info": {
   "codemirror_mode": {
    "name": "ipython",
    "version": 3
   },
   "file_extension": ".py",
   "mimetype": "text/x-python",
   "name": "python",
   "nbconvert_exporter": "python",
   "pygments_lexer": "ipython3",
   "version": "3.8.8"
  }
 },
 "nbformat": 4,
 "nbformat_minor": 5
}
