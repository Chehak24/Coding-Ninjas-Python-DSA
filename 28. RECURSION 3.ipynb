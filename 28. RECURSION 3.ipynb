{
 "cells": [
  {
   "cell_type": "markdown",
   "id": "52111c8a",
   "metadata": {},
   "source": [
    "### LIST OF SUBSEQUENCES\n",
    "\n",
    "1. example ->\"abc\"\n",
    "1. base case : -> empty or single length, take empty string so that single length can be managed by empty string itself, return array with 1 size \n",
    "2.  Induction Hypo : for all length k, we find subsequences\n",
    "2. Induction Step: Assume funcn will work fine for n-1, and that smaller string output will give the right output of the bigger string\n",
    "3. subsequences have a or not, b or not, c or not\n",
    "4. so total subsequences = 2^n\n",
    "5. if we have output for bc ie \"\", b, c, bc;; then for abc new output will have either a or not a , building total 2* 4 characters"
   ]
  },
  {
   "cell_type": "code",
   "execution_count": 3,
   "id": "9891268f",
   "metadata": {},
   "outputs": [],
   "source": [
    "def subs(s):\n",
    "    if len(s)==0:\n",
    "        output=[] ## array made-2\n",
    "        output.append(\"\") ## appended asn returned to c-3\n",
    "        return output\n",
    "    \n",
    "    smallerString=s[1:] ## rchd till 0 -1\n",
    "    smallerOutput = subs(smallerString)\n",
    "    \n",
    "    output=[] ## another array for c-4\n",
    "    for sub in smallerOutput:\n",
    "        output.append(sub) ## \"\" built as at ease\n",
    "        \n",
    "    for sub in smallerOutput:\n",
    "        subs_with_zero_char = s[0]+sub ## c+\"\" built\n",
    "        output.append(subs_with_zero_char)\n",
    "        \n",
    "    return output"
   ]
  },
  {
   "cell_type": "code",
   "execution_count": 4,
   "id": "20d5d2a9",
   "metadata": {},
   "outputs": [
    {
     "data": {
      "text/plain": [
       "['',\n",
       " 'd',\n",
       " 'c',\n",
       " 'cd',\n",
       " 'b',\n",
       " 'bd',\n",
       " 'bc',\n",
       " 'bcd',\n",
       " 'a',\n",
       " 'ad',\n",
       " 'ac',\n",
       " 'acd',\n",
       " 'ab',\n",
       " 'abd',\n",
       " 'abc',\n",
       " 'abcd']"
      ]
     },
     "execution_count": 4,
     "metadata": {},
     "output_type": "execute_result"
    }
   ],
   "source": [
    "subs(\"abcd\")"
   ]
  },
  {
   "cell_type": "markdown",
   "id": "fc3a01f5",
   "metadata": {},
   "source": [
    "### RETURN KEYPAD COMBINATIONS\n",
    "1. number is given ie 24\n",
    "2. 2->abc, 4->ghi\n",
    "3. possible strings: ag,ah,ai,bg,bh,bi,cg,ch,ci\n",
    "4. possible no. of outputs = 3* 3\n",
    "5. assuming 1 and 0 arent part of this, 1 corresponds to special characters, 0 to space\n",
    "6. 2 corresponds to \"a\",\"b\",\"c\""
   ]
  },
  {
   "cell_type": "markdown",
   "id": "336bb357",
   "metadata": {},
   "source": [
    "1. 234->23->2->empty string\n",
    "2. 2-'abc';2-'a,b,c';23-'ad,ae,af,bd,be,bf,cd,ce,cf'\n",
    "3. smallerind = input/10\n",
    "4. remaining digits-input %10\n",
    "5. smalleroutput=getsub(smallerind)\n",
    "6. output=[]"
   ]
  },
  {
   "cell_type": "code",
   "execution_count": 5,
   "id": "4311e5b3",
   "metadata": {},
   "outputs": [],
   "source": [
    "def getString(d):\n",
    "    if d ==2:\n",
    "        return \"abc\"\n",
    "    \n",
    "    if d==3:\n",
    "        return \"def\"\n",
    "    \n",
    "    if d==4:\n",
    "        return \"ghi\"\n",
    "    \n",
    "    if d ==5:\n",
    "        return \"jkl\"\n",
    "    \n",
    "    if d==6:\n",
    "        return \"mno\"\n",
    "    \n",
    "    if d==7:\n",
    "        return \"pqrs\"\n",
    "    \n",
    "    if d ==8:\n",
    "        return \"tuv\"\n",
    "    \n",
    "    if d==9:\n",
    "        return \"wxyz\"\n",
    "    \n",
    "    \n",
    "    return \" \""
   ]
  },
  {
   "cell_type": "code",
   "execution_count": 8,
   "id": "793c59be",
   "metadata": {},
   "outputs": [],
   "source": [
    "def keypad(n):\n",
    "    if n==0:\n",
    "        output=[]\n",
    "        output.append(\"\")\n",
    "        return output\n",
    "    \n",
    "    smallerNumber=n//10\n",
    "    lastDigit=n%10\n",
    "    \n",
    "    smallerOutput=keypad(smallerNumber)\n",
    "    optionsForLastDigit = getString(lastDigit)\n",
    "    \n",
    "    output=[]\n",
    "    \n",
    "    for s in smallerOutput :\n",
    "        for c in optionsForLastDigit:\n",
    "            option = s+c\n",
    "            output.append(option)\n",
    "    return output\n"
   ]
  },
  {
   "cell_type": "code",
   "execution_count": 11,
   "id": "60cc4a9d",
   "metadata": {},
   "outputs": [
    {
     "data": {
      "text/plain": [
       "['ad', 'ae', 'af', 'bd', 'be', 'bf', 'cd', 'ce', 'cf']"
      ]
     },
     "execution_count": 11,
     "metadata": {},
     "output_type": "execute_result"
    }
   ],
   "source": [
    "keypad(23)"
   ]
  },
  {
   "cell_type": "code",
   "execution_count": 10,
   "id": "0dc27488",
   "metadata": {},
   "outputs": [
    {
     "data": {
      "text/plain": [
       "(36,\n",
       " ['adp',\n",
       "  'adq',\n",
       "  'adr',\n",
       "  'ads',\n",
       "  'aep',\n",
       "  'aeq',\n",
       "  'aer',\n",
       "  'aes',\n",
       "  'afp',\n",
       "  'afq',\n",
       "  'afr',\n",
       "  'afs',\n",
       "  'bdp',\n",
       "  'bdq',\n",
       "  'bdr',\n",
       "  'bds',\n",
       "  'bep',\n",
       "  'beq',\n",
       "  'ber',\n",
       "  'bes',\n",
       "  'bfp',\n",
       "  'bfq',\n",
       "  'bfr',\n",
       "  'bfs',\n",
       "  'cdp',\n",
       "  'cdq',\n",
       "  'cdr',\n",
       "  'cds',\n",
       "  'cep',\n",
       "  'ceq',\n",
       "  'cer',\n",
       "  'ces',\n",
       "  'cfp',\n",
       "  'cfq',\n",
       "  'cfr',\n",
       "  'cfs'])"
      ]
     },
     "execution_count": 10,
     "metadata": {},
     "output_type": "execute_result"
    }
   ],
   "source": [
    "output=keypad(237)\n",
    "len(output), output"
   ]
  },
  {
   "cell_type": "markdown",
   "id": "e85d81fd",
   "metadata": {},
   "source": [
    "#### PRINT OUTPUT INSTEAD OF RETURNING"
   ]
  },
  {
   "cell_type": "code",
   "execution_count": null,
   "id": "035e29fd",
   "metadata": {},
   "outputs": [],
   "source": [
    "def fact(n):\n",
    "    if n==0:\n",
    "        return 1\n",
    "    smallerOutput=fact(n-1)\n",
    "    \n",
    "    print(n*smallerOutput) ## induction is gone coz returning hasnt been done for thte smaller input"
   ]
  },
  {
   "cell_type": "code",
   "execution_count": 12,
   "id": "c8e5974a",
   "metadata": {},
   "outputs": [],
   "source": [
    "def fact(n):\n",
    "    if n==0:\n",
    "        return 1\n",
    "    smallOutput = fact(n-1)\n",
    "    output=n*smallOutput\n",
    "    print(output)\n",
    "    return output"
   ]
  },
  {
   "cell_type": "code",
   "execution_count": 13,
   "id": "85369c89",
   "metadata": {},
   "outputs": [
    {
     "name": "stdout",
     "output_type": "stream",
     "text": [
      "1\n",
      "2\n",
      "6\n",
      "24\n",
      "120\n"
     ]
    },
    {
     "data": {
      "text/plain": [
       "120"
      ]
     },
     "execution_count": 13,
     "metadata": {},
     "output_type": "execute_result"
    }
   ],
   "source": [
    "fact(5)"
   ]
  },
  {
   "cell_type": "code",
   "execution_count": 14,
   "id": "0fcb7d76",
   "metadata": {},
   "outputs": [],
   "source": [
    "def factHelper(n):\n",
    "    if n==0:\n",
    "        return 1\n",
    "    smallOutput = factHelper(n-1)\n",
    "    output=n*smallOutput\n",
    "    return output"
   ]
  },
  {
   "cell_type": "code",
   "execution_count": 15,
   "id": "7c113ea2",
   "metadata": {},
   "outputs": [],
   "source": [
    "def fact(n):\n",
    "    output=factHelper(n)\n",
    "    print(output)"
   ]
  },
  {
   "cell_type": "code",
   "execution_count": 16,
   "id": "d08daaa6",
   "metadata": {},
   "outputs": [
    {
     "name": "stdout",
     "output_type": "stream",
     "text": [
      "120\n"
     ]
    }
   ],
   "source": [
    "fact(5)"
   ]
  },
  {
   "cell_type": "markdown",
   "id": "d49ed7de",
   "metadata": {},
   "source": [
    "##### still not printing from the actual funcn\n",
    "\n",
    "1. building the ans from base case to upwards\n",
    "\n",
    "2. Build the answer while gng down, calling for n -? ->  call  for n-1 and tell ans is n, and keep passing on thee answer downwards\n",
    "\n",
    "3. rch the base case and then print at the end\n"
   ]
  },
  {
   "cell_type": "code",
   "execution_count": 17,
   "id": "64d674ce",
   "metadata": {},
   "outputs": [],
   "source": [
    "def printFact(n,ans):\n",
    "    if n == 0:\n",
    "        print(ans)\n",
    "        return\n",
    "    ans=ans*n\n",
    "    printFact(n-1,ans)"
   ]
  },
  {
   "cell_type": "code",
   "execution_count": 19,
   "id": "8a46c3b3",
   "metadata": {},
   "outputs": [
    {
     "name": "stdout",
     "output_type": "stream",
     "text": [
      "120\n"
     ]
    }
   ],
   "source": [
    "printFact(5,1)"
   ]
  },
  {
   "cell_type": "markdown",
   "id": "1e5a1d11",
   "metadata": {},
   "source": [
    "1. calling on 5 -> will call 4 but before that ans will be 1*5= 5\n",
    "2. CALLS ARE AS FOLLOW: 5,1->4,5->3,20->2,60->1,120->0,120"
   ]
  },
  {
   "cell_type": "markdown",
   "id": "53d977a7",
   "metadata": {},
   "source": [
    "#### MINIMUM OF ARRAY  - PRINNT AND NOT RETURN"
   ]
  },
  {
   "cell_type": "markdown",
   "id": "b3bcbf2a",
   "metadata": {},
   "source": [
    "1. Given a list we need to return the minimum list\n",
    "2. BASE CASE - empty string, will return a +ve, or 1 single ele and returns itself\n",
    "3. N-1 -> return minimum and then check for min in nth ele and that returned from n-1"
   ]
  },
  {
   "cell_type": "code",
   "execution_count": null,
   "id": "76200039",
   "metadata": {},
   "outputs": [],
   "source": [
    "def minList(1):\n",
    "    if len(l)==1:\n",
    "        return l[0]\n",
    "    minSmallArray = minList(l[1:])\n",
    "    overallMin=min(minSmallArray,l[0])\n",
    "    return overallMin"
   ]
  },
  {
   "cell_type": "code",
   "execution_count": 20,
   "id": "ec90a75a",
   "metadata": {},
   "outputs": [],
   "source": [
    "def printMin(l,minsofar=100000):\n",
    "    if len(l)==0:\n",
    "        print(minsofar)\n",
    "        return\n",
    "    newMin=min(minsofar,l[0])\n",
    "    printMin(l[1:],newMin)"
   ]
  },
  {
   "cell_type": "markdown",
   "id": "2341f4c0",
   "metadata": {},
   "source": [
    "[3,4,2,-1,0,9,-2,5]\n",
    "1. 10000 and 3, 3 will be passed, 3 again, 2,-1,-1,-1,-2,-2"
   ]
  },
  {
   "cell_type": "code",
   "execution_count": 22,
   "id": "b5e1753c",
   "metadata": {},
   "outputs": [
    {
     "name": "stdout",
     "output_type": "stream",
     "text": [
      "-6\n"
     ]
    }
   ],
   "source": [
    "printMin([1,2,3,-4,-1,0,5,-6])"
   ]
  },
  {
   "cell_type": "markdown",
   "id": "70205fbe",
   "metadata": {},
   "source": [
    "### PRINT ALL SUBSEQUENCES\n",
    "1. abc was completing its work after bc in case of RETURN\n",
    "2. in case of print we want, abc to do its work and then go to bc\n",
    "3. 2 CASES:\n",
    "    1. abc -> bc,\"\" and bc,\"a\"\n",
    "    2. bc,\"\"->c,\"\"; c,\"b\" and bc,\"a\"-> c,\"a\" and c,\"ab\"\n",
    "4. decision to make and run both sides on abc; therefore we will have 2 recursive calls\n",
    "5. string; input, output\n",
    "6. call on smaller part of input once excluding the first charac and then other time on including the first charac\n",
    "\n",
    "###### basically u would be printing the bases cases"
   ]
  },
  {
   "cell_type": "code",
   "execution_count": 23,
   "id": "603609b7",
   "metadata": {},
   "outputs": [],
   "source": [
    "def printSubs(s,o):\n",
    "    if len(s)==0:\n",
    "        print(o)\n",
    "        return\n",
    "    ## not including 0 char\n",
    "    printSubs(s[1:],o)      ## this part will be completed first \n",
    "    \n",
    "    ## including 0 char\n",
    "    newOutput=o+s[0]\n",
    "    printSubs(s[1:],newOutput)"
   ]
  },
  {
   "cell_type": "code",
   "execution_count": 24,
   "id": "530b2c6c",
   "metadata": {},
   "outputs": [
    {
     "name": "stdout",
     "output_type": "stream",
     "text": [
      "\n",
      "c\n",
      "b\n",
      "bc\n",
      "a\n",
      "ac\n",
      "ab\n",
      "abc\n"
     ]
    }
   ],
   "source": [
    "printSubs(\"abc\",\"\")"
   ]
  },
  {
   "cell_type": "code",
   "execution_count": 25,
   "id": "9079d140",
   "metadata": {},
   "outputs": [
    {
     "name": "stdout",
     "output_type": "stream",
     "text": [
      "abc\n",
      "\n",
      "c\n",
      "b\n",
      "bc\n",
      "a\n",
      "ac\n",
      "ab\n",
      "abc\n"
     ]
    }
   ],
   "source": [
    "string=input()\n",
    "printSubs(string,\"\")"
   ]
  },
  {
   "cell_type": "code",
   "execution_count": 20,
   "id": "01194587",
   "metadata": {},
   "outputs": [
    {
     "name": "stdout",
     "output_type": "stream",
     "text": [
      "1 2 3 4\n"
     ]
    },
    {
     "ename": "TypeError",
     "evalue": "'int' object is not iterable",
     "output_type": "error",
     "traceback": [
      "\u001b[1;31m---------------------------------------------------------------------------\u001b[0m",
      "\u001b[1;31mTypeError\u001b[0m                                 Traceback (most recent call last)",
      "\u001b[1;32m<ipython-input-20-0ca6f60037a5>\u001b[0m in \u001b[0;36m<module>\u001b[1;34m\u001b[0m\n\u001b[0;32m      9\u001b[0m \u001b[0mx\u001b[0m\u001b[1;33m=\u001b[0m\u001b[1;33m[\u001b[0m\u001b[0mint\u001b[0m\u001b[1;33m(\u001b[0m\u001b[0mele\u001b[0m\u001b[1;33m)\u001b[0m \u001b[1;32mfor\u001b[0m \u001b[0mele\u001b[0m \u001b[1;32min\u001b[0m \u001b[0minput\u001b[0m\u001b[1;33m(\u001b[0m\u001b[1;33m)\u001b[0m\u001b[1;33m.\u001b[0m\u001b[0msplit\u001b[0m\u001b[1;33m(\u001b[0m\u001b[1;33m)\u001b[0m\u001b[1;33m]\u001b[0m\u001b[1;33m\u001b[0m\u001b[1;33m\u001b[0m\u001b[0m\n\u001b[0;32m     10\u001b[0m \u001b[1;32mfor\u001b[0m \u001b[0mi\u001b[0m \u001b[1;32min\u001b[0m \u001b[0mx\u001b[0m\u001b[1;33m:\u001b[0m\u001b[1;33m\u001b[0m\u001b[1;33m\u001b[0m\u001b[0m\n\u001b[1;32m---> 11\u001b[1;33m     \u001b[1;32mfor\u001b[0m \u001b[0mj\u001b[0m \u001b[1;32min\u001b[0m \u001b[0mi\u001b[0m\u001b[1;33m:\u001b[0m\u001b[1;33m\u001b[0m\u001b[1;33m\u001b[0m\u001b[0m\n\u001b[0m\u001b[0;32m     12\u001b[0m         \u001b[0mprint\u001b[0m\u001b[1;33m(\u001b[0m\u001b[0mj\u001b[0m\u001b[1;33m,\u001b[0m\u001b[0mend\u001b[0m\u001b[1;33m=\u001b[0m\u001b[1;34m\" \"\u001b[0m\u001b[1;33m)\u001b[0m\u001b[1;33m\u001b[0m\u001b[1;33m\u001b[0m\u001b[0m\n\u001b[0;32m     13\u001b[0m     \u001b[0mprint\u001b[0m\u001b[1;33m(\u001b[0m\u001b[1;33m)\u001b[0m\u001b[1;33m\u001b[0m\u001b[1;33m\u001b[0m\u001b[0m\n",
      "\u001b[1;31mTypeError\u001b[0m: 'int' object is not iterable"
     ]
    }
   ],
   "source": [
    "def subs(l):\n",
    "    if l==[]:\n",
    "        return [[]]\n",
    "    \n",
    "    x=subs(l[1:])\n",
    "    \n",
    "    \n",
    "    return x+[l[0]+y for y in x]\n",
    "x=[int(ele) for ele in input().split()]\n",
    "for i in x:\n",
    "    for j in i:\n",
    "        print(j,end=\" \")\n",
    "    print()\n",
    "    \n"
   ]
  },
  {
   "cell_type": "markdown",
   "id": "ed269a1a",
   "metadata": {},
   "source": [
    "### PRINT KEYPAD COMBINATIONS\n",
    "\n",
    "1. HEAVY RECURSIVE CALLS and printing the base cases, \n",
    "2. TIME COMPLEXITY IS SIMILAR\n",
    "3. In prev solution , we were doing lots of work in getting the huge array\n",
    "\n",
    "1. if input==0:\n",
    "        1.print(outputsofar)\n",
    "        2. return\n",
    "2. s=GetOptions(LastDigit):\n",
    "    1. s looped"
   ]
  },
  {
   "cell_type": "code",
   "execution_count": 26,
   "id": "1e118042",
   "metadata": {},
   "outputs": [],
   "source": [
    "def getString(d):\n",
    "    if d ==2:\n",
    "        return \"abc\"\n",
    "    \n",
    "    if d==3:\n",
    "        return \"def\"\n",
    "    \n",
    "    if d==4:\n",
    "        return \"ghi\"\n",
    "    \n",
    "    if d ==5:\n",
    "        return \"jkl\"\n",
    "    \n",
    "    if d==6:\n",
    "        return \"mno\"\n",
    "    \n",
    "    if d==7:\n",
    "        return \"pqrs\"\n",
    "    \n",
    "    if d ==8:\n",
    "        return \"tuv\"\n",
    "    \n",
    "    if d==9:\n",
    "        return \"wxyz\"\n",
    "    \n",
    "    \n",
    "    return \" \""
   ]
  },
  {
   "cell_type": "code",
   "execution_count": 29,
   "id": "0bb97fc1",
   "metadata": {},
   "outputs": [],
   "source": [
    "def printkeypad(i,o):\n",
    "    if i==0:\n",
    "        print(o)\n",
    "        return\n",
    "    \n",
    "    smallnumber=i//10\n",
    "    lastdigit=i%10\n",
    "    \n",
    "    optionsforLastDigit=getString(lastdigit)\n",
    "    for c in optionsforLastDigit:\n",
    "        newOutput=c+o\n",
    "        printkeypad(smallnumber,newOutput)"
   ]
  },
  {
   "cell_type": "code",
   "execution_count": 31,
   "id": "fb19da30",
   "metadata": {},
   "outputs": [
    {
     "name": "stdout",
     "output_type": "stream",
     "text": [
      "ad\n",
      "bd\n",
      "cd\n",
      "ae\n",
      "be\n",
      "ce\n",
      "af\n",
      "bf\n",
      "cf\n"
     ]
    }
   ],
   "source": [
    "printkeypad(23,\"\")"
   ]
  },
  {
   "cell_type": "markdown",
   "id": "130b13cf",
   "metadata": {},
   "source": [
    "### RETURN SUBSET SUM TO K\n",
    "1. 3 2 5 1 4 6, K = 8 ; ANS BEING  3 5; 3 1 4; 2 5 1 ; 2 6\n",
    "2. 3 being included in some cases, 3 not being included in other cases\n",
    "3. 3 included, take rest of the input array and get the inputs which sum to 5\n",
    "4. 3 not included, pass rest of the array and give array sum to 8 \n",
    "\n"
   ]
  },
  {
   "cell_type": "code",
   "execution_count": 3,
   "id": "9c0304ed",
   "metadata": {},
   "outputs": [
    {
     "name": "stdout",
     "output_type": "stream",
     "text": [
      "9\n",
      "5 12 3 17 1 18 15 3 17 \n",
      "6\n",
      "3 3 \n",
      "5 1 \n"
     ]
    }
   ],
   "source": [
    "## to get in the same order as inputted in the string\n",
    "def printSubsetToKHelper(arr,k,output):\n",
    "    if len(arr)==0:\n",
    "        if k==0:\n",
    "            for ele in output:\n",
    "                print(ele,end=' ')\n",
    "            print()\n",
    "            return\n",
    "        else:\n",
    "            return\n",
    "        ##excluding the first item\n",
    "    printSubsetToKHelper(arr[1:],k,output)\n",
    "        \n",
    "    output1=[ele for ele in output]\n",
    "    output1.append(arr[0])\n",
    "        \n",
    "        ##including the first ele\n",
    "    printSubsetToKHelper(arr[1:],k-arr[0],output1)\n",
    "def printSubsetToK(arr,k):\n",
    "    output=[]\n",
    "    printSubsetToKHelper(arr,k,output)\n",
    "\n",
    "n=int(input())\n",
    "arr=[int(ele) for ele in input().split()]\n",
    "k=int(input())\n",
    "\n",
    "printSubsetToK(arr,k)"
   ]
  },
  {
   "cell_type": "markdown",
   "id": "381084b9",
   "metadata": {},
   "source": [
    "### PRINT SUBSET SUM TO K"
   ]
  },
  {
   "cell_type": "code",
   "execution_count": 38,
   "id": "93e84e07",
   "metadata": {},
   "outputs": [
    {
     "name": "stdout",
     "output_type": "stream",
     "text": [
      "9\n",
      "5 12 3 4 1 3 7 8 9\n",
      "6\n",
      "1 5 \n",
      "3 3 \n"
     ]
    }
   ],
   "source": [
    "def printSubsetToK(arr,n,v,sum):\n",
    "    if(sum==0):\n",
    "        for value in v:\n",
    "            print(value,end=\" \")\n",
    "        print()\n",
    "        return\n",
    "    if(n==0):\n",
    "        return\n",
    "    printSubsetToK(arr,n-1,v,sum)\n",
    "    \n",
    "    v1=[]+v\n",
    "    v1.append(arr[n-1])\n",
    "    printSubsetToK(arr,n-1,v1,sum-arr[n-1])\n",
    "    \n",
    "n=int(input())\n",
    "arr=[int(ele) for ele in input().split( )]\n",
    "k=int(input())\n",
    "\n",
    "printSubsetToK(arr,n,[],k)"
   ]
  },
  {
   "cell_type": "markdown",
   "id": "a3944488",
   "metadata": {},
   "source": [
    "### PRINT SUBSET SUM TO K"
   ]
  },
  {
   "cell_type": "code",
   "execution_count": 1,
   "id": "1726392b",
   "metadata": {},
   "outputs": [
    {
     "name": "stdout",
     "output_type": "stream",
     "text": [
      "9\n",
      "5 12 3 4 1 3 7 8 9\n",
      "6\n",
      "5 1\n",
      "3 3\n"
     ]
    }
   ],
   "source": [
    "def printSubset(arr,k,lst):\n",
    "    n=len(arr)\n",
    "    if n==0:\n",
    "        return\n",
    "    if n==1:\n",
    "        if arr[0]==k:\n",
    "            print(k,*lst)\n",
    "            return\n",
    "        \n",
    "    printSubset(arr[:-1],k,lst)\n",
    "    printSubset(arr[:-1],k-arr[-1],[arr[-1]]+lst)\n",
    "    if arr[-1]==k:\n",
    "        print(k,*lst)\n",
    "        \n",
    "def printSubsetMain(arr,k):\n",
    "    printSubset(arr,k,[])\n",
    "    \n",
    "n=int(input())\n",
    "arr=[int(ele) for ele in list(input().split())]\n",
    "k=int(input())\n",
    "printSubsetMain(arr,k)"
   ]
  },
  {
   "cell_type": "code",
   "execution_count": 31,
   "id": "cf98268a",
   "metadata": {},
   "outputs": [
    {
     "name": "stdout",
     "output_type": "stream",
     "text": [
      "5\n",
      "1 2 3 3 4 5\n",
      "6\n",
      "1 2 3 \n",
      "1 2 3 \n",
      "3 3 \n",
      "2 4 \n"
     ]
    }
   ],
   "source": [
    "def printAllSubsetsRec(arr,n,v,k):\n",
    "    if (k==0):\n",
    "        for value in v:\n",
    "            print(value,end=\" \")\n",
    "        print()\n",
    "        return\n",
    "    if (n==0):\n",
    "        return\n",
    "    \n",
    "    printAllSubsetsRec(arr,n-1,v,k)\n",
    "    v1=[]\n",
    "    v1.append(arr[n-1])\n",
    "    v1+=v\n",
    "    printAllSubsetsRec(arr,n-1,v1,k-arr[n-1])\n",
    "\n",
    "def printAllSubsets(arr,n,k):\n",
    "    v=[]\n",
    "    printAllSubsetsRec(arr,n,v,k)\n",
    "    \n",
    "n=int(input())\n",
    "arr=[int (ele) for ele in input().split()]\n",
    "k=int(input())\n",
    "printAllSubsets(arr,n,k)"
   ]
  },
  {
   "cell_type": "markdown",
   "id": "485899e2",
   "metadata": {},
   "source": [
    "### RETURN PERMUTATIONS OF A STRING"
   ]
  },
  {
   "cell_type": "code",
   "execution_count": 6,
   "id": "978637cd",
   "metadata": {},
   "outputs": [
    {
     "name": "stdout",
     "output_type": "stream",
     "text": [
      "bcdlp\n",
      "bcdlp\n",
      "bpldc\n",
      "cbdlp\n",
      "cpldb\n",
      "dbclp\n",
      "dplcb\n",
      "lbcdp\n",
      "lpdcb\n",
      "pbcdl\n",
      "pldcb\n"
     ]
    }
   ],
   "source": [
    "## didnt get all the outputs \n",
    "def permutations(string):\n",
    "    n=len(string)\n",
    "    \n",
    "    if n==0:\n",
    "        return\n",
    "    output=[]\n",
    "    for i in range (n):\n",
    "        start=string[i]\n",
    "        \n",
    "        remaining=string[:i]+string[i+1:]\n",
    "        permutations(remaining)\n",
    "        output.append(start+remaining)\n",
    "        \n",
    "        next1=remaining[::-1]\n",
    "        permutations(next1)\n",
    "        output.append(start+next1)\n",
    "        \n",
    "    return output\n",
    "\n",
    "string = input()\n",
    "ans = permutations(string)\n",
    "for s in ans:\n",
    "    print(s)\n"
   ]
  },
  {
   "cell_type": "code",
   "execution_count": 4,
   "id": "d88bc8ee",
   "metadata": {},
   "outputs": [
    {
     "name": "stdout",
     "output_type": "stream",
     "text": [
      "bcdlp\n",
      "bcdlp bcdpl bcldp bclpd bcpdl bcpld bdclp bdcpl bdlcp bdlpc bdpcl bdplc blcdp blcpd bldcp bldpc blpcd blpdc bpcdl bpcld bpdcl bpdlc bplcd bpldc cbdlp cbdpl cbldp cblpd cbpdl cbpld cdblp cdbpl cdlbp cdlpb cdpbl cdplb clbdp clbpd cldbp cldpb clpbd clpdb cpbdl cpbld cpdbl cpdlb cplbd cpldb dbclp dbcpl dblcp dblpc dbpcl dbplc dcblp dcbpl dclbp dclpb dcpbl dcplb dlbcp dlbpc dlcbp dlcpb dlpbc dlpcb dpbcl dpblc dpcbl dpclb dplbc dplcb lbcdp lbcpd lbdcp lbdpc lbpcd lbpdc lcbdp lcbpd lcdbp lcdpb lcpbd lcpdb ldbcp ldbpc ldcbp ldcpb ldpbc ldpcb lpbcd lpbdc lpcbd lpcdb lpdbc lpdcb pbcdl pbcld pbdcl pbdlc pblcd pbldc pcbdl pcbld pcdbl pcdlb pclbd pcldb pdbcl pdblc pdcbl pdclb pdlbc pdlcb plbcd plbdc plcbd plcdb pldbc pldcb\n",
      "120\n"
     ]
    }
   ],
   "source": [
    "def permutations(string):\n",
    "    \"\"\"\n",
    "    Create all permutations of a string with non-repeating characters\n",
    "    \"\"\"\n",
    "    permutation_list = []\n",
    "    if len(string) == 1:\n",
    "        return [string]\n",
    "    else:\n",
    "        for char in string:\n",
    "            [permutation_list.append(char + a) for a in permutations(string.replace(char, \"\", 1))]\n",
    "    return permutation_list\n",
    "string=input()\n",
    "ans=permutations(string)\n",
    "print(*ans)\n",
    "print(len(ans))"
   ]
  },
  {
   "cell_type": "code",
   "execution_count": 13,
   "id": "ad3c8976",
   "metadata": {},
   "outputs": [
    {
     "name": "stdout",
     "output_type": "stream",
     "text": [
      "abc\n",
      "abc\n",
      "acb\n",
      "bac\n",
      "bca\n",
      "cab\n",
      "cba\n"
     ]
    }
   ],
   "source": [
    "from itertools import permutations\n",
    "\n",
    "def totalpermutations(str):\n",
    "    \n",
    "    permList = permutations(str)\n",
    "    for perm in list(permList):\n",
    "        print(''.join(perm))\n",
    "\n",
    "\n",
    "string = input()\n",
    "ans = totalpermutations(string)\n"
   ]
  },
  {
   "cell_type": "markdown",
   "id": "75be7401",
   "metadata": {},
   "source": [
    "### PRINT PERMUTATIONS OF A STRING"
   ]
  },
  {
   "cell_type": "code",
   "execution_count": 33,
   "id": "2cc6540d",
   "metadata": {},
   "outputs": [
    {
     "name": "stdout",
     "output_type": "stream",
     "text": [
      "abc\n",
      "abc\n",
      "acb\n",
      "bac\n",
      "bca\n",
      "cab\n",
      "cba\n"
     ]
    }
   ],
   "source": [
    "def printPermutations(string,output):\n",
    "    if len(string)==0:\n",
    "        print(output)\n",
    "        return\n",
    "    for i in range(len(string)):\n",
    "        printPermutations(string[0:i]+string[i+1:],output+string[i])\n",
    "string=input()\n",
    "printPermutations(string,'')"
   ]
  },
  {
   "cell_type": "markdown",
   "id": "880bf504",
   "metadata": {},
   "source": [
    "### RETURN SUBSETS OF AN ARRAY"
   ]
  },
  {
   "cell_type": "code",
   "execution_count": 25,
   "id": "ce1ba5f7",
   "metadata": {},
   "outputs": [
    {
     "name": "stdout",
     "output_type": "stream",
     "text": [
      "3\n",
      "12 32 14\n",
      "12 32 14 \n",
      "12 32 \n",
      "12 14 \n",
      "12 \n",
      "32 14 \n",
      "32 \n",
      "14 \n",
      "\n"
     ]
    }
   ],
   "source": [
    "def returnSubsets(a,n):\n",
    "    if n==0:\n",
    "        return [[]]\n",
    "    smallout=returnSubsets(a[1:],n-1)\n",
    "    including=[]\n",
    "    \n",
    "    for i in smallout:\n",
    "        temp=[a[0]]\n",
    "        for j in i:\n",
    "            temp.append(j)\n",
    "        including.append(temp)\n",
    "    out=[]\n",
    "    for i in including:\n",
    "        out.append(i)\n",
    "    for j in smallout:\n",
    "        out.append(j)\n",
    "    return out\n",
    "\n",
    "n=int(input())\n",
    "a=[int(i) for i in input().split()]\n",
    "for i in returnSubsets(a,n):\n",
    "    for j in i:\n",
    "        print(j,end=' ')\n",
    "    print()"
   ]
  },
  {
   "cell_type": "markdown",
   "id": "4f3d1794",
   "metadata": {},
   "source": [
    "### PRINT SUBSETS OF AN ARRAY "
   ]
  },
  {
   "cell_type": "code",
   "execution_count": 21,
   "id": "d612cb45",
   "metadata": {},
   "outputs": [
    {
     "name": "stdout",
     "output_type": "stream",
     "text": [
      "5 10 12\n",
      "\n",
      " 12\n",
      " 10\n",
      " 10 12\n",
      " 5\n",
      " 5 12\n",
      " 5 10\n",
      " 5 10 12\n"
     ]
    }
   ],
   "source": [
    "def printSubsnH(s,o):\n",
    "    if len(s)==0:\n",
    "        print(o)\n",
    "        return\n",
    "    ## not including 0 char\n",
    "    printSubsn(s[1:],o)      ## this part will be completed first \n",
    "    \n",
    "    ## including 0 char\n",
    "    newOutput=str(o)+\" \"+ str(s[0])\n",
    "    printSubsn(s[1:],newOutput)\n",
    "def printSubsn(arr,out):\n",
    "    printSubsnH(arr,out)\n",
    "arr=[int(ele) for ele in input().split()]\n",
    "printSubsn(arr,\"\")"
   ]
  },
  {
   "cell_type": "markdown",
   "id": "9bbe76d3",
   "metadata": {},
   "source": [
    "#### PRINT SUBSETS OF AN ARRAY"
   ]
  },
  {
   "cell_type": "code",
   "execution_count": 29,
   "id": "622bf85f",
   "metadata": {},
   "outputs": [
    {
     "name": "stdout",
     "output_type": "stream",
     "text": [
      "3\n",
      "12 20 15\n",
      "12 20 15 \n",
      "12 20 \n",
      "12 15 \n",
      "12 \n",
      "20 15 \n",
      "20 \n",
      "15 \n",
      "\n"
     ]
    }
   ],
   "source": [
    "def printSubsets(arr,si,output):\n",
    "    if si>=len(arr):\n",
    "        for i in output:\n",
    "            print(i,end=' ')\n",
    "        print()\n",
    "        return\n",
    "    newOutput=[] ### empty array-1\n",
    "    for i in output: \n",
    "        newOutput.append(i) ##appended for each i-5\n",
    "    newOutput.append(arr[si]) ## added the first ele in it-2\n",
    "    printSubsets(arr,si+1,newOutput) ## while using the first ele-3\n",
    "    printSubsets(arr,si+1,output) ## while not using the first ele -4\n",
    "    \n",
    "n=int(input())\n",
    "arr=[int(ele) for ele in input().split(\" \")]\n",
    "printSubsets(arr,0,[]) "
   ]
  }
 ],
 "metadata": {
  "kernelspec": {
   "display_name": "Python 3",
   "language": "python",
   "name": "python3"
  },
  "language_info": {
   "codemirror_mode": {
    "name": "ipython",
    "version": 3
   },
   "file_extension": ".py",
   "mimetype": "text/x-python",
   "name": "python",
   "nbconvert_exporter": "python",
   "pygments_lexer": "ipython3",
   "version": "3.8.8"
  }
 },
 "nbformat": 4,
 "nbformat_minor": 5
}
