{
 "cells": [
  {
   "cell_type": "markdown",
   "id": "64ba7e6b",
   "metadata": {},
   "source": [
    "#### MAKE TREE SORTED IE A BST\n",
    "all the left<root<all the right\n"
   ]
  },
  {
   "cell_type": "markdown",
   "id": "5c9cf6d9",
   "metadata": {},
   "source": [
    "### search node in a BST\n",
    "1. x is to be searched\n",
    "2. root is none? return\n",
    "3. x is what < or > to root's data\n",
    "4. repeatttt\n",
    "\n",
    "1. at each level we r comparing with just one data\n",
    "2. Time Complexity = O(h) h is the height \n",
    "3. height is mostly logn in a BST until its a screwed BST in that case it would be n\n",
    "4. why logn ? no of nodes in a BST r in the order of 1 + 2 + 4 + ....2^(h-1)=h --> h= logn+1"
   ]
  },
  {
   "cell_type": "markdown",
   "id": "09f4a627",
   "metadata": {},
   "source": [
    "#### print all elements between k1 and k2 \n",
    "1. depends upon the value of k1 and k2, which side to call \n",
    "2. root<k1 then call on right side\n",
    "3. root> k2 call only on left side\n",
    "4. else call on both sides since root is bw k1 and k2"
   ]
  },
  {
   "cell_type": "markdown",
   "id": "81a3c320",
   "metadata": {},
   "source": [
    "### build a BST\n",
    "1. from soted array take the middle element and create the root node\n",
    "2. its left side is left bt and right side is right bt\n",
    "3. pass left elements recursively to make left sub tree\n",
    "4. use right side elements recuursiverly to make right subtree\n",
    "5. connect w root \n",
    "6. return root"
   ]
  },
  {
   "cell_type": "markdown",
   "id": "68949707",
   "metadata": {},
   "source": [
    "### check if BST - 1\n",
    "1. root==None: return None\n",
    "2. if root.data<root.left.data or root.data>root.right.data->unbalanced\n",
    "3. else check bst in left and right\n",
    "##### but\n",
    "1. we have to check in such a way that all the children in left (or right) shoulf be less(or greater) than root\n",
    "2. ie max(left)<root\n",
    "3. if min(right)>root\n",
    "\n",
    "    \n",
    "1. Time complexity is 2t(n/2)+ O(n) ie total being nlogn((just like diameter case)\n",
    "    2. if skewed tree then T(n)=T(n-1)+O(n) ie n^2"
   ]
  },
  {
   "cell_type": "code",
   "execution_count": 7,
   "id": "90ac9a30",
   "metadata": {},
   "outputs": [],
   "source": [
    "import queue\n",
    "class binarytreenode:\n",
    "    def __init__(self,data):\n",
    "        self.data=data\n",
    "        self.left=None\n",
    "        self.right=None\n",
    "def printtreedetailed(root):\n",
    "    if root==None:\n",
    "        return False\n",
    "    print(root.data,end=\":\")\n",
    "    if root.left!=None:\n",
    "        print(\"L\",root.left.data,end=\",\")\n",
    "    if root.right!=None:\n",
    "        print(\"R\",root.right.data,end=\" \")\n",
    "    print()\n",
    "    printtreedetailed(root.left)\n",
    "    printtreedetailed(root.right)\n",
    "def takelevelwiseinput():\n",
    "    q=queue.Queue()\n",
    "    print(\"enter root\")\n",
    "    rootdata=int(input())\n",
    "    if (rootdata==-1):\n",
    "        return\n",
    "    root=binarytreenode(rootdata)\n",
    "    q.put(root)\n",
    "    while (not(q.empty())):\n",
    "        curr_node=q.get()\n",
    "        print(\"enter left child of\",curr_node.data)\n",
    "        leftchilddata=int(input())\n",
    "        if leftchilddata!=-1:\n",
    "            leftchild=binarytreenode(leftchilddata)\n",
    "            curr_node.left=leftchild\n",
    "            q.put(leftchild)\n",
    "        print(\"enter right child of\",curr_node.data)\n",
    "        rightchilddata=int(input())\n",
    "        if rightchilddata!=-1:\n",
    "            rightchild=binarytreenode(rightchilddata)\n",
    "            curr_node.right=rightchild\n",
    "            q.put(rightchild)\n",
    "    return root \n",
    "def mintree(root):\n",
    "    if root == None:\n",
    "        return 100000\n",
    "    leftmin=mintree(root.left)\n",
    "    rightmin=mintree(root.right)\n",
    "    return min(leftmin,rightmin,root.data)\n",
    "def maxtree(root):\n",
    "    if root == None:\n",
    "        return -100000 ##jo bhi data dalaoge vo -infinity se toh bda hi daaloge\n",
    "    ##so that vhi no. retur hojaye and agli comparison uss se ho paaye\n",
    "    leftmax=maxtree(root.left)\n",
    "    rightmax=maxtree(root.right)\n",
    "    return max(leftmax,rightmax,root.data)\n",
    "def isBST(root):\n",
    "    if root == None:\n",
    "        return True\n",
    "    leftmax=maxtree(root.left) ##comparing with the pura left by using the maxtree funcn\n",
    "    rightmin=mintree(root.right)\n",
    "    if root.data>rightmin or root.data<=leftmax: ##problem\n",
    "        return False\n",
    "    isleftBST=isBST(root.left)\n",
    "    isrightBST=isBST(root.right)\n",
    "    return isleftBST and isrightBST"
   ]
  },
  {
   "cell_type": "code",
   "execution_count": 8,
   "id": "35875603",
   "metadata": {},
   "outputs": [
    {
     "name": "stdout",
     "output_type": "stream",
     "text": [
      "enter root\n",
      "2\n",
      "enter left child of 2\n",
      "1\n",
      "enter right child of 2\n",
      "3\n",
      "enter left child of 1\n",
      "-1\n",
      "enter right child of 1\n",
      "-1\n",
      "enter left child of 3\n",
      "-1\n",
      "enter right child of 3\n",
      "-1\n",
      "2:L 1,R 3 \n",
      "1:\n",
      "3:\n"
     ]
    },
    {
     "data": {
      "text/plain": [
       "True"
      ]
     },
     "execution_count": 8,
     "metadata": {},
     "output_type": "execute_result"
    }
   ],
   "source": [
    "root=takelevelwiseinput()\n",
    "printtreedetailed(root)\n",
    "isBST(root)"
   ]
  },
  {
   "cell_type": "markdown",
   "id": "f6d61196",
   "metadata": {},
   "source": [
    "### check BST - 2\n",
    "1. from left i need min,max and isBST\n",
    "2. from right i need min,max and isBST\n",
    "3. find overall min,overall max and isBST\n",
    "\n",
    "\n",
    "1. TIME COMPLEXITY = 2T(n/2)+K"
   ]
  },
  {
   "cell_type": "code",
   "execution_count": 13,
   "id": "321cf70f",
   "metadata": {},
   "outputs": [],
   "source": [
    "import queue\n",
    "class binarytreenode:\n",
    "    def __init__(self,data):\n",
    "        self.data=data\n",
    "        self.left=None\n",
    "        self.right=None\n",
    "def printtreedetailed(root):\n",
    "    if root==None:\n",
    "        return False\n",
    "    print(root.data,end=\":\")\n",
    "    if root.left!=None:\n",
    "        print(\"L\",root.left.data,end=\",\")\n",
    "    if root.right!=None:\n",
    "        print(\"R\",root.right.data,end=\" \")\n",
    "    print()\n",
    "    printtreedetailed(root.left)\n",
    "    printtreedetailed(root.right)\n",
    "def takelevelwiseinput():\n",
    "    q=queue.Queue()\n",
    "    print(\"enter root\")\n",
    "    rootdata=int(input())\n",
    "    if (rootdata==-1):\n",
    "        return\n",
    "    root=binarytreenode(rootdata)\n",
    "    q.put(root)\n",
    "    while (not(q.empty())):\n",
    "        curr_node=q.get()\n",
    "        print(\"enter left child of\",curr_node.data)\n",
    "        leftchilddata=int(input())\n",
    "        if leftchilddata!=-1:\n",
    "            leftchild=binarytreenode(leftchilddata)\n",
    "            curr_node.left=leftchild\n",
    "            q.put(leftchild)\n",
    "        print(\"enter right child of\",curr_node.data)\n",
    "        rightchilddata=int(input())\n",
    "        if rightchilddata!=-1:\n",
    "            rightchild=binarytreenode(rightchilddata)\n",
    "            curr_node.right=rightchild\n",
    "            q.put(rightchild)\n",
    "    return root \n",
    "def isBST2(root):\n",
    "    if root is None:\n",
    "        return 100000,-10000000,True ##min,max and isBST\n",
    "    leftmin,leftmax,isleftBST=isBST2(root.left)\n",
    "    rightmin,rightmax,isrightBST=isBST2(root.right)\n",
    "    \n",
    "    minimum=min(leftmin,rightmin,root.data)\n",
    "    maximum=max(leftmax,rightmax,root.data)\n",
    "    isTreeBST=True ##assuming\n",
    "    if root.data<=leftmax or root.data>rightmin:\n",
    "        isTreeBST=False\n",
    "    if not(isleftBST) or not (isrightBST):\n",
    "        isTreeBST=False\n",
    "    return minimum,maximum,isTreeBST "
   ]
  },
  {
   "cell_type": "code",
   "execution_count": 14,
   "id": "eccb428b",
   "metadata": {},
   "outputs": [
    {
     "name": "stdout",
     "output_type": "stream",
     "text": [
      "enter root\n",
      "2\n",
      "enter left child of 2\n",
      "1\n",
      "enter right child of 2\n",
      "3\n",
      "enter left child of 1\n",
      "-1\n",
      "enter right child of 1\n",
      "-1\n",
      "enter left child of 3\n",
      "-1\n",
      "enter right child of 3\n",
      "-1\n",
      "2:L 1,R 3 \n",
      "1:\n",
      "3:\n"
     ]
    },
    {
     "data": {
      "text/plain": [
       "(1, 3, True)"
      ]
     },
     "execution_count": 14,
     "metadata": {},
     "output_type": "execute_result"
    }
   ],
   "source": [
    "root=takelevelwiseinput()\n",
    "printtreedetailed(root)\n",
    "isBST2(root)"
   ]
  },
  {
   "cell_type": "markdown",
   "id": "070e8496",
   "metadata": {},
   "source": [
    "### check BST-3\n",
    "1. root can be bw -infinity to infinity\n",
    "2. left can be in bw -infinity (or the lower limited permitted to its root)to r-1 where r is the value in root\n",
    "3. right can be bw r to infinity(or the upper limited permitted to its root)\n"
   ]
  },
  {
   "cell_type": "code",
   "execution_count": 16,
   "id": "8b30e13e",
   "metadata": {},
   "outputs": [],
   "source": [
    "import queue\n",
    "class binarytreenode:\n",
    "    def __init__(self,data):\n",
    "        self.data=data\n",
    "        self.left=None\n",
    "        self.right=None\n",
    "def printtreedetailed(root):\n",
    "    if root==None:\n",
    "        return False\n",
    "    print(root.data,end=\":\")\n",
    "    if root.left!=None:\n",
    "        print(\"L\",root.left.data,end=\",\")\n",
    "    if root.right!=None:\n",
    "        print(\"R\",root.right.data,end=\" \")\n",
    "    print()\n",
    "    printtreedetailed(root.left)\n",
    "    printtreedetailed(root.right)\n",
    "def takelevelwiseinput():\n",
    "    q=queue.Queue()\n",
    "    print(\"enter root\")\n",
    "    rootdata=int(input())\n",
    "    if (rootdata==-1):\n",
    "        return\n",
    "    root=binarytreenode(rootdata)\n",
    "    q.put(root)\n",
    "    while (not(q.empty())):\n",
    "        curr_node=q.get()\n",
    "        print(\"enter left child of\",curr_node.data)\n",
    "        leftchilddata=int(input())\n",
    "        if leftchilddata!=-1:\n",
    "            leftchild=binarytreenode(leftchilddata)\n",
    "            curr_node.left=leftchild\n",
    "            q.put(leftchild)\n",
    "        print(\"enter right child of\",curr_node.data)\n",
    "        rightchilddata=int(input())\n",
    "        if rightchilddata!=-1:\n",
    "            rightchild=binarytreenode(rightchilddata)\n",
    "            curr_node.right=rightchild\n",
    "            q.put(rightchild)\n",
    "    return root \n",
    "def isBST3(root,minrange,maxrange):\n",
    "    if root==None:\n",
    "        return True\n",
    "    if root.data<minrange or root.data>maxrange:\n",
    "        return False\n",
    "    ###isleftbst need not be checked coz it will return false if constraints \n",
    "    ##aint fulfillef\n",
    "    isleftwithinconstraints=isBST3(root.left,minrange,root.data-1)\n",
    "    isrightwithinconstraints=isBST3(root.right,root.data,maxrange)\n",
    "    return isleftwithinconstraints and isrightwithinconstraints"
   ]
  },
  {
   "cell_type": "code",
   "execution_count": 17,
   "id": "809dd80a",
   "metadata": {},
   "outputs": [
    {
     "name": "stdout",
     "output_type": "stream",
     "text": [
      "enter root\n",
      "2\n",
      "enter left child of 2\n",
      "1\n",
      "enter right child of 2\n",
      "3\n",
      "enter left child of 1\n",
      "-1\n",
      "enter right child of 1\n",
      "-1\n",
      "enter left child of 3\n",
      "-1\n",
      "enter right child of 3\n",
      "-1\n"
     ]
    },
    {
     "data": {
      "text/plain": [
       "True"
      ]
     },
     "execution_count": 17,
     "metadata": {},
     "output_type": "execute_result"
    }
   ],
   "source": [
    "root=takelevelwiseinput()\n",
    "printtreedetailed\n",
    "isBST3(root,-10000,100000)"
   ]
  },
  {
   "cell_type": "code",
   "execution_count": null,
   "id": "085de096",
   "metadata": {},
   "outputs": [],
   "source": []
  }
 ],
 "metadata": {
  "kernelspec": {
   "display_name": "Python 3",
   "language": "python",
   "name": "python3"
  },
  "language_info": {
   "codemirror_mode": {
    "name": "ipython",
    "version": 3
   },
   "file_extension": ".py",
   "mimetype": "text/x-python",
   "name": "python",
   "nbconvert_exporter": "python",
   "pygments_lexer": "ipython3",
   "version": "3.8.8"
  }
 },
 "nbformat": 4,
 "nbformat_minor": 5
}
