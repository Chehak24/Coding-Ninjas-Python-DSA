{
 "cells": [
  {
   "cell_type": "code",
   "execution_count": 4,
   "metadata": {},
   "outputs": [
    {
     "data": {
      "text/plain": [
       "'fayadea'"
      ]
     },
     "execution_count": 4,
     "metadata": {},
     "output_type": "execute_result"
    }
   ],
   "source": [
    "#recursion with strings-replacing a with b \n",
    "def replace(s,a,b):\n",
    "    if len(s)==0:\n",
    "        return s\n",
    "    smallers = s[1:]\n",
    "    smalleroutput=replace(smallers,a,b)\n",
    "    if s[0]==a:\n",
    "        return b+smalleroutput\n",
    "    else:\n",
    "        return s[0]+smalleroutput\n",
    "replace(\"fcycdec\",'c','a')"
   ]
  },
  {
   "cell_type": "code",
   "execution_count": 1,
   "metadata": {},
   "outputs": [
    {
     "name": "stdout",
     "output_type": "stream",
     "text": [
      "abcxxds\n",
      "abcds\n"
     ]
    }
   ],
   "source": [
    "def removeX(string):\n",
    "    if len(string)==0:\n",
    "        return string\n",
    "    smallers = string[1:]\n",
    "    smalleroutput= removeX(smallers)\n",
    "    if string[0]!='x':\n",
    "        return string[0]+smalleroutput\n",
    "    else:\n",
    "        return smalleroutput\n",
    "string = input()\n",
    "print(removeX(string))\n"
   ]
  },
  {
   "cell_type": "code",
   "execution_count": 2,
   "metadata": {},
   "outputs": [
    {
     "name": "stdout",
     "output_type": "stream",
     "text": [
      "abxcdxs\n",
      "abcds\n"
     ]
    }
   ],
   "source": [
    "##alternate solution for above ques\n",
    "def removeX(string):\n",
    "   \n",
    "    return (string.replace('x',''))\n",
    "     \n",
    "string = input()\n",
    "print(removeX(string))"
   ]
  },
  {
   "cell_type": "code",
   "execution_count": 10,
   "metadata": {},
   "outputs": [
    {
     "data": {
      "text/plain": [
       "'ab3.14d'"
      ]
     },
     "execution_count": 10,
     "metadata": {},
     "output_type": "execute_result"
    }
   ],
   "source": [
    "#replace pi with 3.14 in a string\n",
    "def replacepi(s):\n",
    "    if len(s)==0 or len(s)==1:\n",
    "        return s\n",
    "    if s[0] =='p' and s[1]=='i': \n",
    "        smallouput = replacepi(s[2:])\n",
    "        return \"3.14\"+smallouput\n",
    "    else:\n",
    "        smallouput = replacepi(s[1:])\n",
    "        return s[0]+smallouput\n",
    "replacepi(\"abpid\")"
   ]
  },
  {
   "cell_type": "code",
   "execution_count": 16,
   "metadata": {},
   "outputs": [
    {
     "data": {
      "text/plain": [
       "'abcd'"
      ]
     },
     "execution_count": 16,
     "metadata": {},
     "output_type": "execute_result"
    }
   ],
   "source": [
    "def removedoubling(s):\n",
    "    if len(s)==0 or len(s)==1:\n",
    "        return s\n",
    "    if s[0]==s[1]:\n",
    "        smalloutput = removedoubling(s[1:])\n",
    "        return smalloutput\n",
    "    else:\n",
    "        smalloutput=removedoubling(s[1:])\n",
    "        return s[0]+smalloutput\n",
    "removedoubling(\"aaabccd\")"
   ]
  },
  {
   "cell_type": "code",
   "execution_count": 22,
   "metadata": {},
   "outputs": [],
   "source": [
    "# find index of a no. in a list using binary search (not by copying list method)\n",
    "def binarysearch(a,x,si,li):\n",
    "    if si>li:\n",
    "        return -1\n",
    "    mid= (si+li)//2 #// signiify integer division ie 0+5/2 = 2.5 =2 ie the 2nd index\n",
    "    if a[mid]==x:\n",
    "        return mid\n",
    "    elif a[mid]>x:\n",
    "         return binarysearch(a,x,si,mid-1)\n",
    "    else:\n",
    "        return binarysearch(a,x,mid+1,li) \n",
    "        "
   ]
  },
  {
   "cell_type": "code",
   "execution_count": 24,
   "metadata": {},
   "outputs": [
    {
     "data": {
      "text/plain": [
       "-1"
      ]
     },
     "execution_count": 24,
     "metadata": {},
     "output_type": "execute_result"
    }
   ],
   "source": [
    "binarysearch([1,3,4,5,6,7],2,0,5)"
   ]
  },
  {
   "cell_type": "code",
   "execution_count": 34,
   "metadata": {},
   "outputs": [],
   "source": [
    "def merge(a1,a2,a):\n",
    "    i = 0 #pointing to start of a1\n",
    "    j=0 #pointing to start of a2\n",
    "    k=0\n",
    "    while i<len(a1) and j<len(a2):\n",
    "        if(a1[i]<a2[j]):\n",
    "            a[k]=a1[i]\n",
    "            k=k+1\n",
    "            i=i+1\n",
    "        else:\n",
    "            a[k]=a2[j]\n",
    "            k=k+1\n",
    "            j=j+1\n",
    "    while i<len(a1):\n",
    "        a[k]=a1[i]\n",
    "        k=k+1\n",
    "        i=i+1\n",
    "    while j<len(a2):\n",
    "        a[k]=a2[j]\n",
    "        k=k+1\n",
    "        j=j+1\n",
    "        "
   ]
  },
  {
   "cell_type": "code",
   "execution_count": 35,
   "metadata": {},
   "outputs": [],
   "source": [
    "#merge sort\n",
    "def mergesort(a):\n",
    "    if len(a)==0 or len(a)==1:\n",
    "        return\n",
    "    mid=len(a)//2\n",
    "    #be careful where u want to make the split\n",
    "    a1=a[0:mid] #here we write mid to tell the computer to take till mid-1\n",
    "    a2=a[mid:]\n",
    "    mergesort(a1)\n",
    "    mergesort(a2)\n",
    "    merge (a1,a2,a)"
   ]
  },
  {
   "cell_type": "code",
   "execution_count": 36,
   "metadata": {},
   "outputs": [
    {
     "data": {
      "text/plain": [
       "[2, 3, 6, 12, 23, 32, 54, 67]"
      ]
     },
     "execution_count": 36,
     "metadata": {},
     "output_type": "execute_result"
    }
   ],
   "source": [
    "a=[23,54,32,12,67,6,3,2]\n",
    "mergesort(a)\n",
    "a"
   ]
  },
  {
   "cell_type": "code",
   "execution_count": 6,
   "metadata": {},
   "outputs": [
    {
     "name": "stdout",
     "output_type": "stream",
     "text": [
      "5 \n",
      "45 32 76 67 1\n",
      "1 32 45 67 76\n"
     ]
    }
   ],
   "source": [
    "def mergesort(a):\n",
    "    if len(a)==0 or len(a)==1:\n",
    "        return\n",
    "    mid=len(a)//2\n",
    "    #be careful where u want to make the split\n",
    "    a1=a[0:mid] #here we write mid to tell the computer to take till mid-1\n",
    "    a2=a[mid:]\n",
    "    mergesort(a1)\n",
    "    mergesort(a2)\n",
    "    merge (a1,a2,a)\n",
    "def merge(a1,a2,a):\n",
    "    i = 0 #pointing to start of a1\n",
    "    j = 0 #pointing to start of a2\n",
    "    k = 0\n",
    "    while i<len(a1) and j<len(a2):\n",
    "        if(a1[i]<a2[j]):\n",
    "            a[k]=a1[i]\n",
    "            k=k+1\n",
    "            i=i+1\n",
    "        else:\n",
    "            a[k]=a2[j]\n",
    "            k=k+1\n",
    "            j=j+1\n",
    "    while i<len(a1):\n",
    "        a[k]=a1[i]\n",
    "        k=k+1\n",
    "        i=i+1\n",
    "    while j<len(a2):\n",
    "        a[k]=a2[j]\n",
    "        k=k+1\n",
    "        j=j+1\n",
    "n=int(input())\n",
    "a=list(int(i) for i in input().strip().split(' '))\n",
    "mergesort(a)\n",
    "print(*a)\n",
    "     "
   ]
  },
  {
   "cell_type": "code",
   "execution_count": 8,
   "metadata": {},
   "outputs": [
    {
     "data": {
      "text/plain": [
       "[2, 3, 6, 7, 8, 10]"
      ]
     },
     "execution_count": 8,
     "metadata": {},
     "output_type": "execute_result"
    }
   ],
   "source": [
    "##quick sort\n",
    "def quicksort(a,si,ei):\n",
    "    if si>=ei:\n",
    "        return \n",
    "    pivotindex = partition(a,si,ei)\n",
    "    quicksort(a,si,pivotindex-1)\n",
    "    quicksort(a,pivotindex+1,ei)\n",
    "def partition(a,si,ei):\n",
    "    pivot = a[si]\n",
    "    #find no of elements smaller than pivot\n",
    "    c=0\n",
    "    for i in range (si,ei+1):\n",
    "        if a [i]<pivot:\n",
    "            c=c+1\n",
    "    a[si+c],a[si]=a[si],a[si+c] #swapping first element with the element at the crrct posn\n",
    "    \n",
    "            \n",
    "    pivotindex=si+c\n",
    "    i=si\n",
    "    j=ei\n",
    "    while i<j:\n",
    "        if (a[i]<pivot):\n",
    "            i=i+1\n",
    "        elif a[j]>=pivot:\n",
    "            j=j-1\n",
    "        else:\n",
    "            a[i],a[j]=a[j],a[i]\n",
    "            i=i+1\n",
    "            j=j-1\n",
    "    return pivotindex\n",
    "a=[6,8,10,3,7,2]\n",
    "quicksort(a,0,len(a)-1)\n",
    "a"
   ]
  },
  {
   "cell_type": "code",
   "execution_count": 3,
   "metadata": {},
   "outputs": [
    {
     "name": "stdout",
     "output_type": "stream",
     "text": [
      "5\n",
      "12 32 45 21 1\n",
      "1 12 21 32 45\n"
     ]
    }
   ],
   "source": [
    "def quicksort(a,si,ei):\n",
    "    if si>=ei:\n",
    "        return \n",
    "    pivotindex = partition(a,si,ei)\n",
    "    quicksort(a,si,pivotindex-1)\n",
    "    quicksort(a,pivotindex+1,ei)\n",
    "    \n",
    "def partition(a,si,ei):\n",
    "    pivot = a[si]\n",
    "    #find no of elements smaller than pivot\n",
    "    c=0\n",
    "    for i in range (si,ei+1):\n",
    "        if a [i]<pivot:\n",
    "            c=c+1\n",
    "    a[si+c],a[si]=a[si],a[si+c] #swapping first element\n",
    "    #with the element at the crrct posn \n",
    "    pivotindex=si+c\n",
    "    i=si\n",
    "    j=ei\n",
    "    while i<j:\n",
    "        if a[i]<pivot:\n",
    "            i=i+1\n",
    "        elif a[j]>=pivot:\n",
    "            j=j-1\n",
    "        else:\n",
    "            a[i],a[j]=a[j],a[i]\n",
    "            i=i+1\n",
    "            j=j-1\n",
    "    return pivotindex\n",
    "\n",
    "n=int(input())\n",
    "a=list(int(i) for i in input().strip().split(' '))\n",
    "quicksort(a, 0, n-1)\n",
    "print(*a)\n"
   ]
  },
  {
   "cell_type": "markdown",
   "metadata": {},
   "source": [
    "#### TOWER OF HANOI\n",
    "1. Move only 1 disk at a time\n",
    "2. Smllaer disk cant be below a larger disks\n",
    "3. HAVING THREE  THINGS - SOURCE, AUX IE HELPER, DESTINATION\n",
    "4. Move smallest to helper,move remainig n-1 from s to d using induction hypothesis, and then move smaller\n",
    "5. OR\n",
    "6. Move top n-1 from source to helper, then move last nth from source to desti, taking source as helper and then move remining disks n-1 from helper to desti"
   ]
  },
  {
   "cell_type": "code",
   "execution_count": 15,
   "metadata": {},
   "outputs": [
    {
     "name": "stdout",
     "output_type": "stream",
     "text": [
      "2\n",
      "a b\n",
      "a c\n",
      "b c\n"
     ]
    }
   ],
   "source": [
    "##TOWER OF HANOI\n",
    "def towerofhanoi(n, source, aux, dest):\n",
    "    if n==0:\n",
    "        return \n",
    "    if n==1:\n",
    "        print(source,dest)\n",
    "        return\n",
    "    towerofhanoi(n-1,source,dest,aux)\n",
    "     \n",
    "    print(source,dest)\n",
    "    \n",
    "    towerofhanoi(n-1,aux,source,dest)\n",
    "       \n",
    "    pass\n",
    "\n",
    "n=int(input())\n",
    "towerofhanoi(n, 'a', 'b', 'c')\n"
   ]
  },
  {
   "cell_type": "code",
   "execution_count": 13,
   "metadata": {},
   "outputs": [],
   "source": [
    "def towerofhanoi(n,a,b,c):\n",
    "    if n==1:\n",
    "        print(\"move disc from\",a,\"to\",c)\n",
    "        return\n",
    "    towerofhanoi(n-1,a,c,b)\n",
    "    print(\"move\",n,\"th  disc from\",a,\"to\",c)\n",
    "    towerofhanoi(n-1,b,a,c)"
   ]
  },
  {
   "cell_type": "code",
   "execution_count": 14,
   "metadata": {},
   "outputs": [
    {
     "name": "stdout",
     "output_type": "stream",
     "text": [
      "move disc from s to h\n",
      "move 2 th  disc from s to d\n",
      "move disc from h to d\n"
     ]
    }
   ],
   "source": [
    "towerofhanoi(2,\"s\",\"h\",\"d\")"
   ]
  },
  {
   "cell_type": "code",
   "execution_count": null,
   "metadata": {},
   "outputs": [],
   "source": [
    " "
   ]
  }
 ],
 "metadata": {
  "kernelspec": {
   "display_name": "Python 3",
   "language": "python",
   "name": "python3"
  },
  "language_info": {
   "codemirror_mode": {
    "name": "ipython",
    "version": 3
   },
   "file_extension": ".py",
   "mimetype": "text/x-python",
   "name": "python",
   "nbconvert_exporter": "python",
   "pygments_lexer": "ipython3",
   "version": "3.8.8"
  }
 },
 "nbformat": 4,
 "nbformat_minor": 4
}
