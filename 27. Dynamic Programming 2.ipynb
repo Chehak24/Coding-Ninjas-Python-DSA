{
 "cells": [
  {
   "cell_type": "markdown",
   "id": "7c22c5ba",
   "metadata": {},
   "source": [
    "### Min Cost Path\n",
    "\n",
    "1. m* n matrix\n",
    "2. give the min cost(ie sum) reaching from 0,0 to m* n\n",
    "3. explore all the possible 3 paths from i,j (dont follow the min ele)\n",
    "4. mincost(i+1,j) or mincost(i,j+1) or mincost(i+1,j+1)\n",
    "5. total_min=cost[i][j]+ min(4.)"
   ]
  },
  {
   "cell_type": "markdown",
   "id": "8ba16d6a",
   "metadata": {},
   "source": [
    "## RECURSIVELY"
   ]
  },
  {
   "cell_type": "code",
   "execution_count": 1,
   "id": "1f1fc138",
   "metadata": {},
   "outputs": [
    {
     "name": "stdout",
     "output_type": "stream",
     "text": [
      "30\n"
     ]
    }
   ],
   "source": [
    "import sys\n",
    "def minCost(cost,i,j,n,m,dp):\n",
    "    ## Reached the exact point, dont explore further paths\n",
    "    if i==n-1 and j==m-1:\n",
    "        return cost[i][j]\n",
    "    ##Base Case\n",
    "    if i>=n or j>=m: ##boundary cost\n",
    "        return sys.maxsize\n",
    "    \n",
    "    \n",
    "    ans1=minCost(cost,i,j+1,n,m,dp)\n",
    "    ans2=minCost(cost,i+1,j,n,m,dp)\n",
    "    ans3=minCost(cost,i+1,j+1,n,m,dp )\n",
    "    \n",
    "    ans=cost[i][j]+min(ans1,ans2,ans3)\n",
    "    return ans\n",
    "cost=[[1,5,11],[8,13,12],[2,3,7],[15,16,18]] ## [[rows]columns]\n",
    "ans=minCost(cost,0,0,4,3)\n",
    "print(ans) ## path being followed will be 1+8+3+18, many overlappings "
   ]
  },
  {
   "cell_type": "markdown",
   "id": "1ec85ab6",
   "metadata": {},
   "source": [
    "### Memoization\n",
    "1. reaching the ith and jth pt thru three diferent ways\n",
    "2. so the answer should be unique for same ith row and jth column"
   ]
  },
  {
   "cell_type": "code",
   "execution_count": 2,
   "id": "f4143d7a",
   "metadata": {},
   "outputs": [
    {
     "name": "stdout",
     "output_type": "stream",
     "text": [
      "30\n"
     ]
    }
   ],
   "source": [
    "import sys\n",
    "def minCost(cost,i,j,n,m,dp):\n",
    "    if i==n-1 and j==m-1:\n",
    "        return cost[i][j]\n",
    "    \n",
    "    if i>=n or j>=m:\n",
    "        return sys.maxsize\n",
    "    \n",
    "    ## when will we eont have the answers?\n",
    "    if dp[i][j+1]==sys.maxsize:\n",
    "        ans1=minCost(cost,i,j+1,n,m,dp)\n",
    "        dp[i][j+1]=ans1\n",
    "    else:\n",
    "        ans1=dp[i][j+1]\n",
    "    \n",
    "    if dp[i+1][j]==sys.maxsize:\n",
    "        ans2=minCost(cost,i+1,j,n,m,dp)\n",
    "        dp[i+1][j]=ans2\n",
    "    else:\n",
    "        ans2=dp[i+1][j]\n",
    "    \n",
    "    if dp[i+1][j+1]==sys.maxsize:\n",
    "        ans3=minCost(cost,i+1,j+1,n,m,dp)\n",
    "        dp[i+1][j+1]=ans3\n",
    "    else:\n",
    "        ans3=dp[i+1][j+1]\n",
    "    ans=cost[i][j]+min(ans1,ans2,ans3)\n",
    "    return ans\n",
    "\n",
    "\n",
    "\n",
    "\n",
    "\n",
    "\n",
    "cost=[[1,5,11],[8,13,12],[2,3,7],[15,16,18]]\n",
    "n=4\n",
    "m=3\n",
    "dp=[[sys.maxsize for j in range (m+1)]for i in range (n+1)] ## infinity store kr\n",
    "##wa do taaki min value mil paaye; coz matrix khuch ptspr boundary pr aayega\n",
    "ans=minCost(cost,0,0,4,3,dp)\n",
    "print(ans)\n",
    "\n"
   ]
  },
  {
   "cell_type": "markdown",
   "id": "6b733f5f",
   "metadata": {},
   "source": [
    "### TIME COMPLEXITY\n",
    " \n",
    "1. O(m+1)(n+1) are the total unique calls\n",
    "2. if u have called the value for i and j once, then with dp array u wont have to call againa nd again\n",
    "3. Space complexity is O(n+1)(m+1)"
   ]
  },
  {
   "cell_type": "markdown",
   "id": "9ac8e503",
   "metadata": {},
   "source": [
    "### ITERATIVELY\n",
    "\n",
    "##### bottom up approach\n",
    "\n",
    "1. making another matrix starting from m*n and rchng till 0,0\n",
    "2. take the min of right,rightdiagnol,bottom and add that min to the ele itself\n",
    "3. ans would be at 0,0"
   ]
  },
  {
   "cell_type": "code",
   "execution_count": 4,
   "id": "73180021",
   "metadata": {},
   "outputs": [
    {
     "name": "stdout",
     "output_type": "stream",
     "text": [
      "30\n"
     ]
    }
   ],
   "source": [
    "import sys\n",
    "\n",
    "\n",
    "def minCostI(cost,n,m):\n",
    "    \n",
    "    \n",
    "    dp=[[sys.maxsize for j in range (m+1)]for i in range(n+1)] ### initialised every ele with maxsize\n",
    "    \n",
    "    for i in range(n-1,-1,-1):\n",
    "        for j in range(m-1,-1,-1):\n",
    "            if i==n-1 and j==m-1: ## for ele whose path has to be determined, we cant make the comparison with all sys.maxsizes\n",
    "                dp[i][j]=cost[i][j]\n",
    "            else:\n",
    "                ans1=dp[i+1][j]\n",
    "                ans2=dp[i][j+1]\n",
    "                ans3=dp[i+1][j+1]\n",
    "                \n",
    "                dp[i][j]=cost[i][j]+min(ans1,ans2,ans3)\n",
    "                \n",
    "    return dp[0][0]\n",
    "cost=[[1,5,11],[8,13,12],[2,3,7],[15,16,18]]\n",
    "n=4\n",
    "m=3\n",
    "ans=minCostI(cost,n,m)\n",
    "print(ans)"
   ]
  },
  {
   "cell_type": "markdown",
   "id": "470a312b",
   "metadata": {},
   "source": [
    "###  Top Down Approach\n",
    "1. dp state denoting different things\n"
   ]
  },
  {
   "cell_type": "code",
   "execution_count": 10,
   "id": "14a6a322",
   "metadata": {},
   "outputs": [
    {
     "name": "stdout",
     "output_type": "stream",
     "text": [
      "30\n"
     ]
    }
   ],
   "source": [
    "import sys\n",
    "\n",
    "\n",
    "def minCostITD(cost,n,m):\n",
    "    \n",
    "    \n",
    "    dp=[[sys.maxsize for j in range (m+1)]for i in range(n+1)] ### initialised every ele with maxsize\n",
    "    \n",
    "    for i in range(1,n+1):\n",
    "        for j in range(1,m+1):\n",
    "            if i==1and j==1: ## for ele whose path has to be determined, we cant make the comparison with all sys.maxsizes\n",
    "                dp[i][j]=cost[0][0]\n",
    "            else:\n",
    "                ans1=dp[i-1][j]\n",
    "                ans2=dp[i][j-1]\n",
    "                ans3=dp[i-1][j-1]\n",
    "                \n",
    "                dp[i][j]=cost[i-1][j-1]+min(ans1,ans2,ans3)\n",
    "                \n",
    "    return dp[n][m]\n",
    "\n",
    "cost=[[1,5,11],[8,13,12],[2,3,7],[15,16,18]]\n",
    "n=4\n",
    "m=3\n",
    "ans=minCostITD(cost,n,m)\n",
    "print(ans)"
   ]
  },
  {
   "cell_type": "markdown",
   "id": "71ea421b",
   "metadata": {},
   "source": [
    "### LONGEST COMMON SUBSEQUENCE"
   ]
  },
  {
   "cell_type": "markdown",
   "id": "cf3a6178",
   "metadata": {},
   "source": [
    "1. two strings \n",
    "str 1 : a b d g l c\n",
    "str 2 : b f d m g j c\n",
    "\n",
    "2. b d g c is the longest common sequence ie len = 4\n",
    "3. stand at particular i and j of two strings\n",
    "4. if str1[i]==str2[j]:\n",
    "    1. get the lcs of remainimg two parts and that will be the answer+1\n",
    "5. if not equal, explore the oprtions:\n",
    "    1. max(LCS(i+1,j),LCS(Ji,j+1))\n",
    "    \n",
    "    "
   ]
  },
  {
   "cell_type": "markdown",
   "id": "522e31f3",
   "metadata": {},
   "source": [
    "### RECURSIVE RELATION"
   ]
  },
  {
   "cell_type": "code",
   "execution_count": 18,
   "id": "bb1405a0",
   "metadata": {},
   "outputs": [
    {
     "name": "stdout",
     "output_type": "stream",
     "text": [
      "3\n"
     ]
    }
   ],
   "source": [
    "def lcsR(s,t,i,j):\n",
    "    if i==len(s) or j==len(t):\n",
    "        return 0\n",
    "    if s[i]==t[j]:\n",
    "        ans=1+lcsR(s,t,i+1,j+1)\n",
    "    else:\n",
    "        ans1 = lcsR(s,t,i+1,j)\n",
    "        ans2=lcsR(s,t,i,j+1)\n",
    "        ans=max(ans1,ans2)\n",
    "        \n",
    "    return ans\n",
    "    \n",
    "    \n",
    "s=\"abdgfc\"\n",
    "t=\"bgc\"\n",
    "ans=lcsR(s,t,0,0)\n",
    "print(ans)"
   ]
  },
  {
   "cell_type": "markdown",
   "id": "bfc6b8cb",
   "metadata": {},
   "source": [
    "### MEMOIZATION\n",
    "1. Recurisve tree \n",
    "2. LCS(0,0)-> LCS(0,1); LCS(1,0)-> LCS(0,1) calls LCS(0,2);LCS(1,1) -> LCS(1,0) calls LCS(1,1);LCS(2,0); overlaps \n",
    "3. if s is fixed at i and t is fixed at j, then its unique which can be used over and over again ; and unke aage ka lcs would remain same; ans will be unique for combination of 2 strings-> dp[i]dp[j] will store that unqiue answer"
   ]
  },
  {
   "cell_type": "code",
   "execution_count": 27,
   "id": "678df7fe",
   "metadata": {},
   "outputs": [
    {
     "name": "stdout",
     "output_type": "stream",
     "text": [
      "4\n"
     ]
    }
   ],
   "source": [
    "def lcs(s,t,i,j,dp):\n",
    "    ## initialising all boxes with -1 in dp[m+1][n+1] coz len can never be -1\n",
    "    if i==len(s) or j ==len(t):\n",
    "        return 0\n",
    "    \n",
    "    if s[i]==t[j]:\n",
    "        if dp[i+1][j+1] == -1: ## store krwana pdega\n",
    "            smallAns=lcs(str1,str2,i+1,j+1,dp)\n",
    "            dp[i+1][j+1]=smallAns\n",
    "            ans=1+smallAns\n",
    "        else:\n",
    "            ans=1+dp[i+1][j+1]\n",
    "    else:\n",
    "        if dp[i+1][j]==-1:\n",
    "            ans1=lcs(s,t,i+1,j,dp)\n",
    "            dp[i+1][j]=ans1\n",
    "        else:\n",
    "            ans1=dp[i+1][j]\n",
    "            \n",
    "        if dp[i][j+1]==-1:\n",
    "            ans2=lcs(s,t,i,j+1,dp)\n",
    "            dp[i][j+1]=ans2\n",
    "            \n",
    "        else:\n",
    "            ans2=dp[i][j+1]\n",
    "        ans=max(ans1,ans2)\n",
    "    return ans\n",
    "    \n",
    "s=\"abedgjc\"\n",
    "t=\"bmdgsc\"\n",
    "n=len(s) ## no. of rows\n",
    "m=len(t) ## no. of columns\n",
    "dp=[[-1 for j in range(m+1)]for i in range(n+1)]\n",
    "ans=lcs(s,t,0,0,dp)\n",
    "print(ans)"
   ]
  },
  {
   "cell_type": "markdown",
   "id": "20244582",
   "metadata": {},
   "source": [
    "### ITERATIVE SOLUTION"
   ]
  },
  {
   "cell_type": "markdown",
   "id": "888fa394",
   "metadata": {},
   "source": [
    "1. Ulta Matrix chla re h taaki  max of\n",
    "\n"
   ]
  },
  {
   "cell_type": "code",
   "execution_count": 28,
   "id": "e69b958a",
   "metadata": {},
   "outputs": [
    {
     "name": "stdout",
     "output_type": "stream",
     "text": [
      "4\n"
     ]
    }
   ],
   "source": [
    "def lcs (s,t):\n",
    "    n=len(s)\n",
    "    m=len(t)\n",
    "    \n",
    "    dp=[[0 for j in range(m+1)] for i in range(n+1)] ## i being the rows and j being the columns\n",
    "    \n",
    "    for i in range(n-1,-1,-1):\n",
    "        for j in range(m-1,-1,-1):\n",
    "            if s[i]==t[j]:\n",
    "                dp[i][j]=1+dp[i+1][j+1]\n",
    "            else:\n",
    "                dp[i][j]=max(dp[i+1][j],dp[i][j+1])\n",
    "    return dp[0][0]\n",
    "                \n",
    "    \n",
    "s=\"abedgjc\"\n",
    "t=\"bmdgsc\"\n",
    "ans=lcs(s,t)\n",
    "print(ans)"
   ]
  },
  {
   "cell_type": "markdown",
   "id": "d31c5628",
   "metadata": {},
   "source": [
    "### 0-1 KNAPSACK\n",
    "\n",
    "1. n items are put in it\n",
    "2. weight, value associated with each items\n",
    "3. volume - 200,300,100\n",
    "4. weight - 20,25,30, overall weight can be <=W\n",
    "5. W-> 50, now have to generate the MaxValue\n",
    "6. in this case already weight=45, giving maxvalue=500 \n",
    "7. in other case, maxweight=50, giving maxvalue = 300\n",
    "8. but we need maxvalue case\n",
    "\n",
    "**ks(w,wt,val,i)**\n",
    "\n",
    "9. generate the max value by not including the item at that position, and calculating the max value which we can generate from the remaining array, provided wt[i]<=W : ks(W,wt,val,i+1) \n",
    "10. or include that item and get max value from remaining items to get the newweight= W-wt(item) : val[i]+ks(w-wt[i],wt,val,i+1)\n",
    "11. if wt[i]>W : ks(W,wt,val,i+1), will never include that item\n",
    "11. base case : if i == n: return 0\n",
    "11. ans=max(9,10)\n"
   ]
  },
  {
   "cell_type": "markdown",
   "id": "64091fd5",
   "metadata": {},
   "source": [
    "### RECURSIVELY"
   ]
  },
  {
   "cell_type": "code",
   "execution_count": 31,
   "id": "c38f1d7f",
   "metadata": {},
   "outputs": [
    {
     "name": "stdout",
     "output_type": "stream",
     "text": [
      "500\n"
     ]
    }
   ],
   "source": [
    "def knapsack(W,val,wt,n,i):\n",
    "    \n",
    "    if i==n:\n",
    "        return 0\n",
    "    \n",
    "    if wt[i]>W:\n",
    "        ans=knapsack(W,val,wt,n,i+1)\n",
    "    else:\n",
    "        ## including that ith item\n",
    "        ans1=val[i]+knapsack(W-wt[i],val,wt,n,i+1)\n",
    "        ## excluding that item\n",
    "        ans2=knapsack(W,val,wt,n,i+1)\n",
    "        ans=max(ans1,ans2)\n",
    "    return ans\n",
    "\n",
    "val=[200,300,100]\n",
    "wt=[20,25,30]\n",
    "W=50\n",
    "n=len(val)\n",
    "ans=knapsack(W,val,wt,n,0)\n",
    "print(ans)"
   ]
  },
  {
   "cell_type": "markdown",
   "id": "37d2a0ae",
   "metadata": {},
   "source": [
    "### MEMORIZATION- since overlapping is involved\n",
    "1. val = [20,30,40]\n",
    "2. wt = [1,1,1]   ## W =  2\n",
    "3. k(0,2)->including the zeroth item; k(1,1(coz 2-1)->excluding the zeroth item; k(1,2)\n",
    "4. k(1,1)-> k(2,0);k(2,1) ;;; k(1,2)->k(2,1);k(2,2)\n",
    "\n",
    "3. maxwt->20\n",
    "4. k(i,n,W,wt,val)"
   ]
  },
  {
   "cell_type": "markdown",
   "id": "1a773401",
   "metadata": {},
   "source": [
    "#### taking top down approach, \n",
    "1. i-> till ith items taken\n",
    "2. j-> maximumWeightAllowed\n",
    "3. we need to fill dp[i][j]\n",
    "4. dp[n][W]-> n items taken, maxweight allowed W\n",
    "5. we need to fill dp[i][j]\n",
    "6. if wt of i> j; cant take that ;; wt of i is @ i-1:\n",
    "    1. ans = dp[i-1][j]\n",
    "7. if i>=wt[i-1]; we can take that ;;\n",
    "     1. including that item: val[i-1]+dp[i-1[j-wt[i-1]]  ## coz wt allowed is itself value and prev items ka wt \n",
    "    2. excluding that item: dp[i-1][j]\n",
    "    3. ans1=ans+max(1. and 2.)\n",
    "8. dp[n][W]=ans1"
   ]
  },
  {
   "cell_type": "code",
   "execution_count": 33,
   "id": "93394523",
   "metadata": {},
   "outputs": [
    {
     "name": "stdout",
     "output_type": "stream",
     "text": [
      "500\n"
     ]
    }
   ],
   "source": [
    "\n",
    "def knapsack(W,val,wt):\n",
    "    \n",
    "    n=len(val)\n",
    "    dp=[[0 for j in range(W+1)] for i in range(n+1)]\n",
    "    \n",
    "    \n",
    "    for i in range(1,n+1):\n",
    "        for j in range(1,W+1):\n",
    "            \n",
    "            \n",
    "            if j<wt[i-1]:\n",
    "                ans=dp[i-1][j]\n",
    "            else:\n",
    "                ans1=val[i-1]+dp[i-1][j-wt[i-1]]\n",
    "                ans2=dp[i-1][j]\n",
    "                ans=max(ans1,ans2)\n",
    "            dp[i][j]=ans\n",
    "    return dp[n][W]\n",
    "\n",
    "\n",
    "val=[200,300,100]\n",
    "wt=[20,25,30]\n",
    "W=50\n",
    "n=len(val)\n",
    "ans=knapsack(W,val,wt)\n",
    "print(ans)"
   ]
  },
  {
   "cell_type": "markdown",
   "id": "b80c0791",
   "metadata": {},
   "source": [
    "# MATRIX CHAIN MULTIPLICATION\n",
    "1. minimum costs to multiply these matrixes A(2x3); B(3x4); C(4x5); D(5x6)\n",
    "2. minimum of [(A)(BCD); (AB)(CD); (ABC)(D)]\n",
    "3. (BCD)-> a. (BC)(D) or b. (B)(CD)\n",
    "\n",
    "1. no. of operations in a. 3* 4* 5 + 3* 5* 6 (=150)  while in b. 4*5*6+3*4*6(=192)\n",
    "\n"
   ]
  },
  {
   "cell_type": "markdown",
   "id": "577db260",
   "metadata": {},
   "source": [
    "### RECURRENCE RELATION\n",
    "\n",
    "\n",
    "1. numbering matrixes from 1 to n and then applying ) one by one, assuming k being the closing bracket\n",
    "2. k->i to j-1\n",
    "3. i = start matrix; j = last matrix\n",
    "3. ABCD , k -> i to j-1\n",
    "4. (ABC)(D)--- M[i,k] coz for ABC j, k se just pehle h ;;+ M[k+1,j]\n",
    "5. minimum costs to multiply all these matrices ie ABC* D\n",
    "6. ABC -> 2* 5 ; D -> 5* 6 -> 2 is p[i-1] , 5-> p[k], 6->p[j]\n",
    "7. M[i,k]+M[k+1,j] + p[i-1]* p[k]* p[j]\n",
    "8. M[i,j] = min(2 to 7)\n",
    "9. dp[i][j] stores the unique solution\n"
   ]
  },
  {
   "cell_type": "markdown",
   "id": "0f34d64b",
   "metadata": {},
   "source": [
    "### OVERLAPPING PROBLEM "
   ]
  },
  {
   "cell_type": "markdown",
   "id": "e11c2672",
   "metadata": {},
   "source": [
    " 1. solve it by storing the result @ dp[i][j] which an be utilised anywhere in the tree "
   ]
  },
  {
   "cell_type": "markdown",
   "id": "47ae2cdc",
   "metadata": {},
   "source": [
    "###### RECURSIVE SOLUTION"
   ]
  },
  {
   "cell_type": "code",
   "execution_count": 37,
   "id": "8f9fd163",
   "metadata": {},
   "outputs": [
    {
     "name": "stdout",
     "output_type": "stream",
     "text": [
      "124\n"
     ]
    }
   ],
   "source": [
    "import sys \n",
    "def mcm(p,i,j):\n",
    "    if i==j: ## having only 1 matrix\n",
    "        return 0\n",
    "    min_value= sys.maxsize\n",
    "    for k in range(i,j):\n",
    "        ans1 = mcm(p,i,k)\n",
    "        ans2 = mcm(p,k+1,j)\n",
    "        \n",
    "        mCost=p[i-1]*p[k]*p[j]\n",
    "        \n",
    "        curr_value=ans1+ans2+mCost ## k is varying so different curr_values\n",
    "        \n",
    "        min_value = min(min_value,curr_value)\n",
    "    return min_value\n",
    "\n",
    "p=[2,3,4,5,6] ## we have 4 matrices, i->2 A -> 2*3; B->3*4...\n",
    "n=len(p)-1 ## no of matrices\n",
    "\n",
    "ans= mcm(p,1,n) ## i-> starting matrix, j-> ending matrix .. using ending number to denotww the matrix \n",
    "\n",
    "print(ans)"
   ]
  },
  {
   "cell_type": "markdown",
   "id": "dc138357",
   "metadata": {},
   "source": [
    "###### MEMOIZATION"
   ]
  },
  {
   "cell_type": "code",
   "execution_count": 39,
   "id": "22db3c57",
   "metadata": {},
   "outputs": [
    {
     "name": "stdout",
     "output_type": "stream",
     "text": [
      "124\n"
     ]
    }
   ],
   "source": [
    "import sys \n",
    "def mcm(p,i,j,dp):\n",
    "    if i==j: ## having only 1 matrix\n",
    "        return 0\n",
    "    min_value= sys.maxsize\n",
    "    for k in range(i,j):\n",
    "        if dp[i][k]==-1:\n",
    "            ans1 = mcm(p,i,k,dp)\n",
    "            dp[i][k]=ans1\n",
    "        else:\n",
    "            ans1=dp[i][k]\n",
    "            \n",
    "        if dp[k+1][j]==-1:\n",
    "            ans2 = mcm(p,k+1,j,dp)\n",
    "            dp[k+1][j]=ans2\n",
    "        else:\n",
    "            ans2=dp[k+1][j]\n",
    "        \n",
    "        mCost=p[i-1]*p[k]*p[j]\n",
    "        curr_value=ans1+ans2+mCost ## k is varying so different curr_values\n",
    "        min_value = min(min_value,curr_value)\n",
    "    return min_value\n",
    "\n",
    "p=[2,3,4,5,6] ## we have 4 matrices, i->2 A -> 2*3; B->3*4...\n",
    "n=len(p)-1 ## no of matrices\n",
    "dp = [[-1 for j in range(n+1)] for i in range(n+1)] ## filling allthe costz of individual matrixes as -1 and since both i and j r gng from 1 to n\n",
    "ans= mcm(p,1,n,dp) ## i-> starting matrix, j-> ending matrix .. using ending number to denote the matrix\n",
    "print(ans)"
   ]
  }
 ],
 "metadata": {
  "kernelspec": {
   "display_name": "Python 3",
   "language": "python",
   "name": "python3"
  },
  "language_info": {
   "codemirror_mode": {
    "name": "ipython",
    "version": 3
   },
   "file_extension": ".py",
   "mimetype": "text/x-python",
   "name": "python",
   "nbconvert_exporter": "python",
   "pygments_lexer": "ipython3",
   "version": "3.8.8"
  }
 },
 "nbformat": 4,
 "nbformat_minor": 5
}
