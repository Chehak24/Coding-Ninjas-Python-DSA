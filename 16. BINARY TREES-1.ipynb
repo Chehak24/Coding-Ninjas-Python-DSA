{
 "cells": [
  {
   "cell_type": "raw",
   "id": "10992784",
   "metadata": {},
   "source": [
    "0 or 1 or 2 children of a parent=binary tree\n",
    "data,left,right ->three things to be maintained in a nod"
   ]
  },
  {
   "cell_type": "code",
   "execution_count": 2,
   "id": "a464be64",
   "metadata": {},
   "outputs": [],
   "source": [
    "class binarytreenode:\n",
    "    def __init__(self,data):\n",
    "        self.data=data\n",
    "        self.left=None\n",
    "        self.right=None\n",
    "        "
   ]
  },
  {
   "cell_type": "code",
   "execution_count": 3,
   "id": "77649044",
   "metadata": {},
   "outputs": [],
   "source": [
    "btn1=binarytreenode(1)\n",
    "btn2=binarytreenode(4)\n",
    "btn3=binarytreenode(5)\n",
    "##3 nodes made"
   ]
  },
  {
   "cell_type": "code",
   "execution_count": 4,
   "id": "ab8ccdc5",
   "metadata": {},
   "outputs": [],
   "source": [
    "btn1.right=btn2\n",
    "btn1.left=btn3\n",
    "##nodes connected "
   ]
  },
  {
   "cell_type": "code",
   "execution_count": 5,
   "id": "b2bef4cd",
   "metadata": {},
   "outputs": [],
   "source": [
    "def printTree(root):\n",
    "    if root==None:\n",
    "        return\n",
    "    print(root.data)\n",
    "    printTree(root.left)\n",
    "    printTree(root.right)\n",
    "    "
   ]
  },
  {
   "cell_type": "code",
   "execution_count": 6,
   "id": "4bb93384",
   "metadata": {},
   "outputs": [
    {
     "name": "stdout",
     "output_type": "stream",
     "text": [
      "1\n",
      "5\n",
      "4\n"
     ]
    }
   ],
   "source": [
    "printTree(btn1)"
   ]
  },
  {
   "cell_type": "markdown",
   "id": "927cf978",
   "metadata": {},
   "source": [
    "## to print child-parent relation as well"
   ]
  },
  {
   "cell_type": "code",
   "execution_count": 9,
   "id": "9a28907f",
   "metadata": {},
   "outputs": [],
   "source": [
    "def printTreedetailed(root):\n",
    "    if root==None:\n",
    "        return\n",
    "    print(root.data,end = \" : \")\n",
    "    print(\"L\",root.left.data,end=\" \")\n",
    "    print(\"R\",root.right.data,end=\" \")\n",
    "    printTreedetailed(root.left)\n",
    "    printTreedetailed(root.right)\n",
    "    "
   ]
  },
  {
   "cell_type": "code",
   "execution_count": 10,
   "id": "f2237be9",
   "metadata": {},
   "outputs": [
    {
     "name": "stdout",
     "output_type": "stream",
     "text": [
      "1 : L 5 R 4 5 : "
     ]
    },
    {
     "ename": "AttributeError",
     "evalue": "'NoneType' object has no attribute 'data'",
     "output_type": "error",
     "traceback": [
      "\u001b[1;31m---------------------------------------------------------------------------\u001b[0m",
      "\u001b[1;31mAttributeError\u001b[0m                            Traceback (most recent call last)",
      "\u001b[1;32m<ipython-input-10-21df0ba6b8b0>\u001b[0m in \u001b[0;36m<module>\u001b[1;34m\u001b[0m\n\u001b[1;32m----> 1\u001b[1;33m \u001b[0mprintTreedetailed\u001b[0m\u001b[1;33m(\u001b[0m\u001b[0mbtn1\u001b[0m\u001b[1;33m)\u001b[0m\u001b[1;33m\u001b[0m\u001b[1;33m\u001b[0m\u001b[0m\n\u001b[0m",
      "\u001b[1;32m<ipython-input-9-af84779393de>\u001b[0m in \u001b[0;36mprintTreedetailed\u001b[1;34m(root)\u001b[0m\n\u001b[0;32m      6\u001b[0m     \u001b[0mprint\u001b[0m\u001b[1;33m(\u001b[0m\u001b[1;34m\"L\"\u001b[0m\u001b[1;33m,\u001b[0m\u001b[0mroot\u001b[0m\u001b[1;33m.\u001b[0m\u001b[0mleft\u001b[0m\u001b[1;33m.\u001b[0m\u001b[0mdata\u001b[0m\u001b[1;33m,\u001b[0m\u001b[0mend\u001b[0m\u001b[1;33m=\u001b[0m\u001b[1;34m\" \"\u001b[0m\u001b[1;33m)\u001b[0m\u001b[1;33m\u001b[0m\u001b[1;33m\u001b[0m\u001b[0m\n\u001b[0;32m      7\u001b[0m     \u001b[0mprint\u001b[0m\u001b[1;33m(\u001b[0m\u001b[1;34m\"R\"\u001b[0m\u001b[1;33m,\u001b[0m\u001b[0mroot\u001b[0m\u001b[1;33m.\u001b[0m\u001b[0mright\u001b[0m\u001b[1;33m.\u001b[0m\u001b[0mdata\u001b[0m\u001b[1;33m,\u001b[0m\u001b[0mend\u001b[0m\u001b[1;33m=\u001b[0m\u001b[1;34m\" \"\u001b[0m\u001b[1;33m)\u001b[0m\u001b[1;33m\u001b[0m\u001b[1;33m\u001b[0m\u001b[0m\n\u001b[1;32m----> 8\u001b[1;33m     \u001b[0mprintTreedetailed\u001b[0m\u001b[1;33m(\u001b[0m\u001b[0mroot\u001b[0m\u001b[1;33m.\u001b[0m\u001b[0mleft\u001b[0m\u001b[1;33m)\u001b[0m\u001b[1;33m\u001b[0m\u001b[1;33m\u001b[0m\u001b[0m\n\u001b[0m\u001b[0;32m      9\u001b[0m     \u001b[0mprintTreedetailed\u001b[0m\u001b[1;33m(\u001b[0m\u001b[0mroot\u001b[0m\u001b[1;33m.\u001b[0m\u001b[0mright\u001b[0m\u001b[1;33m)\u001b[0m\u001b[1;33m\u001b[0m\u001b[1;33m\u001b[0m\u001b[0m\n\u001b[0;32m     10\u001b[0m \u001b[1;33m\u001b[0m\u001b[0m\n",
      "\u001b[1;32m<ipython-input-9-af84779393de>\u001b[0m in \u001b[0;36mprintTreedetailed\u001b[1;34m(root)\u001b[0m\n\u001b[0;32m      4\u001b[0m         \u001b[1;32mreturn\u001b[0m\u001b[1;33m\u001b[0m\u001b[1;33m\u001b[0m\u001b[0m\n\u001b[0;32m      5\u001b[0m     \u001b[0mprint\u001b[0m\u001b[1;33m(\u001b[0m\u001b[0mroot\u001b[0m\u001b[1;33m.\u001b[0m\u001b[0mdata\u001b[0m\u001b[1;33m,\u001b[0m\u001b[0mend\u001b[0m \u001b[1;33m=\u001b[0m \u001b[1;34m\" : \"\u001b[0m\u001b[1;33m)\u001b[0m\u001b[1;33m\u001b[0m\u001b[1;33m\u001b[0m\u001b[0m\n\u001b[1;32m----> 6\u001b[1;33m     \u001b[0mprint\u001b[0m\u001b[1;33m(\u001b[0m\u001b[1;34m\"L\"\u001b[0m\u001b[1;33m,\u001b[0m\u001b[0mroot\u001b[0m\u001b[1;33m.\u001b[0m\u001b[0mleft\u001b[0m\u001b[1;33m.\u001b[0m\u001b[0mdata\u001b[0m\u001b[1;33m,\u001b[0m\u001b[0mend\u001b[0m\u001b[1;33m=\u001b[0m\u001b[1;34m\" \"\u001b[0m\u001b[1;33m)\u001b[0m\u001b[1;33m\u001b[0m\u001b[1;33m\u001b[0m\u001b[0m\n\u001b[0m\u001b[0;32m      7\u001b[0m     \u001b[0mprint\u001b[0m\u001b[1;33m(\u001b[0m\u001b[1;34m\"R\"\u001b[0m\u001b[1;33m,\u001b[0m\u001b[0mroot\u001b[0m\u001b[1;33m.\u001b[0m\u001b[0mright\u001b[0m\u001b[1;33m.\u001b[0m\u001b[0mdata\u001b[0m\u001b[1;33m,\u001b[0m\u001b[0mend\u001b[0m\u001b[1;33m=\u001b[0m\u001b[1;34m\" \"\u001b[0m\u001b[1;33m)\u001b[0m\u001b[1;33m\u001b[0m\u001b[1;33m\u001b[0m\u001b[0m\n\u001b[0;32m      8\u001b[0m     \u001b[0mprintTreedetailed\u001b[0m\u001b[1;33m(\u001b[0m\u001b[0mroot\u001b[0m\u001b[1;33m.\u001b[0m\u001b[0mleft\u001b[0m\u001b[1;33m)\u001b[0m\u001b[1;33m\u001b[0m\u001b[1;33m\u001b[0m\u001b[0m\n",
      "\u001b[1;31mAttributeError\u001b[0m: 'NoneType' object has no attribute 'data'"
     ]
    }
   ],
   "source": [
    "printTreedetailed(btn1)\n",
    "##error coz accessing 5 as root has no left and right ie l and r=None and None has no data"
   ]
  },
  {
   "cell_type": "code",
   "execution_count": 5,
   "id": "c7318664",
   "metadata": {},
   "outputs": [
    {
     "name": "stdout",
     "output_type": "stream",
     "text": [
      "1 : L 5 R 4 \n",
      "5 : \n",
      "4 : \n"
     ]
    }
   ],
   "source": [
    "def printTreedetailed(root):\n",
    "    if root==None:\n",
    "        return\n",
    "    print(root.data,end = \" : \")\n",
    "    if root.left!=None:\n",
    "        print(\"L\",root.left.data,end=\" \")\n",
    "    if root.right!=None:\n",
    "        print(\"R\",root.right.data,end=\" \")\n",
    "    print()\n",
    "    printTreedetailed(root.left)\n",
    "    printTreedetailed(root.right)\n",
    "printTreedetailed(btn1)"
   ]
  },
  {
   "cell_type": "markdown",
   "id": "05ebb4c7",
   "metadata": {},
   "source": [
    "### PRE-ORDER"
   ]
  },
  {
   "cell_type": "code",
   "execution_count": 16,
   "id": "36f26b47",
   "metadata": {},
   "outputs": [],
   "source": [
    "##inputting inputs in heirarchial way,completing left first then gng to right\n",
    "class binarytreenode:\n",
    "    def __init__(self,data):\n",
    "        self.data=data\n",
    "        self.left=None\n",
    "        self.right=None\n",
    "\n",
    "def printTreedetailed(root):\n",
    "    if root==None:\n",
    "        return\n",
    "    print(root.data,end = \" : \")\n",
    "    if root.left!=None:\n",
    "        print(\"L\",root.left.data,end=\" \")\n",
    "    if root.right!=None:\n",
    "        print(\"R\",root.right.data,end=\" \")\n",
    "    print()\n",
    "    printTreedetailed(root.left)\n",
    "    printTreedetailed(root.right)\n",
    "    \n",
    "def treeinput():\n",
    "    rootdata=int(input())\n",
    "    if rootdata==-1: ##to mention the ends of left and right tree\n",
    "        return None\n",
    "    root=binarytreenode(rootdata)\n",
    "    leftree=treeinput()\n",
    "    rightree=treeinput()\n",
    "    root.left=leftree\n",
    "    root.right=rightree\n",
    "    return root"
   ]
  },
  {
   "cell_type": "code",
   "execution_count": 17,
   "id": "4cd89332",
   "metadata": {},
   "outputs": [
    {
     "name": "stdout",
     "output_type": "stream",
     "text": [
      "1\n",
      "2\n",
      "4\n",
      "-1\n",
      "-1\n",
      "5\n",
      "-1\n",
      "-1\n",
      "3\n",
      "-1\n",
      "7\n",
      "-1\n",
      "-1\n",
      "1 : L 2 R 3 \n",
      "2 : L 4 R 5 \n",
      "4 : \n",
      "5 : \n",
      "3 : R 7 \n",
      "7 : \n"
     ]
    }
   ],
   "source": [
    "root=treeinput()\n",
    "printTreedetailed(root)"
   ]
  },
  {
   "cell_type": "markdown",
   "id": "ce4cd469",
   "metadata": {},
   "source": [
    "### TO COUNT THE TOTAL NUMBER OF NODES"
   ]
  },
  {
   "cell_type": "code",
   "execution_count": 18,
   "id": "ee199318",
   "metadata": {},
   "outputs": [],
   "source": [
    "class binarytreenode:\n",
    "    def __init__(self,data):\n",
    "        self.data=data\n",
    "        self.left=None\n",
    "        self.right=None\n",
    "\n",
    "def printTreedetailed(root):\n",
    "    if root==None:\n",
    "        return\n",
    "    print(root.data,end = \" : \")\n",
    "    if root.left!=None:\n",
    "        print(\"L\",root.left.data,end=\" \")\n",
    "    if root.right!=None:\n",
    "        print(\"R\",root.right.data,end=\" \")\n",
    "    print()\n",
    "    printTreedetailed(root.left)\n",
    "    printTreedetailed(root.right)\n",
    "    \n",
    "def treeinput():\n",
    "    rootdata=int(input())\n",
    "    if rootdata==-1: ##to mention the ends of left and right tree\n",
    "        return None\n",
    "    root=binarytreenode(rootdata)\n",
    "    leftree=treeinput()\n",
    "    rightree=treeinput()\n",
    "    root.left=leftree\n",
    "    root.right=rightree\n",
    "    return root\n",
    "def numNodes(root):\n",
    "    if root ==None:\n",
    "        return 0\n",
    "    leftcount=numNodes(root.left)\n",
    "    rightcount=numNodes(root.right)\n",
    "    return 1+leftcount+rightcount"
   ]
  },
  {
   "cell_type": "code",
   "execution_count": 19,
   "id": "cac80e42",
   "metadata": {},
   "outputs": [
    {
     "name": "stdout",
     "output_type": "stream",
     "text": [
      "1\n",
      "2\n",
      "-1\n",
      "-1\n",
      "3\n",
      "4\n",
      "6\n",
      "-1\n",
      "-1\n",
      "-1\n",
      "5\n",
      "-1\n",
      "-1\n",
      "1 : L 2 R 3 \n",
      "2 : \n",
      "3 : L 4 R 5 \n",
      "4 : L 6 \n",
      "6 : \n",
      "5 : \n",
      "6\n"
     ]
    }
   ],
   "source": [
    "root=treeinput()\n",
    "printTreedetailed(root)\n",
    "print(numNodes(root))"
   ]
  },
  {
   "cell_type": "raw",
   "id": "4bfb5bdc",
   "metadata": {},
   "source": [
    "TRAVERSALS IN TREES\n",
    "\n",
    "PRE-ORDER---ROOT WILL BE TAKEN CARE BEFORE\n",
    "->ROOT\n",
    "->LEFT CHILD\n",
    "->RIGHT CHILD\n",
    "\n",
    "POST-ORDER---ROOT WILL BE TAKEN CARE AFTER CHILDREN\n",
    "->LEFT CHILD\n",
    "->RIGHT CHILD\n",
    "->ROOT\n",
    "\n",
    "IN-ORDER\n",
    "->LEFT CHILD\n",
    "->ROOT\n",
    "->RIGHT CHILD\n",
    "\n",
    "LEVEL-ORDER\n",
    "-> taking input level wise"
   ]
  },
  {
   "cell_type": "markdown",
   "id": "dc5e348b",
   "metadata": {},
   "source": [
    "### FIND THE LARGEST DATA"
   ]
  },
  {
   "cell_type": "code",
   "execution_count": 22,
   "id": "3b6f35dd",
   "metadata": {},
   "outputs": [],
   "source": [
    "\n",
    "class binarytreenode:\n",
    "    def __init__(self,data):\n",
    "        self.data=data\n",
    "        self.left=None\n",
    "        self.right=None\n",
    "\n",
    "def printTreedetailed(root):\n",
    "    if root==None:\n",
    "        return\n",
    "    print(root.data,end = \" : \")\n",
    "    if root.left!=None:\n",
    "        print(\"L\",root.left.data,end=\" \")\n",
    "    if root.right!=None:\n",
    "        print(\"R\",root.right.data,end=\" \")\n",
    "    print()\n",
    "    printTreedetailed(root.left)\n",
    "    printTreedetailed(root.right)\n",
    "    \n",
    "def treeinput():\n",
    "    rootdata=int(input())\n",
    "    if rootdata==-1: ##to mention the ends of left and right tree\n",
    "        return None\n",
    "    root=binarytreenode(rootdata)\n",
    "    leftree=treeinput()\n",
    "    rightree=treeinput()\n",
    "    root.left=leftree\n",
    "    root.right=rightree\n",
    "    return root\n",
    "\n",
    "def largestdata(root):\n",
    "    if root == None:\n",
    "        return -1\n",
    "    leftside=largestdata(root.left)\n",
    "    rightside=largestdata(root.right)\n",
    "    return max(root.data,leftside,rightside)"
   ]
  },
  {
   "cell_type": "code",
   "execution_count": 23,
   "id": "ae3828f2",
   "metadata": {},
   "outputs": [
    {
     "name": "stdout",
     "output_type": "stream",
     "text": [
      "1\n",
      "2\n",
      "-1\n",
      "-1\n",
      "3\n",
      "-1\n",
      "-1\n",
      "1 : L 2 R 3 \n",
      "2 : \n",
      "3 : \n",
      "3\n"
     ]
    }
   ],
   "source": [
    "root=treeinput()\n",
    "printTreedetailed(root)\n",
    "print(largestdata(root))"
   ]
  },
  {
   "cell_type": "markdown",
   "id": "cd88cf19",
   "metadata": {},
   "source": [
    "### COUNT NODES GREATER THAN X"
   ]
  },
  {
   "cell_type": "code",
   "execution_count": 24,
   "id": "5a1b9678",
   "metadata": {},
   "outputs": [],
   "source": [
    "class binarytreenode:\n",
    "    def __init__(self,data):\n",
    "        self.data=data\n",
    "        self.left=None\n",
    "        self.right=None\n",
    "\n",
    "def printTreedetailed(root):\n",
    "    if root==None:\n",
    "        return\n",
    "    print(root.data,end = \" : \")\n",
    "    if root.left!=None:\n",
    "        print(\"L\",root.left.data,end=\" \")\n",
    "    if root.right!=None:\n",
    "        print(\"R\",root.right.data,end=\" \")\n",
    "    print()\n",
    "    printTreedetailed(root.left)\n",
    "    printTreedetailed(root.right)\n",
    "    \n",
    "def treeinput():\n",
    "    rootdata=int(input())\n",
    "    if rootdata==-1: \n",
    "        return None\n",
    "    root=binarytreenode(rootdata)\n",
    "    leftree=treeinput()\n",
    "    rightree=treeinput()\n",
    "    root.left=leftree\n",
    "    root.right=rightree\n",
    "    return root\n",
    "def countNodesGreaterThanX(root, x) :\n",
    "    if root == None:\n",
    "        return 0\n",
    "    leftside=countNodesGreaterThanX(root.left,x)\n",
    "    rightside=countNodesGreaterThanX(root.right,x)\n",
    "    if root.data>x:\n",
    "        return 1 +leftside+rightside\n",
    "    return leftside+rightside"
   ]
  },
  {
   "cell_type": "code",
   "execution_count": 26,
   "id": "a4f144cd",
   "metadata": {},
   "outputs": [
    {
     "name": "stdout",
     "output_type": "stream",
     "text": [
      "1\n",
      "2\n",
      "-1\n",
      "-1\n",
      "3\n",
      "-1\n",
      "-1\n",
      "4\n",
      "1 : L 2 R 3 \n",
      "2 : \n",
      "3 : \n"
     ]
    },
    {
     "data": {
      "text/plain": [
       "0"
      ]
     },
     "execution_count": 26,
     "metadata": {},
     "output_type": "execute_result"
    }
   ],
   "source": [
    "root=treeinput()\n",
    "x=int(input())\n",
    "printTreedetailed(root)\n",
    "countNodesGreaterThanX(root,x)"
   ]
  },
  {
   "cell_type": "markdown",
   "id": "20c473ff",
   "metadata": {},
   "source": [
    "### HEIGHT OF TREE"
   ]
  },
  {
   "cell_type": "code",
   "execution_count": 7,
   "id": "1435cc36",
   "metadata": {},
   "outputs": [],
   "source": [
    "\n",
    "class binarytreenode:\n",
    "    def __init__(self,data):\n",
    "        self.data=data\n",
    "        self.left=None\n",
    "        self.right=None\n",
    "\n",
    "def printTreedetailed(root):\n",
    "    if root==None:\n",
    "        return\n",
    "    print(root.data,end = \" : \")\n",
    "    if root.left!=None:\n",
    "        print(\"L\",root.left.data,end=\" \")\n",
    "    if root.right!=None:\n",
    "        print(\"R\",root.right.data,end=\" \")\n",
    "    print()\n",
    "    printTreedetailed(root.left)\n",
    "    printTreedetailed(root.right)\n",
    "    \n",
    "def treeinput():\n",
    "    rootdata=int(input())\n",
    "    if rootdata==-1: \n",
    "        return None\n",
    "    root=binarytreenode(rootdata)\n",
    "    leftree=treeinput()\n",
    "    rightree=treeinput()\n",
    "    root.left=leftree\n",
    "    root.right=rightree\n",
    "    return root\n",
    "\n",
    "def height(root):\n",
    "    if root == None:\n",
    "        return 0\n",
    "    leftside=height(root.left)\n",
    "    rightside=height(root.right)\n",
    "    if leftside>rightside:\n",
    "        return 1 + leftside ## adding 1 to include the root\n",
    "    return 1 + rightside"
   ]
  },
  {
   "cell_type": "code",
   "execution_count": 8,
   "id": "68d97618",
   "metadata": {},
   "outputs": [
    {
     "name": "stdout",
     "output_type": "stream",
     "text": [
      "1\n",
      "2\n",
      "3\n",
      "-1\n",
      "-1\n",
      "-1\n",
      "4\n",
      "-1\n",
      "-1\n",
      "1 : L 2 R 4 \n",
      "2 : L 3 \n",
      "3 : \n",
      "4 : \n",
      "3\n"
     ]
    }
   ],
   "source": [
    "root=treeinput()\n",
    "printTreedetailed(root)\n",
    "print(height(root))"
   ]
  },
  {
   "cell_type": "markdown",
   "id": "06c809c2",
   "metadata": {},
   "source": [
    "## NO. OF LEAF NODES"
   ]
  },
  {
   "cell_type": "code",
   "execution_count": 29,
   "id": "8e0f08de",
   "metadata": {},
   "outputs": [],
   "source": [
    "class binarytreenode:\n",
    "    def __init__(self,data):\n",
    "        self.data=data\n",
    "        self.left=None\n",
    "        self.right=None\n",
    "\n",
    "def printTreedetailed(root):\n",
    "    if root==None:\n",
    "        return\n",
    "    print(root.data,end = \" : \")\n",
    "    if root.left!=None:\n",
    "        print(\"L\",root.left.data,end=\" \")\n",
    "    if root.right!=None:\n",
    "        print(\"R\",root.right.data,end=\" \")\n",
    "    print()\n",
    "    printTreedetailed(root.left)\n",
    "    printTreedetailed(root.right)\n",
    "    \n",
    "def treeinput():\n",
    "    rootdata=int(input())\n",
    "    if rootdata==-1: \n",
    "        return None\n",
    "    root=binarytreenode(rootdata)\n",
    "    leftree=treeinput()\n",
    "    rightree=treeinput()\n",
    "    root.left=leftree\n",
    "    root.right=rightree\n",
    "    return root\n",
    "def leafnumber(root):\n",
    "    if root == None: ##imp base case not to be missed at all ie leftnmein khuch  h but right NONE h toh udhr jaaye hi na\n",
    "        return 0 \n",
    "    if root.left==None and root.right==None: ##IF LEFT AND RIGHT == NONE, ROOT CONTRI IS 1, ie root itself is leaf\n",
    "        return 1\n",
    "    leafnumberleft=leafnumber(root.left)\n",
    "    leafnumberright=leafnumber(root.right)\n",
    "    return leafnumberleft+leafnumberright"
   ]
  },
  {
   "cell_type": "code",
   "execution_count": 30,
   "id": "30951a5f",
   "metadata": {},
   "outputs": [
    {
     "name": "stdout",
     "output_type": "stream",
     "text": [
      "1\n",
      "2\n",
      "-1\n",
      "-1\n",
      "-1\n",
      "1 : L 2 \n",
      "2 : \n"
     ]
    },
    {
     "data": {
      "text/plain": [
       "1"
      ]
     },
     "execution_count": 30,
     "metadata": {},
     "output_type": "execute_result"
    }
   ],
   "source": [
    "root=treeinput()\n",
    "printTreedetailed(root)\n",
    "leafnumber(root)"
   ]
  },
  {
   "cell_type": "markdown",
   "id": "7acbeeb0",
   "metadata": {},
   "source": [
    "#### PRINT NODES AT DEPTH K IE DISTANCE FROM THE ROOT IS DEPTH "
   ]
  },
  {
   "cell_type": "code",
   "execution_count": 31,
   "id": "ce804cec",
   "metadata": {},
   "outputs": [],
   "source": [
    "##by reducing the value of k as we r gng down \n",
    "##ROOT IS AT DEPTH 0\n",
    "class binarytreenode:\n",
    "    def __init__(self,data):\n",
    "        self.data=data\n",
    "        self.left=None\n",
    "        self.right=None\n",
    "\n",
    "def printTreedetailed(root):\n",
    "    if root==None:\n",
    "        return\n",
    "    print(root.data,end = \" : \")\n",
    "    if root.left!=None:\n",
    "        print(\"L\",root.left.data,end=\" \")\n",
    "    if root.right!=None:\n",
    "        print(\"R\",root.right.data,end=\" \")\n",
    "    print()\n",
    "    printTreedetailed(root.left)\n",
    "    printTreedetailed(root.right)\n",
    "    \n",
    "def treeinput():\n",
    "    rootdata=int(input())\n",
    "    if rootdata==-1: \n",
    "        return None\n",
    "    root=binarytreenode(rootdata)\n",
    "    leftree=treeinput()\n",
    "    rightree=treeinput()\n",
    "    root.left=leftree\n",
    "    root.right=rightree\n",
    "    return root\n",
    "def printdepthk(root,k):\n",
    "    if root is None:\n",
    "        return\n",
    "    if k == 0:\n",
    "        print(root.data)\n",
    "        return\n",
    "    leftside=printdepthk(root.left,k-1) ##coz agar koi node left ke k-1 pr h toh total tree ke k pr h\n",
    "    rightside=printdepthk(root.right,k-1)\n"
   ]
  },
  {
   "cell_type": "code",
   "execution_count": 32,
   "id": "44e71edc",
   "metadata": {},
   "outputs": [
    {
     "name": "stdout",
     "output_type": "stream",
     "text": [
      "1\n",
      "2\n",
      "-1\n",
      "-1\n",
      "3\n",
      "4\n",
      "-1\n",
      "-1\n",
      "5\n",
      "-1\n",
      "-1\n",
      "2\n",
      "1 : L 2 R 3 \n",
      "2 : \n",
      "3 : L 4 R 5 \n",
      "4 : \n",
      "5 : \n",
      "4\n",
      "5\n"
     ]
    }
   ],
   "source": [
    "root=treeinput()\n",
    "k=int(input())\n",
    "printTreedetailed(root)\n",
    "printdepthk(root,k)"
   ]
  },
  {
   "cell_type": "markdown",
   "id": "db4ae579",
   "metadata": {},
   "source": [
    "##### SECOND APPROACH"
   ]
  },
  {
   "cell_type": "code",
   "execution_count": 35,
   "id": "575e371f",
   "metadata": {},
   "outputs": [],
   "source": [
    "##PRINT NODES AT DEPTH K IE DISTANCE FROM THE ROOT IS DEPTH \n",
    "##by reducing the depth\n",
    "##printatroot(root,k,depth) ##depth here refers to the current depth value\n",
    "class binarytreenode:\n",
    "    def __init__(self,data):\n",
    "        self.data=data\n",
    "        self.left=None\n",
    "        self.right=None\n",
    "\n",
    "def printTreedetailed(root):\n",
    "    if root==None:\n",
    "        return\n",
    "    print(root.data,end = \" : \")\n",
    "    if root.left!=None:\n",
    "        print(\"L\",root.left.data,end=\" \")\n",
    "    if root.right!=None:\n",
    "        print(\"R\",root.right.data,end=\" \")\n",
    "    print()\n",
    "    printTreedetailed(root.left)\n",
    "    printTreedetailed(root.right)\n",
    "    \n",
    "def treeinput():\n",
    "    rootdata=int(input())\n",
    "    if rootdata==-1: \n",
    "        return None\n",
    "    root=binarytreenode(rootdata)\n",
    "    leftree=treeinput()\n",
    "    rightree=treeinput()\n",
    "    root.left=leftree\n",
    "    root.right=rightree\n",
    "    return root\n",
    "def printatk2(root,k,d=0): ##so that user doesnt have to give the value of depth\n",
    "    if root == None:\n",
    "        return\n",
    "    if k==d:\n",
    "        print(root.data)\n",
    "        return\n",
    "    leftside=printatk2(root.left,k,d+1) #left ki depth root se 1 zyada h\n",
    "    rightside=printatk2(root.right,k,d+1)"
   ]
  },
  {
   "cell_type": "code",
   "execution_count": 36,
   "id": "9a63edb9",
   "metadata": {},
   "outputs": [
    {
     "name": "stdout",
     "output_type": "stream",
     "text": [
      "1\n",
      "2\n",
      "-1\n",
      "-1\n",
      "3\n",
      "4\n",
      "-1\n",
      "-1\n",
      "5\n",
      "-1\n",
      "-1\n",
      "2\n",
      "1 : L 2 R 3 \n",
      "2 : \n",
      "3 : L 4 R 5 \n",
      "4 : \n",
      "5 : \n",
      "4\n",
      "5\n"
     ]
    }
   ],
   "source": [
    "root=treeinput()\n",
    "k=int(input())\n",
    "printTreedetailed(root)\n",
    "printatk2(root,k)"
   ]
  },
  {
   "cell_type": "markdown",
   "id": "bafd9d2b",
   "metadata": {},
   "source": [
    "### Replace Node With Depth"
   ]
  },
  {
   "cell_type": "code",
   "execution_count": 13,
   "id": "dbc02e15",
   "metadata": {},
   "outputs": [],
   "source": [
    "class binarytreenode:\n",
    "    def __init__(self,data):\n",
    "        self.data=data\n",
    "        self.left=None\n",
    "        self.right=None\n",
    "\n",
    "def printTreedetailed(root):\n",
    "    if root==None:\n",
    "        return\n",
    "    print(root.data,end = \" : \")\n",
    "    if root.left!=None:\n",
    "        print(\"L\",root.left.data,end=\" \")\n",
    "    if root.right!=None:\n",
    "        print(\"R\",root.right.data,end=\" \")\n",
    "    print()\n",
    "    printTreedetailed(root.left)\n",
    "    printTreedetailed(root.right)\n",
    "    \n",
    "def treeinput():\n",
    "    rootdata=int(input())\n",
    "    if rootdata==-1: \n",
    "        return None\n",
    "    root=binarytreenode(rootdata)\n",
    "    leftree=treeinput()\n",
    "    rightree=treeinput()\n",
    "    root.left=leftree\n",
    "    root.right=rightree\n",
    "    return root\n",
    "def replacenode(root,k=0):\n",
    "    if root is None:\n",
    "        return \n",
    "    if root.data is not None:\n",
    "        root.data=k\n",
    "    leftside=replacenode(root.left,k+1)\n",
    "    rightside=replacenode(root.right,k+1)"
   ]
  },
  {
   "cell_type": "code",
   "execution_count": 14,
   "id": "74d27370",
   "metadata": {},
   "outputs": [
    {
     "name": "stdout",
     "output_type": "stream",
     "text": [
      "45\n",
      "12\n",
      "-1\n",
      "-1\n",
      "56\n",
      "-1\n",
      "-1\n"
     ]
    }
   ],
   "source": [
    "root=treeinput()\n",
    "#printTreedetailed(root)\n",
    "x=replacenode(root)\n",
    "printTreedetailed(x)"
   ]
  },
  {
   "cell_type": "markdown",
   "id": "e472290f",
   "metadata": {},
   "source": [
    "### IS NODE PRESENT?"
   ]
  },
  {
   "cell_type": "code",
   "execution_count": 15,
   "id": "e8394868",
   "metadata": {},
   "outputs": [
    {
     "name": "stdout",
     "output_type": "stream",
     "text": [
      "4\n",
      "2\n",
      "-1\n",
      "-1\n",
      "3\n",
      "1\n",
      "-1\n",
      "-1\n",
      "-1\n",
      "5\n",
      "4:L 2 R 3 \n",
      "2:\n",
      "3:L 1 \n",
      "1:\n",
      "false\n"
     ]
    }
   ],
   "source": [
    "class BinaryTreeNode:\n",
    "    def __init__(self,data):\n",
    "        self.data=data\n",
    "        self.left=None\n",
    "        self.right=None\n",
    "        \n",
    "def printTreeDetailed(root):\n",
    "    if root==None:\n",
    "        return\n",
    "    print(root.data, end=\":\")\n",
    "    if root.left!=None:\n",
    "        print(\"L\",root.left.data,end=\" \")\n",
    "    if root.right!=None:\n",
    "        print(\"R\",root.right.data,end=\" \")\n",
    "    print()\n",
    "    printTreeDetailed(root.left)\n",
    "    printTreeDetailed(root.right)\n",
    "    \n",
    "def treeinput():\n",
    "    rootdata=int(input())\n",
    "    if rootdata== -1:\n",
    "        return None\n",
    "    root=BinaryTreeNode(rootdata)\n",
    "    leftree=treeinput()\n",
    "    rightree=treeinput()\n",
    "    root.left=leftree\n",
    "    root.right=rightree\n",
    "    return root\n",
    "\n",
    "\n",
    "def isNodePresent(root,x):\n",
    "    if root is None:\n",
    "        return \n",
    "    if root.data==x:\n",
    "        return True\n",
    "    leftside=isNodePresent(root.left,x)\n",
    "    rightside=isNodePresent(root.right,x)\n",
    "    if leftside:\n",
    "        return True\n",
    "    if rightside:\n",
    "        return True\n",
    "    \n",
    "root=treeinput()\n",
    "x=int(input())\n",
    "printTreeDetailed(root)\n",
    "if isNodePresent(root,x):\n",
    "    print(\"true\")\n",
    "else:\n",
    "    print(\"false\")\n",
    "    "
   ]
  },
  {
   "cell_type": "markdown",
   "id": "0a9b369c",
   "metadata": {},
   "source": [
    "### NODES WITHOUT SIBLING\n"
   ]
  },
  {
   "cell_type": "code",
   "execution_count": 19,
   "id": "468b2249",
   "metadata": {},
   "outputs": [],
   "source": [
    "class BinaryTreeNode:\n",
    "    def __init__(self,data):\n",
    "        self.data=data\n",
    "        self.left=None\n",
    "        self.right=None\n",
    "def printTreeDetailed(root):\n",
    "    if root == None:\n",
    "        return\n",
    "    print(root.data, end=\":\")\n",
    "    if root.left != None:\n",
    "        print(\"L\", root.left.data,end=\" \")\n",
    "    if root.right != None:\n",
    "        print(\"R\", root.right.data, end=\" \")\n",
    "    print()\n",
    "    printTreeDetailed(root.left)\n",
    "    printTreeDetailed(root.right)\n",
    "    \n",
    "def treeinput():\n",
    "    rootdata=int(input())\n",
    "    if rootdata == -1:\n",
    "        return None\n",
    "    root = BinaryTreeNode(rootdata)\n",
    "    leftree=treeinput()\n",
    "    rightree=treeinput()\n",
    "    root.left = leftree\n",
    "    root.right = rightree\n",
    "    return root\n",
    "\n",
    "def printNodesWithoutSibling(root):\n",
    "    if root is None:\n",
    "        return\n",
    "    if root.left is not None and root.right is not None:\n",
    "        printNodesWithoutSibling(root.left)\n",
    "        printNodesWithoutSibling(root.right)\n",
    "    elif root.right is not None:\n",
    "        print(root.right.data,end=\" \")\n",
    "        printNodesWithoutSibling(root.right)\n",
    "    elif root.left is not None:\n",
    "        print(root.left.data, end=\" \")\n",
    "        printNodesWithoutSibling(root.left)"
   ]
  },
  {
   "cell_type": "code",
   "execution_count": 21,
   "id": "37f3aa2d",
   "metadata": {},
   "outputs": [
    {
     "name": "stdout",
     "output_type": "stream",
     "text": [
      "4\n",
      "3\n",
      "-1\n",
      "-1\n",
      "5\n",
      "6\n",
      "-1\n",
      "-1\n",
      "-1\n",
      "4:L 3 R 5 \n",
      "3:\n",
      "5:L 6 \n",
      "6:\n",
      "6 "
     ]
    }
   ],
   "source": [
    "root=treeinput()\n",
    "printTreeDetailed(root)\n",
    "printNodesWithoutSibling(root)"
   ]
  },
  {
   "cell_type": "code",
   "execution_count": null,
   "id": "05d0b417",
   "metadata": {},
   "outputs": [],
   "source": []
  }
 ],
 "metadata": {
  "kernelspec": {
   "display_name": "Python 3",
   "language": "python",
   "name": "python3"
  },
  "language_info": {
   "codemirror_mode": {
    "name": "ipython",
    "version": 3
   },
   "file_extension": ".py",
   "mimetype": "text/x-python",
   "name": "python",
   "nbconvert_exporter": "python",
   "pygments_lexer": "ipython3",
   "version": "3.8.8"
  }
 },
 "nbformat": 4,
 "nbformat_minor": 5
}
