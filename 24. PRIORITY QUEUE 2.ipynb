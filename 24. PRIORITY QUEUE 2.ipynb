{
 "cells": [
  {
   "cell_type": "markdown",
   "id": "09c35fdd",
   "metadata": {},
   "source": [
    "### HEAP SORT\n",
    "1. put ele of array one by one into the heap\n",
    "2. the lesser of the two ele is put at root and left is filled first-heap order property\n",
    "3. time complexity is nlogn\n",
    "4. spae complexity is O(n)"
   ]
  },
  {
   "cell_type": "markdown",
   "id": "8b3a698e",
   "metadata": {},
   "source": [
    "### Inplace heap sort \n",
    "1. O(1) space,building ur heap within that array\n",
    "\n",
    "\n",
    "#### Min Heap\n",
    "1. elements arranged in descending order\n",
    "2. up heaphy ie ele arranged in desceding order to build the min heap\n",
    "3. the ele ie removed from root and takes place of the child index, is exempoted in array list to maintain heap order\n",
    "\n",
    "1. for i = 1 to n-1:\n",
    "2. ci=1\n",
    "3. pi=(i-1)/2\n",
    "4. until ci becomes zero keep on appending it with the parent index\n",
    "\n",
    "1. for removing elements-down heaphy-nlogn time, space 1\n",
    "2. for i=n-1 to 0\n",
    "3. swap a[i],a[0] (coz a[0] has the least ele)\n",
    "4. until i ie range of heap\n",
    "5. pi->i\n",
    "6. lci->2xi+1\n",
    "7. rci->2xi+2\n",
    "8. while lci<i\n",
    "               \n"
   ]
  },
  {
   "cell_type": "markdown",
   "id": "e48a575f",
   "metadata": {},
   "source": [
    "###  Build Heap - O(n)\n",
    "1. take normal array as at ease\n",
    "2. dont work on leaf nodes\n",
    "3. n nodes in complete binary tree->n/2 non leaf nodes\n",
    "4. n-n/2 r the leaf nodes\n",
    "5. indexes to work on n/2-1 to 0 :\n",
    "    1. down heaphy property\n",
    "    2. pi compared to ci and shifted accordingly\n",
    "6. build heap for i=n/2 to 0 :\n",
    "        1. down heaphy(i,n)\n",
    "7. remove ele from heap \n",
    "8. for j=n-1 to 0:\n",
    "    1. down heapiphy (0,j)\n",
    "    \n",
    "9. S= 2^3X0+2^2X1+.....+2^0X3\n",
    "10. 2^(h-1)x0+2^(h-2)x1+2^(h-3)x2....+2^0x(h-1)=S\n",
    "11. S/2 = 2^(h-1)(1+(h-1)/2^h)\n",
    "12. s<=2^h(1+(h-1)/2^h)\n",
    "13. S<=2^log2n+log2(n-1)"
   ]
  },
  {
   "cell_type": "code",
   "execution_count": 2,
   "id": "612ea649",
   "metadata": {},
   "outputs": [
    {
     "name": "stdout",
     "output_type": "stream",
     "text": [
      "4 7 6 9 11 3 19\n",
      "19 11 9 7 6 4 3 "
     ]
    }
   ],
   "source": [
    "def down_heapify(arr,i,n):\n",
    "    parentIndex=i\n",
    "    leftChildIndex=2*parentIndex+1\n",
    "    rightChildIndex=2*parentIndex+2\n",
    "    \n",
    "    while leftChildIndex<n:\n",
    "        minIndex=parentIndex\n",
    "        if arr[minIndex]>arr[leftChildIndex]:\n",
    "            minIndex=leftChildIndex\n",
    "        if rightChildIndex<n and arr[minIndex]>arr[rightChildIndex]:\n",
    "            minIndex=rightChildIndex\n",
    "        if minIndex==parentIndex:\n",
    "            return\n",
    "        arr[minIndex],arr[parentIndex]=arr[parentIndex],arr[minIndex]\n",
    "        parentIndex=minIndex\n",
    "        leftChildIndex=2*parentIndex+1\n",
    "        rightChildIndex=2*parentIndex+2\n",
    "    return\n",
    "def heapSort(arr):\n",
    "    #Build the heap - work on non leaf nodes\n",
    "    n=len(arr)\n",
    "    for i in range(n//2-1,-1,-1):\n",
    "        down_heapify(arr,i,n) ## we have to go till n \n",
    "    ## removing n ele from heap and put them at correct position\n",
    "    \n",
    "    for i in range(n-1,0,-1):\n",
    "        arr[0],arr[i]=arr[i],arr[0]\n",
    "        down_heapify(arr,0,i)\n",
    "    return arr\n",
    "arr=[int(ele) for ele in input().split()]\n",
    "heapSort(arr)\n",
    "for ele in arr:\n",
    "    print(ele,end=\" \")\n",
    "    "
   ]
  },
  {
   "cell_type": "markdown",
   "id": "1497c9f9",
   "metadata": {},
   "source": [
    "### to get in reverse order"
   ]
  },
  {
   "cell_type": "code",
   "execution_count": 3,
   "id": "8cde2831",
   "metadata": {},
   "outputs": [
    {
     "name": "stdout",
     "output_type": "stream",
     "text": [
      "4 7 6 9 11 10 13 12\n",
      "4 6 7 9 10 11 12 13 "
     ]
    }
   ],
   "source": [
    "\n",
    "def down_heapify(arr,i,n):\n",
    "    parentIndex=i\n",
    "    leftChildIndex=2*parentIndex+1\n",
    "    rightChildIndex=2*parentIndex+2\n",
    "    \n",
    "    while leftChildIndex<n:\n",
    "        minIndex=parentIndex\n",
    "        if arr[minIndex]>arr[leftChildIndex]:\n",
    "            minIndex=leftChildIndex\n",
    "        if rightChildIndex<n and arr[minIndex]>arr[rightChildIndex]:\n",
    "            minIndex=rightChildIndex\n",
    "        if minIndex==parentIndex:\n",
    "            return\n",
    "        arr[minIndex],arr[parentIndex]=arr[parentIndex],arr[minIndex]\n",
    "        parentIndex=minIndex\n",
    "        leftChildIndex=2*parentIndex+1\n",
    "        rightChildIndex=2*parentIndex+2\n",
    "    return\n",
    "def heapSort(arr):\n",
    "    #Build the heap - work on non leaf nodes\n",
    "    n=len(arr)\n",
    "    for i in range(n//2-1,-1,-1):\n",
    "        down_heapify(arr,i,n) ## we have to go till n \n",
    "    ## removing n ele from heap and put them at correct position\n",
    "    \n",
    "    for i in range(n-1,0,-1):\n",
    "        arr[0],arr[i]=arr[i],arr[0]\n",
    "        down_heapify(arr,0,i)\n",
    "    return arr\n",
    "arr=[int(ele) for ele in input().split()]\n",
    "heapSort(arr)\n",
    "for ele in arr[::-1]:\n",
    "    print(ele,end=\" \")"
   ]
  },
  {
   "cell_type": "markdown",
   "id": "bcc193c6",
   "metadata": {},
   "source": [
    "#### inbuilt min heap"
   ]
  },
  {
   "cell_type": "code",
   "execution_count": 5,
   "id": "a592dba0",
   "metadata": {},
   "outputs": [],
   "source": [
    "import heapq\n",
    "li=[1,5,4,8,7,9,11]\n",
    "heapq.heapify(li)\n"
   ]
  },
  {
   "cell_type": "code",
   "execution_count": 6,
   "id": "a0ac7ef5",
   "metadata": {},
   "outputs": [
    {
     "name": "stdout",
     "output_type": "stream",
     "text": [
      "[1, 5, 4, 8, 7, 9, 11]\n"
     ]
    }
   ],
   "source": [
    "print (li)"
   ]
  },
  {
   "cell_type": "code",
   "execution_count": 7,
   "id": "58462166",
   "metadata": {},
   "outputs": [
    {
     "name": "stdout",
     "output_type": "stream",
     "text": [
      "[1, 2, 4, 5, 7, 9, 11, 8]\n"
     ]
    }
   ],
   "source": [
    "heapq.heappush(li,2)\n",
    "print(li)"
   ]
  },
  {
   "cell_type": "code",
   "execution_count": 8,
   "id": "53687b9c",
   "metadata": {},
   "outputs": [
    {
     "name": "stdout",
     "output_type": "stream",
     "text": [
      "1\n"
     ]
    }
   ],
   "source": [
    " print(heapq.heappop(li))"
   ]
  },
  {
   "cell_type": "code",
   "execution_count": 9,
   "id": "b3978759",
   "metadata": {},
   "outputs": [
    {
     "name": "stdout",
     "output_type": "stream",
     "text": [
      "[2, 5, 4, 8, 7, 9, 11]\n"
     ]
    }
   ],
   "source": [
    "print(li) ## 8 upr gya hoga, compare 2 se then shifted, then shifted again with 5"
   ]
  },
  {
   "cell_type": "code",
   "execution_count": 10,
   "id": "972a3dba",
   "metadata": {},
   "outputs": [
    {
     "data": {
      "text/plain": [
       "2"
      ]
     },
     "execution_count": 10,
     "metadata": {},
     "output_type": "execute_result"
    }
   ],
   "source": [
    "heapq.heapreplace(li,6) ## replaces the min ele ie 2"
   ]
  },
  {
   "cell_type": "code",
   "execution_count": 11,
   "id": "2963ad05",
   "metadata": {},
   "outputs": [
    {
     "name": "stdout",
     "output_type": "stream",
     "text": [
      "[4, 5, 6, 8, 7, 9, 11]\n"
     ]
    }
   ],
   "source": [
    "print(li)"
   ]
  },
  {
   "cell_type": "code",
   "execution_count": 13,
   "id": "fe7d5e2f",
   "metadata": {},
   "outputs": [
    {
     "data": {
      "text/plain": [
       "4"
      ]
     },
     "execution_count": 13,
     "metadata": {},
     "output_type": "execute_result"
    }
   ],
   "source": [
    "heapq.heapreplace(li,10)"
   ]
  },
  {
   "cell_type": "code",
   "execution_count": 14,
   "id": "6038116f",
   "metadata": {},
   "outputs": [
    {
     "name": "stdout",
     "output_type": "stream",
     "text": [
      "[5, 7, 6, 8, 10, 9, 11]\n"
     ]
    }
   ],
   "source": [
    "print(li)"
   ]
  },
  {
   "cell_type": "markdown",
   "id": "686a90ef",
   "metadata": {},
   "source": [
    "### inbuilt max heap"
   ]
  },
  {
   "cell_type": "code",
   "execution_count": 16,
   "id": "adafb233",
   "metadata": {},
   "outputs": [
    {
     "name": "stdout",
     "output_type": "stream",
     "text": [
      "[9, 8, 4, 7, 5, 1, 2, 3]\n"
     ]
    }
   ],
   "source": [
    "import heapq\n",
    "li=[1,5,4,7,8,9,2,3]\n",
    "heapq._heapify_max(li)\n",
    "print(li)"
   ]
  },
  {
   "cell_type": "code",
   "execution_count": 17,
   "id": "93f96971",
   "metadata": {},
   "outputs": [
    {
     "name": "stdout",
     "output_type": "stream",
     "text": [
      "9\n"
     ]
    }
   ],
   "source": [
    "print(heapq._heappop_max(li))"
   ]
  },
  {
   "cell_type": "code",
   "execution_count": 18,
   "id": "bc63ac89",
   "metadata": {},
   "outputs": [
    {
     "name": "stdout",
     "output_type": "stream",
     "text": [
      "[8, 7, 4, 3, 5, 1, 2]\n"
     ]
    }
   ],
   "source": [
    "print(li)"
   ]
  },
  {
   "cell_type": "code",
   "execution_count": 19,
   "id": "d412b6df",
   "metadata": {},
   "outputs": [
    {
     "name": "stdout",
     "output_type": "stream",
     "text": [
      "[7, 5, 4, 3, 0, 1, 2]\n"
     ]
    }
   ],
   "source": [
    "heapq._heapreplace_max(li,0) ##replaces the head\n",
    "print(li)"
   ]
  },
  {
   "cell_type": "code",
   "execution_count": 20,
   "id": "5850178a",
   "metadata": {},
   "outputs": [
    {
     "name": "stdout",
     "output_type": "stream",
     "text": [
      "[7, 6, 4, 5, 0, 1, 2, 3]\n"
     ]
    }
   ],
   "source": [
    "li.append(6)\n",
    "heapq._siftdown_max(li,0,len(li)-1)\n",
    "print(li)"
   ]
  },
  {
   "cell_type": "markdown",
   "id": "fae37d66",
   "metadata": {},
   "source": [
    "### k smallest elements\n",
    "1. assuming a point till there are k smallest elements\n",
    "2. new ele coming, if larger than the largest of that list, dont append it to the list\n",
    "3. if not, append it\n",
    "4. so initially maintain a heap of first k ele, using priority queues, and and then append to it, total time being nlogk ((klogk to build the first pq)+((n-k)logk to append it))\n",
    "\n"
   ]
  },
  {
   "cell_type": "code",
   "execution_count": 21,
   "id": "f029987d",
   "metadata": {},
   "outputs": [
    {
     "name": "stdout",
     "output_type": "stream",
     "text": [
      "6 2 3 1 "
     ]
    }
   ],
   "source": [
    "import heapq\n",
    "\n",
    "def ksmallest(arr,k):\n",
    "    heap=arr[:k]\n",
    "    heapq._heapify_max(heap)\n",
    "    n=len(arr)\n",
    "    for i in range(k,n):\n",
    "        if heap[0]>arr[i]:\n",
    "            heapq._heapreplace_max(heap,arr[i])\n",
    "    return heap\n",
    "        \n",
    "arr=[10,6,7,2,3,8,9,11,1]\n",
    "k=4\n",
    "elements = ksmallest(arr,4)\n",
    "for ele in elements:\n",
    "    print(ele,end=\" \")"
   ]
  },
  {
   "cell_type": "markdown",
   "id": "1df3817b",
   "metadata": {},
   "source": [
    "### k Largest elements"
   ]
  },
  {
   "cell_type": "code",
   "execution_count": 2,
   "id": "a6f29437",
   "metadata": {},
   "outputs": [
    {
     "name": "stdout",
     "output_type": "stream",
     "text": [
      "5\n",
      "1 67 34 21 45\n",
      "2\n",
      "[45, 67]\n"
     ]
    }
   ],
   "source": [
    "import heapq\n",
    "\n",
    "def klargest(lst,k):\n",
    "    result_arr=lst[:k+1]\n",
    "    heapq.heapify(result_arr)\n",
    "    for i in range(k+1,n):\n",
    "        if lst[i]>result_arr[0]:\n",
    "            heapq.heapreplace(result_arr,lst[i])\n",
    "    return result_arr\n",
    "\n",
    "n=int(input())\n",
    "lst=list(int(i) for i in input().strip().split(' '))\n",
    "k=int(input())\n",
    "ans=klargest(lst,k-1)\n",
    "print(ans)"
   ]
  },
  {
   "cell_type": "code",
   "execution_count": 3,
   "id": "52c9f534",
   "metadata": {},
   "outputs": [
    {
     "name": "stdout",
     "output_type": "stream",
     "text": [
      "5\n",
      "1 67 34 21 45\n",
      "2\n",
      "45 67\n"
     ]
    }
   ],
   "source": [
    "import heapq\n",
    "\n",
    "def klargest(lst,k):\n",
    "    result_arr=lst[:k+1]\n",
    "    heapq.heapify(result_arr)\n",
    "    for i in range(k+1,n):\n",
    "        if lst[i]>result_arr[0]:\n",
    "            heapq.heapreplace(result_arr,lst[i])\n",
    "    return result_arr\n",
    "\n",
    "n=int(input())\n",
    "lst=list(int(i) for i in input().strip().split(' '))\n",
    "k=int(input())\n",
    "ans=klargest(lst,k-1)\n",
    "print(*ans)"
   ]
  },
  {
   "cell_type": "code",
   "execution_count": 26,
   "id": "ca44b5a0",
   "metadata": {},
   "outputs": [
    {
     "name": "stdout",
     "output_type": "stream",
     "text": [
      "[-964706, -678124, -927030, -569756, -347664, 138793, -723090, -351117, -566801, 52382, 53985, 515816, 803021, 62817, -444484, 914032, 477303, -93842, 910687, 624263]\n"
     ]
    }
   ],
   "source": [
    "import heapq\n",
    "lis=[910687,-566801,515816,477303,-347664,138793,-444484,914032,-569756,52382,53985,-927030,803021,62817,-723090,-964706,-351117,-93842,-678124,624263 ]\n",
    "heapq.heapify(lis)\n",
    "print(lis)"
   ]
  },
  {
   "cell_type": "markdown",
   "id": "5a374d94",
   "metadata": {},
   "source": [
    "### Check MaxHeap"
   ]
  },
  {
   "cell_type": "code",
   "execution_count": 6,
   "id": "863d6b7f",
   "metadata": {},
   "outputs": [
    {
     "name": "stdout",
     "output_type": "stream",
     "text": [
      "5\n",
      "5 4 3 2 1\n",
      "true\n"
     ]
    }
   ],
   "source": [
    "def checkMaxHeap(arr):\n",
    "    n=len(lst)\n",
    "    for i in range(n):\n",
    "        lchild=2*i+1\n",
    "        rchild=2*i+2\n",
    "        if lchild<n:\n",
    "            if arr[i]<arr[lchild]:\n",
    "                return False\n",
    "        if rchild<n:\n",
    "            if arr[i]<arr[rchild]:\n",
    "                return False\n",
    "    return True\n",
    "\n",
    "n=int(input())\n",
    "lst=list(int(i) for i in input().strip().split(' '))\n",
    "print('true') if checkMaxHeap(lst) else print('false')"
   ]
  },
  {
   "cell_type": "code",
   "execution_count": 7,
   "id": "2143bda8",
   "metadata": {},
   "outputs": [
    {
     "name": "stdout",
     "output_type": "stream",
     "text": [
      "5\n",
      "5 4 3 2 1\n",
      "true\n"
     ]
    }
   ],
   "source": [
    "import heapq\n",
    "def checkMaxHeap(lst,n):\n",
    "    n=len(lst)\n",
    "    temp=list(lst[:])\n",
    "    heapq._heapify_max(lst)\n",
    "    if temp==lst:\n",
    "        return True\n",
    "    return False\n",
    "n=int(input())\n",
    "lst=list(int(i) for i in input().strip().split(' '))\n",
    "print('true') if checkMaxHeap(lst, n) else print('false')"
   ]
  },
  {
   "cell_type": "code",
   "execution_count": 4,
   "id": "95a16331",
   "metadata": {},
   "outputs": [
    {
     "name": "stdout",
     "output_type": "stream",
     "text": [
      "10\n",
      "10 9 8 7 6 5 4 3 2 7\n",
      "false\n"
     ]
    }
   ],
   "source": [
    "def checkMaxHeap(lst):\n",
    "    #############################\n",
    "    # PLEASE ADD YOUR CODE HERE #\n",
    "    #############################\n",
    "    n=len(lst)\n",
    "    for i in range(n):\n",
    "        left=2*i+1\n",
    "        right=left+1\n",
    "        if (left<n) and lst[left]>lst[i]:\n",
    "            return False\n",
    "        if right<n and lst[right]>lst[i]:\n",
    "                return False\n",
    "    return True\n",
    "\n",
    "    \n",
    "\n",
    "# Main Code\n",
    "n=int(input())\n",
    "lst=list(int(i) for i in input().strip().split(' '))\n",
    "print('true') if checkMaxHeap(lst) else print('false')"
   ]
  },
  {
   "cell_type": "markdown",
   "id": "c7da51cb",
   "metadata": {},
   "source": [
    "### kth largest element"
   ]
  },
  {
   "cell_type": "code",
   "execution_count": 9,
   "id": "85de3a63",
   "metadata": {},
   "outputs": [
    {
     "name": "stdout",
     "output_type": "stream",
     "text": [
      "4\n",
      "123 456 2345 12\n",
      "3\n",
      "123\n"
     ]
    }
   ],
   "source": [
    "import heapq\n",
    "def kthlargestelement(lst,k):\n",
    "    result_arr=lst[:k]\n",
    "    heapq.heapify(result_arr)\n",
    "    for i in range(k,n):\n",
    "        if lst[i]>result_arr[0]:\n",
    "            heapq.heapreplace(result_arr,lst[i])\n",
    "    return result_arr[0]\n",
    "n=int(input())\n",
    "lst=list(int(i) for i in input().strip().split(' '))\n",
    "k=int(input())\n",
    "ans=kthlargestelement(lst,k)\n",
    "print(ans)"
   ]
  },
  {
   "cell_type": "markdown",
   "id": "15ab64f0",
   "metadata": {},
   "source": [
    "### BUY TICKET\n",
    "1. You want to buy a ticket for a well-known concert which is happening in your city. But the number of tickets available is limited. Hence the sponsors of the concert decided to sell tickets to customers based on some priority.\n",
    "2. A queue is maintained for buying the tickets and every person is attached with a priority (an integer, 1 being the lowest priority).\n",
    "\n",
    "1. The first person (pi) in the queue requests for the ticket.\n",
    "2. If there is another person present in the queue who has higher priority than pi, then ask pi to move at end of the queue without giving him the ticket.\n",
    "3. Otherwise, give him the ticket (and don't make him stand in queue again).\n",
    "\n",
    "4. Giving a ticket to a person takes exactly 1 minute and it takes no time for removing and adding a person to the queue. And you can assume that no new person joins the queue.\n",
    "\n",
    "\n"
   ]
  },
  {
   "cell_type": "code",
   "execution_count": 16,
   "id": "bd2204b5",
   "metadata": {},
   "outputs": [
    {
     "name": "stdout",
     "output_type": "stream",
     "text": [
      "5\n",
      "2 2 2 2 4\n",
      "3\n",
      "5\n"
     ]
    }
   ],
   "source": [
    "import sys\n",
    "import heapq as heap\n",
    "\n",
    "class LinkedListNode:\n",
    "    def __init__(self,data):\n",
    "        self.data=data\n",
    "        self.next=None\n",
    "class Queue:\n",
    "    def __init__(self):\n",
    "        self.head=None\n",
    "        self.tail=None\n",
    "        self.size=0\n",
    "        \n",
    "    def enqueue(self,data):\n",
    "        newNode=LinkedListNode(data)\n",
    "        if self.head is None:\n",
    "            self.head=self.tail=newNode\n",
    "        else:\n",
    "            self.tail.next=newNode\n",
    "            self.tail=newNode\n",
    "        self.size+=1\n",
    "        return\n",
    "    \n",
    "    def dequeue(self):\n",
    "        if self.head is None:\n",
    "            return None\n",
    "        data=self.head.data\n",
    "        self.head=self.head.next\n",
    "        self.size-=1\n",
    "        return data\n",
    "    \n",
    "    def getSize(self):\n",
    "        return self.size\n",
    "    \n",
    "    def isEmpty(self):\n",
    "        if self.head is None:\n",
    "            return None\n",
    "        return False\n",
    "    \n",
    "    def peek(self):\n",
    "        if self.head is None:\n",
    "            return None\n",
    "        return self.head.data\n",
    "    \n",
    "class PriorityQueueNode:\n",
    "    def __init__(self,element,priority):\n",
    "        self.element=element\n",
    "        self.priority=priority\n",
    "        \n",
    "def buyTicket(lst,n,k):\n",
    "    q=Queue()\n",
    "    maxHeap=[]\n",
    "    heap.heapify(maxHeap)\n",
    "    for ele in arr:\n",
    "        q.enqueue(ele)\n",
    "        heap.heappush(maxHeap,-1*ele)\n",
    "    count=0\n",
    "    while len(maxHeap) !=0:\n",
    "        if q.peek()==-1*maxHeap[0]:\n",
    "            if k==0:\n",
    "                return count+1\n",
    "            else:\n",
    "                count+=1\n",
    "                q.dequeue()\n",
    "                heap.heappop(maxHeap)\n",
    "                k-=1\n",
    "        else:\n",
    "            q.enqueue(q.peek())\n",
    "            q.dequeue()\n",
    "            if k==0:\n",
    "                k=q.getSize()-1\n",
    "            else:\n",
    "                k-=1\n",
    "    return count\n",
    "def takeinput():\n",
    "    n=int(input())\n",
    "    if n==0:\n",
    "        return n,list()\n",
    "    arr=list(int(i) for i in input().strip().split(' '))\n",
    "    k=int(input())\n",
    "    return n,arr,k\n",
    "\n",
    "n,arr,k=takeinput()\n",
    "print(buyTicket(arr, n, k))"
   ]
  },
  {
   "cell_type": "code",
   "execution_count": null,
   "id": "5f5248f8",
   "metadata": {},
   "outputs": [],
   "source": []
  }
 ],
 "metadata": {
  "kernelspec": {
   "display_name": "Python 3",
   "language": "python",
   "name": "python3"
  },
  "language_info": {
   "codemirror_mode": {
    "name": "ipython",
    "version": 3
   },
   "file_extension": ".py",
   "mimetype": "text/x-python",
   "name": "python",
   "nbconvert_exporter": "python",
   "pygments_lexer": "ipython3",
   "version": "3.8.8"
  }
 },
 "nbformat": 4,
 "nbformat_minor": 5
}
