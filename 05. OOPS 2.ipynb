{
 "cells": [
  {
   "cell_type": "code",
   "execution_count": 7,
   "id": "8baff5b4",
   "metadata": {},
   "outputs": [
    {
     "name": "stdout",
     "output_type": "stream",
     "text": [
      "color red\n",
      "maxspeed 15\n",
      "numgears 3\n",
      "isconvertible False\n"
     ]
    }
   ],
   "source": [
    "class vehicle :\n",
    "    def __init__(self,color,maxspeed):\n",
    "        self.color = color\n",
    "        self.maxspeed = maxspeed\n",
    "class car(vehicle):\n",
    "    def __init__(self,color,maxspeed,numgears,isconvertible):\n",
    "        super().__init__(color,maxspeed)\n",
    "        self.numgears=numgears\n",
    "        self.isconvertible=isconvertible\n",
    "    def printcar(self):\n",
    "        print(\"color\",self.color)\n",
    "        print(\"maxspeed\" , self.maxspeed)\n",
    "        print(\"numgears\",self.numgears)\n",
    "        print(\"isconvertible\",self.isconvertible)\n",
    "c=car(\"red\",15,3,False)\n",
    "c.printcar()"
   ]
  },
  {
   "cell_type": "code",
   "execution_count": 9,
   "id": "33bc1f57",
   "metadata": {},
   "outputs": [
    {
     "ename": "AttributeError",
     "evalue": "'Car' object has no attribute 'color'",
     "output_type": "error",
     "traceback": [
      "\u001b[1;31m------------------------------------------------------------------\u001b[0m",
      "\u001b[1;31mAttributeError\u001b[0m                   Traceback (most recent call last)",
      "\u001b[1;32m<ipython-input-9-7ce1b3650c32>\u001b[0m in \u001b[0;36m<module>\u001b[1;34m\u001b[0m\n\u001b[0;32m      6\u001b[0m         \u001b[0mself\u001b[0m\u001b[1;33m.\u001b[0m\u001b[0mnumGears\u001b[0m \u001b[1;33m=\u001b[0m \u001b[0mnumGears\u001b[0m\u001b[1;33m\u001b[0m\u001b[1;33m\u001b[0m\u001b[0m\n\u001b[0;32m      7\u001b[0m \u001b[0mc\u001b[0m\u001b[1;33m=\u001b[0m \u001b[0mCar\u001b[0m\u001b[1;33m(\u001b[0m\u001b[1;34m\"black\"\u001b[0m\u001b[1;33m,\u001b[0m\u001b[1;36m5\u001b[0m\u001b[1;33m)\u001b[0m\u001b[1;33m\u001b[0m\u001b[1;33m\u001b[0m\u001b[0m\n\u001b[1;32m----> 8\u001b[1;33m \u001b[0mprint\u001b[0m\u001b[1;33m(\u001b[0m\u001b[0mc\u001b[0m\u001b[1;33m.\u001b[0m\u001b[0mcolor\u001b[0m\u001b[1;33m)\u001b[0m\u001b[1;33m\u001b[0m\u001b[1;33m\u001b[0m\u001b[0m\n\u001b[0m",
      "\u001b[1;31mAttributeError\u001b[0m: 'Car' object has no attribute 'color'"
     ]
    }
   ],
   "source": [
    "class Vehicle:\n",
    "     def __init__(self,color):\n",
    "        self.color = color\n",
    "class Car(Vehicle):\n",
    "     def __init__(self,color,numGears):\n",
    "        self.numGears = numGears\n",
    "c= Car(\"black\",5)\n",
    "print(c.color) ##color to vehicle mein hai and call car ko kia h"
   ]
  },
  {
   "cell_type": "code",
   "execution_count": 10,
   "id": "273545a6",
   "metadata": {},
   "outputs": [
    {
     "name": "stdout",
     "output_type": "stream",
     "text": [
      "black\n"
     ]
    }
   ],
   "source": [
    "class Vehicle:\n",
    "    def __init__(self,color):\n",
    "        self.color = color\n",
    "class Car(Vehicle):\n",
    "    def __init__(self,color,numGears):\n",
    "        super().__init__(color)\n",
    "        self.numGears = numGears\n",
    "c= Car(\"black\",5)\n",
    "print(c.color)"
   ]
  },
  {
   "cell_type": "code",
   "execution_count": 12,
   "id": "7b02fe26",
   "metadata": {},
   "outputs": [
    {
     "name": "stdout",
     "output_type": "stream",
     "text": [
      "color red\n"
     ]
    },
    {
     "ename": "AttributeError",
     "evalue": "'car' object has no attribute 'maxspeed'",
     "output_type": "error",
     "traceback": [
      "\u001b[1;31m------------------------------------------------------------------\u001b[0m",
      "\u001b[1;31mAttributeError\u001b[0m                   Traceback (most recent call last)",
      "\u001b[1;32m<ipython-input-12-d1fca61dce1a>\u001b[0m in \u001b[0;36m<module>\u001b[1;34m\u001b[0m\n\u001b[0;32m     14\u001b[0m         \u001b[0mprint\u001b[0m\u001b[1;33m(\u001b[0m\u001b[1;34m\"isconvertible\"\u001b[0m\u001b[1;33m,\u001b[0m\u001b[0mself\u001b[0m\u001b[1;33m.\u001b[0m\u001b[0misconvertible\u001b[0m\u001b[1;33m)\u001b[0m\u001b[1;33m\u001b[0m\u001b[1;33m\u001b[0m\u001b[0m\n\u001b[0;32m     15\u001b[0m \u001b[0mc\u001b[0m\u001b[1;33m=\u001b[0m\u001b[0mcar\u001b[0m\u001b[1;33m(\u001b[0m\u001b[1;34m\"red\"\u001b[0m\u001b[1;33m,\u001b[0m\u001b[1;36m15\u001b[0m\u001b[1;33m,\u001b[0m\u001b[1;36m3\u001b[0m\u001b[1;33m,\u001b[0m\u001b[1;32mFalse\u001b[0m\u001b[1;33m)\u001b[0m\u001b[1;33m\u001b[0m\u001b[1;33m\u001b[0m\u001b[0m\n\u001b[1;32m---> 16\u001b[1;33m \u001b[0mc\u001b[0m\u001b[1;33m.\u001b[0m\u001b[0mprintcar\u001b[0m\u001b[1;33m(\u001b[0m\u001b[1;33m)\u001b[0m\u001b[1;33m\u001b[0m\u001b[1;33m\u001b[0m\u001b[0m\n\u001b[0m",
      "\u001b[1;32m<ipython-input-12-d1fca61dce1a>\u001b[0m in \u001b[0;36mprintcar\u001b[1;34m(self)\u001b[0m\n\u001b[0;32m     10\u001b[0m     \u001b[1;32mdef\u001b[0m \u001b[0mprintcar\u001b[0m\u001b[1;33m(\u001b[0m\u001b[0mself\u001b[0m\u001b[1;33m)\u001b[0m\u001b[1;33m:\u001b[0m\u001b[1;33m\u001b[0m\u001b[1;33m\u001b[0m\u001b[0m\n\u001b[0;32m     11\u001b[0m         \u001b[0mprint\u001b[0m \u001b[1;33m(\u001b[0m\u001b[1;34m\"color\"\u001b[0m\u001b[1;33m,\u001b[0m\u001b[0mself\u001b[0m\u001b[1;33m.\u001b[0m\u001b[0mcolor\u001b[0m\u001b[1;33m)\u001b[0m\u001b[1;33m\u001b[0m\u001b[1;33m\u001b[0m\u001b[0m\n\u001b[1;32m---> 12\u001b[1;33m         \u001b[0mprint\u001b[0m\u001b[1;33m(\u001b[0m\u001b[1;34m\"maxspeed\"\u001b[0m\u001b[1;33m,\u001b[0m\u001b[0mself\u001b[0m\u001b[1;33m.\u001b[0m\u001b[0mmaxspeed\u001b[0m\u001b[1;33m)\u001b[0m\u001b[1;33m\u001b[0m\u001b[1;33m\u001b[0m\u001b[0m\n\u001b[0m\u001b[0;32m     13\u001b[0m         \u001b[0mprint\u001b[0m\u001b[1;33m(\u001b[0m\u001b[1;34m\"numgears\"\u001b[0m\u001b[1;33m,\u001b[0m\u001b[0mself\u001b[0m\u001b[1;33m.\u001b[0m\u001b[0mnumgears\u001b[0m\u001b[1;33m)\u001b[0m\u001b[1;33m\u001b[0m\u001b[1;33m\u001b[0m\u001b[0m\n\u001b[0;32m     14\u001b[0m         \u001b[0mprint\u001b[0m\u001b[1;33m(\u001b[0m\u001b[1;34m\"isconvertible\"\u001b[0m\u001b[1;33m,\u001b[0m\u001b[0mself\u001b[0m\u001b[1;33m.\u001b[0m\u001b[0misconvertible\u001b[0m\u001b[1;33m)\u001b[0m\u001b[1;33m\u001b[0m\u001b[1;33m\u001b[0m\u001b[0m\n",
      "\u001b[1;31mAttributeError\u001b[0m: 'car' object has no attribute 'maxspeed'"
     ]
    }
   ],
   "source": [
    "class vehicle:\n",
    "    def __init__(self,color,maxspeed):\n",
    "        self.color=color\n",
    "        self.__maxspeed=maxspeed ##private member hogya \n",
    "        ##cannot be accessed outside this class\n",
    "        \n",
    "class car(vehicle):\n",
    "    def __init__(self,color,maxspeed,numgears,isconvertible):\n",
    "        super().__init__(color,maxspeed)\n",
    "        self.numgears=numgears\n",
    "        self.isconvertible=isconvertible\n",
    "    def printcar(self):\n",
    "        print (\"color\",self.color)\n",
    "        print(\"maxspeed\",self.maxspeed)\n",
    "        print(\"numgears\",self.numgears)\n",
    "        print(\"isconvertible\",self.isconvertible)\n",
    "c=car(\"red\",15,3,False)\n",
    "c.printcar()"
   ]
  },
  {
   "cell_type": "code",
   "execution_count": 16,
   "id": "3de75429",
   "metadata": {},
   "outputs": [
    {
     "name": "stdout",
     "output_type": "stream",
     "text": [
      "color red\n",
      "maxspeed 15\n",
      "numgears 3\n",
      "isconvertible False\n"
     ]
    }
   ],
   "source": [
    "#to avoid this what we can do is use getmaxspeed and setmaxspeed functions\n",
    "\n",
    "class vehicle:\n",
    "    def __init__(self,color,maxspeed):\n",
    "        self.color=color\n",
    "        self.__maxspeed=maxspeed ##private member hogya \n",
    "        ##cannot be accessed outside this class\n",
    "    def getmaxspeed(self):\n",
    "        return self.__maxspeed\n",
    "    def setmaxspeed(self,maxspeed):\n",
    "        self.__maxspeed=maxspeed\n",
    "        \n",
    "class car(vehicle):\n",
    "    def __init__(self,color,maxspeed,numgears,isconvertible):\n",
    "        super().__init__(color,maxspeed)\n",
    "        self.numgears=numgears\n",
    "        self.isconvertible=isconvertible\n",
    "    def printcar(self):\n",
    "        print (\"color\",self.color)\n",
    "        print(\"maxspeed\",self.getmaxspeed())\n",
    "        print(\"numgears\",self.numgears)\n",
    "        print(\"isconvertible\",self.isconvertible)\n",
    "c=car(\"red\",15,3,False)\n",
    "c.printcar()"
   ]
  },
  {
   "cell_type": "code",
   "execution_count": 17,
   "id": "28049bd2",
   "metadata": {},
   "outputs": [
    {
     "ename": "AttributeError",
     "evalue": "'Car' object has no attribute '_Car__color'",
     "output_type": "error",
     "traceback": [
      "\u001b[1;31m------------------------------------------------------------------\u001b[0m",
      "\u001b[1;31mAttributeError\u001b[0m                   Traceback (most recent call last)",
      "\u001b[1;32m<ipython-input-17-e4fadaaea12a>\u001b[0m in \u001b[0;36m<module>\u001b[1;34m\u001b[0m\n\u001b[0;32m     10\u001b[0m         \u001b[0mprint\u001b[0m\u001b[1;33m(\u001b[0m\u001b[0mc\u001b[0m\u001b[1;33m.\u001b[0m\u001b[0mnumGears\u001b[0m\u001b[1;33m)\u001b[0m\u001b[1;33m\u001b[0m\u001b[1;33m\u001b[0m\u001b[0m\n\u001b[0;32m     11\u001b[0m \u001b[0mc\u001b[0m \u001b[1;33m=\u001b[0m \u001b[0mCar\u001b[0m\u001b[1;33m(\u001b[0m\u001b[1;34m\"black\"\u001b[0m\u001b[1;33m,\u001b[0m\u001b[1;36m5\u001b[0m\u001b[1;33m)\u001b[0m\u001b[1;33m\u001b[0m\u001b[1;33m\u001b[0m\u001b[0m\n\u001b[1;32m---> 12\u001b[1;33m \u001b[0mc\u001b[0m\u001b[1;33m.\u001b[0m\u001b[0mprintCar\u001b[0m\u001b[1;33m(\u001b[0m\u001b[1;33m)\u001b[0m\u001b[1;33m\u001b[0m\u001b[1;33m\u001b[0m\u001b[0m\n\u001b[0m",
      "\u001b[1;32m<ipython-input-17-e4fadaaea12a>\u001b[0m in \u001b[0;36mprintCar\u001b[1;34m(self)\u001b[0m\n\u001b[0;32m      7\u001b[0m         \u001b[0mself\u001b[0m\u001b[1;33m.\u001b[0m\u001b[0mnumGears\u001b[0m \u001b[1;33m=\u001b[0m \u001b[0mnumGears\u001b[0m\u001b[1;33m\u001b[0m\u001b[1;33m\u001b[0m\u001b[0m\n\u001b[0;32m      8\u001b[0m     \u001b[1;32mdef\u001b[0m \u001b[0mprintCar\u001b[0m\u001b[1;33m(\u001b[0m\u001b[0mself\u001b[0m\u001b[1;33m)\u001b[0m\u001b[1;33m:\u001b[0m\u001b[1;33m\u001b[0m\u001b[1;33m\u001b[0m\u001b[0m\n\u001b[1;32m----> 9\u001b[1;33m         \u001b[0mprint\u001b[0m\u001b[1;33m(\u001b[0m\u001b[0mc\u001b[0m\u001b[1;33m.\u001b[0m\u001b[0m__color\u001b[0m\u001b[1;33m,\u001b[0m\u001b[0mend\u001b[0m\u001b[1;33m=\u001b[0m\u001b[1;34m\"\"\u001b[0m\u001b[1;33m)\u001b[0m\u001b[1;33m\u001b[0m\u001b[1;33m\u001b[0m\u001b[0m\n\u001b[0m\u001b[0;32m     10\u001b[0m         \u001b[0mprint\u001b[0m\u001b[1;33m(\u001b[0m\u001b[0mc\u001b[0m\u001b[1;33m.\u001b[0m\u001b[0mnumGears\u001b[0m\u001b[1;33m)\u001b[0m\u001b[1;33m\u001b[0m\u001b[1;33m\u001b[0m\u001b[0m\n\u001b[0;32m     11\u001b[0m \u001b[0mc\u001b[0m \u001b[1;33m=\u001b[0m \u001b[0mCar\u001b[0m\u001b[1;33m(\u001b[0m\u001b[1;34m\"black\"\u001b[0m\u001b[1;33m,\u001b[0m\u001b[1;36m5\u001b[0m\u001b[1;33m)\u001b[0m\u001b[1;33m\u001b[0m\u001b[1;33m\u001b[0m\u001b[0m\n",
      "\u001b[1;31mAttributeError\u001b[0m: 'Car' object has no attribute '_Car__color'"
     ]
    }
   ],
   "source": [
    "class Vehicle:\n",
    "     def __init__(self,color):\n",
    "        self.__color = color\n",
    "class Car(Vehicle):\n",
    "    def __init__(self,color,numGears):\n",
    "        super().__init__(color)\n",
    "        self.numGears = numGears\n",
    "    def printCar(self):\n",
    "        print(c.__color,end=\"\")\n",
    "        print(c.numGears)\n",
    "c = Car(\"black\",5)\n",
    "c.printCar()"
   ]
  },
  {
   "cell_type": "code",
   "execution_count": 18,
   "id": "d47a8f5d",
   "metadata": {},
   "outputs": [
    {
     "name": "stdout",
     "output_type": "stream",
     "text": [
      "color red\n",
      "maxspeed 15\n",
      "numgears 3\n",
      "isconvertible False\n"
     ]
    }
   ],
   "source": [
    "##if color and maxspeed are to be printed from vehicle\n",
    "#which ideally they should be coz they belong to the vehicle class\n",
    "\n",
    "class vehicle:\n",
    "    def __init__(self,color,maxspeed):\n",
    "        self.color=color\n",
    "        self.__maxspeed=maxspeed\n",
    "    def getmaxspeed(self):\n",
    "        return self.__maxspeed\n",
    "    def setmaxspeed(self,maxspeed):\n",
    "        self.__maxspeed = maxspeed\n",
    "    def print(self):\n",
    "        print (\"color\",self.color)\n",
    "        print(\"maxspeed\",self.__maxspeed)\n",
    "class car(vehicle):\n",
    "    def __init__(self,color,maxspeed,numgears,isconvertible):\n",
    "        super().__init__(color,maxspeed)\n",
    "        self.numgears=numgears\n",
    "        self.isconvertible=isconvertible\n",
    "    def printcar(self):\n",
    "        super().print() ##using super\n",
    "        print(\"numgears\",self.numgears)\n",
    "        print(\"isconvertible\",self.isconvertible)\n",
    "c=car(\"red\",15,3,False)\n",
    "c.printcar()"
   ]
  },
  {
   "cell_type": "code",
   "execution_count": 19,
   "id": "5c523c9d",
   "metadata": {},
   "outputs": [
    {
     "name": "stdout",
     "output_type": "stream",
     "text": [
      "color red\n",
      "maxspeed 15\n",
      "numgears 3\n",
      "isconvertible False\n"
     ]
    }
   ],
   "source": [
    "##if color and maxspeed are to be printed from vehicle\n",
    "#which ideally they should be coz they belong to the vehicle class\n",
    "class vehicle:\n",
    "    def __init__(self,color,maxspeed):\n",
    "        self.color=color\n",
    "        self.__maxspeed=maxspeed\n",
    "    def getmaxspeed(self):\n",
    "        return self.__maxspeed\n",
    "    def setmaxspeed(self,maxspeed):\n",
    "        self.__maxspeed = maxspeed\n",
    "    def print(self):\n",
    "        print (\"color\",self.color)\n",
    "        print(\"maxspeed\",self.__maxspeed)\n",
    "class car(vehicle):\n",
    "    def __init__(self,color,maxspeed,numgears,isconvertible):\n",
    "        super().__init__(color,maxspeed)\n",
    "        self.numgears=numgears\n",
    "        self.isconvertible=isconvertible\n",
    "    def printcar(self):\n",
    "        self.print() ##using self since the PRINT of vehicle is being called\n",
    "        print(\"numgears\",self.numgears)\n",
    "        print(\"isconvertible\",self.isconvertible)\n",
    "c=car(\"red\",15,3,False)\n",
    "c.printcar()"
   ]
  },
  {
   "cell_type": "code",
   "execution_count": 21,
   "id": "6c583cc5",
   "metadata": {},
   "outputs": [
    {
     "name": "stdout",
     "output_type": "stream",
     "text": [
      "numgears 3\n",
      "isconvertible False\n"
     ]
    }
   ],
   "source": [
    "##POLYMORPHESIM - ABILITY TO TAKE MULTIPLE FORMS\n",
    "class vehicle:\n",
    "    def __init__(self,color,maxspeed):\n",
    "        self.color=color\n",
    "        self.__maxspeed=maxspeed\n",
    "    def getmaxspeed(self):\n",
    "        return self.__maxspeed\n",
    "    def setmaxspeed(self,maxspeed):\n",
    "        self.__maxspeed = maxspeed\n",
    "    def print(self):\n",
    "        print (\"color\",self.color)\n",
    "        print(\"maxspeed\",self.__maxspeed)\n",
    "class car(vehicle):\n",
    "    def __init__(self,color,maxspeed,numgears,isconvertible):\n",
    "        super().__init__(color,maxspeed)\n",
    "        self.numgears=numgears\n",
    "        self.isconvertible=isconvertible\n",
    "    def print(self):\n",
    "        #self.print() ##using self since the PRINT of vehicle is being called\n",
    "        print(\"numgears\",self.numgears)\n",
    "        print(\"isconvertible\",self.isconvertible)\n",
    "c=car(\"red\",15,3,False)\n",
    "c.print() ##which print is called ?\n",
    "#car's print is being called, though car inhibits the vehicle print as well, but then also car's print has been called"
   ]
  },
  {
   "cell_type": "code",
   "execution_count": 23,
   "id": "cadf10b0",
   "metadata": {},
   "outputs": [
    {
     "name": "stdout",
     "output_type": "stream",
     "text": [
      "color red\n",
      "maxspeed 15\n"
     ]
    }
   ],
   "source": [
    "class vehicle:\n",
    "    def __init__(self,color,maxspeed):\n",
    "        self.color=color\n",
    "        self.__maxspeed=maxspeed\n",
    "    def getmaxspeed(self):\n",
    "        return self.__maxspeed\n",
    "    def setmaxspeed(self,maxspeed):\n",
    "        self.__maxspeed = maxspeed\n",
    "    def print(self):\n",
    "        print (\"color\",self.color)\n",
    "        print(\"maxspeed\",self.__maxspeed)\n",
    "class car(vehicle):\n",
    "    def __init__(self,color,maxspeed,numgears,isconvertible):\n",
    "        super().__init__(color,maxspeed)\n",
    "        self.numgears=numgears\n",
    "        self.isconvertible=isconvertible\n",
    "    #def print(self):\n",
    "        #self.print() \n",
    "        #print(\"numgears\",self.numgears)\n",
    "        #print(\"isconvertible\",self.isconvertible)\n",
    "c=car(\"red\",15,3,False)\n",
    "c.print() \n",
    "\n",
    "#vehicle's print are called"
   ]
  },
  {
   "cell_type": "code",
   "execution_count": 24,
   "id": "140a79ad",
   "metadata": {},
   "outputs": [
    {
     "ename": "AttributeError",
     "evalue": "'car' object has no attribute 'print'",
     "output_type": "error",
     "traceback": [
      "\u001b[1;31m------------------------------------------------------------------\u001b[0m",
      "\u001b[1;31mAttributeError\u001b[0m                   Traceback (most recent call last)",
      "\u001b[1;32m<ipython-input-24-fad5dbd15609>\u001b[0m in \u001b[0;36m<module>\u001b[1;34m\u001b[0m\n\u001b[0;32m     20\u001b[0m         \u001b[1;31m#print(\"isconvertible\",self.isconvertible)\u001b[0m\u001b[1;33m\u001b[0m\u001b[1;33m\u001b[0m\u001b[1;33m\u001b[0m\u001b[0m\n\u001b[0;32m     21\u001b[0m \u001b[0mc\u001b[0m\u001b[1;33m=\u001b[0m\u001b[0mcar\u001b[0m\u001b[1;33m(\u001b[0m\u001b[1;34m\"red\"\u001b[0m\u001b[1;33m,\u001b[0m\u001b[1;36m15\u001b[0m\u001b[1;33m,\u001b[0m\u001b[1;36m3\u001b[0m\u001b[1;33m,\u001b[0m\u001b[1;32mFalse\u001b[0m\u001b[1;33m)\u001b[0m\u001b[1;33m\u001b[0m\u001b[1;33m\u001b[0m\u001b[0m\n\u001b[1;32m---> 22\u001b[1;33m \u001b[0mc\u001b[0m\u001b[1;33m.\u001b[0m\u001b[0mprint\u001b[0m\u001b[1;33m(\u001b[0m\u001b[1;33m)\u001b[0m\u001b[1;33m\u001b[0m\u001b[1;33m\u001b[0m\u001b[0m\n\u001b[0m",
      "\u001b[1;31mAttributeError\u001b[0m: 'car' object has no attribute 'print'"
     ]
    }
   ],
   "source": [
    "class vehicle:\n",
    "    def __init__(self,color,maxspeed):\n",
    "        self.color=color\n",
    "        self.__maxspeed=maxspeed\n",
    "    def getmaxspeed(self):\n",
    "        return self.__maxspeed\n",
    "    def setmaxspeed(self,maxspeed):\n",
    "        self.__maxspeed = maxspeed\n",
    "    #def print(self):\n",
    "        #print (\"color\",self.color)\n",
    "        #print(\"maxspeed\",self.__maxspeed)\n",
    "class car(vehicle):\n",
    "    def __init__(self,color,maxspeed,numgears,isconvertible):\n",
    "        super().__init__(color,maxspeed)\n",
    "        self.numgears=numgears\n",
    "        self.isconvertible=isconvertible\n",
    "    #def print(self):\n",
    "        #self.print() \n",
    "        #print(\"numgears\",self.numgears)\n",
    "        #print(\"isconvertible\",self.isconvertible)\n",
    "c=car(\"red\",15,3,False)\n",
    "c.print() "
   ]
  },
  {
   "cell_type": "code",
   "execution_count": 41,
   "id": "84bb1ee3",
   "metadata": {},
   "outputs": [
    {
     "name": "stdout",
     "output_type": "stream",
     "text": [
      "color red\n",
      "maxspeed 15\n",
      "numgears 3\n",
      "isconvertible False\n"
     ]
    }
   ],
   "source": [
    "class vehicle:\n",
    "    def __init__(self,color,maxspeed):\n",
    "        self.color=color\n",
    "        self.__maxspeed=maxspeed\n",
    "    def getmaxspeed(self):\n",
    "        return self.__maxspeed\n",
    "    def setmaxspeed(self,maxspeed):\n",
    "        self.__maxspeed = maxspeed\n",
    "    def print(self):\n",
    "        print (\"color\",self.color)\n",
    "        print(\"maxspeed\",self.__maxspeed)\n",
    "        \n",
    "class car(vehicle):\n",
    "    \n",
    "    \n",
    "    def __init__(self,color,maxspeed,numgears,isconvertible):\n",
    "        super().__init__(color,maxspeed)\n",
    "        self.numgears=numgears\n",
    "        self.isconvertible=isconvertible\n",
    "    def print(self):\n",
    "        #self.print() if this is done there would be an error of recursive call\n",
    "        super().print()\n",
    "        print(\"numgears\",self.numgears)\n",
    "        print(\"isconvertible\",self.isconvertible)\n",
    "c=car(\"red\",15,3,False)\n",
    "c.print() \n",
    "#print()\n",
    "#v=vehicle(\"red\",18)\n",
    "#v.print()"
   ]
  },
  {
   "cell_type": "code",
   "execution_count": 43,
   "id": "a83978f0",
   "metadata": {},
   "outputs": [
    {
     "name": "stdout",
     "output_type": "stream",
     "text": [
      "black 5\n"
     ]
    }
   ],
   "source": [
    "class Vehicle:\n",
    "    def __init__(self,color):\n",
    "        self.color=color\n",
    "    def print(self):\n",
    "        print(c.color, end=\" \")\n",
    "class car(Vehicle):\n",
    "    def __init__(self,color,numgears):\n",
    "        super().__init__(color)\n",
    "        self.numgears=numgears\n",
    "    def print(self):\n",
    "        print(c.color,end=\" \")\n",
    "        print(c.numgears)\n",
    "c = car(\"black\",5)\n",
    "c.print()"
   ]
  },
  {
   "cell_type": "code",
   "execution_count": 44,
   "id": "cf73db85",
   "metadata": {},
   "outputs": [
    {
     "ename": "RecursionError",
     "evalue": "maximum recursion depth exceeded",
     "output_type": "error",
     "traceback": [
      "\u001b[1;31m------------------------------------------------------------------\u001b[0m",
      "\u001b[1;31mRecursionError\u001b[0m                   Traceback (most recent call last)",
      "\u001b[1;32m<ipython-input-44-1b0f7afc0755>\u001b[0m in \u001b[0;36m<module>\u001b[1;34m\u001b[0m\n\u001b[0;32m     12\u001b[0m         \u001b[0mprint\u001b[0m\u001b[1;33m(\u001b[0m\u001b[0mc\u001b[0m\u001b[1;33m.\u001b[0m\u001b[0mnumgears\u001b[0m\u001b[1;33m)\u001b[0m\u001b[1;33m\u001b[0m\u001b[1;33m\u001b[0m\u001b[0m\n\u001b[0;32m     13\u001b[0m \u001b[0mc\u001b[0m\u001b[1;33m=\u001b[0m\u001b[0mcar\u001b[0m\u001b[1;33m(\u001b[0m\u001b[1;34m\"black\"\u001b[0m\u001b[1;33m,\u001b[0m\u001b[1;36m5\u001b[0m\u001b[1;33m)\u001b[0m\u001b[1;33m\u001b[0m\u001b[1;33m\u001b[0m\u001b[0m\n\u001b[1;32m---> 14\u001b[1;33m \u001b[0mc\u001b[0m\u001b[1;33m.\u001b[0m\u001b[0mprint\u001b[0m\u001b[1;33m(\u001b[0m\u001b[1;33m)\u001b[0m\u001b[1;33m\u001b[0m\u001b[1;33m\u001b[0m\u001b[0m\n\u001b[0m",
      "\u001b[1;32m<ipython-input-44-1b0f7afc0755>\u001b[0m in \u001b[0;36mprint\u001b[1;34m(self)\u001b[0m\n\u001b[0;32m      9\u001b[0m         \u001b[0mself\u001b[0m\u001b[1;33m.\u001b[0m\u001b[0mnumgears\u001b[0m\u001b[1;33m=\u001b[0m\u001b[0mnumgears\u001b[0m\u001b[1;33m\u001b[0m\u001b[1;33m\u001b[0m\u001b[0m\n\u001b[0;32m     10\u001b[0m     \u001b[1;32mdef\u001b[0m \u001b[0mprint\u001b[0m\u001b[1;33m(\u001b[0m\u001b[0mself\u001b[0m\u001b[1;33m)\u001b[0m\u001b[1;33m:\u001b[0m\u001b[1;33m\u001b[0m\u001b[1;33m\u001b[0m\u001b[0m\n\u001b[1;32m---> 11\u001b[1;33m         \u001b[0mself\u001b[0m\u001b[1;33m.\u001b[0m\u001b[0mprint\u001b[0m\u001b[1;33m(\u001b[0m\u001b[1;33m)\u001b[0m\u001b[1;33m\u001b[0m\u001b[1;33m\u001b[0m\u001b[0m\n\u001b[0m\u001b[0;32m     12\u001b[0m         \u001b[0mprint\u001b[0m\u001b[1;33m(\u001b[0m\u001b[0mc\u001b[0m\u001b[1;33m.\u001b[0m\u001b[0mnumgears\u001b[0m\u001b[1;33m)\u001b[0m\u001b[1;33m\u001b[0m\u001b[1;33m\u001b[0m\u001b[0m\n\u001b[0;32m     13\u001b[0m \u001b[0mc\u001b[0m\u001b[1;33m=\u001b[0m\u001b[0mcar\u001b[0m\u001b[1;33m(\u001b[0m\u001b[1;34m\"black\"\u001b[0m\u001b[1;33m,\u001b[0m\u001b[1;36m5\u001b[0m\u001b[1;33m)\u001b[0m\u001b[1;33m\u001b[0m\u001b[1;33m\u001b[0m\u001b[0m\n",
      "... last 1 frames repeated, from the frame below ...\n",
      "\u001b[1;32m<ipython-input-44-1b0f7afc0755>\u001b[0m in \u001b[0;36mprint\u001b[1;34m(self)\u001b[0m\n\u001b[0;32m      9\u001b[0m         \u001b[0mself\u001b[0m\u001b[1;33m.\u001b[0m\u001b[0mnumgears\u001b[0m\u001b[1;33m=\u001b[0m\u001b[0mnumgears\u001b[0m\u001b[1;33m\u001b[0m\u001b[1;33m\u001b[0m\u001b[0m\n\u001b[0;32m     10\u001b[0m     \u001b[1;32mdef\u001b[0m \u001b[0mprint\u001b[0m\u001b[1;33m(\u001b[0m\u001b[0mself\u001b[0m\u001b[1;33m)\u001b[0m\u001b[1;33m:\u001b[0m\u001b[1;33m\u001b[0m\u001b[1;33m\u001b[0m\u001b[0m\n\u001b[1;32m---> 11\u001b[1;33m         \u001b[0mself\u001b[0m\u001b[1;33m.\u001b[0m\u001b[0mprint\u001b[0m\u001b[1;33m(\u001b[0m\u001b[1;33m)\u001b[0m\u001b[1;33m\u001b[0m\u001b[1;33m\u001b[0m\u001b[0m\n\u001b[0m\u001b[0;32m     12\u001b[0m         \u001b[0mprint\u001b[0m\u001b[1;33m(\u001b[0m\u001b[0mc\u001b[0m\u001b[1;33m.\u001b[0m\u001b[0mnumgears\u001b[0m\u001b[1;33m)\u001b[0m\u001b[1;33m\u001b[0m\u001b[1;33m\u001b[0m\u001b[0m\n\u001b[0;32m     13\u001b[0m \u001b[0mc\u001b[0m\u001b[1;33m=\u001b[0m\u001b[0mcar\u001b[0m\u001b[1;33m(\u001b[0m\u001b[1;34m\"black\"\u001b[0m\u001b[1;33m,\u001b[0m\u001b[1;36m5\u001b[0m\u001b[1;33m)\u001b[0m\u001b[1;33m\u001b[0m\u001b[1;33m\u001b[0m\u001b[0m\n",
      "\u001b[1;31mRecursionError\u001b[0m: maximum recursion depth exceeded"
     ]
    }
   ],
   "source": [
    "class vehicle:\n",
    "    def __init__(self,color):\n",
    "        self.color=color\n",
    "    def print(self):\n",
    "        print(c.color,end=\" \")\n",
    "class car(vehicle):\n",
    "    def __init__(self,color,numgears):\n",
    "        super().__init__(color)\n",
    "        self.numgears=numgears\n",
    "    def print(self):\n",
    "        self.print()\n",
    "        print(c.numgears)\n",
    "c=car(\"black\",5)\n",
    "c.print()"
   ]
  },
  {
   "cell_type": "code",
   "execution_count": 45,
   "id": "2ac646e1",
   "metadata": {},
   "outputs": [
    {
     "name": "stdout",
     "output_type": "stream",
     "text": [
      "color red\n",
      "maxspeed 18\n",
      "color red\n",
      "maxspeed 19\n"
     ]
    }
   ],
   "source": [
    "## __= private\n",
    "## _ = protected\n",
    "class vehicle:\n",
    "    def __init__(self,color,maxspeed):\n",
    "        self.color=color\n",
    "        self._maxspeed=maxspeed\n",
    "    def getmaxspeed(self):\n",
    "        return self._maxspeed\n",
    "    def setmaxspeed (self,maxspeed):\n",
    "        self._maxspeed=maxspeed\n",
    "    def print(self):\n",
    "        print(\"color\",self.color)\n",
    "        print(\"maxspeed\",self._maxspeed)\n",
    "class car(vehicle):\n",
    "    def __init__(self,color,maxspeed,numgears,isconvertible):\n",
    "        super().__init__(color,maxspeed)\n",
    "        self.numgears=numgears\n",
    "        self.isconvertible=isconvertible\n",
    "    def print(self):\n",
    "        print(\"color\",self.color)\n",
    "        print(\"maxspeed\",self._maxspeed)\n",
    "        print(\"numgears\",self.numgears)\n",
    "        print(\"isconvertible\",self.isconvertible)\n",
    "v=vehicle(\"red\",18)\n",
    "v.print()\n",
    "v._maxspeed=19\n",
    "v.print() \n",
    "\n",
    "#python feels programmers are if using _ then they shouldnt try to modify it but\n",
    "#are using it only in emergency cases"
   ]
  },
  {
   "cell_type": "code",
   "execution_count": 46,
   "id": "632dab72",
   "metadata": {},
   "outputs": [
    {
     "name": "stdout",
     "output_type": "stream",
     "text": [
      "<__main__.circle object at 0x0000017A57F34AC0>\n"
     ]
    }
   ],
   "source": [
    "#by default every class inherits from the object class\n",
    "#three ways : __new__ (generally not used), __init__, __str__\n",
    "class circle (object):\n",
    "    def __init__(self,radius):\n",
    "        self.__radius = radius\n",
    "c=circle(3)\n",
    "print(c)"
   ]
  },
  {
   "cell_type": "code",
   "execution_count": 47,
   "id": "4e22b265",
   "metadata": {},
   "outputs": [
    {
     "name": "stdout",
     "output_type": "stream",
     "text": [
      "this is a circle class which takes radius as an argument\n"
     ]
    }
   ],
   "source": [
    "class circle (object):\n",
    "    def __init__(self,radius):\n",
    "        self.__radius = radius\n",
    "    def __str__(self): ##overwriiten the method\n",
    "        return \"this is a circle class which takes radius as an argument\"\n",
    "c=circle(3)\n",
    "print(c)"
   ]
  },
  {
   "cell_type": "code",
   "execution_count": 48,
   "id": "7ff89995",
   "metadata": {},
   "outputs": [
    {
     "name": "stdout",
     "output_type": "stream",
     "text": [
      "This is a Circle Class\n"
     ]
    }
   ],
   "source": [
    "class Circle(object):\n",
    "    def __str__(self):\n",
    "        return \"This is a Circle Class\"\n",
    "c = Circle()\n",
    "print(c)"
   ]
  },
  {
   "cell_type": "code",
   "execution_count": 53,
   "id": "4bbf0fd6",
   "metadata": {},
   "outputs": [
    {
     "name": "stdout",
     "output_type": "stream",
     "text": [
      "name of child is rohan\n"
     ]
    }
   ],
   "source": [
    "##multiple inheritance\n",
    "class Mother:\n",
    "    def print(self):\n",
    "        print(\"print of mother called\")\n",
    "class Father:\n",
    "    def print(self):\n",
    "        print(\"print of father called\")\n",
    "class Child(Father,Mother):\n",
    "    def __init__(self,name):\n",
    "        self.name = name\n",
    "    def printChild(self):\n",
    "        print(\"name of child is\",self.name)\n",
    "c=Child(\"rohan\")\n",
    "c.printChild()"
   ]
  },
  {
   "cell_type": "code",
   "execution_count": 54,
   "id": "ee4b41fd",
   "metadata": {},
   "outputs": [
    {
     "name": "stdout",
     "output_type": "stream",
     "text": [
      "print of father called\n"
     ]
    }
   ],
   "source": [
    "class Mother:\n",
    "    def print(self):\n",
    "        print(\"print of mother called\")\n",
    "class Father:\n",
    "    def print(self):\n",
    "        print(\"print of father called\")\n",
    "class Child(Father,Mother): ##because of this order, father was called\n",
    "    def __init__(self,name):\n",
    "        self.name = name\n",
    "    def printChild(self):\n",
    "        print(\"name of child is\",self.name)\n",
    "c=Child(\"rohan\")\n",
    "c.print()\n"
   ]
  },
  {
   "cell_type": "code",
   "execution_count": 55,
   "id": "bed65b4d",
   "metadata": {},
   "outputs": [
    {
     "name": "stdout",
     "output_type": "stream",
     "text": [
      "name of child is ajay\n"
     ]
    }
   ],
   "source": [
    "class Mother:\n",
    "    def __init__(self):\n",
    "        self.name =\"ajayaa\"\n",
    "    def print(self):\n",
    "        print(\"print of mother called\")\n",
    "class Father:\n",
    "    def __init__(self):\n",
    "        self.name =\"ajay\" #1\n",
    "    def print(self):\n",
    "        print(\"print of father called\")\n",
    "class Child(Father,Mother): ##because of this order, father was called again\n",
    "    def __init__(self):\n",
    "        super().__init__() \n",
    "    def printChild(self):\n",
    "        print(\"name of child is\",self.name) #whose name is ajay coz of declaration at 1\n",
    "c=Child()\n",
    "c.printChild()"
   ]
  },
  {
   "cell_type": "code",
   "execution_count": 8,
   "id": "0285d365",
   "metadata": {},
   "outputs": [
    {
     "name": "stdout",
     "output_type": "stream",
     "text": [
      "name of child is ajay\n",
      "[<class '__main__.Child'>, <class '__main__.Mother'>, <class '__main__.Father'>, <class 'object'>]\n"
     ]
    }
   ],
   "source": [
    "class Mother:\n",
    "    def __init__(self):\n",
    "        self.name =\"ajayaa\"\n",
    "        super().__init__()\n",
    "        \n",
    "    def print(self):\n",
    "        print(\"print of mother called\")\n",
    "class Father:\n",
    "    def __init__(self):\n",
    "        self.name =\"ajay\" #1\n",
    "        super().__init__()\n",
    "    def print(self):\n",
    "        print(\"print of father called\")\n",
    "class Child(Mother,Father): ##because of this order, father was called again\n",
    "    def __init__(self):\n",
    "        super().__init__() \n",
    "    def print(self):\n",
    "        print(\"name of child is\",self.name) #whose name is ajay coz of declaration at 1\n",
    "c=Child()\n",
    "c.print()\n",
    "print(Child.mro()) #method resolution order\n",
    "##to see the order in which classes are being called"
   ]
  },
  {
   "cell_type": "code",
   "execution_count": 9,
   "id": "a051640b",
   "metadata": {},
   "outputs": [
    {
     "name": "stdout",
     "output_type": "stream",
     "text": [
      "name of child is ajay\n",
      "[<class '__main__.Child'>, <class '__main__.Mother'>, <class '__main__.Father'>, <class 'object'>]\n"
     ]
    }
   ],
   "source": [
    "class Mother:\n",
    "    def __init__(self):\n",
    "        self.name =\"ajayaa\"\n",
    "        super().__init__()\n",
    "    def print(self):\n",
    "        print(\"print of mother called\")\n",
    "class Father:\n",
    "    def __init__(self):\n",
    "        self.name =\"ajay\" #1\n",
    "    def print(self):\n",
    "        print(\"print of father called\")\n",
    "class Child(Mother,Father): ##because of this order, father was called again\n",
    "    def __init__(self):\n",
    "        super().__init__() \n",
    "    def print(self):\n",
    "        print(\"name of child is\",self.name)\n",
    "c=Child()\n",
    "c.print()\n",
    "print(Child.mro())\n",
    "#because u are calling super().__init__ in mother class also\n",
    "#which changes the name to ajay"
   ]
  },
  {
   "cell_type": "code",
   "execution_count": 57,
   "id": "0d4f3d57",
   "metadata": {},
   "outputs": [
    {
     "name": "stdout",
     "output_type": "stream",
     "text": [
      "init of B called\n"
     ]
    }
   ],
   "source": [
    "class A:\n",
    "\n",
    "    def __init__(self):\n",
    "        print(\"init of A called\")\n",
    "class B:\n",
    "    def __init__(self):\n",
    "        print(\"init of B called\")\n",
    "\n",
    "class C(B,A):\n",
    "    def __init__(self):\n",
    "        super().__init__()\n",
    "\n",
    "c = C()"
   ]
  },
  {
   "cell_type": "code",
   "execution_count": 67,
   "id": "b7e52dc3",
   "metadata": {},
   "outputs": [
    {
     "name": "stdout",
     "output_type": "stream",
     "text": [
      "print of mother called\n",
      "[<class '__main__.Child'>, <class '__main__.Mother'>, <class '__main__.Father'>, <class 'object'>]\n"
     ]
    }
   ],
   "source": [
    "class Mother:\n",
    "    \n",
    "    def __init__(self):\n",
    "        self.name =\"ajayaa\"\n",
    "        super().__init__()\n",
    "    def print(self):\n",
    "        print(\"print of mother called\")\n",
    "        \n",
    "class Father:\n",
    "    def __init__(self):\n",
    "        self.name =\"ajay\" #1\n",
    "    def print(self):\n",
    "        print(\"print of father called\")\n",
    "        \n",
    "class Child(Mother,Father): ##because of this order, father was called again\n",
    "    def __init__(self):\n",
    "        super().__init__() \n",
    "    def printChild(self):\n",
    "        print(\"name of child is\",self.name) \n",
    "        #whose name is ajay coz of declaration at 1\n",
    "        \n",
    "c=Child()\n",
    "c.print()\n",
    "print(Child.mro())"
   ]
  },
  {
   "cell_type": "code",
   "execution_count": 1,
   "id": "54da5677",
   "metadata": {},
   "outputs": [
    {
     "name": "stdout",
     "output_type": "stream",
     "text": [
      "this point is at (4,6)\n",
      "False\n"
     ]
    }
   ],
   "source": [
    "### operator overloading\n",
    "import math\n",
    "class point:\n",
    "    def __init__(self,x,y):\n",
    "        self.__x = x\n",
    "        self.__y = y\n",
    "    def __str__(self):\n",
    "        return \"this point is at (\"  + str(self.__x) + \",\" + str(self.__y) + \")\"\n",
    "    def __add__  (self,point_object):\n",
    "        return point(self.__x + point_object.__x, self.__y + point_object.__y)\n",
    "    def __lt__ (self,point_object):\n",
    "        return (math.sqrt(self.__x**2 + self.__y**2) < math.sqrt(point_object.__x**2+point_object.__y**2))\n",
    "p1=point(1,2)\n",
    "p2=point(3,4)\n",
    "p3=p1+p2\n",
    "print(p3)\n",
    "print(p2<p1)"
   ]
  },
  {
   "cell_type": "code",
   "execution_count": null,
   "id": "24206cb3",
   "metadata": {},
   "outputs": [],
   "source": []
  }
 ],
 "metadata": {
  "kernelspec": {
   "display_name": "Python 3",
   "language": "python",
   "name": "python3"
  },
  "language_info": {
   "codemirror_mode": {
    "name": "ipython",
    "version": 3
   },
   "file_extension": ".py",
   "mimetype": "text/x-python",
   "name": "python",
   "nbconvert_exporter": "python",
   "pygments_lexer": "ipython3",
   "version": "3.8.8"
  }
 },
 "nbformat": 4,
 "nbformat_minor": 5
}
