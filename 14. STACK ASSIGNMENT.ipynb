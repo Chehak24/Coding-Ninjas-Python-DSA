{
 "cells": [
  {
   "cell_type": "markdown",
   "id": "3bd5fbdf",
   "metadata": {},
   "source": [
    "## check redundant - incorrect for 1 case"
   ]
  },
  {
   "cell_type": "code",
   "execution_count": 1,
   "id": "009d1d9d",
   "metadata": {},
   "outputs": [
    {
     "name": "stdout",
     "output_type": "stream",
     "text": [
      "(c)\n",
      "False\n"
     ]
    }
   ],
   "source": [
    "\n",
    "import queue\n",
    "def checkredundant(string):\n",
    "    q=queue.LifoQueue()\n",
    "    temp=0\n",
    "    l=len(string)\n",
    "    for i in range(l-1):\n",
    "        c=string[i]\n",
    "        n=string[i+1]\n",
    "        if c=='('and n==')':\n",
    "            return True\n",
    "        elif c=='('and n=='(':\n",
    "            temp=2\n",
    "        elif c==')'and n==')' and  temp==2:\n",
    "            return True\n",
    "    return False\n",
    "string=input()\n",
    "ans=checkredundant(string)\n",
    "if ans is True:\n",
    "    print('True')\n",
    "else:\n",
    "    print('False') "
   ]
  },
  {
   "cell_type": "code",
   "execution_count": 6,
   "id": "94dcf876",
   "metadata": {},
   "outputs": [
    {
     "name": "stdout",
     "output_type": "stream",
     "text": [
      "(c)\n",
      "True\n"
     ]
    }
   ],
   "source": [
    "def checkredundant(str):\n",
    "    stk=list()\n",
    "    for i in range (len(str)):\n",
    "        if (str[i]==\"(\") or (find(str[i])):\n",
    "            stk.append(str[i])\n",
    "        elif str[i] ==\")\":\n",
    "            hasoperator = False\n",
    "            while not isEmpty(stk) and top(stk) !=\"(\" :\n",
    "                stk.pop()\n",
    "                hasoperator= True\n",
    "            if not hasoperator :\n",
    "                return True\n",
    "            if not isEmpty(stk):\n",
    "                stk.pop()\n",
    "    return False\n",
    "def find(ch):\n",
    "    if ch == '+' or ch == '-' or ch == '*' or ch=='/':\n",
    "        return True\n",
    "    return False\n",
    "def isEmpty (stack):\n",
    "    return len(stack)==0\n",
    "def top(stack):\n",
    "    return stack[len(stack)-1]\n",
    "string=input()\n",
    "ans=checkredundant(string)\n",
    "if ans is True:\n",
    "    print('True')\n",
    "else:\n",
    "    print('False') "
   ]
  },
  {
   "cell_type": "markdown",
   "id": "0bff0bb7",
   "metadata": {},
   "source": [
    "### STOCKSPAN\n",
    "1. if the price of a stock over a period of 7 days are [100, 80, 60, 70, 60, 75, 85], then the stock spans will be [1, 1, 1, 2, 1, 4, 6]\n",
    "2. The span of the stock's price today is defined as the maximum number of consecutive days(starting from today and going backwards) for which the price of the stock was less than today's price."
   ]
  },
  {
   "cell_type": "code",
   "execution_count": 3,
   "id": "eceb2818",
   "metadata": {},
   "outputs": [
    {
     "name": "stdout",
     "output_type": "stream",
     "text": [
      "4\n",
      "100 80 60 70\n",
      "1 1 1 2 \n"
     ]
    }
   ],
   "source": [
    "\n",
    "def stockspan(price,n):\n",
    "    stk=list()\n",
    "    output=[-1]*n\n",
    "    stk.append(0)\n",
    "    output[0]=1\n",
    "    for i in range(1,n):\n",
    "        while (not isempty(stk) and price[top(stk)]<price[i]):\n",
    "            stk.pop()\n",
    "        if isempty(stk):\n",
    "            output[i]=i+1\n",
    "        else:\n",
    "            output[i]=i-top(stk)\n",
    "        stk.append(i)\n",
    "    return output\n",
    "def isempty(stack):\n",
    "    return len(stack)==0\n",
    "def top(stack):\n",
    "    return stack[len(stack)-1]\n",
    "\n",
    "def printList(arr) :\n",
    "    for i in range(len(arr)) :\n",
    "        print(arr[i], end = \" \")\n",
    "    print()\n",
    "def takeinput():\n",
    "    n=int(input())\n",
    "    if n==0:\n",
    "        return list(),0\n",
    "    price=[int(ele) for ele in input().split()]\n",
    "    return price,n\n",
    "price, n = takeinput()\n",
    "output = stockspan(price, n)\n",
    "printList(output)"
   ]
  },
  {
   "cell_type": "markdown",
   "id": "59196ba1",
   "metadata": {},
   "source": [
    "### BRACKET REVERSAL TO BUILD CLOSED BRACKETS\n",
    "1. find the minimum number of brackets that can be reversed in order to make the expression balanced. The expression will only contain curly brackets."
   ]
  },
  {
   "cell_type": "code",
   "execution_count": 6,
   "id": "07a80819",
   "metadata": {},
   "outputs": [
    {
     "name": "stdout",
     "output_type": "stream",
     "text": [
      "}{{{\n",
      "3\n"
     ]
    }
   ],
   "source": [
    "def bracketreversal(str):\n",
    "    length=len(str)\n",
    "    if length==0:\n",
    "        return 0\n",
    "    if length%2!=0: ##if length is odd, cant be balanced \n",
    "        return -1\n",
    "    stack=list()\n",
    "    for i in range(length):\n",
    "        currchar=str[i]\n",
    "        if currchar=='{':\n",
    "            stack.append(currchar)\n",
    "        else:\n",
    "            if (not isempty(stack)) and (top(stack)=='{'):\n",
    "                stack.pop()\n",
    "            else:\n",
    "                stack.append(currchar)\n",
    "    count=0\n",
    "    while not isempty(stack):\n",
    "        char1=stack.pop()\n",
    "        char2=stack.pop()\n",
    "        if char1!=char2:\n",
    "            count+=2\n",
    "        else:\n",
    "            count+=1\n",
    "    return count\n",
    "def isempty(stack):\n",
    "    return len(stack)==0\n",
    "def top(stack):\n",
    "    return stack[len(stack)-1]\n",
    "\n",
    "print(bracketreversal(input()))\n",
    "    "
   ]
  }
 ],
 "metadata": {
  "kernelspec": {
   "display_name": "Python 3",
   "language": "python",
   "name": "python3"
  },
  "language_info": {
   "codemirror_mode": {
    "name": "ipython",
    "version": 3
   },
   "file_extension": ".py",
   "mimetype": "text/x-python",
   "name": "python",
   "nbconvert_exporter": "python",
   "pygments_lexer": "ipython3",
   "version": "3.8.8"
  }
 },
 "nbformat": 4,
 "nbformat_minor": 5
}
