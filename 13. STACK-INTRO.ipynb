{
 "cells": [
  {
   "cell_type": "markdown",
   "id": "d8359ff4",
   "metadata": {},
   "source": [
    "1. ABSTRACT DATA TYPE\n",
    "2. PUSH(insert)\n",
    "3. POP(delete)\n",
    "4. TOP-ACCESS THE TOP ELEMENT OF THE STACK\n",
    "5. SIZE\n",
    "6. IS EMPTY"
   ]
  },
  {
   "cell_type": "raw",
   "id": "75196278",
   "metadata": {},
   "source": [
    "RECURSION STACK - \n",
    "RECURSION CALLS MAKE USE OF INBUILT STACK MEMORY TO STORE THEIR DATA AND PASS IT ON "
   ]
  },
  {
   "cell_type": "markdown",
   "id": "0fd7bd79",
   "metadata": {},
   "source": [
    "1. STACK USING ARRAY FOR US, BUT FOR USER IT IS STACK ONLY\n",
    "2. PUSH IS USED AS APPEND\n",
    "3. POP IS USED AS DELETE\n",
    "4. TOP CAN BE DEFINED AS ARR [LENGTH(ARR)-1]\n",
    "5. WE WILL USE PRIVATE ARRAY SINCE USED SHOULDNT HAVE ACCESS TO ARRAY\n",
    "## STACK USING ARRAY"
   ]
  },
  {
   "cell_type": "code",
   "execution_count": 1,
   "id": "f197267a",
   "metadata": {},
   "outputs": [
    {
     "name": "stdout",
     "output_type": "stream",
     "text": [
      "15\n",
      "13\n",
      "12\n"
     ]
    }
   ],
   "source": [
    "\n",
    "class stack:\n",
    "    def __init__(self):\n",
    "        self.__data=[] ##making it pvt array\n",
    "    def push(self,item):\n",
    "        self.__data.append(item)\n",
    "    def pop(self):\n",
    "        if self.isempty():\n",
    "            print(\"stack empty\")\n",
    "            return\n",
    "        return self.__data.pop()\n",
    "    \n",
    "    def top(self):\n",
    "        if self.isempty():\n",
    "            print(\"stack empty\")\n",
    "            return\n",
    "        return self.__data[len(self.__data)-1]\n",
    "    \n",
    "    def size(self):\n",
    "        return len(self.__data)\n",
    "    \n",
    "    def isempty(self):\n",
    "        return self.size() ==0\n",
    "s=stack()    \n",
    "s.push(12)\n",
    "s.push(13)\n",
    "s.push(15)\n",
    "while s.isempty() is False:\n",
    "    print(s.pop())\n",
    "    "
   ]
  },
  {
   "cell_type": "code",
   "execution_count": 2,
   "id": "684e4de3",
   "metadata": {},
   "outputs": [
    {
     "name": "stdout",
     "output_type": "stream",
     "text": [
      "15\n",
      "13\n",
      "12\n"
     ]
    }
   ],
   "source": [
    "class stack:\n",
    "    def __init__(self):\n",
    "        self.__data=[]\n",
    "        \n",
    "    def push(self,item):\n",
    "        self.__data.append(item)\n",
    "        \n",
    "    def pop(self):\n",
    "        if self.isempty():\n",
    "            print(\"stack empty\")\n",
    "            return\n",
    "        return self.__data.pop()\n",
    "    \n",
    "    def top(self):\n",
    "        if self.isempty():\n",
    "            print(\"stack empty\")\n",
    "            return\n",
    "        return self.__data[len(self.__data)-1]\n",
    "        \n",
    "    def size(self):\n",
    "        return len(self.__data)\n",
    "    def isempty(self):\n",
    "        return self.size()==0\n",
    "s=stack()    \n",
    "s.push(12)\n",
    "s.push(13)\n",
    "s.push(15)\n",
    "while s.isempty() is False:\n",
    "    print(s.pop())\n",
    "     "
   ]
  },
  {
   "cell_type": "markdown",
   "id": "695da204",
   "metadata": {},
   "source": [
    "## STACK USING singly LINKEDLIST--O(1) needs to be done in every case 1 ->2 ->3\n",
    "1. head and tail will be maintained for PUSH operation\n",
    "2. for POP we have to go to the previous of tail, O(n) operation, not allowed\n",
    "3. if we create something like 3->2->1, it will be easier to pop out \n",
    "4. the last element ie 3 (u just need to shift head to 2)\n",
    "5. pushing elements is  still easy since we create a newnode and set its \n",
    "6. next to the head and make the newnode as head\n",
    "7. top is present at head\n",
    "8. for size, iterate all the linked list? no maintain the count variaable\n",
    "9. whenever pushing count+=1, if pop count-=1, for size return count\n",
    "10. is_empty, check via count"
   ]
  },
  {
   "cell_type": "code",
   "execution_count": 11,
   "id": "1ede47a3",
   "metadata": {
    "scrolled": true
   },
   "outputs": [
    {
     "name": "stdout",
     "output_type": "stream",
     "text": [
      "2\n",
      "14\n"
     ]
    }
   ],
   "source": [
    "class Node:\n",
    "    def __init__(self,data):\n",
    "        self.data=data\n",
    "        self.next=None\n",
    "class Stack:\n",
    "    def __init__(self):\n",
    "        self.__head=None\n",
    "        self.__count=0 ##mainatining ciount so that size can be easily approached\n",
    "    def push(self,element):\n",
    "        newnode=Node(element)\n",
    "        newnode.next=self.__head\n",
    "        self.__head=newnode\n",
    "        self.__count+=1\n",
    "    def pop(self):\n",
    "        if self.isempty() is True:\n",
    "            return\n",
    "        data=self.__head.data ##storing the head's data\n",
    "        self.__head=self.__head.next\n",
    "        self.__count=self.__count-1\n",
    "        return data\n",
    "    def top(self):\n",
    "        if self.isempty() is True:\n",
    "            return\n",
    "        data=self.__head.data ##storing the head's data\n",
    "        return data\n",
    "    def size(self):\n",
    "        return self.__count\n",
    "    def isempty(self):\n",
    "        return self.size()==0 \n",
    "s=Stack()\n",
    "s.push(12)\n",
    "s.push(13)\n",
    "s.pop()\n",
    "s.push(14)\n",
    "print(s.size())\n",
    "print(s.top())"
   ]
  },
  {
   "cell_type": "code",
   "execution_count": null,
   "id": "0d094348",
   "metadata": {},
   "outputs": [],
   "source": [
    "class Node:\n",
    "    def __init__(self,data):\n",
    "        self.data=data\n",
    "        self.next=None\n",
    "class stack:\n",
    "    def __init__(self):\n",
    "        self.__head=None\n",
    "        self.__count=0\n",
    "    def push(self,new):\n",
    "        newnode=Node(new)\n",
    "        newnode.next=self.__head\n",
    "        self.__head=newnode\n",
    "        self.__count+=1\n",
    "    def pop(self):\n",
    "        if self.isempty() is True:\n",
    "            return\n",
    "        data=self.__head.data\n",
    "        self.__head=self.__head.next\n",
    "        self.__count-=1\n",
    "        return data\n",
    "    def top(self):\n",
    "        if self.isempty()  is True:\n",
    "            return\n",
    "        data=self.__head.data ##storing the head's data\n",
    "        return data\n",
    "    def size(self):\n",
    "        return self.__count\n",
    "    def isempty(self):\n",
    "        return self.size==0\n"
   ]
  },
  {
   "cell_type": "raw",
   "id": "67c56266",
   "metadata": {},
   "source": [
    "MARK THE DIFFERENCE BETWEEN STACK(LIFO) AND QUEUE(FIFO)"
   ]
  },
  {
   "cell_type": "code",
   "execution_count": 6,
   "id": "991c4af4",
   "metadata": {},
   "outputs": [
    {
     "name": "stdout",
     "output_type": "stream",
     "text": [
      "9\n",
      "2\n",
      "4\n"
     ]
    }
   ],
   "source": [
    "s=[1,2,3,4] ##THIS IS EXAMPLE OF QUEUE IN LIST ie INBUILT LIST CAN BE USED AS STAACK\n",
    "s.append(2)\n",
    "s.append(9)\n",
    "\n",
    "print(s.pop())\n",
    "\n",
    "print(s.pop())\n",
    "\n",
    "print(s.pop())"
   ]
  },
  {
   "cell_type": "code",
   "execution_count": 7,
   "id": "0faec0c4",
   "metadata": {},
   "outputs": [
    {
     "name": "stdout",
     "output_type": "stream",
     "text": [
      "1\n",
      "2\n",
      "3\n",
      "4\n"
     ]
    }
   ],
   "source": [
    "## INBUILT QUEUE\n",
    "import queue\n",
    "q=queue.Queue()\n",
    "q.put(1)\n",
    "q.put(2)\n",
    "q.put(3)\n",
    "q.put(4)\n",
    "while not q.empty():\n",
    "    print(q.get())"
   ]
  },
  {
   "cell_type": "code",
   "execution_count": 8,
   "id": "5d16d282",
   "metadata": {},
   "outputs": [
    {
     "name": "stdout",
     "output_type": "stream",
     "text": [
      "3\n",
      "2\n",
      "1\n"
     ]
    }
   ],
   "source": [
    "##IMPORTING QUEUE AS STACK\n",
    "import queue\n",
    "q=queue.LifoQueue()\n",
    "q.put(1)\n",
    "q.put(2)\n",
    "q.put(3)\n",
    "while not q.empty():\n",
    "    print(q.get())\n",
    "    "
   ]
  },
  {
   "cell_type": "markdown",
   "id": "28043d9c",
   "metadata": {},
   "source": [
    "#### BALANCED PARANTHESIS-LIFO STRATEGY "
   ]
  },
  {
   "cell_type": "code",
   "execution_count": 2,
   "id": "8f3fc2af",
   "metadata": {},
   "outputs": [
    {
     "name": "stderr",
     "output_type": "stream",
     "text": [
      "<>:9: SyntaxWarning: \"is\" with a literal. Did you mean \"==\"?\n",
      "<>:14: SyntaxWarning: \"is\" with a literal. Did you mean \"==\"?\n",
      "<>:18: SyntaxWarning: \"is\" with a literal. Did you mean \"==\"?\n",
      "<>:9: SyntaxWarning: \"is\" with a literal. Did you mean \"==\"?\n",
      "<>:14: SyntaxWarning: \"is\" with a literal. Did you mean \"==\"?\n",
      "<>:18: SyntaxWarning: \"is\" with a literal. Did you mean \"==\"?\n",
      "<ipython-input-2-589445792cd0>:9: SyntaxWarning: \"is\" with a literal. Did you mean \"==\"?\n",
      "  elif char is ')':\n",
      "<ipython-input-2-589445792cd0>:14: SyntaxWarning: \"is\" with a literal. Did you mean \"==\"?\n",
      "  elif char is '}' :\n",
      "<ipython-input-2-589445792cd0>:18: SyntaxWarning: \"is\" with a literal. Did you mean \"==\"?\n",
      "  elif char is ']':\n"
     ]
    },
    {
     "name": "stdout",
     "output_type": "stream",
     "text": [
      "(a+b)\n",
      "True\n"
     ]
    }
   ],
   "source": [
    "\n",
    "def isbalanced(string):\n",
    "    s=[]\n",
    "    for char in string:\n",
    "        if char in '({[':\n",
    "            s.append(char)\n",
    "        elif char is ')':\n",
    "            if (not s or  s[-1]!='('): ##not s means stack is empty\n",
    "                ##emptiness should be checked before checking the last element in array\n",
    "                return False \n",
    "            s.pop()\n",
    "        elif char is '}' :\n",
    "            if (not s or  s[-1]!='{'):\n",
    "                return False\n",
    "            s.pop()\n",
    "        elif char is ']':\n",
    "            if (not s or  s[-1]!=']'):\n",
    "                return False\n",
    "            s.pop()\n",
    "    if (not s): ##nedd to check whether stack has become empty or not after treversing all the elements\n",
    "        return True \n",
    "    return False\n",
    "string = input()\n",
    "ans=isbalanced(string)\n",
    "print(ans)"
   ]
  },
  {
   "cell_type": "markdown",
   "id": "895a730c",
   "metadata": {},
   "source": [
    "## reversing a stack using another stack\n",
    "1. the same stack needs to return the reversed elements\n",
    "2. we can use inbuilt stack ie recurssion stack  and an empty stack\n",
    "\n",
    "\n",
    "\n",
    "3. reverse stack(s1,s2)\n",
    "4. if s1 has 1 element left->return \n",
    "5. move n-1 elements from s1 to s2\n",
    "6. save the last eleemnt of s1\n",
    "7. move s2 back to s1\n",
    "8. call reverse(s1,s2)\n",
    "9. push ele into s1"
   ]
  },
  {
   "cell_type": "code",
   "execution_count": 18,
   "id": "0abe51fb",
   "metadata": {},
   "outputs": [
    {
     "name": "stdout",
     "output_type": "stream",
     "text": [
      "4\n",
      "1 2 3 4\n",
      "1 2 3 4 "
     ]
    }
   ],
   "source": [
    "def reverseStack(s1,s2):  \n",
    "    if len(s1)<=1:\n",
    "        return\n",
    "    while (len(s1)!=1):\n",
    "        ele=s1.pop()\n",
    "        s2.append(ele)\n",
    "    lastele=s1.pop()\n",
    "    while len(s2)!=0:\n",
    "        ele=s2.pop()\n",
    "        s1.append(ele)\n",
    "    reverseStack(s1,s2)\n",
    "    s1.append(lastele)\n",
    "from sys import setrecursionlimit\n",
    "setrecursionlimit(11000)\n",
    "n=int(input())\n",
    "s1=[int(ele) for ele in input().split()]\n",
    "s2=[]\n",
    "reverseStack(s1,s2)\n",
    "while len(s1)!=0:\n",
    "    print(s1.pop(),end=' ')\n",
    "## stack was inputted as (starting from bottom)\n",
    "#1\n",
    "#2\n",
    "#3\n",
    "#4\n",
    "\n",
    "##revrsed\n",
    "#4\n",
    "#3\n",
    "#2\n",
    "#1\n",
    "\n",
    "#printed from the top ie 1 2 3 4"
   ]
  }
 ],
 "metadata": {
  "kernelspec": {
   "display_name": "Python 3",
   "language": "python",
   "name": "python3"
  },
  "language_info": {
   "codemirror_mode": {
    "name": "ipython",
    "version": 3
   },
   "file_extension": ".py",
   "mimetype": "text/x-python",
   "name": "python",
   "nbconvert_exporter": "python",
   "pygments_lexer": "ipython3",
   "version": "3.8.8"
  }
 },
 "nbformat": 4,
 "nbformat_minor": 5
}
