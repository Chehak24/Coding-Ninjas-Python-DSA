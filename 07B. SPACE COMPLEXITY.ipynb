{
 "cells": [
  {
   "cell_type": "markdown",
   "id": "efe2754f",
   "metadata": {},
   "source": [
    "1. n is an input\n",
    "2. i=1\n",
    "3. while i<= n:\n",
    "        1. print i\n",
    "        2. i+=1\n",
    "4. O(n)\n",
    "\n",
    "5. Max space req at any pt of time \n",
    "6. list or arr of n size -> O(n)\n",
    "7. Count only the auxilary space, input arr is not counted as the space requirement\n",
    "8. Recursion requires space"
   ]
  },
  {
   "cell_type": "markdown",
   "id": "f43ed92f",
   "metadata": {},
   "source": [
    "### Taking bubble sort as an example:\n",
    "1. starting from i=0 and then swapping\n",
    "2. need some contants no. of variables\n",
    "3. constant space requirement\n",
    "4. O(n)\n",
    "\n",
    "\n",
    "##### Factorial iterative\n",
    "1. ans = 1, i=1\n",
    "2. while i<=n; ans = i* ans ; return ans \n",
    "3. constant spaces -> O(1)\n",
    "\n",
    "\n",
    "##### Recursive Factorial\n",
    "1. fact (n) : \n",
    "2. if n==0:\n",
    "        1. return 1\n",
    "3. return n * fact(n) \n",
    "\n",
    "4. fact(n)->fact(n-1)->... fact(1) ; all functions are somewhere in memory till the ans is returned from fact (0) \n",
    "5. each funcn requires constant spaces but is waiting for it next funcn-> so taking (n+1)* k ie O(n) space complexity.\n"
   ]
  },
  {
   "cell_type": "markdown",
   "id": "0eb1ca90",
   "metadata": {},
   "source": [
    "#### MERGE SORT \n",
    "1. n space is already there \n",
    "2. n-> 2 n/2 spaces -> 4 n/4 spaces ...\n",
    "3. n+/2+n/4+n/8...+1 ( since n frst calls 1 n/2 which calls 1 n/4.. till they return their value ie at any level there is only 1 funcn ie alive\n",
    "3. logn levels; space requirement is more than logn since not constant memories are being stored\n",
    "4. n(1+1/2+1/4+1/8..)= 2n\n",
    "5. O(n)\n"
   ]
  },
  {
   "cell_type": "markdown",
   "id": "3b884125",
   "metadata": {},
   "source": [
    "### QUICKSORT\n"
   ]
  },
  {
   "cell_type": "markdown",
   "id": "4b9d4348",
   "metadata": {},
   "source": [
    "1. taking random number as pivot ele, that index becomes our pivot\n",
    "2. go thru all the numbers to get count of ele< p to put pivot at the right place-> k1n\n",
    "3. i and j allocates at start and end,                                     4. for every iteration we move i and j\n",
    "5. partitioning -> K2n \n",
    "6. worse case -> p is largest or smallest -> T(n) = T(n-1)+kn -> O(n^2)\n",
    "7. best case -> T(n) =2T(n/2) +Kn -> O(nlogn)\n",
    "8. dont take the worse case into consideration since there qould be hardly any chance u hit the worse case in a v large list is v low and we have randomisation algo for the same where chances of hitting the worse case but on the algo\n",
    "\n",
    "\n"
   ]
  },
  {
   "cell_type": "markdown",
   "id": "94e96fac",
   "metadata": {},
   "source": [
    "1. on an  avg we can consider the split to be n/4 and 3n/4 \n",
    "2. T(n) = T(n/4)+T(3n/4) +Kn ie O(nlogn) is the time complexity\n",
    "\n",
    "\n",
    "###### space complexity\n",
    "1. max no. of space req at any pt of time\n",
    "2. how man funcns will be there at max\n",
    "3. n->3/4n-> (3/4)^2 n .......1\n",
    "5. (3/4)^x n = 1\n",
    "5. n= (4/3)^x\n",
    "6. x = log (base 4/3) n\n",
    "7. x = 3.47 log n\n",
    "8. total space req->  O (logn)\n"
   ]
  },
  {
   "cell_type": "code",
   "execution_count": null,
   "id": "bfab4a05",
   "metadata": {},
   "outputs": [],
   "source": []
  }
 ],
 "metadata": {
  "kernelspec": {
   "display_name": "Python 3",
   "language": "python",
   "name": "python3"
  },
  "language_info": {
   "codemirror_mode": {
    "name": "ipython",
    "version": 3
   },
   "file_extension": ".py",
   "mimetype": "text/x-python",
   "name": "python",
   "nbconvert_exporter": "python",
   "pygments_lexer": "ipython3",
   "version": "3.8.8"
  }
 },
 "nbformat": 4,
 "nbformat_minor": 5
}
