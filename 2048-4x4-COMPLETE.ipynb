{
 "cells": [
  {
   "cell_type": "code",
   "execution_count": 1,
   "id": "37b8875c",
   "metadata": {},
   "outputs": [],
   "source": [
    "from tkinter import Frame, Label,  CENTER\n"
   ]
  },
  {
   "cell_type": "code",
   "execution_count": 2,
   "id": "ce614791",
   "metadata": {},
   "outputs": [],
   "source": [
    "from CNTRIALL import logics"
   ]
  },
  {
   "cell_type": "code",
   "execution_count": 3,
   "id": "64bbcbd0",
   "metadata": {},
   "outputs": [],
   "source": [
    "from CNTRIALL import constant as c"
   ]
  },
  {
   "cell_type": "code",
   "execution_count": 4,
   "id": "6930d36a",
   "metadata": {},
   "outputs": [],
   "source": [
    "class Game2048(Frame): ### fraem is a suuperclass\n",
    "    def __init__(self):\n",
    "        Frame.__init__(self)\n",
    "        \n",
    "        self.grid() ## tkinter has a grid manager to input the frame as grid (self is being used)\n",
    "        self.master.title('2048')\n",
    "        self.master.bind(\"<Key>\", self.key_down) ## binding is there to check if any key event is happening u need to go to the key down funcn\n",
    "        self.commands={c.KEY_UP: logics.move_up, c.KEY_DOWN: logics.move_down, c.KEY_LEFT: logics.move_left, c.KEY_RIGHT: logics.move_right}\n",
    "        \n",
    "        self.grid_cells=[] ## grids inside the cells\n",
    "        self.init_grid() ## created the UI\n",
    "        self.init_matrix() ##created a matrix\n",
    "        self.update_grid_cells() ##managing/changing the UI using the matrix\n",
    "        \n",
    "        self.mainloop() ## runs the prog\n",
    "        \n",
    "    def init_grid(self):\n",
    "        background=Frame(self,bg=c.BACKGROUND_COLOR_GAME, width=c.SIZE, height = c.SIZE)\n",
    "        background.grid() ## frame has another frame\n",
    "        \n",
    "        for i in range(c.GRID_LEN):\n",
    "            grid_row=[]\n",
    "            for j in range(c.GRID_LEN):\n",
    "                cell=Frame(background,bg=c.BACKGROUND_COLOR_CELL_EMPTY, width=c.SIZE/c.GRID_LEN, height=c.SIZE/c.GRID_LEN)\n",
    "                cell.grid(row=i,column=j, padx=c.GRID_PADDING, pady=c.GRID_PADDING )\n",
    "                t=Label(master=cell,text=\"\", bg=c.BACKGROUND_COLOR_CELL_EMPTY,justify=CENTER, font=c.FONT, width= 5, height = 2)\n",
    "                t.grid()\n",
    "                grid_row.append(t) ## label covers the cell\n",
    "                \n",
    "            self.grid_cells.append(grid_row)\n",
    "            \n",
    "            \n",
    "    def init_matrix(self): ## making a 2d array internally \n",
    "        self.matrix=logics.start_game() \n",
    "        logics.add_new2(self.matrix)\n",
    "        logics.add_new2(self.matrix)\n",
    "        \n",
    "    def update_grid_cells(self):\n",
    "        for i in range(c.GRID_LEN):\n",
    "            for j in range(c.GRID_LEN):\n",
    "                new_number = self.matrix[i][j]\n",
    "                if new_number==0:\n",
    "                    self.grid_cells[i][j].configure(text=\"\", bg = c.BACKGROUND_COLOR_CELL_EMPTY)\n",
    "                else:\n",
    "                    self.grid_cells[i][j].configure(text=str(new_number), bg=c.BACKGROUND_COLOR_DICT[new_number], fg=c.CELL_COLOR_DICT[new_number])\n",
    "                    \n",
    "        self.update_idletasks() ##when u r changing the color, it takes time,if any color is remaining we will stop here till the process is completed\n",
    "        \n",
    "    def key_down(self,event):\n",
    "        key=repr(event.char)\n",
    "        if key in self.commands:\n",
    "            self.matrix, changed = self.commands[repr(event.char)](self.matrix) ## [passing the key as arg in the matrix]\n",
    "            if changed:\n",
    "                logics.add_new2(self.matrix)\n",
    "                self.update_grid_cells() ## since UI needs to be changed too\n",
    "                changed=False ## bringing it back to False\n",
    "                if logics.get_current_state(self.matrix)=='Won':\n",
    "                    self.grid_cells[1][1].configure(text=\"You\", bg =c.BACKGROUND_COLOR_CELL_EMPTY)\n",
    "                    self.grid_cells[1][2].configure(text=\"Win\", bg =c.BACKGROUND_COLOR_CELL_EMPTY)\n",
    "                    \n",
    "                if logics.get_current_state(self.matrix)=='Lost':\n",
    "                    self.grid_cells[1][1].configure(text=\"You\", bg= c.BACKGROUND_COLOR_CELL_EMPTY)\n",
    "                    self.grid_cells[1][2].configure(text=\"Lose!\", bg = c.BACKGROUND_COLOR_CELL_EMPTY)\n",
    "                    \n",
    "  \n",
    "        \n",
    "gamegrid = Game2048()"
   ]
  },
  {
   "cell_type": "code",
   "execution_count": null,
   "id": "aadba84b",
   "metadata": {},
   "outputs": [],
   "source": []
  }
 ],
 "metadata": {
  "kernelspec": {
   "display_name": "Python 3",
   "language": "python",
   "name": "python3"
  },
  "language_info": {
   "codemirror_mode": {
    "name": "ipython",
    "version": 3
   },
   "file_extension": ".py",
   "mimetype": "text/x-python",
   "name": "python",
   "nbconvert_exporter": "python",
   "pygments_lexer": "ipython3",
   "version": "3.8.8"
  }
 },
 "nbformat": 4,
 "nbformat_minor": 5
}
