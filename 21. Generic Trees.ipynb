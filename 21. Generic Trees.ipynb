{
 "cells": [
  {
   "cell_type": "markdown",
   "id": "6bc6610f",
   "metadata": {},
   "source": [
    "Parent node has no limit to the no. of children"
   ]
  },
  {
   "cell_type": "code",
   "execution_count": 1,
   "id": "1852fb94",
   "metadata": {},
   "outputs": [],
   "source": [
    "class TreeNode:\n",
    "    def __init__(self,data):\n",
    "        self.data=data\n",
    "        self.children=list()\n",
    "        "
   ]
  },
  {
   "cell_type": "code",
   "execution_count": 3,
   "id": "3648c6ea",
   "metadata": {},
   "outputs": [],
   "source": [
    "n1 = TreeNode(5)\n",
    "n2 = TreeNode(4)\n",
    "n3 = TreeNode(6)\n",
    "n4 = TreeNode(7)\n",
    "n5 = TreeNode(8)\n",
    "n6 = TreeNode(9)\n",
    "\n",
    "n1.children.append(n2)\n",
    "n1.children.append(n3)\n",
    "n1.children.append(n4)\n",
    "\n",
    "n2.children.append(n5)\n",
    "n2.children.append(n6)"
   ]
  },
  {
   "cell_type": "markdown",
   "id": "3952646a",
   "metadata": {},
   "source": [
    "Printing pre order is okay but it doesnt give the cnnctns rightly \n",
    "5 4 8 9 6 7 can be understood in many ways if not cnnctd properly\n",
    "printing like \n",
    "5:4,6,7\n",
    "4:8,9\n",
    "8:\n",
    "9:\n",
    "6:\n",
    "7:\n",
    "this is a better way\n"
   ]
  },
  {
   "cell_type": "code",
   "execution_count": 4,
   "id": "e1abd912",
   "metadata": {},
   "outputs": [
    {
     "name": "stdout",
     "output_type": "stream",
     "text": [
      "5\n",
      "4\n",
      "8\n",
      "9\n",
      "6\n",
      "7\n"
     ]
    }
   ],
   "source": [
    "def printTree(root):\n",
    "    #todo is root is None:\n",
    "    print(root.data)\n",
    "    for child in root.children:\n",
    "        printTree(child)\n",
    "printTree(n1)"
   ]
  },
  {
   "cell_type": "markdown",
   "id": "b1e924d5",
   "metadata": {},
   "source": [
    "root==None is not to be handeled as a base case but an edge case\n",
    "base case is gng to reach thru recursion (for loop)\n",
    "edge case has to be handeled if the user directly gives leaf as the edge case\n"
   ]
  },
  {
   "cell_type": "markdown",
   "id": "ff05c75c",
   "metadata": {},
   "source": [
    "###  Print tree detailed recursively\n"
   ]
  },
  {
   "cell_type": "code",
   "execution_count": 8,
   "id": "b1ee6ca3",
   "metadata": {},
   "outputs": [
    {
     "name": "stdout",
     "output_type": "stream",
     "text": [
      "5 :4 ,6 ,7 ,\n",
      "4 :8 ,9 ,\n",
      "8 :\n",
      "9 :\n",
      "6 :\n",
      "7 :\n"
     ]
    }
   ],
   "source": [
    "def printTreedetailed(root):\n",
    "    if root == None:\n",
    "        return\n",
    "    print(root.data,\":\",end=\"\")\n",
    "    for child in root.children:\n",
    "        print(child.data,\",\",end=\"\")\n",
    "    print()\n",
    "    for child in root.children:\n",
    "        printTreedetailed(child)\n",
    "printTreedetailed(n1)"
   ]
  },
  {
   "cell_type": "markdown",
   "id": "7704c36b",
   "metadata": {},
   "source": [
    "### take input recursively\n",
    "1. keep asking for inputs recursively\n",
    "2. how many children does root have, enter those children and move ahead\n",
    "\n"
   ]
  },
  {
   "cell_type": "code",
   "execution_count": 12,
   "id": "8a30bb56",
   "metadata": {},
   "outputs": [
    {
     "name": "stdout",
     "output_type": "stream",
     "text": [
      "Enter root data\n",
      "5\n",
      "enter no of children for 5\n",
      "4\n",
      "Enter root data\n",
      "2\n",
      "enter no of children for 2\n",
      "0\n",
      "Enter root data\n",
      "3\n",
      "enter no of children for 3\n",
      "2\n",
      "Enter root data\n",
      "4\n",
      "enter no of children for 4\n",
      "0\n",
      "Enter root data\n",
      "5\n",
      "enter no of children for 5\n",
      "0\n",
      "Enter root data\n",
      "6\n",
      "enter no of children for 6\n",
      "0\n",
      "Enter root data\n",
      "7\n",
      "enter no of children for 7\n",
      "0\n",
      "5 :2 ,3 ,6 ,7 ,\n",
      "2 :\n",
      "3 :4 ,5 ,\n",
      "4 :\n",
      "5 :\n",
      "6 :\n",
      "7 :\n"
     ]
    }
   ],
   "source": [
    "def takeTreeInput():\n",
    "    print (\"Enter root data\")\n",
    "    rootData=int(input())\n",
    "    if rootData == -1:\n",
    "        return None\n",
    "    root=TreeNode(rootData)\n",
    "    print(\"enter no. of children for\", rootData)\n",
    "    childrenCount=int(input())\n",
    "    for i in range (childrenCount):\n",
    "        child=takeTreeInput()\n",
    "        root.children.append(child)\n",
    "    return root\n",
    "root=takeTreeInput()\n",
    "printTreedetailed(root)\n"
   ]
  },
  {
   "cell_type": "markdown",
   "id": "20c8a608",
   "metadata": {},
   "source": [
    "### no of nodes in generic tree\n"
   ]
  },
  {
   "cell_type": "code",
   "execution_count": 14,
   "id": "d3704a64",
   "metadata": {},
   "outputs": [
    {
     "name": "stdout",
     "output_type": "stream",
     "text": [
      "Enter root data\n",
      "5\n",
      "enter no of children for 5\n",
      "3\n",
      "Enter root data\n",
      "2\n",
      "enter no of children for 2\n",
      "0\n",
      "Enter root data\n",
      "3\n",
      "enter no of children for 3\n",
      "2\n",
      "Enter root data\n",
      "6\n",
      "enter no of children for 6\n",
      "0\n",
      "Enter root data\n",
      "7\n",
      "enter no of children for 7\n",
      "0\n",
      "Enter root data\n",
      "4\n",
      "enter no of children for 4\n",
      "0\n",
      "5 :2 ,3 ,4 ,\n",
      "2 :\n",
      "3 :6 ,7 ,\n",
      "6 :\n",
      "7 :\n",
      "4 :\n",
      "6\n"
     ]
    }
   ],
   "source": [
    "def numNodes(root):\n",
    "    if root== None:\n",
    "        return 0 ##base case is not being handeled but the edge\n",
    "    count=1\n",
    "    for child in root.children: ##base case has been taken care of\n",
    "        count=count+numNodes(child)\n",
    "    return count\n",
    "root=takeTreeInput()\n",
    "printTreedetailed(root)\n",
    "print(numNodes(root))"
   ]
  },
  {
   "cell_type": "markdown",
   "id": "86a02130",
   "metadata": {},
   "source": [
    "### sum of all nodes\n"
   ]
  },
  {
   "cell_type": "code",
   "execution_count": 1,
   "id": "e9503dd3",
   "metadata": {},
   "outputs": [
    {
     "name": "stdout",
     "output_type": "stream",
     "text": [
      "10 3 20 30 40 2 40 50 0 0 0 0\n",
      "190\n"
     ]
    }
   ],
   "source": [
    "import queue\n",
    "\n",
    "class TreeNode:\n",
    "    def __init__(self,data):\n",
    "        self.data = data\n",
    "        self.children = list()\n",
    "        \n",
    "def inputLevelWise(li):\n",
    "    i=0\n",
    "    data= li[i]\n",
    "    i+=1\n",
    "    if data == -1 :\n",
    "        return None\n",
    "    root = TreeNode(data)\n",
    "    q=queue.Queue()\n",
    "    q.put(root)\n",
    "    while (not q.empty()):\n",
    "        frontNode=q.get()\n",
    "        noOfChildren=li[i]\n",
    "        i+=1\n",
    "        childrenArray = li[i: i +noOfChildren]\n",
    "        for childData in childrenArray:\n",
    "            childNode = TreeNode(childData)\n",
    "            frontNode.children.append(childNode)\n",
    "            q.put(childNode)\n",
    "        i=i+noOfChildren\n",
    "    return root\n",
    "\n",
    "def sumOfAllNodes(root):\n",
    "    if root == None:\n",
    "        return 0\n",
    "    sum = root.data\n",
    "    for child in root.children:\n",
    "        sum = sum+sumOfAllNodes(child)\n",
    "    return sum\n",
    "\n",
    "li = [int(ele) for ele in list(input().split())]\n",
    "root = inputLevelWise(li)\n",
    "print(sumOfAllNodes(root))"
   ]
  },
  {
   "cell_type": "markdown",
   "id": "5be86318",
   "metadata": {},
   "source": [
    "### Node with largest data"
   ]
  },
  {
   "cell_type": "code",
   "execution_count": 3,
   "id": "e48f48ff",
   "metadata": {},
   "outputs": [
    {
     "name": "stdout",
     "output_type": "stream",
     "text": [
      "10 3 20 30 40 2 40 50 0 0 0 0\n",
      "50\n"
     ]
    }
   ],
   "source": [
    "class TreeNode:\n",
    "    def __init__(self,data):\n",
    "        self.data = data\n",
    "        self.children =[]\n",
    "    def __str__(self):\n",
    "        return str(self.data)\n",
    "    \n",
    "def maxDataNode(tree):\n",
    "    if tree == None:\n",
    "        return None\n",
    "    Max= tree.data\n",
    "    for child in tree.children:\n",
    "        Max= max(Max,maxDataNode(child))\n",
    "    return Max\n",
    "\n",
    "def createLevelWiseTree(arr):\n",
    "    root = TreeNode(int(arr[0]))\n",
    "    q=[root]\n",
    "    size=len(arr)\n",
    "    i=1\n",
    "    while i<size:\n",
    "        parent=q.pop(0)\n",
    "        childCount=int(arr[i])\n",
    "        i+=1\n",
    "        for j in range(0,childCount):\n",
    "            temp = TreeNode(int(arr[i+j]))\n",
    "            parent.children.append(temp)\n",
    "            q.append(temp)\n",
    "        i+=childCount\n",
    "    return root\n",
    "\n",
    "arr=[int(ele) for ele in list(input().split())]\n",
    "tree=createLevelWiseTree(arr)\n",
    "a=maxDataNode(tree)\n",
    "print(a)"
   ]
  },
  {
   "cell_type": "markdown",
   "id": "1741ea16",
   "metadata": {},
   "source": [
    "### Height of trees\n"
   ]
  },
  {
   "cell_type": "code",
   "execution_count": 4,
   "id": "9c88baa0",
   "metadata": {},
   "outputs": [
    {
     "name": "stdout",
     "output_type": "stream",
     "text": [
      "10 3 20 30 40 2 50 0 0 0 0\n",
      "3\n"
     ]
    }
   ],
   "source": [
    "class TreeNode:\n",
    "    def __init__(self,data):\n",
    "        self.data = data\n",
    "        self.children =[]\n",
    "        \n",
    "def height(tree):\n",
    "    if tree == None:\n",
    "        return 0\n",
    "    maxi=0\n",
    "    for child in tree.children:\n",
    "        maxi=max(maxi,height(child))\n",
    "    return maxi+1\n",
    "\n",
    "def createLevelWiseTree(arr):\n",
    "    root = TreeNode(int(arr[0]))\n",
    "    q=[root]\n",
    "    size=len(arr)\n",
    "    i=1\n",
    "    while i<size:\n",
    "        parent = q.pop(0)\n",
    "        childCount=int(arr[i])\n",
    "        i+=1\n",
    "        for j in range(0,childCount):\n",
    "            temp=TreeNode(int(arr[i+j]))\n",
    "            parent.children.append(temp)\n",
    "            q.append(temp)\n",
    "        i+=childCount\n",
    "    return root\n",
    "arr=[int(ele) for ele in list(input().split())]\n",
    "tree = createLevelWiseTree(arr)\n",
    "print(height(tree))"
   ]
  },
  {
   "cell_type": "markdown",
   "id": "7675f3a1",
   "metadata": {},
   "source": [
    "### Take level wise input"
   ]
  },
  {
   "cell_type": "code",
   "execution_count": 15,
   "id": "e1712f55",
   "metadata": {},
   "outputs": [
    {
     "name": "stdout",
     "output_type": "stream",
     "text": [
      "enter root\n",
      "1\n",
      "enter no of children for 1\n",
      "2\n",
      "enter next child of 1\n",
      "23\n",
      "enter next child of 1\n",
      "32\n",
      "enter no of children for 23\n",
      "0\n",
      "enter no of children for 32\n",
      "2\n",
      "enter next child of 32\n",
      "14\n",
      "enter next child of 32\n",
      "15\n",
      "enter no of children for 14\n",
      "0\n",
      "enter no of children for 15\n",
      "0\n",
      "1 :23 ,32 ,\n",
      "23 :\n",
      "32 :14 ,15 ,\n",
      "14 :\n",
      "15 :\n"
     ]
    }
   ],
   "source": [
    "import queue\n",
    "class TreeNode:\n",
    "    def __init__(self,data):\n",
    "        self.data=data\n",
    "        self.children=list()\n",
    "    def __str__(self):\n",
    "        return str(self.data)\n",
    "def taketreeinputlevelwise():\n",
    "    q=queue.Queue()\n",
    "    print(\"enter root\")\n",
    "    rootData=int(input())\n",
    "    if rootData==-1:\n",
    "        return None\n",
    "    root=TreeNode(rootData)\n",
    "    q.put(root)\n",
    "    while (not (q.empty())):\n",
    "        currentnode=q.get()\n",
    "        print(\"enter no of children for\", currentnode.data)\n",
    "        numchildren=int(input())\n",
    "        for i in range(numchildren):\n",
    "            print(\"enter next child of\", currentnode.data)\n",
    "            childData=int(input())\n",
    "            child=TreeNode(childData)\n",
    "            currentnode.children.append(child)\n",
    "            q.put(child)\n",
    "    return root\n",
    "def createLevelWiseTree(arr):\n",
    "    root = TreeNode(int(arr[0]))\n",
    "    q=[root]\n",
    "    size=len(arr)\n",
    "    i=1\n",
    "    while i<size:\n",
    "        parent=q.pop(0)\n",
    "        childCount=int(arr[i])\n",
    "        i+=1\n",
    "        for j in range(0,childCount):\n",
    "            temp=treeNode(int(arr[i+j]))\n",
    "            parent.children.append(temp)\n",
    "            q.append(temp)\n",
    "        i+=childCount\n",
    "    return root\n",
    "def printTreedetailed(root):\n",
    "    if root == None:\n",
    "        return\n",
    "    print(root.data,\":\",end=\"\")\n",
    "    for child in root.children:\n",
    "        print(child.data,\",\",end=\"\")\n",
    "    print()\n",
    "    for child in root.children:\n",
    "        printTreedetailed(child) \n",
    "\n",
    "root=taketreeinputlevelwise()\n",
    "#root=createLevelWiseTree(root)             \n",
    "printTreedetailed(root)"
   ]
  },
  {
   "cell_type": "markdown",
   "id": "34406101",
   "metadata": {},
   "source": [
    "### PRINT LEVEL WISE TREE"
   ]
  },
  {
   "cell_type": "code",
   "execution_count": 11,
   "id": "e7e9f823",
   "metadata": {},
   "outputs": [
    {
     "name": "stdout",
     "output_type": "stream",
     "text": [
      "1 1 2 1 3 1 4 1 5 0\n",
      "1:2\n",
      "2:3\n",
      "3:4\n",
      "4:5\n",
      "5:"
     ]
    }
   ],
   "source": [
    "import queue\n",
    "class treeNode:\n",
    "    def __init__(self,data):\n",
    "        self.data=data\n",
    "        self.children=[]\n",
    "    def __str__(self):\n",
    "        return str(self.data)\n",
    "    \n",
    "def printLevelWiseTree(tree):\n",
    "    q=queue.Queue()\n",
    "    q.put(tree)\n",
    "    q.put(None)\n",
    "    while q.qsize()>1:\n",
    "        a=q.get()\n",
    "        if a is None:\n",
    "            print()\n",
    "        else:\n",
    "            print(a.data, end='')\n",
    "            print(':', end='')\n",
    "            m=0\n",
    "            for child in a.children:\n",
    "                q.put(child)\n",
    "                q.put(None)\n",
    "                if m==1:\n",
    "                    print(',',end='')\n",
    "                print(child.data,end='')\n",
    "                m=1\n",
    "                \n",
    "def createLevelWiseTree(arr):\n",
    "    root=treeNode(int(arr[0]))\n",
    "    q=[root]\n",
    "    size=len(arr)\n",
    "    i=1\n",
    "    while i<size:\n",
    "        parent=q.pop(0)\n",
    "        childCount=int(arr[i])\n",
    "        i+=1\n",
    "        for j in range(0,childCount):\n",
    "            temp=treeNode(int(arr[i+j]))\n",
    "            parent.children.append(temp)\n",
    "            q.append(temp)\n",
    "        i+=childCount\n",
    "    return root\n",
    "\n",
    "arr=[int(x) for x in list(input().split())]\n",
    "tree = createLevelWiseTree(arr)\n",
    "printLevelWiseTree(tree)"
   ]
  },
  {
   "cell_type": "markdown",
   "id": "cf392b0b",
   "metadata": {},
   "source": [
    "### CONTAINS X\n"
   ]
  },
  {
   "cell_type": "code",
   "execution_count": 18,
   "id": "adfd0d5e",
   "metadata": {},
   "outputs": [
    {
     "name": "stdout",
     "output_type": "stream",
     "text": [
      "1 1 2 1 3 1 4 1 5 0\n",
      "6\n",
      "false\n"
     ]
    }
   ],
   "source": [
    "import queue\n",
    "class TreeNode:\n",
    "    def __init__(self,data):\n",
    "        self.data=data\n",
    "        self.children=[]\n",
    "    def __str__(self):\n",
    "        return str(self.data)\n",
    "    \n",
    "def containsX(tree,x):\n",
    "    q=queue.Queue()\n",
    "    if tree==None:\n",
    "        return\n",
    "    q.put(tree)\n",
    "    while(not(q.empty())):\n",
    "        currentnode=q.get()\n",
    "        if currentnode.data==x:\n",
    "            return True\n",
    "        for child in currentnode.children:\n",
    "            if child.data==x:\n",
    "                return True\n",
    "            q.put(child)\n",
    "    return False\n",
    "\n",
    "def createLevelWiseTree(arr):\n",
    "    root=TreeNode(int(arr[0]))\n",
    "    q=[root]\n",
    "    size=len(arr)\n",
    "    i=1\n",
    "    while i<size:\n",
    "        parent=q.pop(0)\n",
    "        childCount=int(arr[i])\n",
    "        i+=1\n",
    "        for j in range(0,childCount):\n",
    "            temp=TreeNode(int(arr[i+j]))\n",
    "            parent.children.append(temp)\n",
    "            q.append(temp)\n",
    "        i+=childCount\n",
    "    return root\n",
    "\n",
    "arr=[int(ele) for ele in list(input().split())]\n",
    "x=int(input())\n",
    "tree=createLevelWiseTree(arr)\n",
    "if containsX(tree,x):\n",
    "    print('true')\n",
    "else:\n",
    "    print('false')\n",
    "    \n",
    "    "
   ]
  },
  {
   "cell_type": "markdown",
   "id": "78220b59",
   "metadata": {},
   "source": [
    "#### COUNT LEAF NODES"
   ]
  },
  {
   "cell_type": "code",
   "execution_count": 19,
   "id": "8c42307c",
   "metadata": {},
   "outputs": [
    {
     "name": "stdout",
     "output_type": "stream",
     "text": [
      "1 1 2 1 3 1 4 1 5 0\n",
      "1\n"
     ]
    }
   ],
   "source": [
    "import queue\n",
    "class TreeNode:\n",
    "    def __init__(self,data):\n",
    "        self.data=data\n",
    "        self.children=[]\n",
    "    def __str__(self):\n",
    "        return str(self.data)\n",
    "    \n",
    "def leafNodeCount(tree):\n",
    "    if len(tree.children)==0:\n",
    "        return 1\n",
    "    num=0\n",
    "    for child in tree.children:\n",
    "        num+=leafNodeCount(child)\n",
    "    return num\n",
    "\n",
    "def createLevelWiseTree(arr):\n",
    "    root=TreeNode(int(arr[0]))\n",
    "    q=[root]\n",
    "    size=len(arr)\n",
    "    i=1\n",
    "    while i<size:\n",
    "        parent=q.pop(0)\n",
    "        childCount=int(arr[i])\n",
    "        i+=1\n",
    "        for j in range(0,childCount):\n",
    "            temp=TreeNode(int(arr[i+j]))\n",
    "            parent.children.append(temp)\n",
    "            q.append(temp)\n",
    "        i+=childCount\n",
    "    return root\n",
    "\n",
    "arr=[int(ele) for ele in list(input().split())]\n",
    "tree=createLevelWiseTree(arr)\n",
    "print(leafNodeCount(tree))"
   ]
  },
  {
   "cell_type": "markdown",
   "id": "abb9c53e",
   "metadata": {},
   "source": [
    "### Node with maximum child sum \n",
    "1. node as well as the children"
   ]
  },
  {
   "cell_type": "code",
   "execution_count": 20,
   "id": "28e74992",
   "metadata": {},
   "outputs": [
    {
     "name": "stdout",
     "output_type": "stream",
     "text": [
      "1 1 2 1 3 1 4 1 5 0\n",
      "4\n"
     ]
    }
   ],
   "source": [
    "class TreeNode:\n",
    "    def __init__(self,data):\n",
    "        self.data=data\n",
    "        self.children=[]\n",
    "    def __sum__(self):\n",
    "        ans=self.data\n",
    "        for child in self.children:\n",
    "            ans+=child.data\n",
    "        return ans\n",
    "def maxSumNode(tree,max=-1000000,node=None):\n",
    "    if tree == None:\n",
    "        return node,max\n",
    "    sum=tree.data\n",
    "    for i in tree.children:\n",
    "        sum+=i.data\n",
    "    if node==None:\n",
    "        node=tree\n",
    "        max=sum\n",
    "    if sum>max:\n",
    "        node=tree\n",
    "        max=sum\n",
    "    for i in tree.children:\n",
    "        node,max=maxSumNode(i,max,node)\n",
    "    return node,max\n",
    "\n",
    "def createLevelWiseTree(arr):\n",
    "    root=TreeNode(int(arr[0]))\n",
    "    q=[root]\n",
    "    size=len(arr)\n",
    "    i=1\n",
    "    while i<size:\n",
    "        parent=q.pop(0)\n",
    "        childCount=int(arr[i])\n",
    "        i+=1\n",
    "        for j in range(0,childCount):\n",
    "            temp=TreeNode(int(arr[i+j]))\n",
    "            parent.children.append(temp)\n",
    "            q.append(temp)\n",
    "        i+=childCount\n",
    "    return root\n",
    "\n",
    "arr=[int(ele) for ele in list(input().split())]\n",
    "tree=createLevelWiseTree(arr)\n",
    "temp,tempSum=maxSumNode(tree)\n",
    "print(temp.data)"
   ]
  },
  {
   "cell_type": "markdown",
   "id": "e5f0fc1b",
   "metadata": {},
   "source": [
    "### STRUCTURALLY IDENTICAL"
   ]
  },
  {
   "cell_type": "code",
   "execution_count": 21,
   "id": "edc60f02",
   "metadata": {},
   "outputs": [
    {
     "name": "stdout",
     "output_type": "stream",
     "text": [
      "1 2 3 4 0 1 5 0\n",
      "1 2 3 4 0 1 5 0\n",
      "true\n"
     ]
    }
   ],
   "source": [
    "class TreeNode:\n",
    "    def __init__(self,data):\n",
    "        self.data=data\n",
    "        self.children=[]\n",
    "def isIdentical(tree1,tree2):\n",
    "    if tree1 is None and tree2 is None:\n",
    "        return False\n",
    "    if tree1.data!=tree2.data:\n",
    "        return False\n",
    "    if len(tree1.children)==len(tree2.children):\n",
    "        for node in range(len(tree1.children)):\n",
    "            isChildIdentical=isIdentical(tree1.children[node],tree2.children[node])\n",
    "            if not isChildIdentical:\n",
    "                return False\n",
    "            \n",
    "        return True\n",
    "def createLevelWiseTree(arr):\n",
    "    root=TreeNode(int(arr[0]))\n",
    "    q=[root]\n",
    "    size=len(arr)\n",
    "    i=1\n",
    "    while i<size:\n",
    "        parent=q.pop(0)\n",
    "        childCount=int(arr[i])\n",
    "        i+=1\n",
    "        for j in range(0,childCount):\n",
    "            temp=TreeNode(int(arr[i+j]))\n",
    "            parent.children.append(temp)\n",
    "            q.append(temp)\n",
    "            \n",
    "        i+=childCount\n",
    "    return root\n",
    "arr1=[int(ele) for ele in list(input().split())]\n",
    "tree1=createLevelWiseTree(arr1)\n",
    "arr2=[int(ele) for ele in list(input().split())]\n",
    "tree2=createLevelWiseTree(arr2)\n",
    "if isIdentical(tree1,tree2):\n",
    "    print('true')\n",
    "else:\n",
    "    print('false') "
   ]
  },
  {
   "cell_type": "markdown",
   "id": "93e9a2eb",
   "metadata": {},
   "source": [
    "### NEXT LARGER"
   ]
  },
  {
   "cell_type": "raw",
   "id": "c1b32331",
   "metadata": {},
   "source": [
    "Given a generic tree and an integer n. Find and return \n",
    "the node with next larger element in the tree i.e. \n",
    "find a node with value just greater than n."
   ]
  },
  {
   "cell_type": "code",
   "execution_count": 22,
   "id": "eb49630b",
   "metadata": {},
   "outputs": [
    {
     "name": "stdout",
     "output_type": "stream",
     "text": [
      "1 1 2 1 3 1 4 1 5 0\n",
      "1\n",
      "2\n"
     ]
    }
   ],
   "source": [
    "class TreeNode:\n",
    "    def __init__(self,data):\n",
    "        self.data=data\n",
    "        self.children=[]\n",
    "def nextLargest(tree,n):\n",
    "    if tree is None:\n",
    "        return None\n",
    "    if tree.data >n:\n",
    "        ans=tree\n",
    "    else:\n",
    "        ans=None\n",
    "    for child in tree.children:\n",
    "        newAns=nextLargest(child,n)\n",
    "        if ans is None:\n",
    "            ans=newAns\n",
    "        if newAns is None:\n",
    "            newAns=ans\n",
    "        if ans is not None and newAns is not None and newAns.data <ans.data:\n",
    "            ans=newAns\n",
    "    return ans\n",
    "def createLevelWiseTree(arr):\n",
    "    root=TreeNode(int(arr[0]))\n",
    "    q=[root]\n",
    "    size=len(arr)\n",
    "    i=1\n",
    "    while i<size:\n",
    "        parent=q.pop(0)\n",
    "        childCount=int(arr[i])\n",
    "        i+=1\n",
    "        for j in range(0,childCount):\n",
    "            temp=TreeNode(int(arr[i+j]))\n",
    "            parent.children.append(temp)\n",
    "            q.append(temp)\n",
    "        i+=childCount\n",
    "    return root\n",
    "\n",
    "arr=[int(ele) for ele in list(input().split())]\n",
    "n=int(input())\n",
    "tree = createLevelWiseTree(arr)\n",
    "if nextLargest(tree,n):\n",
    "    print(nextLargest(tree,n).data)"
   ]
  },
  {
   "cell_type": "markdown",
   "id": "de1854d1",
   "metadata": {},
   "source": [
    "### REPLACE WITH DEPTH "
   ]
  },
  {
   "cell_type": "code",
   "execution_count": 25,
   "id": "5875340c",
   "metadata": {},
   "outputs": [
    {
     "name": "stdout",
     "output_type": "stream",
     "text": [
      "10 3 20 30 40 2 40 50 0 0 0 0\n",
      "0 \n",
      "1 1 1 \n",
      "2 2 \n"
     ]
    }
   ],
   "source": [
    "class TreeNode:\n",
    "    def __init__(self,data):\n",
    "        self.data=data\n",
    "        self.children=[]\n",
    "def replaceWithDepth(tree):\n",
    "    if tree is None:\n",
    "        return None\n",
    "    return replaceWithDepthHelper(tree,0)\n",
    "\n",
    "def replaceWithDepthHelper(tree,depth):\n",
    "    if tree is None:\n",
    "        return\n",
    "    tree.data = depth\n",
    "    for child in tree.children:\n",
    "        replaceWithDepthHelper(child,depth+1)\n",
    "    return tree\n",
    "\n",
    "def createLevelWiseTree(arr):\n",
    "    root=TreeNode(int(arr[0]))\n",
    "    q=[root]\n",
    "    size=len(arr)\n",
    "    i=1\n",
    "    while i<size:\n",
    "        parent=q.pop(0)\n",
    "        childCount=int(arr[i])\n",
    "        i+=1\n",
    "        for j in range(0,childCount):\n",
    "            temp=TreeNode(int(arr[i+j]))\n",
    "            parent.children.append(temp)\n",
    "            q.append(temp)\n",
    "        i+=childCount\n",
    "    return root\n",
    "\n",
    "def printLevelAtNewLine(root):\n",
    "    q=[root]\n",
    "    newq=[]\n",
    "    while q:\n",
    "        parent=q.pop(0)\n",
    "        print(parent.data, end=' ')\n",
    "        for child in parent.children:\n",
    "            newq.append(child)\n",
    "        if len(q)==0:\n",
    "            q=newq\n",
    "            newq=[]\n",
    "            print()\n",
    "arr=[int(ele) for ele in list(input().split())]\n",
    "tree=createLevelWiseTree(arr)\n",
    "replaceWithDepth(tree)\n",
    "printLevelAtNewLine(tree)"
   ]
  }
 ],
 "metadata": {
  "kernelspec": {
   "display_name": "Python 3",
   "language": "python",
   "name": "python3"
  },
  "language_info": {
   "codemirror_mode": {
    "name": "ipython",
    "version": 3
   },
   "file_extension": ".py",
   "mimetype": "text/x-python",
   "name": "python",
   "nbconvert_exporter": "python",
   "pygments_lexer": "ipython3",
   "version": "3.8.8"
  }
 },
 "nbformat": 4,
 "nbformat_minor": 5
}
