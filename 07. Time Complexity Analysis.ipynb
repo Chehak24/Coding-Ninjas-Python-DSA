{
 "cells": [
  {
   "cell_type": "code",
   "execution_count": null,
   "id": "042afa80",
   "metadata": {},
   "outputs": [],
   "source": []
  },
  {
   "cell_type": "markdown",
   "id": "664f678b",
   "metadata": {},
   "source": [
    "#### BUBBLE SORT - ITERATIVE  NON LINEAR SOLUTION\n",
    "1. swap if first two ie 0 and 1 ele not in right order, then compare 1 and 2, then 2 and 3 so total n-1 \n",
    "2. frist iteration take k1(time to swap) +k2(n-1) \n",
    "3. now second iteration takes n- 2 time since last ele is at the right position\n",
    "4. k1+k2(n-1)+k2(n-2)...k2 = k1+k2(sigma i for i =1 to n-1)\n",
    "5. k1 ignored k2/2 = k so remaining k(n-1)(n) = kn^2+kn ie O(n^2)\n"
   ]
  },
  {
   "cell_type": "markdown",
   "id": "258fa81c",
   "metadata": {},
   "source": [
    "#### RECURSIVE \n",
    "1. TAKING FACTORIAL as an example\n",
    "2. Fact(n): if n==0 return 1; else return n* fact(n-1)\n",
    "3. T(n) = K+T(n-1); T(n-1) = K+T(n-2).... adding all gives T(n)= K* n + T(0) \n",
    "4. O(n)"
   ]
  },
  {
   "cell_type": "markdown",
   "id": "5b264939",
   "metadata": {},
   "source": [
    "1. BINARY SEARCH-array to be sorted,  find the middle ele and tehn accordingly look either @ right or @ left and recursion works \n",
    "2. T(n) = cal the middle ie K work, need to compare search ele w middle->More constant work ie K2, depending on the search-> update the boundaries again K3\n",
    "3. problem has reduced to size n/2 so \n",
    "4. T(n) = K1+T(n/2)\n",
    "5. T(n/2) = K2+ T(n/4) and so on..\n",
    "6. adding all -> T(n) = k* x where x is the no. of terms after which we reach T(1)\n",
    "7. n/2^x=1 ie n= 2^x ie x=logn ie O(logn)"
   ]
  },
  {
   "cell_type": "markdown",
   "id": "16eea002",
   "metadata": {},
   "source": [
    "#### MERGE SORT\n",
    "1. splitting the array and copying the ele in two arrays ie K1n, and then applying merge sort on them ie 2T(n/2) \n",
    "2. merge the two sorted arrays, with i and j in the 2 arrays, by comparing and moving i and j ie K2n work again\n",
    "3. T(n) = K1n +2T(n/2)+K2n \n",
    "4. T(n/2) = 2T(n/4) +kn/2 and so  onn\n",
    "5. multiply 4. by 2 so that it can get cancelled while adding\n",
    "6. To reach T(1) we need n/2^x steps ie x=logn \n",
    "7. T(n)=Kn* log(n)-> time complexity is O(nlogn)\n"
   ]
  },
  {
   "cell_type": "code",
   "execution_count": 1,
   "id": "ea29bc10",
   "metadata": {},
   "outputs": [],
   "source": [
    "def merge (a1,a2,a):\n",
    "    i=0\n",
    "    j=0\n",
    "    k=0\n",
    "    while i<len(a1) and j<len(a2):\n",
    "        if (a1[i]<a2[j]):\n",
    "            a[k]=a1[i]\n",
    "            k=k+1\n",
    "            i=i+1\n",
    "        else:\n",
    "            a1[k]=a2[j]\n",
    "            k=k+1\n",
    "            j=j+1\n",
    "    while i<len(a1):\n",
    "        a[k]=a1[i]\n",
    "        k=k+1\n",
    "        i=i+1\n",
    "    while j<len(a2):\n",
    "        a[k]=a2[j]\n",
    "        k=k+1\n",
    "        j=j+1\n",
    "def merge_sort(a):\n",
    "    if len(a)==0 or len(a)==1:\n",
    "        return\n",
    "    mid = len(a)//2\n",
    "    a1=a[0:mid]\n",
    "    a2=a[mid:]\n",
    "    \n",
    "    merge_sort(a1)\n",
    "    merge_sort(a2)\n",
    "    \n",
    "    merge(a1,a2,a)\n",
    "        "
   ]
  },
  {
   "cell_type": "code",
   "execution_count": 3,
   "id": "31df28fa",
   "metadata": {},
   "outputs": [],
   "source": [
    "def selection_sort(a):\n",
    "    for i in range(len(a)):\n",
    "        min_idx = i\n",
    "        for j in range (i+1,len(a)):\n",
    "            if a[min_idx]>a[j]:\n",
    "                min_idx = j \n",
    "        a[i],a[min_idx]=a[min_idx],a[i]"
   ]
  },
  {
   "cell_type": "code",
   "execution_count": 4,
   "id": "bd7a9d53",
   "metadata": {},
   "outputs": [],
   "source": [
    "def create_rev_array(n):\n",
    "    a=[]\n",
    "    for i in range (n,0,-1):\n",
    "        a.append(i)\n",
    "    return a "
   ]
  },
  {
   "cell_type": "code",
   "execution_count": 10,
   "id": "4d606b0b",
   "metadata": {},
   "outputs": [],
   "source": [
    "import time"
   ]
  },
  {
   "cell_type": "code",
   "execution_count": 13,
   "id": "b8914ec2",
   "metadata": {},
   "outputs": [],
   "source": [
    "n=10000"
   ]
  },
  {
   "cell_type": "code",
   "execution_count": 16,
   "id": "73433c61",
   "metadata": {},
   "outputs": [
    {
     "name": "stdout",
     "output_type": "stream",
     "text": [
      "100 0.0010132789611816406\n"
     ]
    }
   ],
   "source": [
    "a=create_rev_array(n) \n",
    "start=time.time()\n",
    "merge_sort (a)\n",
    "end=time.time()\n",
    "print(n,end-start)"
   ]
  },
  {
   "cell_type": "code",
   "execution_count": 17,
   "id": "cb3d81c0",
   "metadata": {},
   "outputs": [
    {
     "name": "stdout",
     "output_type": "stream",
     "text": [
      "100 0.0009999275207519531\n"
     ]
    }
   ],
   "source": [
    "a=create_rev_array(n) \n",
    "start=time.time()\n",
    "selection_sort(a)\n",
    "end=time.time()\n",
    "print(n,end-start)"
   ]
  },
  {
   "cell_type": "code",
   "execution_count": null,
   "id": "45f3a04b",
   "metadata": {},
   "outputs": [],
   "source": [
    "##experimental alliances not to be done "
   ]
  },
  {
   "cell_type": "code",
   "execution_count": 1,
   "id": "9a53f898",
   "metadata": {},
   "outputs": [
    {
     "name": "stdout",
     "output_type": "stream",
     "text": [
      "2\n"
     ]
    }
   ],
   "source": [
    "k=5\n",
    "print (k // 2)"
   ]
  },
  {
   "cell_type": "markdown",
   "id": "e2bda5f2",
   "metadata": {},
   "source": [
    "### FIBONACCI"
   ]
  },
  {
   "cell_type": "code",
   "execution_count": 3,
   "id": "1fac2596",
   "metadata": {},
   "outputs": [],
   "source": [
    "def fib(n): \n",
    "    if n == 0 or n == 1: ##constant\n",
    "        return 1\n",
    "    return fib(n - 1) + fib(n - 2) \n",
    "## T(n)=T(n-1)+T(n-2)+k, diff to solve\n",
    "## how many funcn calls r there?\n",
    "## n -> n-1,n-2 ; n-1->n-2,n-3; n-2->n-3,n-4 and so on \n",
    "## 1->2->4->8...total n levels @ one side and n/2 levels at the other side\n",
    "## 1+2+2^2+2^3+2^4+2^5...+2^(n-1) = 2^n - 1\n",
    "\n",
    "##TIME COMPLEXITY = 2^n\n"
   ]
  },
  {
   "cell_type": "code",
   "execution_count": 4,
   "id": "66076b23",
   "metadata": {},
   "outputs": [
    {
     "data": {
      "text/plain": [
       "8"
      ]
     },
     "execution_count": 4,
     "metadata": {},
     "output_type": "execute_result"
    }
   ],
   "source": [
    "fib(5)"
   ]
  },
  {
   "cell_type": "code",
   "execution_count": null,
   "id": "7d656413",
   "metadata": {},
   "outputs": [],
   "source": []
  }
 ],
 "metadata": {
  "kernelspec": {
   "display_name": "Python 3",
   "language": "python",
   "name": "python3"
  },
  "language_info": {
   "codemirror_mode": {
    "name": "ipython",
    "version": 3
   },
   "file_extension": ".py",
   "mimetype": "text/x-python",
   "name": "python",
   "nbconvert_exporter": "python",
   "pygments_lexer": "ipython3",
   "version": "3.8.8"
  }
 },
 "nbformat": 4,
 "nbformat_minor": 5
}
