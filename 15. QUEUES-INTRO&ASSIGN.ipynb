{
 "cells": [
  {
   "cell_type": "markdown",
   "id": "efc43bf8",
   "metadata": {},
   "source": [
    "1. FIFO STRUCTURE\n",
    "2. ENQUEUE\n",
    "3. DEQUEUE\n",
    "4. SIZE\n",
    "5. ISEMPTY\n",
    "6. FRONT\n",
    "\n",
    "###### TWO ENDS-FRONT(FIRST ELE) AND REAR"
   ]
  },
  {
   "cell_type": "markdown",
   "id": "8982ed49",
   "metadata": {},
   "source": [
    "1. QUEUE USING ARRAY\n",
    "2. ENQUEUE CAN BE EASILY DONE THRU APPEND\n",
    "3. DEQUEUE CAN BE DONE THRU MAINTAING A FRONT POINTER\n",
    "4. SIZE CAN BE MAINTAINED THRU COUNT\n"
   ]
  },
  {
   "cell_type": "code",
   "execution_count": 3,
   "id": "26e1bb9d",
   "metadata": {},
   "outputs": [
    {
     "name": "stdout",
     "output_type": "stream",
     "text": [
      "1\n",
      "2\n",
      "3\n",
      "-1\n"
     ]
    }
   ],
   "source": [
    "class queue():\n",
    "    def __init__(self):\n",
    "        self.__arr=[]\n",
    "        self.__count=0\n",
    "        self.__front=0\n",
    "    def enqueue(self,data):\n",
    "        self.__arr.append(data)\n",
    "        self.__count+=1\n",
    "    def dequeue(self):\n",
    "        if self.__count==0:\n",
    "            return -1\n",
    "        ele=self.__arr[self.__front]\n",
    "        self.__front+=1\n",
    "        self.__count-=1\n",
    "        return ele\n",
    "    def front(self):\n",
    "        if self.__count==0:\n",
    "            return -1\n",
    "        return self.__arr[self.__front]\n",
    "    def size(self):\n",
    "        return self.__count\n",
    "    def isempty(self):\n",
    "        return self.size()==0\n",
    "q=queue()\n",
    "q.enqueue(1)\n",
    "q.enqueue(2)\n",
    "q.enqueue(3)\n",
    "while q.isempty() is False:\n",
    "    print (q.front())\n",
    "    q.dequeue()\n",
    "print (q.front())"
   ]
  },
  {
   "cell_type": "markdown",
   "id": "fa2596f9",
   "metadata": {},
   "source": [
    "### QUEUE USING LINKED LIST\n",
    "1. MAINTAINING LIST AS \n",
    "15\n",
    "30\n",
    "23\n",
    "12\n",
    "15->30->23->12,with incrementing the tail pointer\n",
    "1. With tail at 12\n",
    "2. for dequeue, head=head.next , fifo is maintained\n",
    "3. Ensure to check head is none in base case before inserting and then point head and tail to newnode, so that afterlist goes empty due to dequeue, the prev tail pointing to 12 comes back to head that came to None, now both head and tail get newwnode\n",
    "4.  if head is not none, normal case"
   ]
  },
  {
   "cell_type": "code",
   "execution_count": 4,
   "id": "35c2f701",
   "metadata": {},
   "outputs": [
    {
     "name": "stdout",
     "output_type": "stream",
     "text": [
      "1\n",
      "2\n",
      "3\n"
     ]
    },
    {
     "data": {
      "text/plain": [
       "-1"
      ]
     },
     "execution_count": 4,
     "metadata": {},
     "output_type": "execute_result"
    }
   ],
   "source": [
    "class Node:\n",
    "    def __init__(self,initdata):\n",
    "        self.data=initdata\n",
    "        self.next=None\n",
    "class queue:\n",
    "    def __init__(self):\n",
    "        self.__head=None\n",
    "        self.__tail=None\n",
    "        self.__count=0\n",
    "        \n",
    "    def enqueue(self,ele):\n",
    "        newnode=Node(ele)\n",
    "        if self.__head is None:\n",
    "            self.__head=newnode\n",
    "        else:\n",
    "            self.__tail.next=newnode\n",
    "        self.__tail=newnode\n",
    "        self.__count+=1\n",
    "        \n",
    "    def dequeue(self):\n",
    "        if self.__head is None:\n",
    "            return -1\n",
    "        else:\n",
    "            elee=self.__head.data\n",
    "            self.__head=self.__head.next\n",
    "            self.__count-=1\n",
    "            return elee\n",
    "    def isempty(self):\n",
    "        return  self.size()==0\n",
    "    def size(self):\n",
    "        return self.__count\n",
    "    def front(self):\n",
    "        if self.__head is None:\n",
    "            return -1\n",
    "        else:\n",
    "            elee=self.__head.data\n",
    "            return elee\n",
    "q=queue()\n",
    "q.enqueue(1)\n",
    "q.enqueue(2)\n",
    "q.enqueue(3)\n",
    "while q.isempty() is False:\n",
    "    print (q.front())\n",
    "    q.dequeue()\n",
    "q.front()"
   ]
  },
  {
   "cell_type": "markdown",
   "id": "e4f017bc",
   "metadata": {},
   "source": [
    "### IMPLEMENT QUEUE USING 2 STACKS"
   ]
  },
  {
   "cell_type": "code",
   "execution_count": 5,
   "id": "0f8541bd",
   "metadata": {},
   "outputs": [
    {
     "name": "stdout",
     "output_type": "stream",
     "text": [
      "1\n",
      "2\n",
      "3\n"
     ]
    },
    {
     "data": {
      "text/plain": [
       "-1"
      ]
     },
     "execution_count": 5,
     "metadata": {},
     "output_type": "execute_result"
    }
   ],
   "source": [
    "\n",
    "class queueusing2stacks:\n",
    "    def __init__(self):\n",
    "        self.__s1=[]\n",
    "        self.__s2=[]\n",
    "    def enqueue(self,data): ##O(n)\n",
    "        while (len(self.__s1)!=0):\n",
    "            self.__s2.append(self.__s1.pop())\n",
    "        self.__s1.append(data)\n",
    "        while (len(self.__s2)!=0):\n",
    "            self.__s1.append(self.__s2.pop())\n",
    "        return\n",
    "    def dequeue(self):##O(1)\n",
    "        if(len(self.__s1)==0):\n",
    "            return -1\n",
    "        return self.__s1.pop()\n",
    "    \n",
    "    def front(self):\n",
    "        if(len(self.__s1)==0):\n",
    "            return -1\n",
    "        return self.__s1[-1] ##last ele is at -1\n",
    "    def size(self):\n",
    "        return len(self.__s1)\n",
    "    def isempty(self):\n",
    "        return self.size()==0\n",
    "q=queueusing2stacks()\n",
    "q.enqueue(1)\n",
    "q.enqueue(2)\n",
    "q.enqueue(3)\n",
    "while q.isempty() is False:\n",
    "    print (q.front())\n",
    "    q.dequeue()\n",
    "q.front()       "
   ]
  },
  {
   "cell_type": "markdown",
   "id": "26ee721e",
   "metadata": {},
   "source": [
    "##### STACK USING TWO QUEUES- PUSH O(1) AND POP O(N)"
   ]
  },
  {
   "cell_type": "code",
   "execution_count": 4,
   "id": "b0ee28f2",
   "metadata": {},
   "outputs": [
    {
     "name": "stdout",
     "output_type": "stream",
     "text": [
      "5\n",
      "3\n",
      "1\n",
      "7\n"
     ]
    }
   ],
   "source": [
    "\n",
    "##put add krtaa h elements, get ussi order mein queue se nikal ke de deta h ele\n",
    "import queue\n",
    "class stack:\n",
    "    def __init__(self):\n",
    "        self.q1=queue.Queue()\n",
    "        self.q2=queue.Queue()\n",
    "    def getsize(self):\n",
    "        return self.q1.qsize()\n",
    "    def isempty(self):\n",
    "        return self.getsize()==0\n",
    "    def push(self,data):\n",
    "        self.q1.put(data)\n",
    "    def pop(self):\n",
    "        if self.isempty():\n",
    "            return -1\n",
    "        while self.q1.qsize()>1:\n",
    "            self.q2.put(self.q1.get())\n",
    "        ans=self.q1.get()\n",
    "        temp=self.q1\n",
    "        self.q1=self.q2\n",
    "        self.q2=temp\n",
    "        return ans \n",
    "    def top(self):\n",
    "        if self.isempty():\n",
    "            return -1\n",
    "        while self.q1.qsize()>1:\n",
    "            self.q2.put(self.q1.get())\n",
    "        ans=self.q1.get()\n",
    "        temp=self.q1\n",
    "        self.q1=self.q2\n",
    "        self.q2=temp\n",
    "        return ans \n",
    "s=stack()\n",
    "s.push(1)\n",
    "s.push(3)\n",
    "s.push(5)\n",
    "while s.isempty() is False:\n",
    "    print(s.pop())\n",
    "s.push(7)\n",
    "print(s.top())\n"
   ]
  },
  {
   "cell_type": "markdown",
   "id": "e86c7e8b",
   "metadata": {},
   "source": [
    "### reverse the same queue"
   ]
  },
  {
   "cell_type": "code",
   "execution_count": 19,
   "id": "0d7165e2",
   "metadata": {},
   "outputs": [
    {
     "name": "stdout",
     "output_type": "stream",
     "text": [
      "1\n",
      "7\n",
      "3 4 2 5 1 6 7\n",
      "7 6 1 5 2 4 3 \n"
     ]
    }
   ],
   "source": [
    "\n",
    "import queue\n",
    "def reversequeue(inputqueue):\n",
    "    if inputqueue.qsize()<=1:\n",
    "        return\n",
    "    front = inputqueue.get()\n",
    "    reversequeue(inputqueue)\n",
    "    inputqueue.put(front)\n",
    "    \n",
    "def takeinput():\n",
    "    n=int(input())\n",
    "    qu=queue.Queue()\n",
    "    values=[int(ele) for ele in input().split()]\n",
    "    \n",
    "    for i in range(n):\n",
    "        qu.put(values[i])\n",
    "    return qu\n",
    "t= int(input())\n",
    "while t>0:\n",
    "    qu=takeinput()\n",
    "    reversequeue(qu)\n",
    "    \n",
    "    while not qu.empty():\n",
    "        print(qu.get(),end=\" \")\n",
    "    print()\n",
    "    t-=1"
   ]
  },
  {
   "cell_type": "markdown",
   "id": "29106816",
   "metadata": {},
   "source": [
    "#### REVERSE K ELEMENTS"
   ]
  },
  {
   "cell_type": "code",
   "execution_count": 11,
   "id": "244c6145",
   "metadata": {},
   "outputs": [
    {
     "name": "stdout",
     "output_type": "stream",
     "text": [
      "5 3\n",
      "1 2 3 4 5\n",
      "3 2 1 4 5 "
     ]
    }
   ],
   "source": [
    "import sys\n",
    "import queue\n",
    "def reversekelements(inputqueue,k):\n",
    "    if (inputqueue.empty()) or (k>inputqueue.qsize()):\n",
    "        return inputqueue\n",
    "    if k<=0:\n",
    "        return inputqueue\n",
    "    stack=list()\n",
    "    for i in range (k):\n",
    "        stack.append(inputqueue.get())\n",
    "    while not isempty(stack):\n",
    "        inputqueue.put(stack.pop())\n",
    "    for i in range (inputqueue.qsize()-k):\n",
    "        inputqueue.put(inputqueue.get())\n",
    "    return inputqueue\n",
    "\n",
    "def isempty(stack):\n",
    "    return len(stack)==0\n",
    "def top(stack):\n",
    "    return stack[len(stack)-1]\n",
    "def takeinput():\n",
    "    n_k=[int(ele) for ele in input().split()]\n",
    "    n = n_k[0]\n",
    "    k = n_k[1]\n",
    "    \n",
    "    qu=queue.Queue()\n",
    "    values=[int(ele) for ele in input().split()]\n",
    "    \n",
    "    for i in range(n):\n",
    "        qu.put(values[i])\n",
    "        \n",
    "    return k,qu\n",
    "\n",
    "k,qu=takeinput()\n",
    "qu=reversekelements(qu,k)\n",
    "while not qu.empty():\n",
    "    print(qu.get(),end=\" \")"
   ]
  },
  {
   "cell_type": "code",
   "execution_count": 7,
   "id": "d3321df0",
   "metadata": {},
   "outputs": [
    {
     "name": "stdout",
     "output_type": "stream",
     "text": [
      "1 2 3\n"
     ]
    },
    {
     "data": {
      "text/plain": [
       "['1', ' ', '2', ' ', '3']"
      ]
     },
     "execution_count": 7,
     "metadata": {},
     "output_type": "execute_result"
    }
   ],
   "source": [
    "list(input())"
   ]
  },
  {
   "cell_type": "code",
   "execution_count": null,
   "id": "7d507725",
   "metadata": {},
   "outputs": [],
   "source": []
  }
 ],
 "metadata": {
  "kernelspec": {
   "display_name": "Python 3",
   "language": "python",
   "name": "python3"
  },
  "language_info": {
   "codemirror_mode": {
    "name": "ipython",
    "version": 3
   },
   "file_extension": ".py",
   "mimetype": "text/x-python",
   "name": "python",
   "nbconvert_exporter": "python",
   "pygments_lexer": "ipython3",
   "version": "3.8.8"
  }
 },
 "nbformat": 4,
 "nbformat_minor": 5
}
