{
 "cells": [
  {
   "cell_type": "markdown",
   "id": "4f26cca6",
   "metadata": {},
   "source": [
    "#### TIME COMPLEXITY SO FAR IN BT-1 HAS BEEN O(n)"
   ]
  },
  {
   "cell_type": "markdown",
   "id": "b7d9c53d",
   "metadata": {},
   "source": [
    "### REMOVE LEAF NODES IN THE ORIGINAL TREES\n",
    "\n",
    "1. root of the tree is only gng to change when root itself is the leaf\n",
    "2. only root in tree ie root is leaf -> return None\n",
    "3. if root is None-> None\n",
    "4. in rest cases we done need to return anything since user already has access to the root, only cnnctns w the leaf node needs to be broken"
   ]
  },
  {
   "cell_type": "code",
   "execution_count": 15,
   "id": "04eb406e",
   "metadata": {},
   "outputs": [],
   "source": [
    "class binarytreenode:\n",
    "    def __init__(self,data):\n",
    "        self.data=data\n",
    "        self.left=None\n",
    "        self.right=None\n",
    "def printtreedetailed(root):\n",
    "    if root == None:\n",
    "        return\n",
    "    print(root.data,end=\":\")\n",
    "    if root.left!=None:\n",
    "        print(\"L\",root.left.data,end=\" \")\n",
    "    if root.right!=None:\n",
    "        print(\"R\",root.right.data,end=\" \")\n",
    "    print()\n",
    "    printtreedetailed(root.left)\n",
    "    printtreedetailed(root.right)\n",
    "def treeinput():\n",
    "    rootdata=int(input())\n",
    "    if rootdata==-1 :\n",
    "        return None\n",
    "    root=binarytreenode(rootdata)\n",
    "    lefttree=treeinput()\n",
    "    righttree=treeinput()\n",
    "    root.left=lefttree\n",
    "    root.right=righttree\n",
    "    return root"
   ]
  },
  {
   "cell_type": "code",
   "execution_count": 13,
   "id": "4b573576",
   "metadata": {},
   "outputs": [],
   "source": [
    "def removeleaves(root):\n",
    "    if root == None:\n",
    "        return None\n",
    "    if root.left == None and root.right == None: ##root is leaf\n",
    "        return None\n",
    "    removeleaves(root.left)\n",
    "    removeleaves(root.right)\n",
    "    return root "
   ]
  },
  {
   "cell_type": "code",
   "execution_count": 14,
   "id": "2458d9fc",
   "metadata": {},
   "outputs": [
    {
     "name": "stdout",
     "output_type": "stream",
     "text": [
      "1\n",
      "2\n",
      "-1\n",
      "-1\n",
      "3\n",
      "-1\n",
      "-1\n",
      "1:L 2 R 3 \n",
      "2:\n",
      "3:\n",
      "1:L 2 R 3 \n",
      "2:\n",
      "3:\n"
     ]
    }
   ],
   "source": [
    "root=treeinput()\n",
    "printtreedetailed(root)\n",
    "removeleaves(root)\n",
    "printtreedetailed(root) ## updated tree not found since 1's cnnctn w 2 and 3 hasnt been updated"
   ]
  },
  {
   "cell_type": "code",
   "execution_count": 15,
   "id": "997192cd",
   "metadata": {},
   "outputs": [],
   "source": [
    "def removeleaves(root):\n",
    "    if root == None:\n",
    "        return None\n",
    "    if root.left == None and root.right == None: ##root is leaf\n",
    "        return None\n",
    "    root.left=removeleaves(root.left) ##update the cnnctn after returning None\n",
    "    root.right=removeleaves(root.right)\n",
    "    return root "
   ]
  },
  {
   "cell_type": "code",
   "execution_count": 16,
   "id": "a3ea8ad3",
   "metadata": {},
   "outputs": [
    {
     "name": "stdout",
     "output_type": "stream",
     "text": [
      "1\n",
      "2\n",
      "-1\n",
      "-1\n",
      "3\n",
      "-1\n",
      "-1\n",
      "1:L 2 R 3 \n",
      "2:\n",
      "3:\n",
      "1:\n"
     ]
    }
   ],
   "source": [
    "root=treeinput()\n",
    "printtreedetailed(root)\n",
    "removeleaves(root)\n",
    "printtreedetailed(root) "
   ]
  },
  {
   "cell_type": "markdown",
   "id": "f809718b",
   "metadata": {},
   "source": [
    "### MIRRORED TREE"
   ]
  },
  {
   "cell_type": "code",
   "execution_count": 20,
   "id": "0e1412a7",
   "metadata": {},
   "outputs": [],
   "source": [
    "def mirroredtree(root):\n",
    "    if root == None:\n",
    "        return\n",
    "    if root.left == None and root.right == None:\n",
    "        return root\n",
    "    mirroredtree(root.left)\n",
    "    mirroredtree(root.right)\n",
    "    temp=root.left\n",
    "    root.left=root.right\n",
    "    root.right=temp\n",
    "    return root "
   ]
  },
  {
   "cell_type": "code",
   "execution_count": 21,
   "id": "c25a2892",
   "metadata": {},
   "outputs": [
    {
     "name": "stdout",
     "output_type": "stream",
     "text": [
      "1\n",
      "2\n",
      "-1\n",
      "-1\n",
      "3\n",
      "-1\n",
      "-1\n",
      "1:L 2 R 3 \n",
      "2:\n",
      "3:\n",
      "1:L 3 R 2 \n",
      "3:\n",
      "2:\n"
     ]
    }
   ],
   "source": [
    "root=treeinput()\n",
    "printtreedetailed(root)\n",
    "mirroredtree(root)\n",
    "printtreedetailed(root)"
   ]
  },
  {
   "cell_type": "markdown",
   "id": "e47d1b31",
   "metadata": {},
   "source": [
    "### TREE IS BALANCED OR NOT- TRUE OR FALSE\n",
    "1. DIFFERENCE BETWEEN HEIGHT OF LEFT SUBTREE AND HEIGHT OF RIGHT SUBTREE SHOULD NOT BE MORE THAN 1 \n",
    "2. A TREE IS BALANCED IF LEFT SUBTREE IS BALANCED+RIGHT SUBTREE IS BALANCED AND THE DIFF BW HEIGHT OF LEFT SUBTREE AND RIGHT SUBTREE IS NOT MORE THAN 1"
   ]
  },
  {
   "cell_type": "code",
   "execution_count": 16,
   "id": "268163b5",
   "metadata": {},
   "outputs": [],
   "source": [
    "def height(root):\n",
    "    if root == None:\n",
    "        return 0\n",
    "    return 1 + max(height(root.left),height(root.right))\n",
    "\n",
    "def isbalanced(root):\n",
    "    if root == None:\n",
    "        return True\n",
    "    lh = height(root.left)\n",
    "    rh = height(root.right)\n",
    "    if lh-rh>1 or rh-lh>1:\n",
    "        return False \n",
    "    ##out of if means the diff condition is okay for balancing\n",
    "    isleftbalanced=isbalanced(root.left)\n",
    "    isrightbalanced=isbalanced(root.right)\n",
    "    if isleftbalanced and isrightbalanced:\n",
    "        return True\n",
    "    else:\n",
    "        return False\n",
    "    "
   ]
  },
  {
   "cell_type": "code",
   "execution_count": 17,
   "id": "ad4f02ed",
   "metadata": {},
   "outputs": [
    {
     "name": "stdout",
     "output_type": "stream",
     "text": [
      "1\n",
      "2\n",
      "-1\n",
      "-1\n",
      "3\n",
      "4\n",
      "-1\n",
      "5\n",
      "-1\n",
      "-1\n",
      "-1\n",
      "1:L 2 R 3 \n",
      "2:\n",
      "3:L 4 \n",
      "4:R 5 \n",
      "5:\n",
      "False\n"
     ]
    }
   ],
   "source": [
    "root=treeinput()\n",
    "printtreedetailed(root)\n",
    "print(isbalanced(root))"
   ]
  },
  {
   "cell_type": "raw",
   "id": "9166008e",
   "metadata": {},
   "source": [
    "TIME COMPLEXITY IN ISBALANCED\n",
    "TOTAL NO OF NODES = N\n",
    "IF LEFTNODES = K\n",
    "RIGHTNODES = N-K-1(ROOT IS THE 1 NODE)\n",
    "HEIGHT OF LEFT = O(N)\n",
    "HEIGHT OF RIGHT = O(N-K-1)=O(N)\n",
    "THEN RECURSIVE CALLS \n",
    "TOTAL WORK IN A BALANCED TREE =T(N)= K(N)+2T(N/2) IE HEIGHT + RECURSIVE CALLS ON BOTH THE SUB HALFS\n",
    "IF TREE IS LINEAR IE NO LEFT HALF IN ANY NODE THEN FOR HEIGHT ITS O(N) AND RECURISVE SINCE ONLY ON RIGHT ITS O(N-1) FOR THE RECURSIVE CALLS\n"
   ]
  },
  {
   "cell_type": "markdown",
   "id": "33810794",
   "metadata": {},
   "source": [
    "1. height calc is being done twice\n",
    "2. first in actual height function and then in isbalanced too\n",
    "3. so if both the things are called collectively simultaneously, it would be better\n",
    "### IS BALANCED SECOND APPROACH"
   ]
  },
  {
   "cell_type": "code",
   "execution_count": 31,
   "id": "1c994abb",
   "metadata": {},
   "outputs": [],
   "source": [
    "def isbalanced2(root):\n",
    "    if root == None:\n",
    "        return 0,True ##height as 0 and isbalanced as true\n",
    "    lh,isleftbalanced2 = isbalanced2(root.left)\n",
    "    rh,isrightbalanced2=isbalanced2(root.right)\n",
    "    h=1+max(lh,rh)\n",
    "    if lh-rh>1 or rh-lh>1:\n",
    "        return h, False\n",
    "    if isleftbalanced2 and isrightbalanced2:\n",
    "        return h, True\n",
    "    else:\n",
    "        return h,False"
   ]
  },
  {
   "cell_type": "code",
   "execution_count": 32,
   "id": "11b47554",
   "metadata": {},
   "outputs": [
    {
     "name": "stdout",
     "output_type": "stream",
     "text": [
      "1\n",
      "2\n",
      "-1\n",
      "-1\n",
      "-1\n",
      "1:L 2 \n",
      "2:\n",
      "(2, True)\n"
     ]
    }
   ],
   "source": [
    "root=treeinput()\n",
    "printtreedetailed(root)\n",
    "print(isbalanced2(root))"
   ]
  },
  {
   "cell_type": "markdown",
   "id": "bb883845",
   "metadata": {},
   "source": [
    "### diameter of a tree\n",
    "dist between two farthest nodes in a tree \n",
    "either in different subtress then lh+rh\n",
    "if in same subtree then accordingly ld or rd"
   ]
  },
  {
   "cell_type": "code",
   "execution_count": 36,
   "id": "72352d44",
   "metadata": {},
   "outputs": [],
   "source": [
    "class binarytreenode:\n",
    "    def __init__(self,data):\n",
    "        self.data=data\n",
    "        self.left=None\n",
    "        self.right=None\n",
    "def printtreedetailed(root):\n",
    "    if root == None:\n",
    "        return\n",
    "    print(root.data,end=\":\")\n",
    "    if root.left!=None:\n",
    "        print(\"L\",root.left.data,end=\" \")\n",
    "    if root.right!=None:\n",
    "        print(\"R\",root.right.data,end=\" \")\n",
    "    print()\n",
    "    printtreedetailed(root.left)\n",
    "    printtreedetailed(root.right)\n",
    "    \n",
    "def treeinput():\n",
    "    rootdata=int(input())\n",
    "    if rootdata==-1 :\n",
    "        return None\n",
    "    root=binarytreenode(rootdata)\n",
    "    lefttree=treeinput()\n",
    "    righttree=treeinput()\n",
    "    root.left=lefttree\n",
    "    root.right=righttree\n",
    "    return root\n",
    "\n",
    "def height(root):\n",
    "    if root==None:\n",
    "        return 0\n",
    "    return 1+max(height(root.left),height(root.right))\n",
    "def diameter (root):\n",
    "    if root == None:\n",
    "        return 0\n",
    "    a=height(root.left)+height(root.right)\n",
    "    b=diameter(root.left)\n",
    "    c=diameter(root.right)\n",
    "    return max(a,b,c)"
   ]
  },
  {
   "cell_type": "code",
   "execution_count": 37,
   "id": "06c0caa1",
   "metadata": {},
   "outputs": [
    {
     "name": "stdout",
     "output_type": "stream",
     "text": [
      "1\n",
      "2\n",
      "-1\n",
      "-1\n",
      "3\n",
      "-1\n",
      "-1\n",
      "1:L 2 R 3 \n",
      "2:\n",
      "3:\n"
     ]
    },
    {
     "data": {
      "text/plain": [
       "2"
      ]
     },
     "execution_count": 37,
     "metadata": {},
     "output_type": "execute_result"
    }
   ],
   "source": [
    "root=treeinput()\n",
    "printtreedetailed(root)\n",
    "diameter(root)"
   ]
  },
  {
   "cell_type": "markdown",
   "id": "d6832a7e",
   "metadata": {},
   "source": [
    "### SECOND APPROACH FOR DIAMETER"
   ]
  },
  {
   "cell_type": "code",
   "execution_count": 12,
   "id": "39df0303",
   "metadata": {},
   "outputs": [],
   "source": [
    "class binarytreenode:\n",
    "    def __init__(self,data):\n",
    "        self.data=data\n",
    "        self.left=None\n",
    "        self.right=None\n",
    "def printtreedetailed(root):\n",
    "    if root == None:\n",
    "        return\n",
    "     print(root.data,end=\":\")\n",
    "    if root.left!=None:\n",
    "        print(\"L\",root.left.data,end=\" \")\n",
    "    if root.right!=None:\n",
    "        print(\"R\",root.right.data,end=\" \")\n",
    "    print()\n",
    "    printtreedetailed(root.left)\n",
    "    printtreedetailed(root.right)\n",
    "def treeinput():\n",
    "    rootdata=int(input())\n",
    "    if rootdata==-1 :\n",
    "        return None\n",
    "    root=binarytreenode(rootdata)\n",
    "    lefttree=treeinput()\n",
    "    righttree=treeinput()\n",
    "    root.left=lefttree\n",
    "    root.right=righttree\n",
    "    return root\n",
    "def getdiameter (root):\n",
    "    if root == None:\n",
    "        return 0,0\n",
    "    lh,ld=getdiameter(root.left)\n",
    "    rh,rd=getdiameter(root.right)\n",
    "    h=1+max(lh,rh)\n",
    "    return h,max(lh+rh,ld,rd)"
   ]
  },
  {
   "cell_type": "code",
   "execution_count": 13,
   "id": "96551800",
   "metadata": {},
   "outputs": [
    {
     "name": "stdout",
     "output_type": "stream",
     "text": [
      "1\n",
      "2\n",
      "-1\n",
      "-1\n",
      "3\n",
      "4\n",
      "-1\n",
      "-1\n",
      "-1\n",
      "1:L 2 R 3 \n",
      "2:\n",
      "3:L 4 \n",
      "4:\n",
      "3\n"
     ]
    }
   ],
   "source": [
    "root=treeinput()\n",
    "printtreedetailed(root)\n",
    "print(getdiameter(root)[1])"
   ]
  },
  {
   "cell_type": "markdown",
   "id": "e0665f72",
   "metadata": {},
   "source": [
    "### level wise input\n",
    "1. recursion cant give control to go level wise, it goes on till the base case is rchd\n",
    "so iteration\n",
    "2. take root input\n",
    "3. add it to queue\n",
    "4. while queue aint empt:\n",
    "    1. take out  front of queue\n",
    "    2. if valid children (not -1) ,then attach them to root and add its children to queue\n",
    "    goes on in a loop"
   ]
  },
  {
   "cell_type": "code",
   "execution_count": 6,
   "id": "a7d2dc72",
   "metadata": {},
   "outputs": [],
   "source": [
    "import queue\n",
    "class binarytreenode:\n",
    "    def __init__(self,data):\n",
    "        self.data=data\n",
    "        self.left=None\n",
    "        self.right=None\n",
    "def printtreedetailed(root):\n",
    "    if root == None:\n",
    "        return\n",
    "    print(root.data,end=\":\")\n",
    "    if root.left!=None:\n",
    "        print(root.left.data,end=\" \")\n",
    "    if root.right!= None:\n",
    "        print(root.right.data,end=\" \")\n",
    "    print()\n",
    "    printtreedetailed(root.left)\n",
    "    printtreedetailed(root.right)\n",
    "def takelevelwiseinput():\n",
    "    q=queue.Queue()\n",
    "    print(\"enter root\")\n",
    "    rootdata=int(input())\n",
    "    if (rootdata==-1):\n",
    "        return None\n",
    "    root=binarytreenode(rootdata)\n",
    "    q.put(root)\n",
    "    while (not(q.empty())):\n",
    "        currentnode=q.get() ##u took out the ele from queue and stored it in currnode\n",
    "        print(\"enter left child of\",currentnode.data)\n",
    "        leftchilddata=int(input())\n",
    "        if leftchilddata!=-1:\n",
    "            leftchild=binarytreenode(leftchilddata)\n",
    "            currentnode.left=leftchild\n",
    "            q.put(leftchild)\n",
    "        print(\"enter right child of\",currentnode.data)\n",
    "        rightchilddata=int(input())\n",
    "        if rightchilddata!=-1:\n",
    "            rightchild=binarytreenode(rightchilddata)\n",
    "            currentnode.right=rightchild\n",
    "            q.put(rightchild)\n",
    "    return root\n",
    "        "
   ]
  },
  {
   "cell_type": "code",
   "execution_count": 7,
   "id": "4dc3b7c7",
   "metadata": {},
   "outputs": [
    {
     "name": "stdout",
     "output_type": "stream",
     "text": [
      "enter root\n",
      "1\n",
      "enter left child 1\n",
      "2\n",
      "enter right child 1\n",
      "3\n",
      "enter left child 2\n",
      "-1\n",
      "enter right child 2\n",
      "-1\n",
      "enter left child 3\n",
      "-1\n",
      "enter right child 3\n",
      "-1\n",
      "1:2 3 \n",
      "2:\n",
      "3:\n"
     ]
    }
   ],
   "source": [
    "root=takelevelwiseinput()\n",
    "printtreedetailed(root)"
   ]
  },
  {
   "cell_type": "markdown",
   "id": "7a19a016",
   "metadata": {},
   "source": [
    "### print level wise\n",
    "1. add root to the queue /n\n",
    "2. while q is not empty: /n\n",
    "    1. take out first node\n",
    "    2. print for it\n",
    "    3. if the node's children aint none: add them to queue"
   ]
  },
  {
   "cell_type": "code",
   "execution_count": 12,
   "id": "57387c55",
   "metadata": {},
   "outputs": [],
   "source": [
    "import queue\n",
    "class binarytreenode:\n",
    "    def __init__(self,data):\n",
    "        self.data=data\n",
    "        self.left=None\n",
    "        self.right=None\n",
    "def printLevelWise(root):\n",
    "    if root==None:\n",
    "        return\n",
    "\n",
    "    inputQ = queue.Queue()\n",
    "    outputQ = queue.Queue()\n",
    "    inputQ.put(root)\n",
    "\n",
    "    while not inputQ.empty():\n",
    "       \n",
    "        while not inputQ.empty():\n",
    "       \n",
    "            curr = inputQ.get()\n",
    "            print(curr.data,end=':')\n",
    "            \n",
    "            if curr.left!=None:\n",
    "                print(\"L:\",curr.left.data,end=\",\")\n",
    "                outputQ.put(curr.left)\n",
    "            else:\n",
    "                print(\"L:\",end=\"\")\n",
    "                print(-1, end = \",\")\n",
    "            if curr.right!=None:\n",
    "                print(\"R:\",curr.right.data,end=\"\")\n",
    "                outputQ.put(curr.right)\n",
    "            else:\n",
    "                print(\"R:\", end = \"\")\n",
    "                print(-1)\n",
    "        print()\n",
    "        inputQ, outputQ = outputQ, inputQ\n",
    "def takelevelwiseinput():\n",
    "    q=queue.Queue()\n",
    "    print(\"enter root\")\n",
    "    rootdata=int(input())\n",
    "    if (rootdata==-1):\n",
    "        return None\n",
    "    root=binarytreenode(rootdata)\n",
    "    q.put(root)\n",
    "    while (not(q.empty())):\n",
    "        currentnode=q.get() ##u took out the ele from queue and stored it in currnode\n",
    "        print(\"enter left child of\",currentnode.data)\n",
    "        leftchilddata=int(input())\n",
    "        if leftchilddata!=-1:\n",
    "            leftchild=binarytreenode(leftchilddata)\n",
    "            currentnode.left=leftchild\n",
    "            q.put(leftchild)\n",
    "        print(\"enter right child of\",currentnode.data)\n",
    "        rightchilddata=int(input())\n",
    "        if rightchilddata!=-1:\n",
    "            rightchild=binarytreenode(rightchilddata)\n",
    "            currentnode.right=rightchild\n",
    "            q.put(rightchild)\n",
    "    return root"
   ]
  },
  {
   "cell_type": "code",
   "execution_count": 13,
   "id": "20988c73",
   "metadata": {},
   "outputs": [
    {
     "name": "stdout",
     "output_type": "stream",
     "text": [
      "enter root\n",
      "1\n",
      "enter left child of 1\n",
      "2\n",
      "enter right child of 1\n",
      "3\n",
      "enter left child of 2\n",
      "-1\n",
      "enter right child of 2\n",
      "-1\n",
      "enter left child of 3\n",
      "-1\n",
      "enter right child of 3\n",
      "-1\n",
      "1:L: 2,R: 3\n",
      "2:L:-1,R:-1\n",
      "\n",
      "3:L:-1,R:-1\n",
      "\n"
     ]
    }
   ],
   "source": [
    "root=takelevelwiseinput()\n",
    "printLevelWise(root)"
   ]
  },
  {
   "cell_type": "markdown",
   "id": "196ca1b3",
   "metadata": {},
   "source": [
    "#### second approach of print level wise"
   ]
  },
  {
   "cell_type": "code",
   "execution_count": 12,
   "id": "21e386fa",
   "metadata": {},
   "outputs": [],
   "source": [
    "import queue\n",
    "class binarytreenode:\n",
    "    def __init__(self,data):\n",
    "        self.data=data\n",
    "        self.left=None\n",
    "        self.right=None\n",
    "def printlevelwisedetailed(root):\n",
    "    if root is None:\n",
    "        return None\n",
    "    q=queue.Queue()\n",
    "    q.put(root)\n",
    "    while not q.empty():\n",
    "        rootdata=q.get()\n",
    "        if rootdata.left is None and rootdata.right is None:\n",
    "            pass\n",
    "        elif rootdata.left is None and rootdata.right is not None:\n",
    "            q.put(rootdata.right)\n",
    "        elif rootdata.left is not None and rootdata.right is None:\n",
    "            q.put(rootdata.left)\n",
    "        else:\n",
    "            q.put(rootdata.left)\n",
    "            q.put(rootdata.right)\n",
    "        print(str(rootdata.data)+\":\",end=\"\")\n",
    "        if rootdata.left is None:\n",
    "            print(\"L:-1,\",end=\"\")\n",
    "        else:\n",
    "            print(\"L:\"+str(rootdata.left.data)+\",\",end=\"\")\n",
    "        if rootdata.right is None:\n",
    "            print(\"R:-1\", end=\"\")\n",
    "        else:\n",
    "            print(\"R:\"+str(rootdata.right.data),end=\"\")\n",
    "        print()\n",
    "def takelevelwiseinput():\n",
    "    q=queue.Queue()\n",
    "    print(\"enter root\")\n",
    "    rootdata=int(input())\n",
    "    if (rootdata==-1):\n",
    "        return None\n",
    "    root=binarytreenode(rootdata)\n",
    "    q.put(root)\n",
    "    while (not(q.empty())):\n",
    "        currentnode=q.get() ##u took out the ele from queue and stored it in currnode\n",
    "        print(\"enter left child of\",currentnode.data)\n",
    "        leftchilddata=int(input())\n",
    "        if leftchilddata!=-1:\n",
    "            leftchild=binarytreenode(leftchilddata)\n",
    "            currentnode.left=leftchild\n",
    "            q.put(leftchild)\n",
    "        print(\"enter right child of\",currentnode.data)\n",
    "        rightchilddata=int(input())\n",
    "        if rightchilddata!=-1:\n",
    "            rightchild=binarytreenode(rightchilddata)\n",
    "            currentnode.right=rightchild\n",
    "            q.put(rightchild)\n",
    "    return root"
   ]
  },
  {
   "cell_type": "code",
   "execution_count": 13,
   "id": "b2c13cd3",
   "metadata": {},
   "outputs": [
    {
     "name": "stdout",
     "output_type": "stream",
     "text": [
      "enter root\n",
      "1\n",
      "enter left child of 1\n",
      "2\n",
      "enter right child of 1\n",
      "3\n",
      "enter left child of 2\n",
      "-1\n",
      "enter right child of 2\n",
      "-1\n",
      "enter left child of 3\n",
      "-1\n",
      "enter right child of 3\n",
      "-1\n",
      "1:L:2,R:3\n",
      "2:L:-1,R:-1\n",
      "3:L:-1,R:-1\n"
     ]
    }
   ],
   "source": [
    "root=takelevelwiseinput()\n",
    "printlevelwisedetailed(root)"
   ]
  },
  {
   "cell_type": "markdown",
   "id": "5acc62df",
   "metadata": {},
   "source": [
    "### THIRD APPROACH OF PRINTLEVEL WISE "
   ]
  },
  {
   "cell_type": "code",
   "execution_count": 24,
   "id": "a971374d",
   "metadata": {},
   "outputs": [],
   "source": [
    "import queue\n",
    "class BinaryTreeNode:\n",
    "    def __init__(self,data):\n",
    "        self.data=data\n",
    "        self.left=None\n",
    "        self.right=None\n",
    "def printLevelWiseDetailed(root):\n",
    "    if root is None:\n",
    "        return None\n",
    "    pendingNodes = queue.Queue()\n",
    "    pendingNodes.put(root)\n",
    "    pendingNodes.put(None)\n",
    "    \n",
    "    while not pendingNodes.empty():\n",
    "        frontNode=pendingNodes.get()\n",
    "        if frontNode is None:\n",
    "            print()\n",
    "            if not pendingNodes.empty():\n",
    "                pendingNodes.put(None)\n",
    "    \n",
    "        else:\n",
    "            print(frontNode.data,end=\" \")\n",
    "            if frontNode.left is not None:\n",
    "                pendingNodes.put(frontNode.left)\n",
    "            if frontNode.right is not None:\n",
    "                pendingNodes.put(frontNode.right)\n",
    "                \n",
    "    return root\n",
    "                \n",
    "def takelevelwiseinput():\n",
    "    levelOrder = [int(ele) for ele in input().split()]\n",
    "    start = 0\n",
    "    \n",
    "    length = len(levelOrder)\n",
    "\n",
    "    if length == 1 :\n",
    "        return None\n",
    "    \n",
    "    root = BinaryTreeNode(levelOrder[start])\n",
    "    start += 1\n",
    "\n",
    "    q = queue.Queue()\n",
    "    q.put(root)\n",
    "\n",
    "    while not q.empty():\n",
    "        currentNode = q.get()\n",
    "\n",
    "        leftChild = levelOrder[start]\n",
    "        start += 1\n",
    "\n",
    "        if leftChild != -1:\n",
    "            leftNode = BinaryTreeNode(leftChild)\n",
    "            currentNode.left =leftNode\n",
    "            q.put(leftNode)\n",
    "\n",
    "        rightChild = levelOrder[start]\n",
    "        start += 1\n",
    "\n",
    "        if rightChild != -1:\n",
    "            rightNode = BinaryTreeNode(rightChild)\n",
    "            currentNode.right =rightNode\n",
    "            q.put(rightNode)\n",
    "\n",
    "    return root"
   ]
  },
  {
   "cell_type": "code",
   "execution_count": 25,
   "id": "37723c7d",
   "metadata": {},
   "outputs": [
    {
     "name": "stdout",
     "output_type": "stream",
     "text": [
      "2 3 4 -1 -1 -1 -1\n",
      "2 \n",
      "3 4 \n"
     ]
    },
    {
     "data": {
      "text/plain": [
       "<__main__.BinaryTreeNode at 0x2a42fc770a0>"
      ]
     },
     "execution_count": 25,
     "metadata": {},
     "output_type": "execute_result"
    }
   ],
   "source": [
    "root=takelevelwiseinput()\n",
    "printLevelWiseDetailed(root)"
   ]
  },
  {
   "cell_type": "code",
   "execution_count": 23,
   "id": "58683776",
   "metadata": {},
   "outputs": [
    {
     "name": "stdout",
     "output_type": "stream",
     "text": [
      "2 3 4 -1 -1 -1 -1\n",
      "2 \n",
      "3 4 "
     ]
    },
    {
     "data": {
      "text/plain": [
       "<__main__.BinaryTreeNode at 0x2a42fc6f3a0>"
      ]
     },
     "execution_count": 23,
     "metadata": {},
     "output_type": "execute_result"
    }
   ],
   "source": [
    "### from sys import stdin, setrecursionlimit\n",
    "import queue\n",
    "\n",
    "setrecursionlimit(10 ** 6)\n",
    "\n",
    "\n",
    "#Following is the structure used to represent the Binary Tree Node\n",
    "class BinaryTreeNode:\n",
    "    def __init__(self, data):\n",
    "        self.data = data\n",
    "        self.left = None\n",
    "        self.right = None\n",
    "\n",
    "\n",
    "def printLevelWise(root):\n",
    "    q=queue.Queue()\n",
    "    if root==None:\n",
    "        return\n",
    "    q.put(root)\n",
    "    q.put(None)\n",
    "    while(not(q.empty())):\n",
    "        current_Node=q.get()\n",
    "        if current_Node!=None:\n",
    "            print(current_Node.data,end=' ')\n",
    "            #adding it's left and right child to queue if they not none\n",
    "            if current_Node.left!=None:\n",
    "                q.put(current_Node.left)\n",
    "            if current_Node.right!=None:\n",
    "                q.put(current_Node.right)\n",
    "        if current_Node==None:\n",
    "            if q.empty():# if empty don't insert none to avoid going into infinite loop\n",
    "                break\n",
    "            else:\n",
    "                print()#new line\n",
    "                q.put(None)\n",
    "    return root\n",
    "            \n",
    "            #check if queue not empty\n",
    "        \n",
    "    #Your code goes he\n",
    "\n",
    "def takelevelwiseinput():\n",
    "    levelOrder = [int(ele) for ele in input().split()]\n",
    "    start = 0\n",
    "    \n",
    "    length = len(levelOrder)\n",
    "\n",
    "    if length == 1 :\n",
    "        return None\n",
    "    \n",
    "    root = BinaryTreeNode(levelOrder[start])\n",
    "    start += 1\n",
    "\n",
    "    q = queue.Queue()\n",
    "    q.put(root)\n",
    "\n",
    "    while not q.empty():\n",
    "        currentNode = q.get()\n",
    "\n",
    "        leftChild = levelOrder[start]\n",
    "        start += 1\n",
    "\n",
    "        if leftChild != -1:\n",
    "            leftNode = BinaryTreeNode(leftChild)\n",
    "            currentNode.left =leftNode\n",
    "            q.put(leftNode)\n",
    "\n",
    "        rightChild = levelOrder[start]\n",
    "        start += 1\n",
    "\n",
    "        if rightChild != -1:\n",
    "            rightNode = BinaryTreeNode(rightChild)\n",
    "            currentNode.right =rightNode\n",
    "            q.put(rightNode)\n",
    "\n",
    "    return root\n",
    "\n",
    "\n",
    "# Main\n",
    "root = takelevelwiseinput()\n",
    "printLevelWise(root)"
   ]
  },
  {
   "cell_type": "markdown",
   "id": "62e15fd0",
   "metadata": {},
   "source": [
    "#### build tree using pre order and in order \n",
    "1. find the root\n",
    "2. find inorder of left and right subtree\n",
    "3. find pre order of left and right subtree\n",
    "4. use recursion to build left and right subtree\n",
    "5. connect root w both subtrees\n",
    "\n",
    "\n",
    "1. find root thru pre order\n",
    "2. find that root in inorder, divide the left subtree and right subtree accordingly \n",
    "3. now we know the no. of nodes in left subtree, use that to figure out till when is the left pre order, the index no. \n",
    "4. the next index in the preorder list is the beginning of right subtree in pre order\n"
   ]
  },
  {
   "cell_type": "code",
   "execution_count": 5,
   "id": "cae93fc3",
   "metadata": {},
   "outputs": [
    {
     "name": "stdout",
     "output_type": "stream",
     "text": [
      "3\n",
      "1 2 3\n",
      "2 1 3\n",
      "1 \n",
      "2 3 \n"
     ]
    }
   ],
   "source": [
    "import queue\n",
    "class binarytreenode:\n",
    "    def __init__(self,data):\n",
    "        self.data=data\n",
    "        self.left=None\n",
    "        self.right=None\n",
    "def buildtree(preorder,inorder):\n",
    "    if len(preorder)==0:\n",
    "        return None\n",
    "    rootdata=preorder[0]\n",
    "    root=binarytreenode(rootdata)\n",
    "    rootindexininorder=-1 ##assumed and assigned\n",
    "    for i in range(0,len(inorder)):\n",
    "        if inorder[i]==rootdata:\n",
    "            rootindexininorder=i\n",
    "            break\n",
    "    if rootindexininorder==-1:\n",
    "        return None\n",
    "    leftinorder=inorder[0:rootindexininorder] ##end pointing ie rootindexininorder se ek pehle deta h slicing\n",
    "    rightinorder=inorder[rootindexininorder+1:]\n",
    "    \n",
    "    lenleftsubtree=len(leftinorder)\n",
    "    \n",
    "    leftpreorder=preorder[1:lenleftsubtree+1] ##so that we get till lenleftsubtree\n",
    "    rightpreorder=preorder[lenleftsubtree+1:]\n",
    "    \n",
    "    leftchild=buildtree(leftpreorder,leftinorder)\n",
    "    rightchild=buildtree(rightpreorder,rightinorder)\n",
    "    \n",
    "    root.left= leftchild\n",
    "    root.right=rightchild\n",
    "    return root\n",
    "def printLevelATNewLine(root):\n",
    "    if root==None:\n",
    "        return\n",
    "    inputQ = queue.Queue()\n",
    "    outputQ = queue.Queue()\n",
    "    inputQ.put(root)\n",
    "    while not inputQ.empty():\n",
    "        while not inputQ.empty():\n",
    "            curr = inputQ.get()\n",
    "            print(curr.data, end=' ')\n",
    "            if curr.left!=None:\n",
    "                outputQ.put(curr.left)\n",
    "            if curr.right!=None:\n",
    "                outputQ.put(curr.right)\n",
    "        print()\n",
    "        inputQ, outputQ = outputQ, inputQ\n",
    "\n",
    "n=int(input())\n",
    "preorder=list(int(i) for i in input().strip().split(' '))\n",
    "inorder=list(int(i) for i in input().strip().split(' '))\n",
    "root = buildtree(preorder, inorder)\n",
    "printLevelATNewLine(root)"
   ]
  },
  {
   "cell_type": "markdown",
   "id": "0720aa14",
   "metadata": {},
   "source": [
    "### build tree using post order and inorder\n"
   ]
  },
  {
   "cell_type": "code",
   "execution_count": 8,
   "id": "36279053",
   "metadata": {},
   "outputs": [
    {
     "name": "stdout",
     "output_type": "stream",
     "text": [
      "3\n",
      "2 3 1\n",
      "2 1 3\n",
      "1 \n",
      "2 3 \n"
     ]
    }
   ],
   "source": [
    "import queue\n",
    "class binarytreenode:\n",
    "    def __init__ (self,data):\n",
    "        self.data=data\n",
    "        self.left=None\n",
    "        self.right=None\n",
    "def buildtree(postorder,inorder):\n",
    "    if len(postorder)==0:\n",
    "        return None\n",
    "    rootdata=postorder[len(postorder)-1]\n",
    "    root=binarytreenode(rootdata)\n",
    "    rootindexininorder=-1\n",
    "    for i in range(0,len(inorder)):\n",
    "        if inorder[i]==rootdata:\n",
    "            rootindexininorder=i\n",
    "            break\n",
    "    if rootindexininorder==-1:\n",
    "        return None\n",
    "    leftinorder=inorder[0:rootindexininorder] ##end pointing ie rootindexininorder se ek pehle deta h slicing\n",
    "    rightinorder=inorder[rootindexininorder+1:]\n",
    "    lenleftsubtree=len(leftinorder)\n",
    "    leftpostorder=postorder[0:lenleftsubtree]\n",
    "    rightpostorder=postorder[lenleftsubtree:len(postorder)-1]\n",
    "    leftchild=buildtree(leftpostorder,leftinorder)\n",
    "    rightchild=buildtree(rightpostorder,rightinorder)\n",
    "    root.left= leftchild\n",
    "    root.right=rightchild\n",
    "    return root\n",
    "def printLevelATNewLine(root):\n",
    "    if root==None:\n",
    "        return\n",
    "    inputQ = queue.Queue()\n",
    "    outputQ = queue.Queue()\n",
    "    inputQ.put(root)\n",
    "    while not inputQ.empty():\n",
    "        while not inputQ.empty():\n",
    "            curr = inputQ.get()\n",
    "            print(curr.data, end=' ')\n",
    "            if curr.left!=None:\n",
    "                outputQ.put(curr.left)\n",
    "            if curr.right!=None:\n",
    "                outputQ.put(curr.right)\n",
    "        print()\n",
    "        inputQ, outputQ = outputQ, inputQ\n",
    "n=int(input())\n",
    "postorder=list(int(i) for i in input().strip().split(' '))\n",
    "inorder=list(int(i) for i in input().strip().split(' '))\n",
    "root = buildtree(postorder, inorder)\n",
    "printLevelATNewLine(root)"
   ]
  }
 ],
 "metadata": {
  "kernelspec": {
   "display_name": "Python 3",
   "language": "python",
   "name": "python3"
  },
  "language_info": {
   "codemirror_mode": {
    "name": "ipython",
    "version": 3
   },
   "file_extension": ".py",
   "mimetype": "text/x-python",
   "name": "python",
   "nbconvert_exporter": "python",
   "pygments_lexer": "ipython3",
   "version": "3.8.8"
  }
 },
 "nbformat": 4,
 "nbformat_minor": 5
}
