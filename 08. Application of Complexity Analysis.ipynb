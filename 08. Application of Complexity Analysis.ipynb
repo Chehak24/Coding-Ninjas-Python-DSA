{
 "cells": [
  {
   "cell_type": "markdown",
   "id": "5f83281a",
   "metadata": {},
   "source": [
    "#### n POWER OF x\n",
    "1. x^n =x^(n-1)* x or better way being;\n",
    "2. x ^n = (x^n//2)^2; taking seperate cases for n even and odd\n",
    "3. Time Complexity and Space Complexity -> O(logn)"
   ]
  },
  {
   "cell_type": "code",
   "execution_count": 11,
   "id": "846cd342",
   "metadata": {},
   "outputs": [
    {
     "name": "stdout",
     "output_type": "stream",
     "text": [
      "2 3\n",
      "8\n"
     ]
    }
   ],
   "source": [
    "def power(x,n):\n",
    "    if n==0:\n",
    "        return 1\n",
    "    power_small = power(x,n//2) ## storing it since its being used ahead \n",
    "    if n%2==0:\n",
    "        return power_small*power_small\n",
    "    else:\n",
    "        return x*power_small*power_small\n",
    "from sys import setrecursionlimit\n",
    "setrecursionlimit(11000)\n",
    "x, n=list(int(i) for i in input().strip().split(' '))\n",
    "if x==0:\n",
    "    print (0)\n",
    "print(power(x, n))\n",
    "\n",
    "##dont handle the base case of x=0"
   ]
  },
  {
   "cell_type": "markdown",
   "id": "b54ecf5a",
   "metadata": {},
   "source": [
    "#### Array intersection \n",
    "1."
   ]
  },
  {
   "cell_type": "code",
   "execution_count": null,
   "id": "d19e7235",
   "metadata": {},
   "outputs": [],
   "source": [
    "def intersection(arr1, arr2, n, m) :\n",
    "    if n<m:\n",
    "        quicksort(arr1)\n",
    "    else :\n",
    "        quicksort(arr2)\n",
    "def merge(a,b):\n",
    "    n=len(a)\n",
    "    pivotindex=n//2\n",
    "    i = 0\n",
    "    if pivotindex == b[i]:\n",
    "        print(a[1:pivotindex] + b)\n",
    "        i=i+1\n",
    "def quickstart (a,si,ei)\n",
    "        "
   ]
  },
  {
   "cell_type": "code",
   "execution_count": null,
   "id": "3ce2c15d",
   "metadata": {},
   "outputs": [],
   "source": [
    "def intersection(arr1,arr2,n,m):\n",
    "    if n<m:\n",
    "        sort(arr1)\n",
    "    else :\n",
    "        sort (arr2)\n",
    "#def sort(a,si,ei):\n",
    "    while si <=ei :\n",
    "        pivotindex = partition (a,si,ei)\n",
    "        leftsort = sort (a,si,pivotindex-1)\n",
    "        rightsort= sort (a,pivotindex+1,ei)\n",
    "def partition (a,si,ei):\n",
    "    pivot=a[si]\n",
    "    c=0\n",
    "    for i in range (si,ei+1):\n",
    "        if a[i]<pivot:\n",
    "            c=c+1\n",
    "    a[si+c],a[si]=a[si],a[si+c]\n",
    "    pivotindex = si+c\n",
    "    i=si\n",
    "    j=ei\n",
    "    while i<j:\n",
    "        if a[i]<pivot:\n",
    "            i=i+1\n",
    "        elif a[j]>=pivot:\n",
    "            j=j-1\n",
    "        else:\n",
    "            a[i],a[j]=a[j],a[i]\n",
    "            i=i+1\n",
    "            j=j-1\n",
    "    return pivotindex\n",
    "if sort(arr1) True :\n",
    "    i=0\n",
    "    if n//2 == arr2[i]:\n",
    "        print leftsort+arr2[i]\n",
    "        i=i+1\n",
    "    else : \n",
    "        print arr2[i] + rightsort\n",
    "        i=i-1\n",
    "        "
   ]
  },
  {
   "cell_type": "code",
   "execution_count": 1,
   "id": "fe3caa09",
   "metadata": {},
   "outputs": [
    {
     "ename": "SyntaxError",
     "evalue": "Missing parentheses in call to 'print'. Did you mean print(arr1[i:n//2]+arr2[m//2])? (<ipython-input-1-8417385457ed>, line 7)",
     "output_type": "error",
     "traceback": [
      "\u001b[1;36m  File \u001b[1;32m\"<ipython-input-1-8417385457ed>\"\u001b[1;36m, line \u001b[1;32m7\u001b[0m\n\u001b[1;33m    print arr1[i:n//2]+arr2[m//2]\u001b[0m\n\u001b[1;37m          ^\u001b[0m\n\u001b[1;31mSyntaxError\u001b[0m\u001b[1;31m:\u001b[0m Missing parentheses in call to 'print'. Did you mean print(arr1[i:n//2]+arr2[m//2])?\n"
     ]
    }
   ],
   "source": [
    "from sys import stdin\n",
    "def intersection(arr1,arr2,n,m):\n",
    "    if n<m:\n",
    "        sort(arr1)\n",
    "        i=0\n",
    "        if arr1[i]==arr2[m//2]:\n",
    "            print (arr1[i:n//2]+arr2[m//2])\n",
    "    else :\n",
    "        sort (arr2)\n",
    "    \n",
    "def takeInput() :\n",
    "    n = int(stdin.readline().strip())\n",
    "    \n",
    "    if n == 0 :\n",
    "    \treturn list(), 0\n",
    "\n",
    "    arr = list(map(int, stdin.readline().strip().split(\" \")))\n",
    "    return arr, n\n",
    "\n",
    "\n",
    "#main\n",
    "t = int()\n",
    "\n",
    "while t > 0 :\n",
    "\n",
    "    arr1, n = takeInput()\n",
    "    arr2, m = takeInput()\n",
    "    intersection(arr1, arr2, n, m)\n",
    "    print()\n",
    "\n",
    "    t -= 1\n",
    "    \n",
    "        "
   ]
  },
  {
   "cell_type": "markdown",
   "id": "5669ee01",
   "metadata": {},
   "source": [
    "#### equilibrium index"
   ]
  },
  {
   "cell_type": "code",
   "execution_count": 9,
   "id": "a8331a9e",
   "metadata": {},
   "outputs": [
    {
     "name": "stdout",
     "output_type": "stream",
     "text": [
      "1\n",
      "6\n",
      "1 2 4 0 4 4\n",
      "-1\n"
     ]
    }
   ],
   "source": [
    "##to find the equilibrium index\n",
    "\n",
    "def equilibriumIndex (a,n):\n",
    "    ls=0\n",
    "    rs=0\n",
    "    for i in range (n):\n",
    "        rs =rs+a[i]\n",
    "    for i in range(n):\n",
    "        if i-1>=0:\n",
    "            ls=ls+a[i-1]\n",
    "        rs = rs-a[i]\n",
    "        if ls==rs:\n",
    "            return i\n",
    "    return -1\n",
    "t=int(input())\n",
    "while t>0:\n",
    "    n=int(input())\n",
    "    arr = [int(i) for i in input ().strip().split()]\n",
    "    print (equilibriumIndex(arr,n))\n",
    "    t-=1\n"
   ]
  },
  {
   "cell_type": "code",
   "execution_count": 10,
   "id": "05bee432",
   "metadata": {},
   "outputs": [
    {
     "name": "stdout",
     "output_type": "stream",
     "text": [
      "1\n",
      "6\n",
      "1 2 4 0 4 4\n",
      "-1\n"
     ]
    }
   ],
   "source": [
    "##other approach\n",
    "def equilibriumIndex(arr):\n",
    "    sum1 = sum(arr)\n",
    "    prev = 0\n",
    "    next =0\n",
    "    for i in range (0,len(arr)-1):\n",
    "        prev=prev+arr[i]\n",
    "        next = sum1-prev-arr[i+1]\n",
    "        if prev ==next:\n",
    "            return i+1\n",
    "    return -1 ## no such index exists\n",
    "t = int(input())\n",
    "while t>0:\n",
    "    n=int(input())\n",
    "    arr = [int(i) for i in input().strip().split()]\n",
    "    print (equilibriumIndex(arr))\n",
    "    t=t-1"
   ]
  },
  {
   "cell_type": "code",
   "execution_count": 6,
   "id": "e8e6a2e7",
   "metadata": {},
   "outputs": [
    {
     "name": "stdout",
     "output_type": "stream",
     "text": [
      "1\n",
      "4\n",
      "12 21 11 1\n",
      "3\n",
      "2 1 0\n",
      "1 \n"
     ]
    }
   ],
   "source": [
    "\n",
    "from sys import stdin\n",
    "\n",
    "def quicksort(a,si,ei):\n",
    "    if si>=ei:\n",
    "        return\n",
    "    pivotindex = partition(a,si,ei)\n",
    "    quicksort(a,si,pivotindex-1)\n",
    "    quicksort(a,pivotindex+1,ei)\n",
    "def partition (b,si,ei):\n",
    "    pivot=b[si]\n",
    "    c=0\n",
    "    for i in range (si,ei+1):\n",
    "        if b[i]<pivot:\n",
    "            c=c+1\n",
    "    b[si+c],b[si]=b[si],b[si+c]\n",
    "    pivotindex=si+c\n",
    "    i=si\n",
    "    j=ei\n",
    "    while i<j:\n",
    "        if b[i]<pivot:\n",
    "            i = i+1\n",
    "        elif b[j]>=pivot:\n",
    "            j=j-1\n",
    "        else:\n",
    "            b[i],b[j]=b[j],b[i]\n",
    "            i=i+1\n",
    "            j=j-1\n",
    "    return pivotindex \n",
    "def binarysearch(a,si,ei,x):\n",
    "    if (si>ei):\n",
    "        return -1\n",
    "    mid=(si+ei)//2\n",
    "    if (a[mid] ==x):\n",
    "        return mid\n",
    "    elif x>a[mid]:\n",
    "        return binarysearch(a,mid+1,ei,x)\n",
    "    else:\n",
    "        return binarysearch(a,si,mid-1,x)\n",
    "def intersection (a,b):\n",
    "    if len(a)==0 or len(b)==0:\n",
    "        return\n",
    "    elif (len(a)<len(b)):\n",
    "        out =[]\n",
    "        quicksort (a,0,len(a)-1)\n",
    "        for i in b:\n",
    "            t=binarysearch(a,0,len(a)-1,i)\n",
    "            if (t!=-1):\n",
    "                out.append(a[t])\n",
    "                a.pop(t)\n",
    "    else:\n",
    "        out=[]\n",
    "        quicksort(b,0,len(b)-1)\n",
    "        for i in a:\n",
    "            t=binarysearch(b,0,len(b)-1,i)\n",
    "            if (t!= -1):\n",
    "                out.append(b[t])\n",
    "                b.pop(t)\n",
    "    quicksort(out,0,len(out)-1)\n",
    "    for i in out:\n",
    "        print(i,end = ' ')\n",
    "def takeInput():\n",
    "    n=int(input())\n",
    "    if n==0:\n",
    "        return list(),0\n",
    "    arr = list(int(i) for i in input().strip().split(' '))\n",
    "    return arr,n\n",
    "t = int(input())\n",
    "while t>0:\n",
    "    arr1,n = takeInput()\n",
    "    arr2,m = takeInput()\n",
    "    intersection (arr1,arr2)\n",
    "    print()\n",
    "    t-=1"
   ]
  },
  {
   "cell_type": "code",
   "execution_count": 12,
   "id": "7f5d5843",
   "metadata": {},
   "outputs": [
    {
     "name": "stdout",
     "output_type": "stream",
     "text": [
      "1\n",
      "7\n",
      "2 3 1 6 3 6 2\n",
      "1\n"
     ]
    }
   ],
   "source": [
    "def unique_element(arr,n):\n",
    "    ans=0\n",
    "    for i in range (len(arr)):\n",
    "        ans= ans^arr[i]\n",
    "    return ans \n",
    "t=int(input())\n",
    "while t>0:\n",
    "    n = int(input())\n",
    "    arr = [int(i) for i in input().strip().split()]\n",
    "    print(unique_element(arr,n))\n",
    "    t-=1\n",
    "    "
   ]
  },
  {
   "cell_type": "code",
   "execution_count": 18,
   "id": "0ae8efed",
   "metadata": {},
   "outputs": [
    {
     "name": "stdout",
     "output_type": "stream",
     "text": [
      "1 2 1 2 6\n",
      "[1 2 6]\n"
     ]
    }
   ],
   "source": [
    "import numpy as np\n",
    "array=[int (i) for i in input().strip().split()]\n",
    "print (np.unique(array))"
   ]
  },
  {
   "cell_type": "code",
   "execution_count": 21,
   "id": "89f774be",
   "metadata": {},
   "outputs": [
    {
     "name": "stdout",
     "output_type": "stream",
     "text": [
      "1\n",
      "5\n",
      "1 2 1 2 6\n",
      "1 2 1 2 6 \n"
     ]
    }
   ],
   "source": [
    "from sys import stdin\n",
    "\n",
    "def findUnique(arr, n) :\n",
    "    XOR = 0\n",
    "    \n",
    "    for i in range(n) :\n",
    "        XOR ^= arr[i]\n",
    "\n",
    "    return XOR\n",
    "\n",
    "def takeInput() :\n",
    "    n = int(stdin.readline().strip())\n",
    "    if n == 0 :\n",
    "        return list(), 0\n",
    "\n",
    "    arr = list(map(int, stdin.readline().strip().split(\" \")))\n",
    "    return arr, n\n",
    "\n",
    "\n",
    "def printList(arr,n) : \n",
    "    for i in range(n) :\n",
    "        print(arr[i], end = \" \")\n",
    "    print()\n",
    "\n",
    "t=int(input())\n",
    "while t>0:\n",
    "    n = int(input())\n",
    "    arr = [int(i) for i in input().strip().split()]\n",
    "    uniquee=(unique_element(arr,n))\n",
    "    printList(arr,n)\n",
    "    t-=1\n",
    "\n"
   ]
  },
  {
   "cell_type": "markdown",
   "id": "2dbe87ba",
   "metadata": {},
   "source": [
    "#### Duplicate in array"
   ]
  },
  {
   "cell_type": "code",
   "execution_count": 15,
   "id": "ed2b60eb",
   "metadata": {},
   "outputs": [
    {
     "name": "stdout",
     "output_type": "stream",
     "text": [
      "1\n",
      "6\n",
      "3 2 1 1 4 0\n",
      "1\n"
     ]
    }
   ],
   "source": [
    "def findduplicator(arr,n):\n",
    "    sum1 = int((n-2)*(n-1)/2)\n",
    "    new_sum = sum(arr)\n",
    "    diff=new_sum-sum1\n",
    "    return diff\n",
    "t=int(input())\n",
    "while t>0:\n",
    "    n=int(input())\n",
    "    arr=list(int(i) for i in input().strip().split(' '))\n",
    "    duplicate = findduplicator(arr,n)\n",
    "    print(duplicate)\n",
    "    t-=1"
   ]
  },
  {
   "cell_type": "markdown",
   "id": "ff429198",
   "metadata": {},
   "source": [
    "####  PAIR SUM "
   ]
  },
  {
   "cell_type": "code",
   "execution_count": 5,
   "id": "5df2e59b",
   "metadata": {},
   "outputs": [
    {
     "name": "stdout",
     "output_type": "stream",
     "text": [
      "1\n",
      "5\n",
      "2 2 2 2 2\n",
      "4\n",
      "10\n"
     ]
    }
   ],
   "source": [
    "##pairsumproblem using indexing\n",
    "\n",
    "def pairsum(arr,n,num):\n",
    "    ans=0\n",
    "    arr.sort()\n",
    "    i=0\n",
    "    j=n-1\n",
    "    while (i<j):\n",
    "        if(arr[i]+arr[j]<num):\n",
    "            i=i+1\n",
    "        elif(arr[i]+arr[j]>num):\n",
    "            j=j-1\n",
    "        else:\n",
    "            initialLeftElement=arr[i]\n",
    "            initialLeftIndex=i\n",
    "            while(i<j and arr[i]==initialLeftElement):\n",
    "                i=i+1\n",
    "            initialRightElement=arr[j]\n",
    "            initialRightIndex=j\n",
    "            while(j>=i and arr[j]==initialRightElement):\n",
    "                j=j-1\n",
    "            if(initialLeftElement==initialRightElement):\n",
    "                equalnumbers=(i-initialLeftIndex)+(initialRightIndex-j)-1\n",
    "                ans=ans+(equalnumbers*(equalnumbers+1))//2\n",
    "            else:\n",
    "                ans=ans+((i-initialLeftIndex)*(initialRightIndex-j))\n",
    "    return ans\n",
    "\n",
    "t=int(input())\n",
    "while t>0:\n",
    "    n=int(input())\n",
    "    arr = [int(i) for i in input ().strip().split()]\n",
    "    num=int(input())\n",
    "    print (pairsum(arr,n,num))\n",
    "    t-=1"
   ]
  },
  {
   "cell_type": "markdown",
   "id": "a197f764",
   "metadata": {},
   "source": [
    "### PRINT TRIPLET "
   ]
  },
  {
   "cell_type": "code",
   "execution_count": 12,
   "id": "ed1f1c76",
   "metadata": {},
   "outputs": [
    {
     "name": "stdout",
     "output_type": "stream",
     "text": [
      "1\n",
      "6\n",
      "2 3 0 4 2 1\n",
      "6\n",
      "2\n"
     ]
    }
   ],
   "source": [
    "def  printtriplet(arr,n,num):\n",
    "    ans=0\n",
    "    arr.sort()\n",
    "    y=n-1\n",
    "    z=arr[i]\n",
    "    x=i+1\n",
    "    summ=num-z\n",
    "    while (x<y):\n",
    "        if (arr[x]+arr[y]<summ):\n",
    "            x=x+1\n",
    "        elif (arr[x]+arr[y]>summ):\n",
    "            y=y+1\n",
    "        else:\n",
    "            initialLeftElement=arr[x]\n",
    "            initialLeftIndex=x\n",
    "            while (x<y and arr[x]==initialLeftElement):\n",
    "                x=x+1\n",
    "            initialRightElement=arr[y]\n",
    "            initialRightIndex=y\n",
    "            while (y>=x and arr[y]==initialRightElement):\n",
    "                y=y-1\n",
    "            if (initialLeftElement==initialRightElement):\n",
    "                equalnumbers=(x-initialLeftIndex)+(initialRightIndex-y)-1\n",
    "                ans=ans+(equalnumbers*(equalnumbers+1))//2\n",
    "            else:\n",
    "                ans=ans+((x-initialLeftIndex)*(initialRightIndex-y))\n",
    "    return ans\n",
    "t=int(input())\n",
    "while t>0:\n",
    "    n=int(input())\n",
    "    arr = [int(i) for i in input ().strip().split()]\n",
    "    num=int(input())\n",
    "    print (pairsum(arr,n,num))\n",
    "    t-=1"
   ]
  },
  {
   "cell_type": "code",
   "execution_count": 13,
   "id": "b17dc79f",
   "metadata": {},
   "outputs": [
    {
     "name": "stdout",
     "output_type": "stream",
     "text": [
      "1\n",
      "7\n",
      "1 2 3 4 5 6 7\n",
      "12\n",
      "5\n"
     ]
    }
   ],
   "source": [
    "def tripletsum(arr,n,num):\n",
    "    arr.sort()\n",
    "    numtriplets=0\n",
    "    for i in range(n):\n",
    "        pairsumfor=num-arr[i]\n",
    "        numpairs=pairsum(arr,(i+1),(n-1),pairsumfor)\n",
    "        numtriplets += numpairs\n",
    "    return numtriplets\n",
    "def pairsum(arr,startindex,endindex,num):\n",
    "    numpair=0\n",
    "    while startindex<endindex:\n",
    "        if arr[startindex]+arr[endindex]<num:\n",
    "            startindex=startindex+1\n",
    "        elif arr[startindex]+arr[endindex]>num:\n",
    "            endindex=endindex-1\n",
    "        else:\n",
    "            elementatstart=arr[startindex]\n",
    "            elementatend=arr[endindex]\n",
    "            if elementatstart==elementatend:\n",
    "                totalelementsfromstarttoend=(endindex-startindex)+1\n",
    "                numpair=numpair+ (totalelementsfromstarttoend*(totalelementsfromstarttoend-1)//2)\n",
    "                return numpair\n",
    "            tempstartindex=startindex+1\n",
    "            tempendindex=endindex-1\n",
    "            while (tempstartindex <= tempendindex) and (arr[tempstartindex]==elementatstart):\n",
    "                tempstartindex=tempstartindex+1\n",
    "            while (tempendindex >= tempstartindex) and (arr[tempendindex]==elementatend):\n",
    "                tempendindex=tempendindex-1\n",
    "            totalelementsfromstart=(tempstartindex-startindex)\n",
    "            totalelementsfromend=(endindex-tempendindex)\n",
    "            numpair=numpair+(totalelementsfromstart*totalelementsfromend)\n",
    "            startindex=tempstartindex\n",
    "            endindex=tempendindex\n",
    "    return numpair\n",
    "\n",
    "t=int(input())\n",
    "while t>0:\n",
    "    n=int(input())\n",
    "    arr = [int(i) for i in input ().strip().split()]\n",
    "    num=int(input())\n",
    "    print (tripletsum(arr,n,num))\n",
    "    t-=1  "
   ]
  },
  {
   "cell_type": "markdown",
   "id": "56e69dd9",
   "metadata": {},
   "source": [
    "#### ROTATE ELEMENTS"
   ]
  },
  {
   "cell_type": "code",
   "execution_count": 16,
   "id": "bfc64678",
   "metadata": {},
   "outputs": [
    {
     "name": "stdout",
     "output_type": "stream",
     "text": [
      "1\n",
      "7\n",
      "1 2 3 4 5 6 7\n",
      "2\n",
      "3 4 5 6 7 1 2 \n"
     ]
    }
   ],
   "source": [
    "def rotate(arr, n, d):\n",
    "    temp=[]\n",
    "    for i in range(d): \n",
    "        temp.append(arr[i])\n",
    "    for i in range(d,n):\n",
    "        arr[i-d]=arr[i] \n",
    "    for i in range(d):\n",
    "        arr[n-d+i]=temp[i]\n",
    "\n",
    "def printList(arr,n):\n",
    "    for i in range (n):\n",
    "        print(arr[i], end= \" \" )\n",
    "    print()\n",
    "t=int(input())\n",
    "while t>0:\n",
    "    n=int(input())\n",
    "    arr=list(int(i) for i in input().strip().split(' '))\n",
    "    d=int(input())\n",
    "    rotated= rotate(arr,n,d)\n",
    "    printList(arr,n)\n",
    "    t-=1"
   ]
  },
  {
   "cell_type": "code",
   "execution_count": null,
   "id": "25f97b6e",
   "metadata": {},
   "outputs": [],
   "source": []
  }
 ],
 "metadata": {
  "kernelspec": {
   "display_name": "Python 3",
   "language": "python",
   "name": "python3"
  },
  "language_info": {
   "codemirror_mode": {
    "name": "ipython",
    "version": 3
   },
   "file_extension": ".py",
   "mimetype": "text/x-python",
   "name": "python",
   "nbconvert_exporter": "python",
   "pygments_lexer": "ipython3",
   "version": "3.8.8"
  }
 },
 "nbformat": 4,
 "nbformat_minor": 5
}
