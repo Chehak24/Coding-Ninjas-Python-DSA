{
 "cells": [
  {
   "cell_type": "markdown",
   "id": "6fd56e1e",
   "metadata": {},
   "source": [
    "1. optimal substructure - ex fibonacci problem: ie a recurence relation\n",
    "2. overlapping sub-problems - ex : fib(n) = fib(n-1)+fib(n-2), if we have a way  to store the value of fib(3), then that can be used somewhere else as well, here dynamic programming is required\n",
    "\n"
   ]
  },
  {
   "cell_type": "code",
   "execution_count": 3,
   "id": "c35e5075",
   "metadata": {},
   "outputs": [
    {
     "name": "stdout",
     "output_type": "stream",
     "text": [
      "4\n",
      "3\n"
     ]
    }
   ],
   "source": [
    "def fibb(n):\n",
    "    \n",
    "    if n == 0 or n==1:\n",
    "        return n\n",
    "    \n",
    "    ans1=fibb(n-1)\n",
    "    ans2=fibb(n-2)\n",
    "    \n",
    "    myAns=ans1+ans2\n",
    "    return myAns\n",
    "n= int(input())\n",
    "ans=fibb(n)\n",
    "print(ans)"
   ]
  },
  {
   "cell_type": "code",
   "execution_count": 8,
   "id": "2fd245b6",
   "metadata": {},
   "outputs": [
    {
     "name": "stdout",
     "output_type": "stream",
     "text": [
      "5\n",
      "5\n"
     ]
    }
   ],
   "source": [
    "def fibb(n,dp):\n",
    "    \n",
    "    if n == 0 or n==1:\n",
    "        return n\n",
    "    \n",
    "    ## storing the values,known as memoization\n",
    "    if dp[n-1]==-1:\n",
    "        ans1=fibb(n-1,dp)\n",
    "        dp[n-1]=ans1\n",
    "    else:\n",
    "        ans1=dp[n-1]\n",
    "        \n",
    "    if dp[n-2]==-1:\n",
    "        ans2=fibb(n-2,dp)\n",
    "        dp[n-2]=ans2\n",
    "    else:\n",
    "        ans2=dp[n-2]\n",
    "        \n",
    "    \n",
    "    myAns=ans1+ans2\n",
    "    return myAns\n",
    "n= int(input())\n",
    "dp=[-1 for i in range (n+1)] ##initially storing all values as -1\n",
    "ans=fibb(n,dp)\n",
    "print(ans)"
   ]
  },
  {
   "cell_type": "code",
   "execution_count": 7,
   "id": "96c6fbb7",
   "metadata": {},
   "outputs": [
    {
     "name": "stdout",
     "output_type": "stream",
     "text": [
      "5\n",
      "5\n"
     ]
    }
   ],
   "source": [
    "## using iterative relation; after recursion\n",
    "\n",
    "def fibbI(n):\n",
    "    dp=[0 for i in range (n+1)]\n",
    "    dp[0]=0\n",
    "    dp[1]=1\n",
    "    i=2\n",
    "    while i<=n:\n",
    "        dp[i]=dp[i-1]+dp[i-2]\n",
    "        i+=1\n",
    "    return dp[n]\n",
    "\n",
    "n=int(input())\n",
    "ans=fibbI(n)\n",
    "print(ans)"
   ]
  },
  {
   "cell_type": "code",
   "execution_count": null,
   "id": "0ae87d5e",
   "metadata": {},
   "outputs": [],
   "source": [
    "## time complexity and space complexity ie 0(n), for both recursion and iteration are same, so use iteration\n",
    "## basic stack limit should be less than 10^4, shouldnt exceed this, hence use iterative and not recursion\n",
    "\n",
    "\n"
   ]
  },
  {
   "cell_type": "markdown",
   "id": "df682547",
   "metadata": {},
   "source": [
    "###  MINIMUM STEPS TO given n"
   ]
  },
  {
   "cell_type": "code",
   "execution_count": null,
   "id": "8c3bdcaf",
   "metadata": {},
   "outputs": [],
   "source": [
    "## MINIMUM STEPS TO given n\n",
    "## n->1 usually\n",
    "## n-> n-1,n/2;if n isdivisible by 2,n/3-> n is divisible by 3\n",
    "\n",
    "## base case : if (n==1): return 0\n",
    "## ans1=minsteps(n-1)\n",
    "## ans2 = max\n",
    "## if n isdivisible by 2, ans2 = minstep(n/2)\n",
    "## ans3 = max\n",
    "## if n is divisible by 3, ans3=minstep(n/3) ** there will be many subprobelms\n",
    "\n",
    "## ans = 1+min(ans1,ans2,ans3)"
   ]
  },
  {
   "cell_type": "code",
   "execution_count": 16,
   "id": "2d3a7f83",
   "metadata": {},
   "outputs": [
    {
     "name": "stdout",
     "output_type": "stream",
     "text": [
      "9\n",
      "2\n"
     ]
    }
   ],
   "source": [
    "import sys\n",
    "from sys import maxsize as MAX_VALUE\n",
    "def minStepsTo1(n,dp):\n",
    "    \n",
    "    if n==1:\n",
    "        return 0\n",
    "    ans1=sys.maxsize\n",
    "    if n%3==0:\n",
    "        if dp[n//3]==-1:\n",
    "            ans1=minStepsTo1(n//3,dp)\n",
    "            dp[n//3]=ans1\n",
    "        else:\n",
    "            ans1=dp[n//3]\n",
    "            \n",
    "    ans2=sys.maxsize\n",
    "    if n%2==0:\n",
    "        if dp[n//2]==-1:\n",
    "            ans2=minStepsTo1(n//2,dp)\n",
    "            dp[n//2]=ans2\n",
    "        else:\n",
    "            ans2=dp[n//2]\n",
    "            \n",
    "    if dp[n-1]==-1:\n",
    "    \n",
    "        ans3=minStepsTo1(n-1,dp)\n",
    "        dp[n-1]=ans3\n",
    "    else:\n",
    "        ans3=dp[n-1]\n",
    "    \n",
    "    ans=1+min(ans1,ans2,ans3)\n",
    "    return ans \n",
    "\n",
    "\n",
    "n=int(input())\n",
    "dp=[-1 for  i in range (n+1)]\n",
    "ans=minStepsTo1(n,dp)\n",
    "print(ans)\n"
   ]
  },
  {
   "cell_type": "code",
   "execution_count": 17,
   "id": "892fa668",
   "metadata": {},
   "outputs": [
    {
     "name": "stdout",
     "output_type": "stream",
     "text": [
      "9\n",
      "2\n"
     ]
    }
   ],
   "source": [
    "## going for the iterative approach\n",
    "import sys\n",
    "def minSteps(n):\n",
    "    dp=[-1 for i in range(n+1)]\n",
    "    dp[1]=0\n",
    "    dp[0]=0\n",
    "    for i in range (2,n+1):\n",
    "        if dp[i]==-1:\n",
    "            ans1=dp[i-1]\n",
    "        if i%2==0:\n",
    "            x=i//2\n",
    "            if dp[i//2]==-1:\n",
    "                ans2=1+dp[x//2]\n",
    "            else:\n",
    "                ans2=dp[i//2]\n",
    "        else:\n",
    "            ans2=sys.maxsize\n",
    "        if i%3==0:\n",
    "            y=i//3\n",
    "            if dp[i//3]==-1:\n",
    "                ans2=1+dp[y//3]\n",
    "            else:\n",
    "                ans3=dp[i//3]\n",
    "        else:\n",
    "            ans3=sys.maxsize\n",
    "            \n",
    "        ans =1+min(ans1,ans2,ans3)\n",
    "        dp[i]=ans\n",
    "    return dp[n]\n",
    "n=int(input())\n",
    "print(minSteps(n))\n"
   ]
  },
  {
   "cell_type": "markdown",
   "id": "4bc46191",
   "metadata": {},
   "source": [
    "### MIN number of SQUARES to get N"
   ]
  },
  {
   "cell_type": "markdown",
   "id": "74355fcb",
   "metadata": {},
   "source": [
    "1. if nearest perf square can be found, then use that and call for the rest of the part"
   ]
  },
  {
   "cell_type": "markdown",
   "id": "a9201ff2",
   "metadata": {},
   "source": [
    "1. for 41 \n",
    "2. 1^2+minsteps(40)\n",
    "3. 2^2+minsteps(37)\n",
    "3. 3^2+minsteps(32)\n",
    "4. 4^2+minsteps(25)\n",
    "5. final ans -> min(1.+2.+3.+4.+..)\n",
    "\n",
    "\n",
    "6. if n==0:\n",
    "7. return 0\n",
    "\n",
    "8. minsteps(n):\n",
    "9. ans=max\n",
    "10. i=1,i* i<n,i++\n",
    "11. currAns=1+minsteps(n-i* i)\n",
    "12. ans=min(ans,currAns)\n",
    "13. return ans"
   ]
  },
  {
   "cell_type": "code",
   "execution_count": 1,
   "id": "9255ecdf",
   "metadata": {},
   "outputs": [
    {
     "name": "stdout",
     "output_type": "stream",
     "text": [
      "13\n",
      "2\n"
     ]
    }
   ],
   "source": [
    "import math,sys\n",
    "def minSquaresR(n):\n",
    "    if n==0:\n",
    "        return 0\n",
    "    ans=sys.maxsize\n",
    "    root=int(math.sqrt(n))\n",
    "    for i in range(1,root+1):\n",
    "        currAns=1+minSquaresR(n-(i**2))\n",
    "        ans=min(ans,currAns)\n",
    "    return ans\n",
    "    \n",
    "    \n",
    "n= int(input())\n",
    "ans=minSquaresR(n)\n",
    "print(ans)"
   ]
  },
  {
   "cell_type": "code",
   "execution_count": 32,
   "id": "9c331b18",
   "metadata": {},
   "outputs": [
    {
     "name": "stdout",
     "output_type": "stream",
     "text": [
      "41\n",
      "2\n"
     ]
    }
   ],
   "source": [
    "## memorisation\n",
    "import math,sys\n",
    "def minSquaresI(n,dp):\n",
    "    if n==0:\n",
    "        return 0\n",
    "    ans=sys.maxsize\n",
    "    root=int(math.sqrt(n))\n",
    "    for i in range(1,root+1):\n",
    "        newCheckValue = n-(i**2)\n",
    "        \n",
    "        if dp[newCheckValue]==-1:  ##dp[newCheckValue] is storing minSquaresR\n",
    "            smallAns=minSquaresI(newCheckValue,dp)\n",
    "            currAns=1+smallAns\n",
    "        else:\n",
    "            currAns=1+dp[newCheckValue]\n",
    "        ans=min(ans,currAns)\n",
    "    return ans\n",
    "    \n",
    "    \n",
    "n= int(input())\n",
    "dp = [-1 for i in range(n+1)]\n",
    "ans=minSquaresI(n,dp)\n",
    "print(ans)"
   ]
  },
  {
   "cell_type": "code",
   "execution_count": 30,
   "id": "d38ecaf6",
   "metadata": {},
   "outputs": [
    {
     "name": "stdout",
     "output_type": "stream",
     "text": [
      "41\n",
      "2\n"
     ]
    }
   ],
   "source": [
    "##using iteration\n",
    "import sys,math\n",
    "def minSquaresI(n):\n",
    "    dp=[-1 for i in range(n+1)]\n",
    "    dp[0]=0\n",
    "    \n",
    "    for i in range(1,n+1):\n",
    "        ans=sys.maxsize\n",
    "        root=int(math.sqrt(i))\n",
    "        for j in range(1,root+1):\n",
    "            currAns=1+dp[i-(j**2)]\n",
    "            ans=min(ans,currAns)\n",
    "        dp[i]=ans\n",
    "    return dp[n]\n",
    "n=int(input())\n",
    "ans=minSquaresI(n)\n",
    "print(ans)"
   ]
  },
  {
   "cell_type": "markdown",
   "id": "cb0180b7",
   "metadata": {},
   "source": [
    "### LIS EXPLAIN"
   ]
  },
  {
   "cell_type": "markdown",
   "id": "d94f4461",
   "metadata": {},
   "source": [
    "1. Longest Increasing Subsequence\n",
    "2. subsequent array, where we can skip the charcs in between from the array but\n",
    "3. have to move from left to right only\n",
    "3. 6,3,2,1,7,9-> 6,3,1; 3,2,7 are subsequents\n",
    "\n",
    "\n",
    "1. if length of longest subsequnce is required as in the prev case, it would be 6,7,9 ie 3\n",
    "2. length of longest Subsequence is possible in two ways:\n",
    "    1. including the LIS\n",
    "    2. Overall Maximum LIS possible\n",
    "    "
   ]
  },
  {
   "cell_type": "code",
   "execution_count": 36,
   "id": "38749817",
   "metadata": {},
   "outputs": [
    {
     "name": "stdout",
     "output_type": "stream",
     "text": [
      "7\n",
      "6 3 1 2 0 7 9\n",
      "4\n"
     ]
    }
   ],
   "source": [
    "def lis(li,i,n):\n",
    "    \n",
    "    if i==n: ## crossed the list\n",
    "        return 0,0\n",
    "    including_max=1\n",
    "    for j in range(i+1,n):\n",
    "        if li[j]>=li[i]:\n",
    "            further_including_max=lis(li,j,n)[0] ##we need  the 0th element of the lis which is being called upon 7,9\n",
    "            including_max=max(including_max,1+further_including_max)\n",
    "    excluding_max=lis(li,i+1,n)[1] ## calling on 3 whencalling upon 3,2,1,7,9\n",
    "    overallMax=max(including_max,excluding_max)\n",
    "    return including_max,overallMax\n",
    "n=int(input())\n",
    "li=[int (ele) for ele in input().split()]\n",
    "ans=lis(li,0,n)[1] ## coz overallMax chahie\n",
    "print(ans)"
   ]
  },
  {
   "cell_type": "markdown",
   "id": "68ef2253",
   "metadata": {},
   "source": [
    "#### with memorisations,coz overlapping aa ra h\n",
    "1. 6 calls lis including 7, lis including 9\n",
    "2. 3 calls lis including 7, lis including 9\n",
    "3. similarly every other ele calls 7 and 9\n",
    "4. save the answer for 7"
   ]
  },
  {
   "cell_type": "code",
   "execution_count": 39,
   "id": "c813e8b8",
   "metadata": {},
   "outputs": [
    {
     "name": "stdout",
     "output_type": "stream",
     "text": [
      "7\n",
      "6 3 1 2 0 7 9\n",
      "4\n"
     ]
    }
   ],
   "source": [
    "def lis(li,i,n,dp):\n",
    "    \n",
    "    if i==n: ## crossed the list\n",
    "        return 0,0\n",
    "    including_max=1\n",
    "    for j in range(i+1,n):\n",
    "        if li[j]>=li[i]:\n",
    "            if dp[j]==-1:\n",
    "                ans=lis(li,j,n,dp)\n",
    "                dp[j]=ans\n",
    "                further_including_max=ans[0] \n",
    "            else:\n",
    "                further_including_max=dp[j][0]\n",
    "            including_max=max(including_max,1+further_including_max)\n",
    "            \n",
    "    if dp[i+1]==-1:\n",
    "        ans=lis(li,i+1,n,dp)\n",
    "        dp[i+1]=ans\n",
    "        excluding_max=ans[1] \n",
    "    else:\n",
    "        excluding_max=dp[i+1][1]\n",
    "    \n",
    "    overallMax=max(including_max,excluding_max)\n",
    "    return including_max,overallMax\n",
    "n=int(input())\n",
    "li=[int (ele) for ele in input().split()]\n",
    "dp=[-1 for i in range(n+1)]\n",
    "ans=lis(li,0,n,dp)[1] ## coz overallMax chahie\n",
    "print(ans)"
   ]
  },
  {
   "cell_type": "markdown",
   "id": "bd4b4cd2",
   "metadata": {},
   "source": [
    "### Iteratively\n",
    "1. including dp[i]->should store both values; including ith elements list, overall maxlist starts from ith elements\n"
   ]
  },
  {
   "cell_type": "code",
   "execution_count": 7,
   "id": "bcd45c0b",
   "metadata": {},
   "outputs": [
    {
     "name": "stdout",
     "output_type": "stream",
     "text": [
      "4\n",
      "1 1 1 1\n",
      "1\n"
     ]
    }
   ],
   "source": [
    "\n",
    "def lisI(li,n):\n",
    "    dp=[[0 for j in range(2)]  ## storing 0 values in both the elements of j\n",
    "        for i in range(n+1)] ## for i includes 2 things, lis including that ele ie j and overall lis\n",
    "## 6, 3,1,2,0,7,9->; 9-> 1,1 ; 7->2,2 ; 0->3,3 (coz 7 bada); 2->3,3; 1->4,4; 3->3,4\n",
    "\n",
    "    for i in range(n-1,-1,-1): ## traversing right to left\n",
    "        including_max=1\n",
    "        for j in range(i+1,n):\n",
    "            if li[j]>li[i]:\n",
    "                including_max=max(including_max,1+dp[j][0]) ## this means u want the zeroth part\n",
    "        dp[i][0]=including_max\n",
    "        excluding_max=dp[i+1][1]\n",
    "        overallMax=max(including_max,excluding_max)\n",
    "        dp[i][1]=overallMax\n",
    "    return dp[0][1]\n",
    "n=int(input())\n",
    "li=[int (ele) for ele in input().split()]\n",
    "ans=lisI(li,n)\n",
    "print(ans)\n",
    "\n",
    "\n"
   ]
  },
  {
   "cell_type": "markdown",
   "id": "6dacfbf7",
   "metadata": {},
   "source": [
    "1. time complexity in all the three cases has been 0(n^2) and space complexity is O(n)"
   ]
  },
  {
   "cell_type": "code",
   "execution_count": 3,
   "id": "cf629491",
   "metadata": {},
   "outputs": [
    {
     "name": "stdout",
     "output_type": "stream",
     "text": [
      "3\n",
      "1 2 2\n",
      "2\n"
     ]
    }
   ],
   "source": [
    "import sys\n",
    "def lis(arr): \n",
    "    storage=[None for i in range(n)]\n",
    "    storage[0]=1\n",
    "    ans=1\n",
    "    for i in range(1,n):\n",
    "        max=1\n",
    "        for j in range(i-1,-1,-1):\n",
    "            if(arr[j]<arr[i]):\n",
    "                op=storage[j]+1\n",
    "                if(op>max):\n",
    "                    max=op\n",
    "        storage[i]=max\n",
    "        if(max > ans):\n",
    "            ans=max\n",
    "    return ans\n",
    "def takeInput():\n",
    "    #To take fast I/O\n",
    "    n=int(input())\n",
    "    if n==0:\n",
    "        return list(),0\n",
    "    arr=[int(ele) for ele in list(input().split())]\n",
    "    return arr,n\n",
    "    \n",
    "\n",
    "arr,n=takeInput()\n",
    "print(lis(arr))\n"
   ]
  },
  {
   "cell_type": "code",
   "execution_count": 41,
   "id": "75b43e96",
   "metadata": {},
   "outputs": [
    {
     "name": "stdout",
     "output_type": "stream",
     "text": [
      "true\n"
     ]
    }
   ],
   "source": [
    "if 5>=5:\n",
    "    print('true')\n",
    "else:\n",
    "    print('false')"
   ]
  },
  {
   "cell_type": "code",
   "execution_count": null,
   "id": "76a77506",
   "metadata": {},
   "outputs": [],
   "source": [
    "def lis(arr): \n",
    "    n = len(arr)  \n",
    "    lis = [1]*n \n",
    "\n",
    "    for i in range (1 , n): \n",
    "        for j in range(0 , i): \n",
    "            if arr[i] > arr[j] and lis[i]< lis[j] + 1 : \n",
    "                lis[i] = lis[j]+1\n",
    "    maximum = 0\n",
    "    for i in range(n): \n",
    "        maximum = max(maximum , lis[i]) \n",
    "    return maximum \n"
   ]
  }
 ],
 "metadata": {
  "kernelspec": {
   "display_name": "Python 3",
   "language": "python",
   "name": "python3"
  },
  "language_info": {
   "codemirror_mode": {
    "name": "ipython",
    "version": 3
   },
   "file_extension": ".py",
   "mimetype": "text/x-python",
   "name": "python",
   "nbconvert_exporter": "python",
   "pygments_lexer": "ipython3",
   "version": "3.8.8"
  }
 },
 "nbformat": 4,
 "nbformat_minor": 5
}
